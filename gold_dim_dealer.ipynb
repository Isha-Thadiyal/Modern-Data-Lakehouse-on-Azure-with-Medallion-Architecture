{
 "cells": [
  {
   "cell_type": "markdown",
   "metadata": {
    "application/vnd.databricks.v1+cell": {
     "cellMetadata": {},
     "inputWidgets": {},
     "nuid": "cc606a0d-8370-48be-9965-f7dbdac991ea",
     "showTitle": false,
     "tableResultSettingsMap": {},
     "title": ""
    }
   },
   "source": [
    "# Creating Flag Parameter"
   ]
  },
  {
   "cell_type": "code",
   "execution_count": 0,
   "metadata": {
    "application/vnd.databricks.v1+cell": {
     "cellMetadata": {
      "byteLimit": 2048000,
      "rowLimit": 10000
     },
     "inputWidgets": {},
     "nuid": "16059f7f-64f2-438d-a294-8e63a0564bf7",
     "showTitle": false,
     "tableResultSettingsMap": {},
     "title": ""
    }
   },
   "outputs": [],
   "source": [
    "dbutils.widgets.text('incremental_flag','0')"
   ]
  },
  {
   "cell_type": "code",
   "execution_count": 0,
   "metadata": {
    "application/vnd.databricks.v1+cell": {
     "cellMetadata": {
      "byteLimit": 2048000,
      "rowLimit": 10000
     },
     "inputWidgets": {},
     "nuid": "7ab2f87e-42d8-4c96-a12b-c0d8f01de522",
     "showTitle": false,
     "tableResultSettingsMap": {},
     "title": ""
    }
   },
   "outputs": [
    {
     "output_type": "stream",
     "name": "stdout",
     "output_type": "stream",
     "text": [
      "0\n"
     ]
    }
   ],
   "source": [
    "incremental_flag = dbutils.widgets.get('incremental_flag')\n",
    "print(incremental_flag)"
   ]
  },
  {
   "cell_type": "code",
   "execution_count": 0,
   "metadata": {
    "application/vnd.databricks.v1+cell": {
     "cellMetadata": {
      "byteLimit": 2048000,
      "implicitDf": true,
      "rowLimit": 10000
     },
     "inputWidgets": {},
     "nuid": "9a10cb41-94a8-46a0-b096-01ff505e04d3",
     "showTitle": false,
     "tableResultSettingsMap": {},
     "title": ""
    }
   },
   "outputs": [
    {
     "output_type": "display_data",
     "data": {
      "text/html": [
       "<style scoped>\n",
       "  .table-result-container {\n",
       "    max-height: 300px;\n",
       "    overflow: auto;\n",
       "  }\n",
       "  table, th, td {\n",
       "    border: 1px solid black;\n",
       "    border-collapse: collapse;\n",
       "  }\n",
       "  th, td {\n",
       "    padding: 5px;\n",
       "  }\n",
       "  th {\n",
       "    text-align: left;\n",
       "  }\n",
       "</style><div class='table-result-container'><table class='table-result'><thead style='background-color: white'><tr><th>Branch_ID</th><th>Dealer_ID</th><th>Model_ID</th><th>Revenue</th><th>Units_Sold</th><th>Date_ID</th><th>Day</th><th>Month</th><th>Year</th><th>BranchName</th><th>DealerName</th><th>Product_Name</th><th>model_category</th><th>RevPerUnit</th></tr></thead><tbody><tr><td>BR0001</td><td>DLR0001</td><td>BMW-M1</td><td>13363978</td><td>2</td><td>DT00001</td><td>1</td><td>1</td><td>2017</td><td>AC Cars Motors</td><td>AC Cars Motors</td><td>BMW</td><td>BMW</td><td>6681989.0</td></tr><tr><td>BR0003</td><td>DLR0228</td><td>Hon-M218</td><td>17376468</td><td>3</td><td>DT00001</td><td>10</td><td>5</td><td>2017</td><td>AC Cars Motors</td><td>Deccan Motors</td><td>Honda</td><td>Hon</td><td>5792156.0</td></tr><tr><td>BR0004</td><td>DLR0208</td><td>Tat-M188</td><td>9664767</td><td>3</td><td>DT00002</td><td>12</td><td>1</td><td>2017</td><td>AC Cars Motors</td><td>Wiesmann Motors</td><td>Tata</td><td>Tat</td><td>3221589.0</td></tr><tr><td>BR0005</td><td>DLR0188</td><td>Hyu-M158</td><td>5525304</td><td>3</td><td>DT00002</td><td>16</td><td>9</td><td>2017</td><td>AC Cars Motors</td><td>Subaru Motors</td><td>Hyundai</td><td>Hyu</td><td>1841768.0</td></tr><tr><td>BR0006</td><td>DLR0168</td><td>Ren-M128</td><td>12971088</td><td>3</td><td>DT00003</td><td>20</td><td>5</td><td>2017</td><td>AC Cars Motors</td><td>Saab Motors</td><td>Renault</td><td>Ren</td><td>4323696.0</td></tr><tr><td>BR0008</td><td>DLR0128</td><td>Hon-M68</td><td>7321228</td><td>1</td><td>DT00004</td><td>28</td><td>4</td><td>2017</td><td>AC Cars Motors</td><td>Messerschmitt Motors</td><td>Honda</td><td>Hon</td><td>7321228.0</td></tr><tr><td>BR0009</td><td>DLR0108</td><td>Cad-M38</td><td>11379294</td><td>2</td><td>DT00004</td><td>31</td><td>12</td><td>2017</td><td>AC Cars Motors</td><td>Lexus Motors</td><td>Cadillac</td><td>Cad</td><td>5689647.0</td></tr><tr><td>BR0010</td><td>DLR0088</td><td>Mer-M8</td><td>11611234</td><td>2</td><td>DT00005</td><td>4</td><td>9</td><td>2017</td><td>AC Cars Motors</td><td>IFA (including Trabant, Wartburg, Barkas) Motors</td><td>Mercedes-Benz</td><td>Mer</td><td>5805617.0</td></tr><tr><td>BR0011</td><td>DLR0002</td><td>BMW-M2</td><td>19979446</td><td>2</td><td>DT00005</td><td>2</td><td>1</td><td>2017</td><td>Acura Motors</td><td>Acura Motors</td><td>BMW</td><td>BMW</td><td>9989723.0</td></tr><tr><td>BR0011</td><td>DLR0069</td><td>Vol-M256</td><td>14181510</td><td>3</td><td>DT00006</td><td>9</td><td>5</td><td>2017</td><td>Acura Motors</td><td>Geo Motors</td><td>Volkswagen</td><td>Vol</td><td>4727170.0</td></tr></tbody></table></div>"
      ]
     },
     "metadata": {
      "application/vnd.databricks.v1+output": {
       "addedWidgets": {},
       "aggData": [],
       "aggError": "",
       "aggOverflow": false,
       "aggSchema": [],
       "aggSeriesLimitReached": false,
       "aggType": "",
       "arguments": {},
       "columnCustomDisplayInfos": {},
       "data": [
        [
         "BR0001",
         "DLR0001",
         "BMW-M1",
         13363978,
         2,
         "DT00001",
         1,
         1,
         2017,
         "AC Cars Motors",
         "AC Cars Motors",
         "BMW",
         "BMW",
         6681989.0
        ],
        [
         "BR0003",
         "DLR0228",
         "Hon-M218",
         17376468,
         3,
         "DT00001",
         10,
         5,
         2017,
         "AC Cars Motors",
         "Deccan Motors",
         "Honda",
         "Hon",
         5792156.0
        ],
        [
         "BR0004",
         "DLR0208",
         "Tat-M188",
         9664767,
         3,
         "DT00002",
         12,
         1,
         2017,
         "AC Cars Motors",
         "Wiesmann Motors",
         "Tata",
         "Tat",
         3221589.0
        ],
        [
         "BR0005",
         "DLR0188",
         "Hyu-M158",
         5525304,
         3,
         "DT00002",
         16,
         9,
         2017,
         "AC Cars Motors",
         "Subaru Motors",
         "Hyundai",
         "Hyu",
         1841768.0
        ],
        [
         "BR0006",
         "DLR0168",
         "Ren-M128",
         12971088,
         3,
         "DT00003",
         20,
         5,
         2017,
         "AC Cars Motors",
         "Saab Motors",
         "Renault",
         "Ren",
         4323696.0
        ],
        [
         "BR0008",
         "DLR0128",
         "Hon-M68",
         7321228,
         1,
         "DT00004",
         28,
         4,
         2017,
         "AC Cars Motors",
         "Messerschmitt Motors",
         "Honda",
         "Hon",
         7321228.0
        ],
        [
         "BR0009",
         "DLR0108",
         "Cad-M38",
         11379294,
         2,
         "DT00004",
         31,
         12,
         2017,
         "AC Cars Motors",
         "Lexus Motors",
         "Cadillac",
         "Cad",
         5689647.0
        ],
        [
         "BR0010",
         "DLR0088",
         "Mer-M8",
         11611234,
         2,
         "DT00005",
         4,
         9,
         2017,
         "AC Cars Motors",
         "IFA (including Trabant, Wartburg, Barkas) Motors",
         "Mercedes-Benz",
         "Mer",
         5805617.0
        ],
        [
         "BR0011",
         "DLR0002",
         "BMW-M2",
         19979446,
         2,
         "DT00005",
         2,
         1,
         2017,
         "Acura Motors",
         "Acura Motors",
         "BMW",
         "BMW",
         9989723.0
        ],
        [
         "BR0011",
         "DLR0069",
         "Vol-M256",
         14181510,
         3,
         "DT00006",
         9,
         5,
         2017,
         "Acura Motors",
         "Geo Motors",
         "Volkswagen",
         "Vol",
         4727170.0
        ]
       ],
       "datasetInfos": [
        {
         "name": "_sqldf",
         "schema": {
          "fields": [
           {
            "metadata": {},
            "name": "Branch_ID",
            "nullable": true,
            "type": "string"
           },
           {
            "metadata": {},
            "name": "Dealer_ID",
            "nullable": true,
            "type": "string"
           },
           {
            "metadata": {},
            "name": "Model_ID",
            "nullable": true,
            "type": "string"
           },
           {
            "metadata": {},
            "name": "Revenue",
            "nullable": true,
            "type": "long"
           },
           {
            "metadata": {},
            "name": "Units_Sold",
            "nullable": true,
            "type": "long"
           },
           {
            "metadata": {},
            "name": "Date_ID",
            "nullable": true,
            "type": "string"
           },
           {
            "metadata": {},
            "name": "Day",
            "nullable": true,
            "type": "integer"
           },
           {
            "metadata": {},
            "name": "Month",
            "nullable": true,
            "type": "integer"
           },
           {
            "metadata": {},
            "name": "Year",
            "nullable": true,
            "type": "integer"
           },
           {
            "metadata": {},
            "name": "BranchName",
            "nullable": true,
            "type": "string"
           },
           {
            "metadata": {},
            "name": "DealerName",
            "nullable": true,
            "type": "string"
           },
           {
            "metadata": {},
            "name": "Product_Name",
            "nullable": true,
            "type": "string"
           },
           {
            "metadata": {},
            "name": "model_category",
            "nullable": true,
            "type": "string"
           },
           {
            "metadata": {},
            "name": "RevPerUnit",
            "nullable": true,
            "type": "double"
           }
          ],
          "type": "struct"
         },
         "tableIdentifier": null,
         "typeStr": "pyspark.sql.connect.dataframe.DataFrame"
        }
       ],
       "dbfsResultPath": null,
       "isJsonSchema": true,
       "metadata": {
        "createTempViewForImplicitDf": true,
        "dataframeName": "_sqldf",
        "executionCount": 3
       },
       "overflow": false,
       "plotOptions": {
        "customPlotOptions": {},
        "displayType": "table",
        "pivotAggregation": null,
        "pivotColumns": null,
        "xColumns": null,
        "yColumns": null
       },
       "removedWidgets": [],
       "schema": [
        {
         "metadata": "{}",
         "name": "Branch_ID",
         "type": "\"string\""
        },
        {
         "metadata": "{}",
         "name": "Dealer_ID",
         "type": "\"string\""
        },
        {
         "metadata": "{}",
         "name": "Model_ID",
         "type": "\"string\""
        },
        {
         "metadata": "{}",
         "name": "Revenue",
         "type": "\"long\""
        },
        {
         "metadata": "{}",
         "name": "Units_Sold",
         "type": "\"long\""
        },
        {
         "metadata": "{}",
         "name": "Date_ID",
         "type": "\"string\""
        },
        {
         "metadata": "{}",
         "name": "Day",
         "type": "\"integer\""
        },
        {
         "metadata": "{}",
         "name": "Month",
         "type": "\"integer\""
        },
        {
         "metadata": "{}",
         "name": "Year",
         "type": "\"integer\""
        },
        {
         "metadata": "{}",
         "name": "BranchName",
         "type": "\"string\""
        },
        {
         "metadata": "{}",
         "name": "DealerName",
         "type": "\"string\""
        },
        {
         "metadata": "{}",
         "name": "Product_Name",
         "type": "\"string\""
        },
        {
         "metadata": "{}",
         "name": "model_category",
         "type": "\"string\""
        },
        {
         "metadata": "{}",
         "name": "RevPerUnit",
         "type": "\"double\""
        }
       ],
       "type": "table"
      }
     },
     "output_type": "display_data"
    }
   ],
   "source": [
    "%sql\n",
    "select * from parquet.`abfss://silver@thadiyalcardatalake.dfs.core.windows.net/carsales` limit 10"
   ]
  },
  {
   "cell_type": "markdown",
   "metadata": {
    "application/vnd.databricks.v1+cell": {
     "cellMetadata": {},
     "inputWidgets": {},
     "nuid": "cf26a595-6605-44d9-88b1-0e6af05c7116",
     "showTitle": false,
     "tableResultSettingsMap": {},
     "title": ""
    }
   },
   "source": [
    "#Creating Dimension Model"
   ]
  },
  {
   "cell_type": "code",
   "execution_count": 0,
   "metadata": {
    "application/vnd.databricks.v1+cell": {
     "cellMetadata": {
      "byteLimit": 2048000,
      "implicitDf": true,
      "rowLimit": 10000
     },
     "inputWidgets": {},
     "nuid": "8a73fb60-571a-47a9-9a03-11f646ed4d62",
     "showTitle": false,
     "tableResultSettingsMap": {},
     "title": ""
    }
   },
   "outputs": [],
   "source": [
    "df_src = spark.sql('''\n",
    "select Distinct(Dealer_ID) as Dealer_ID, DealerName from parquet.`abfss://silver@thadiyalcardatalake.dfs.core.windows.net/carsales`\n",
    "''')\n"
   ]
  },
  {
   "cell_type": "code",
   "execution_count": 0,
   "metadata": {
    "application/vnd.databricks.v1+cell": {
     "cellMetadata": {
      "byteLimit": 2048000,
      "rowLimit": 10000
     },
     "inputWidgets": {},
     "nuid": "4c0eaffa-3c5f-4555-a6ca-d6c9278e209d",
     "showTitle": false,
     "tableResultSettingsMap": {},
     "title": ""
    }
   },
   "outputs": [
    {
     "output_type": "display_data",
     "data": {
      "text/html": [
       "<style scoped>\n",
       "  .table-result-container {\n",
       "    max-height: 300px;\n",
       "    overflow: auto;\n",
       "  }\n",
       "  table, th, td {\n",
       "    border: 1px solid black;\n",
       "    border-collapse: collapse;\n",
       "  }\n",
       "  th, td {\n",
       "    padding: 5px;\n",
       "  }\n",
       "  th {\n",
       "    text-align: left;\n",
       "  }\n",
       "</style><div class='table-result-container'><table class='table-result'><thead style='background-color: white'><tr><th>Dealer_ID</th><th>DealerName</th></tr></thead><tbody><tr><td>DLR0058</td><td>Fiat do Brasil Motors</td></tr><tr><td>DLR0107</td><td>Land Rover Motors</td></tr><tr><td>DLR0129</td><td>Mia Motors</td></tr><tr><td>DLR0111</td><td>Lotus Motors</td></tr><tr><td>DLR0085</td><td>Humber Motors</td></tr><tr><td>DLR0001</td><td>AC Cars Motors</td></tr><tr><td>DLR0218</td><td>Lagonda  Motors</td></tr><tr><td>DLR0082</td><td>Honda Motors</td></tr><tr><td>DLR0063</td><td>Ford do Brasil Motors</td></tr><tr><td>DLR0193</td><td>Tazzari Motors</td></tr></tbody></table></div>"
      ]
     },
     "metadata": {
      "application/vnd.databricks.v1+output": {
       "addedWidgets": {},
       "aggData": [],
       "aggError": "",
       "aggOverflow": false,
       "aggSchema": [],
       "aggSeriesLimitReached": false,
       "aggType": "",
       "arguments": {},
       "columnCustomDisplayInfos": {},
       "data": [
        [
         "DLR0058",
         "Fiat do Brasil Motors"
        ],
        [
         "DLR0107",
         "Land Rover Motors"
        ],
        [
         "DLR0129",
         "Mia Motors"
        ],
        [
         "DLR0111",
         "Lotus Motors"
        ],
        [
         "DLR0085",
         "Humber Motors"
        ],
        [
         "DLR0001",
         "AC Cars Motors"
        ],
        [
         "DLR0218",
         "Lagonda  Motors"
        ],
        [
         "DLR0082",
         "Honda Motors"
        ],
        [
         "DLR0063",
         "Ford do Brasil Motors"
        ],
        [
         "DLR0193",
         "Tazzari Motors"
        ]
       ],
       "datasetInfos": [],
       "dbfsResultPath": null,
       "isJsonSchema": true,
       "metadata": {},
       "overflow": false,
       "plotOptions": {
        "customPlotOptions": {},
        "displayType": "table",
        "pivotAggregation": null,
        "pivotColumns": null,
        "xColumns": null,
        "yColumns": null
       },
       "removedWidgets": [],
       "schema": [
        {
         "metadata": "{}",
         "name": "Dealer_ID",
         "type": "\"string\""
        },
        {
         "metadata": "{}",
         "name": "DealerName",
         "type": "\"string\""
        }
       ],
       "type": "table"
      }
     },
     "output_type": "display_data"
    }
   ],
   "source": [
    "df_src.limit(10).display()"
   ]
  },
  {
   "cell_type": "markdown",
   "metadata": {
    "application/vnd.databricks.v1+cell": {
     "cellMetadata": {},
     "inputWidgets": {},
     "nuid": "bf129043-3315-474e-96ab-1df9b24d0167",
     "showTitle": false,
     "tableResultSettingsMap": {},
     "title": ""
    }
   },
   "source": [
    "### dim_branch sink - initial and incremental"
   ]
  },
  {
   "cell_type": "code",
   "execution_count": 0,
   "metadata": {
    "application/vnd.databricks.v1+cell": {
     "cellMetadata": {
      "byteLimit": 2048000,
      "rowLimit": 10000
     },
     "inputWidgets": {},
     "nuid": "d832c393-d221-485c-be0d-e2f27ab5d68e",
     "showTitle": false,
     "tableResultSettingsMap": {},
     "title": ""
    }
   },
   "outputs": [],
   "source": [
    "if spark.catalog.tableExists('CarProject.gold.dim_dealer'):\n",
    "    df_sink = spark.sql(\"select dim_dealer_key, Dealer_ID, DealerName from CarProject.gold.dim_dealer\")\n",
    "else:\n",
    "    df_sink = spark.sql('''\n",
    "                    select 1 as dim_dealer_key, Dealer_ID, DealerName from parquet.`abfss://silver@thadiyalcardatalake.dfs.core.windows.net/carsales`\n",
    "                    where 1=0\n",
    "                    ''')\n"
   ]
  },
  {
   "cell_type": "code",
   "execution_count": 0,
   "metadata": {
    "application/vnd.databricks.v1+cell": {
     "cellMetadata": {
      "byteLimit": 2048000,
      "rowLimit": 10000
     },
     "inputWidgets": {},
     "nuid": "767a69db-13fc-416a-ad68-0a0c8c27a391",
     "showTitle": false,
     "tableResultSettingsMap": {},
     "title": ""
    }
   },
   "outputs": [
    {
     "output_type": "display_data",
     "data": {
      "text/html": [
       "<style scoped>\n",
       "  .table-result-container {\n",
       "    max-height: 300px;\n",
       "    overflow: auto;\n",
       "  }\n",
       "  table, th, td {\n",
       "    border: 1px solid black;\n",
       "    border-collapse: collapse;\n",
       "  }\n",
       "  th, td {\n",
       "    padding: 5px;\n",
       "  }\n",
       "  th {\n",
       "    text-align: left;\n",
       "  }\n",
       "</style><div class='table-result-container'><table class='table-result'><thead style='background-color: white'><tr><th>dim_dealer_key</th><th>Dealer_ID</th><th>DealerName</th></tr></thead><tbody></tbody></table></div>"
      ]
     },
     "metadata": {
      "application/vnd.databricks.v1+output": {
       "addedWidgets": {},
       "aggData": [],
       "aggError": "",
       "aggOverflow": false,
       "aggSchema": [],
       "aggSeriesLimitReached": false,
       "aggType": "",
       "arguments": {},
       "columnCustomDisplayInfos": {},
       "data": [],
       "datasetInfos": [],
       "dbfsResultPath": null,
       "isJsonSchema": true,
       "metadata": {},
       "overflow": false,
       "plotOptions": {
        "customPlotOptions": {},
        "displayType": "table",
        "pivotAggregation": null,
        "pivotColumns": null,
        "xColumns": null,
        "yColumns": null
       },
       "removedWidgets": [],
       "schema": [
        {
         "metadata": "{}",
         "name": "dim_dealer_key",
         "type": "\"integer\""
        },
        {
         "metadata": "{}",
         "name": "Dealer_ID",
         "type": "\"string\""
        },
        {
         "metadata": "{}",
         "name": "DealerName",
         "type": "\"string\""
        }
       ],
       "type": "table"
      }
     },
     "output_type": "display_data"
    }
   ],
   "source": [
    "df_sink.display()"
   ]
  },
  {
   "cell_type": "code",
   "execution_count": 0,
   "metadata": {
    "application/vnd.databricks.v1+cell": {
     "cellMetadata": {
      "byteLimit": 2048000,
      "rowLimit": 10000
     },
     "inputWidgets": {},
     "nuid": "16dbd16d-da05-4342-b612-6300287eb075",
     "showTitle": false,
     "tableResultSettingsMap": {},
     "title": ""
    }
   },
   "outputs": [
    {
     "output_type": "display_data",
     "data": {
      "text/html": [
       "<style scoped>\n",
       "  .table-result-container {\n",
       "    max-height: 300px;\n",
       "    overflow: auto;\n",
       "  }\n",
       "  table, th, td {\n",
       "    border: 1px solid black;\n",
       "    border-collapse: collapse;\n",
       "  }\n",
       "  th, td {\n",
       "    padding: 5px;\n",
       "  }\n",
       "  th {\n",
       "    text-align: left;\n",
       "  }\n",
       "</style><div class='table-result-container'><table class='table-result'><thead style='background-color: white'><tr><th>Dealer_ID</th><th>DealerName</th><th>dim_dealer_key</th></tr></thead><tbody><tr><td>DLR0058</td><td>Fiat do Brasil Motors</td><td>null</td></tr><tr><td>DLR0107</td><td>Land Rover Motors</td><td>null</td></tr><tr><td>DLR0129</td><td>Mia Motors</td><td>null</td></tr><tr><td>DLR0111</td><td>Lotus Motors</td><td>null</td></tr><tr><td>DLR0085</td><td>Humber Motors</td><td>null</td></tr><tr><td>DLR0001</td><td>AC Cars Motors</td><td>null</td></tr><tr><td>DLR0218</td><td>Lagonda  Motors</td><td>null</td></tr><tr><td>DLR0082</td><td>Honda Motors</td><td>null</td></tr><tr><td>DLR0063</td><td>Ford do Brasil Motors</td><td>null</td></tr><tr><td>DLR0193</td><td>Tazzari Motors</td><td>null</td></tr></tbody></table></div>"
      ]
     },
     "metadata": {
      "application/vnd.databricks.v1+output": {
       "addedWidgets": {},
       "aggData": [],
       "aggError": "",
       "aggOverflow": false,
       "aggSchema": [],
       "aggSeriesLimitReached": false,
       "aggType": "",
       "arguments": {},
       "columnCustomDisplayInfos": {},
       "data": [
        [
         "DLR0058",
         "Fiat do Brasil Motors",
         null
        ],
        [
         "DLR0107",
         "Land Rover Motors",
         null
        ],
        [
         "DLR0129",
         "Mia Motors",
         null
        ],
        [
         "DLR0111",
         "Lotus Motors",
         null
        ],
        [
         "DLR0085",
         "Humber Motors",
         null
        ],
        [
         "DLR0001",
         "AC Cars Motors",
         null
        ],
        [
         "DLR0218",
         "Lagonda  Motors",
         null
        ],
        [
         "DLR0082",
         "Honda Motors",
         null
        ],
        [
         "DLR0063",
         "Ford do Brasil Motors",
         null
        ],
        [
         "DLR0193",
         "Tazzari Motors",
         null
        ]
       ],
       "datasetInfos": [],
       "dbfsResultPath": null,
       "isJsonSchema": true,
       "metadata": {},
       "overflow": false,
       "plotOptions": {
        "customPlotOptions": {},
        "displayType": "table",
        "pivotAggregation": null,
        "pivotColumns": null,
        "xColumns": null,
        "yColumns": null
       },
       "removedWidgets": [],
       "schema": [
        {
         "metadata": "{}",
         "name": "Dealer_ID",
         "type": "\"string\""
        },
        {
         "metadata": "{}",
         "name": "DealerName",
         "type": "\"string\""
        },
        {
         "metadata": "{}",
         "name": "dim_dealer_key",
         "type": "\"integer\""
        }
       ],
       "type": "table"
      }
     },
     "output_type": "display_data"
    }
   ],
   "source": [
    "df_filter = df_src.join(df_sink, df_src.Dealer_ID == df_sink.Dealer_ID,'left').select(df_src.Dealer_ID, df_src.DealerName, df_sink.dim_dealer_key)\n",
    "df_filter.limit(10).display()"
   ]
  },
  {
   "cell_type": "code",
   "execution_count": 0,
   "metadata": {
    "application/vnd.databricks.v1+cell": {
     "cellMetadata": {
      "byteLimit": 2048000,
      "rowLimit": 10000
     },
     "inputWidgets": {},
     "nuid": "12b61884-372f-479d-83f2-ca12f4827618",
     "showTitle": false,
     "tableResultSettingsMap": {},
     "title": ""
    }
   },
   "outputs": [
    {
     "output_type": "display_data",
     "data": {
      "text/html": [
       "<style scoped>\n",
       "  .table-result-container {\n",
       "    max-height: 300px;\n",
       "    overflow: auto;\n",
       "  }\n",
       "  table, th, td {\n",
       "    border: 1px solid black;\n",
       "    border-collapse: collapse;\n",
       "  }\n",
       "  th, td {\n",
       "    padding: 5px;\n",
       "  }\n",
       "  th {\n",
       "    text-align: left;\n",
       "  }\n",
       "</style><div class='table-result-container'><table class='table-result'><thead style='background-color: white'><tr><th>Dealer_ID</th><th>DealerName</th><th>dim_dealer_key</th></tr></thead><tbody></tbody></table></div>"
      ]
     },
     "metadata": {
      "application/vnd.databricks.v1+output": {
       "addedWidgets": {},
       "aggData": [],
       "aggError": "",
       "aggOverflow": false,
       "aggSchema": [],
       "aggSeriesLimitReached": false,
       "aggType": "",
       "arguments": {},
       "columnCustomDisplayInfos": {},
       "data": [],
       "datasetInfos": [],
       "dbfsResultPath": null,
       "isJsonSchema": true,
       "metadata": {},
       "overflow": false,
       "plotOptions": {
        "customPlotOptions": {},
        "displayType": "table",
        "pivotAggregation": null,
        "pivotColumns": null,
        "xColumns": null,
        "yColumns": null
       },
       "removedWidgets": [],
       "schema": [
        {
         "metadata": "{}",
         "name": "Dealer_ID",
         "type": "\"string\""
        },
        {
         "metadata": "{}",
         "name": "DealerName",
         "type": "\"string\""
        },
        {
         "metadata": "{}",
         "name": "dim_dealer_key",
         "type": "\"integer\""
        }
       ],
       "type": "table"
      }
     },
     "output_type": "display_data"
    }
   ],
   "source": [
    "from pyspark.sql.functions import *\n",
    "from pyspark.sql.types import *\n",
    "\n",
    "df_filter_old = df_filter.filter(col('dim_dealer_key').isNotNull())\n",
    "df_filter_old.display()"
   ]
  },
  {
   "cell_type": "code",
   "execution_count": 0,
   "metadata": {
    "application/vnd.databricks.v1+cell": {
     "cellMetadata": {
      "byteLimit": 2048000,
      "rowLimit": 10000
     },
     "inputWidgets": {},
     "nuid": "090396b3-eab1-4eec-a05a-9cdc944ee1d9",
     "showTitle": false,
     "tableResultSettingsMap": {},
     "title": ""
    }
   },
   "outputs": [
    {
     "output_type": "display_data",
     "data": {
      "text/html": [
       "<style scoped>\n",
       "  .table-result-container {\n",
       "    max-height: 300px;\n",
       "    overflow: auto;\n",
       "  }\n",
       "  table, th, td {\n",
       "    border: 1px solid black;\n",
       "    border-collapse: collapse;\n",
       "  }\n",
       "  th, td {\n",
       "    padding: 5px;\n",
       "  }\n",
       "  th {\n",
       "    text-align: left;\n",
       "  }\n",
       "</style><div class='table-result-container'><table class='table-result'><thead style='background-color: white'><tr><th>Dealer_ID</th><th>DealerName</th></tr></thead><tbody><tr><td>DLR0058</td><td>Fiat do Brasil Motors</td></tr><tr><td>DLR0107</td><td>Land Rover Motors</td></tr><tr><td>DLR0129</td><td>Mia Motors</td></tr><tr><td>DLR0111</td><td>Lotus Motors</td></tr><tr><td>DLR0085</td><td>Humber Motors</td></tr><tr><td>DLR0001</td><td>AC Cars Motors</td></tr><tr><td>DLR0218</td><td>Lagonda  Motors</td></tr><tr><td>DLR0082</td><td>Honda Motors</td></tr><tr><td>DLR0063</td><td>Ford do Brasil Motors</td></tr><tr><td>DLR0193</td><td>Tazzari Motors</td></tr></tbody></table></div>"
      ]
     },
     "metadata": {
      "application/vnd.databricks.v1+output": {
       "addedWidgets": {},
       "aggData": [],
       "aggError": "",
       "aggOverflow": false,
       "aggSchema": [],
       "aggSeriesLimitReached": false,
       "aggType": "",
       "arguments": {},
       "columnCustomDisplayInfos": {},
       "data": [
        [
         "DLR0058",
         "Fiat do Brasil Motors"
        ],
        [
         "DLR0107",
         "Land Rover Motors"
        ],
        [
         "DLR0129",
         "Mia Motors"
        ],
        [
         "DLR0111",
         "Lotus Motors"
        ],
        [
         "DLR0085",
         "Humber Motors"
        ],
        [
         "DLR0001",
         "AC Cars Motors"
        ],
        [
         "DLR0218",
         "Lagonda  Motors"
        ],
        [
         "DLR0082",
         "Honda Motors"
        ],
        [
         "DLR0063",
         "Ford do Brasil Motors"
        ],
        [
         "DLR0193",
         "Tazzari Motors"
        ]
       ],
       "datasetInfos": [],
       "dbfsResultPath": null,
       "isJsonSchema": true,
       "metadata": {},
       "overflow": false,
       "plotOptions": {
        "customPlotOptions": {},
        "displayType": "table",
        "pivotAggregation": null,
        "pivotColumns": null,
        "xColumns": null,
        "yColumns": null
       },
       "removedWidgets": [],
       "schema": [
        {
         "metadata": "{}",
         "name": "Dealer_ID",
         "type": "\"string\""
        },
        {
         "metadata": "{}",
         "name": "DealerName",
         "type": "\"string\""
        }
       ],
       "type": "table"
      }
     },
     "output_type": "display_data"
    }
   ],
   "source": [
    "df_filter_new = df_filter.filter(col('dim_dealer_key').isNull()).select(df_filter.Dealer_ID, df_filter.DealerName)\n",
    "df_filter_new.limit(10).display()\n"
   ]
  },
  {
   "cell_type": "markdown",
   "metadata": {
    "application/vnd.databricks.v1+cell": {
     "cellMetadata": {},
     "inputWidgets": {},
     "nuid": "03b56be2-3ce7-415e-b966-749c587eed69",
     "showTitle": false,
     "tableResultSettingsMap": {},
     "title": ""
    }
   },
   "source": [
    "### Creating Surrogate key"
   ]
  },
  {
   "cell_type": "code",
   "execution_count": 0,
   "metadata": {
    "application/vnd.databricks.v1+cell": {
     "cellMetadata": {
      "byteLimit": 2048000,
      "rowLimit": 10000
     },
     "inputWidgets": {},
     "nuid": "38e3b02c-3090-4580-b3ed-b1cdd3bc66c4",
     "showTitle": false,
     "tableResultSettingsMap": {},
     "title": ""
    }
   },
   "outputs": [],
   "source": [
    "if (incremental_flag == '0'):\n",
    "    max_value = 1\n",
    "else:\n",
    "    max_value_df = spark.sql(\"select max('dim_dealer_key') from carproject.gold.dim_dealer\")\n",
    "    max_value = max_value_df.collect()[0][0]+1"
   ]
  },
  {
   "cell_type": "code",
   "execution_count": 0,
   "metadata": {
    "application/vnd.databricks.v1+cell": {
     "cellMetadata": {
      "byteLimit": 2048000,
      "rowLimit": 10000
     },
     "inputWidgets": {},
     "nuid": "9a3b37a5-2007-483e-b6e3-bd09b7cfcfe0",
     "showTitle": false,
     "tableResultSettingsMap": {},
     "title": ""
    }
   },
   "outputs": [],
   "source": [
    "df_filter_new = df_filter_new.withColumn('dim_dealer_key',max_value + monotonically_increasing_id())\n"
   ]
  },
  {
   "cell_type": "code",
   "execution_count": 0,
   "metadata": {
    "application/vnd.databricks.v1+cell": {
     "cellMetadata": {
      "byteLimit": 2048000,
      "rowLimit": 10000
     },
     "inputWidgets": {},
     "nuid": "72be14e1-f15c-4654-820d-ef1184ff7d18",
     "showTitle": false,
     "tableResultSettingsMap": {},
     "title": ""
    }
   },
   "outputs": [
    {
     "output_type": "display_data",
     "data": {
      "text/html": [
       "<style scoped>\n",
       "  .table-result-container {\n",
       "    max-height: 300px;\n",
       "    overflow: auto;\n",
       "  }\n",
       "  table, th, td {\n",
       "    border: 1px solid black;\n",
       "    border-collapse: collapse;\n",
       "  }\n",
       "  th, td {\n",
       "    padding: 5px;\n",
       "  }\n",
       "  th {\n",
       "    text-align: left;\n",
       "  }\n",
       "</style><div class='table-result-container'><table class='table-result'><thead style='background-color: white'><tr><th>Dealer_ID</th><th>DealerName</th><th>dim_dealer_key</th></tr></thead><tbody><tr><td>DLR0058</td><td>Fiat do Brasil Motors</td><td>1</td></tr><tr><td>DLR0107</td><td>Land Rover Motors</td><td>2</td></tr><tr><td>DLR0129</td><td>Mia Motors</td><td>3</td></tr><tr><td>DLR0111</td><td>Lotus Motors</td><td>4</td></tr><tr><td>DLR0085</td><td>Humber Motors</td><td>5</td></tr><tr><td>DLR0001</td><td>AC Cars Motors</td><td>6</td></tr><tr><td>DLR0218</td><td>Lagonda  Motors</td><td>7</td></tr><tr><td>DLR0082</td><td>Honda Motors</td><td>8</td></tr><tr><td>DLR0063</td><td>Ford do Brasil Motors</td><td>9</td></tr><tr><td>DLR0193</td><td>Tazzari Motors</td><td>10</td></tr></tbody></table></div>"
      ]
     },
     "metadata": {
      "application/vnd.databricks.v1+output": {
       "addedWidgets": {},
       "aggData": [],
       "aggError": "",
       "aggOverflow": false,
       "aggSchema": [],
       "aggSeriesLimitReached": false,
       "aggType": "",
       "arguments": {},
       "columnCustomDisplayInfos": {},
       "data": [
        [
         "DLR0058",
         "Fiat do Brasil Motors",
         1
        ],
        [
         "DLR0107",
         "Land Rover Motors",
         2
        ],
        [
         "DLR0129",
         "Mia Motors",
         3
        ],
        [
         "DLR0111",
         "Lotus Motors",
         4
        ],
        [
         "DLR0085",
         "Humber Motors",
         5
        ],
        [
         "DLR0001",
         "AC Cars Motors",
         6
        ],
        [
         "DLR0218",
         "Lagonda  Motors",
         7
        ],
        [
         "DLR0082",
         "Honda Motors",
         8
        ],
        [
         "DLR0063",
         "Ford do Brasil Motors",
         9
        ],
        [
         "DLR0193",
         "Tazzari Motors",
         10
        ]
       ],
       "datasetInfos": [],
       "dbfsResultPath": null,
       "isJsonSchema": true,
       "metadata": {},
       "overflow": false,
       "plotOptions": {
        "customPlotOptions": {},
        "displayType": "table",
        "pivotAggregation": null,
        "pivotColumns": null,
        "xColumns": null,
        "yColumns": null
       },
       "removedWidgets": [],
       "schema": [
        {
         "metadata": "{}",
         "name": "Dealer_ID",
         "type": "\"string\""
        },
        {
         "metadata": "{}",
         "name": "DealerName",
         "type": "\"string\""
        },
        {
         "metadata": "{}",
         "name": "dim_dealer_key",
         "type": "\"long\""
        }
       ],
       "type": "table"
      }
     },
     "output_type": "display_data"
    }
   ],
   "source": [
    "df_filter_new.limit(10).display()"
   ]
  },
  {
   "cell_type": "markdown",
   "metadata": {
    "application/vnd.databricks.v1+cell": {
     "cellMetadata": {},
     "inputWidgets": {},
     "nuid": "b8419e9c-e84a-403b-b9ab-6921704db2d8",
     "showTitle": false,
     "tableResultSettingsMap": {},
     "title": ""
    }
   },
   "source": [
    "### Create Final DF - df_filter_old + df_filter_new"
   ]
  },
  {
   "cell_type": "code",
   "execution_count": 0,
   "metadata": {
    "application/vnd.databricks.v1+cell": {
     "cellMetadata": {
      "byteLimit": 2048000,
      "rowLimit": 10000
     },
     "inputWidgets": {},
     "nuid": "4bca7b0f-4262-43cc-8e4e-d43399262451",
     "showTitle": false,
     "tableResultSettingsMap": {},
     "title": ""
    }
   },
   "outputs": [
    {
     "output_type": "display_data",
     "data": {
      "text/html": [
       "<style scoped>\n",
       "  .table-result-container {\n",
       "    max-height: 300px;\n",
       "    overflow: auto;\n",
       "  }\n",
       "  table, th, td {\n",
       "    border: 1px solid black;\n",
       "    border-collapse: collapse;\n",
       "  }\n",
       "  th, td {\n",
       "    padding: 5px;\n",
       "  }\n",
       "  th {\n",
       "    text-align: left;\n",
       "  }\n",
       "</style><div class='table-result-container'><table class='table-result'><thead style='background-color: white'><tr><th>Dealer_ID</th><th>DealerName</th><th>dim_dealer_key</th></tr></thead><tbody><tr><td>DLR0058</td><td>Fiat do Brasil Motors</td><td>1</td></tr><tr><td>DLR0107</td><td>Land Rover Motors</td><td>2</td></tr><tr><td>DLR0129</td><td>Mia Motors</td><td>3</td></tr><tr><td>DLR0111</td><td>Lotus Motors</td><td>4</td></tr><tr><td>DLR0085</td><td>Humber Motors</td><td>5</td></tr><tr><td>DLR0001</td><td>AC Cars Motors</td><td>6</td></tr><tr><td>DLR0218</td><td>Lagonda  Motors</td><td>7</td></tr><tr><td>DLR0082</td><td>Honda Motors</td><td>8</td></tr><tr><td>DLR0063</td><td>Ford do Brasil Motors</td><td>9</td></tr><tr><td>DLR0193</td><td>Tazzari Motors</td><td>10</td></tr></tbody></table></div>"
      ]
     },
     "metadata": {
      "application/vnd.databricks.v1+output": {
       "addedWidgets": {},
       "aggData": [],
       "aggError": "",
       "aggOverflow": false,
       "aggSchema": [],
       "aggSeriesLimitReached": false,
       "aggType": "",
       "arguments": {},
       "columnCustomDisplayInfos": {},
       "data": [
        [
         "DLR0058",
         "Fiat do Brasil Motors",
         1
        ],
        [
         "DLR0107",
         "Land Rover Motors",
         2
        ],
        [
         "DLR0129",
         "Mia Motors",
         3
        ],
        [
         "DLR0111",
         "Lotus Motors",
         4
        ],
        [
         "DLR0085",
         "Humber Motors",
         5
        ],
        [
         "DLR0001",
         "AC Cars Motors",
         6
        ],
        [
         "DLR0218",
         "Lagonda  Motors",
         7
        ],
        [
         "DLR0082",
         "Honda Motors",
         8
        ],
        [
         "DLR0063",
         "Ford do Brasil Motors",
         9
        ],
        [
         "DLR0193",
         "Tazzari Motors",
         10
        ]
       ],
       "datasetInfos": [],
       "dbfsResultPath": null,
       "isJsonSchema": true,
       "metadata": {},
       "overflow": false,
       "plotOptions": {
        "customPlotOptions": {},
        "displayType": "table",
        "pivotAggregation": null,
        "pivotColumns": null,
        "xColumns": null,
        "yColumns": null
       },
       "removedWidgets": [],
       "schema": [
        {
         "metadata": "{}",
         "name": "Dealer_ID",
         "type": "\"string\""
        },
        {
         "metadata": "{}",
         "name": "DealerName",
         "type": "\"string\""
        },
        {
         "metadata": "{}",
         "name": "dim_dealer_key",
         "type": "\"long\""
        }
       ],
       "type": "table"
      }
     },
     "output_type": "display_data"
    }
   ],
   "source": [
    "df_final = df_filter_new.union(df_filter_old)\n",
    "df_final.limit(10).display()"
   ]
  },
  {
   "cell_type": "markdown",
   "metadata": {
    "application/vnd.databricks.v1+cell": {
     "cellMetadata": {},
     "inputWidgets": {},
     "nuid": "e11ca3a6-b561-4fe4-a718-b6b0239395a4",
     "showTitle": false,
     "tableResultSettingsMap": {},
     "title": ""
    }
   },
   "source": [
    "### SCD TYPE -1 (UPSERT)"
   ]
  },
  {
   "cell_type": "code",
   "execution_count": 0,
   "metadata": {
    "application/vnd.databricks.v1+cell": {
     "cellMetadata": {
      "byteLimit": 2048000,
      "rowLimit": 10000
     },
     "inputWidgets": {},
     "nuid": "8a263e13-053e-4b25-adc3-0bac29d6cb71",
     "showTitle": false,
     "tableResultSettingsMap": {},
     "title": ""
    }
   },
   "outputs": [],
   "source": [
    "from delta.tables import DeltaTable"
   ]
  },
  {
   "cell_type": "code",
   "execution_count": 0,
   "metadata": {
    "application/vnd.databricks.v1+cell": {
     "cellMetadata": {
      "byteLimit": 2048000,
      "rowLimit": 10000
     },
     "inputWidgets": {},
     "nuid": "822727e7-d97a-4cdd-b0fa-75f8621d4c81",
     "showTitle": false,
     "tableResultSettingsMap": {},
     "title": ""
    }
   },
   "outputs": [],
   "source": [
    "# Incremental Run\n",
    "if spark.catalog.tableExists('CarProject.gold.dim_dealer'):\n",
    "    delta_tbl = DeltaTable.forPath(spark,'abfss://gold@thadiyalcardatalake.dfs.core.windows.net/dim_dealer')\n",
    "    delta_tbl.alias('trg').merge(df_final.alias('src'), 'trg.dim_dealer_key = src.dim_dealer_key') \\\n",
    "    .whenMatchedUpdateAll() \\\n",
    "    .whenNotMatchedInsertAll() \\\n",
    "    .execute()\n",
    "\n",
    "\n",
    "# Initial Run\n",
    "else:\n",
    "    df_final.write.format('delta')\\\n",
    "        .mode('overwrite')\\\n",
    "            .option(\"path\", 'abfss://gold@thadiyalcardatalake.dfs.core.windows.net/dim_dealer')\\\n",
    "                .saveAsTable('CarProject.gold.dim_dealer')    "
   ]
  },
  {
   "cell_type": "code",
   "execution_count": 0,
   "metadata": {
    "application/vnd.databricks.v1+cell": {
     "cellMetadata": {
      "byteLimit": 2048000,
      "implicitDf": true,
      "rowLimit": 10000
     },
     "inputWidgets": {},
     "nuid": "88b34e94-39f3-46f6-9400-c5203fe6123e",
     "showTitle": false,
     "tableResultSettingsMap": {},
     "title": ""
    }
   },
   "outputs": [
    {
     "output_type": "display_data",
     "data": {
      "text/html": [
       "<style scoped>\n",
       "  .table-result-container {\n",
       "    max-height: 300px;\n",
       "    overflow: auto;\n",
       "  }\n",
       "  table, th, td {\n",
       "    border: 1px solid black;\n",
       "    border-collapse: collapse;\n",
       "  }\n",
       "  th, td {\n",
       "    padding: 5px;\n",
       "  }\n",
       "  th {\n",
       "    text-align: left;\n",
       "  }\n",
       "</style><div class='table-result-container'><table class='table-result'><thead style='background-color: white'><tr><th>Dealer_ID</th><th>DealerName</th><th>dim_dealer_key</th></tr></thead><tbody><tr><td>DLR0058</td><td>Fiat do Brasil Motors</td><td>1</td></tr><tr><td>DLR0107</td><td>Land Rover Motors</td><td>2</td></tr><tr><td>DLR0129</td><td>Mia Motors</td><td>3</td></tr><tr><td>DLR0111</td><td>Lotus Motors</td><td>4</td></tr><tr><td>DLR0085</td><td>Humber Motors</td><td>5</td></tr><tr><td>DLR0001</td><td>AC Cars Motors</td><td>6</td></tr><tr><td>DLR0218</td><td>Lagonda  Motors</td><td>7</td></tr><tr><td>DLR0082</td><td>Honda Motors</td><td>8</td></tr><tr><td>DLR0063</td><td>Ford do Brasil Motors</td><td>9</td></tr><tr><td>DLR0193</td><td>Tazzari Motors</td><td>10</td></tr></tbody></table></div>"
      ]
     },
     "metadata": {
      "application/vnd.databricks.v1+output": {
       "addedWidgets": {},
       "aggData": [],
       "aggError": "",
       "aggOverflow": false,
       "aggSchema": [],
       "aggSeriesLimitReached": false,
       "aggType": "",
       "arguments": {},
       "columnCustomDisplayInfos": {},
       "data": [
        [
         "DLR0058",
         "Fiat do Brasil Motors",
         1
        ],
        [
         "DLR0107",
         "Land Rover Motors",
         2
        ],
        [
         "DLR0129",
         "Mia Motors",
         3
        ],
        [
         "DLR0111",
         "Lotus Motors",
         4
        ],
        [
         "DLR0085",
         "Humber Motors",
         5
        ],
        [
         "DLR0001",
         "AC Cars Motors",
         6
        ],
        [
         "DLR0218",
         "Lagonda  Motors",
         7
        ],
        [
         "DLR0082",
         "Honda Motors",
         8
        ],
        [
         "DLR0063",
         "Ford do Brasil Motors",
         9
        ],
        [
         "DLR0193",
         "Tazzari Motors",
         10
        ]
       ],
       "datasetInfos": [
        {
         "name": "_sqldf",
         "schema": {
          "fields": [
           {
            "metadata": {},
            "name": "Dealer_ID",
            "nullable": true,
            "type": "string"
           },
           {
            "metadata": {},
            "name": "DealerName",
            "nullable": true,
            "type": "string"
           },
           {
            "metadata": {},
            "name": "dim_dealer_key",
            "nullable": true,
            "type": "long"
           }
          ],
          "type": "struct"
         },
         "tableIdentifier": null,
         "typeStr": "pyspark.sql.connect.dataframe.DataFrame"
        }
       ],
       "dbfsResultPath": null,
       "isJsonSchema": true,
       "metadata": {
        "createTempViewForImplicitDf": true,
        "dataframeName": "_sqldf",
        "executionCount": 19
       },
       "overflow": false,
       "plotOptions": {
        "customPlotOptions": {},
        "displayType": "table",
        "pivotAggregation": null,
        "pivotColumns": null,
        "xColumns": null,
        "yColumns": null
       },
       "removedWidgets": [],
       "schema": [
        {
         "metadata": "{}",
         "name": "Dealer_ID",
         "type": "\"string\""
        },
        {
         "metadata": "{}",
         "name": "DealerName",
         "type": "\"string\""
        },
        {
         "metadata": "{}",
         "name": "dim_dealer_key",
         "type": "\"long\""
        }
       ],
       "type": "table"
      }
     },
     "output_type": "display_data"
    }
   ],
   "source": [
    "%sql\n",
    "select * from carproject.gold.dim_dealer limit 10"
   ]
  },
  {
   "cell_type": "code",
   "execution_count": 0,
   "metadata": {
    "application/vnd.databricks.v1+cell": {
     "cellMetadata": {},
     "inputWidgets": {},
     "nuid": "b1f3f430-595a-46e9-ae78-03d504a67985",
     "showTitle": false,
     "tableResultSettingsMap": {},
     "title": ""
    }
   },
   "outputs": [],
   "source": []
  }
 ],
 "metadata": {
  "application/vnd.databricks.v1+notebook": {
   "computePreferences": null,
   "dashboards": [],
   "environmentMetadata": {
    "base_environment": "",
    "environment_version": "2"
   },
   "inputWidgetPreferences": null,
   "language": "python",
   "notebookMetadata": {
    "mostRecentlyExecutedCommandWithImplicitDF": {
     "commandId": 3201084320331329,
     "dataframes": [
      "_sqldf"
     ]
    },
    "pythonIndentUnit": 4
   },
   "notebookName": "gold_dim_dealer",
   "widgets": {
    "incremental_flag": {
     "currentValue": "0",
     "nuid": "8c333b9f-1654-4fdd-a402-f6fd29f8f526",
     "typedWidgetInfo": {
      "autoCreated": false,
      "defaultValue": "0",
      "label": null,
      "name": "incremental_flag",
      "options": {
       "widgetDisplayType": "Text",
       "validationRegex": null
      },
      "parameterDataType": "String"
     },
     "widgetInfo": {
      "widgetType": "text",
      "defaultValue": "0",
      "label": null,
      "name": "incremental_flag",
      "options": {
       "widgetType": "text",
       "autoCreated": null,
       "validationRegex": null
      }
     }
    }
   }
  },
  "language_info": {
   "name": "python"
  }
 },
 "nbformat": 4,
 "nbformat_minor": 0
}