{
 "cells": [
  {
   "cell_type": "markdown",
   "metadata": {
    "application/vnd.databricks.v1+cell": {
     "cellMetadata": {},
     "inputWidgets": {},
     "nuid": "cc606a0d-8370-48be-9965-f7dbdac991ea",
     "showTitle": false,
     "tableResultSettingsMap": {},
     "title": ""
    }
   },
   "source": [
    "# Creating Flag Parameter"
   ]
  },
  {
   "cell_type": "code",
   "execution_count": 0,
   "metadata": {
    "application/vnd.databricks.v1+cell": {
     "cellMetadata": {
      "byteLimit": 2048000,
      "rowLimit": 10000
     },
     "inputWidgets": {},
     "nuid": "16059f7f-64f2-438d-a294-8e63a0564bf7",
     "showTitle": false,
     "tableResultSettingsMap": {},
     "title": ""
    }
   },
   "outputs": [],
   "source": [
    "dbutils.widgets.text('incremental_flag','0')"
   ]
  },
  {
   "cell_type": "code",
   "execution_count": 0,
   "metadata": {
    "application/vnd.databricks.v1+cell": {
     "cellMetadata": {
      "byteLimit": 2048000,
      "rowLimit": 10000
     },
     "inputWidgets": {},
     "nuid": "7ab2f87e-42d8-4c96-a12b-c0d8f01de522",
     "showTitle": false,
     "tableResultSettingsMap": {},
     "title": ""
    }
   },
   "outputs": [
    {
     "output_type": "stream",
     "name": "stdout",
     "output_type": "stream",
     "text": [
      "0\n"
     ]
    }
   ],
   "source": [
    "incremental_flag = dbutils.widgets.get('incremental_flag')\n",
    "print(incremental_flag)"
   ]
  },
  {
   "cell_type": "code",
   "execution_count": 0,
   "metadata": {
    "application/vnd.databricks.v1+cell": {
     "cellMetadata": {
      "byteLimit": 2048000,
      "implicitDf": true,
      "rowLimit": 10000
     },
     "inputWidgets": {},
     "nuid": "9a10cb41-94a8-46a0-b096-01ff505e04d3",
     "showTitle": false,
     "tableResultSettingsMap": {},
     "title": ""
    }
   },
   "outputs": [
    {
     "output_type": "display_data",
     "data": {
      "text/html": [
       "<style scoped>\n",
       "  .table-result-container {\n",
       "    max-height: 300px;\n",
       "    overflow: auto;\n",
       "  }\n",
       "  table, th, td {\n",
       "    border: 1px solid black;\n",
       "    border-collapse: collapse;\n",
       "  }\n",
       "  th, td {\n",
       "    padding: 5px;\n",
       "  }\n",
       "  th {\n",
       "    text-align: left;\n",
       "  }\n",
       "</style><div class='table-result-container'><table class='table-result'><thead style='background-color: white'><tr><th>Branch_ID</th><th>Dealer_ID</th><th>Model_ID</th><th>Revenue</th><th>Units_Sold</th><th>Date_ID</th><th>Day</th><th>Month</th><th>Year</th><th>BranchName</th><th>DealerName</th><th>Product_Name</th><th>model_category</th><th>RevPerUnit</th></tr></thead><tbody><tr><td>BR0001</td><td>DLR0001</td><td>BMW-M1</td><td>13363978</td><td>2</td><td>DT00001</td><td>1</td><td>1</td><td>2017</td><td>AC Cars Motors</td><td>AC Cars Motors</td><td>BMW</td><td>BMW</td><td>6681989.0</td></tr><tr><td>BR0003</td><td>DLR0228</td><td>Hon-M218</td><td>17376468</td><td>3</td><td>DT00001</td><td>10</td><td>5</td><td>2017</td><td>AC Cars Motors</td><td>Deccan Motors</td><td>Honda</td><td>Hon</td><td>5792156.0</td></tr><tr><td>BR0004</td><td>DLR0208</td><td>Tat-M188</td><td>9664767</td><td>3</td><td>DT00002</td><td>12</td><td>1</td><td>2017</td><td>AC Cars Motors</td><td>Wiesmann Motors</td><td>Tata</td><td>Tat</td><td>3221589.0</td></tr><tr><td>BR0005</td><td>DLR0188</td><td>Hyu-M158</td><td>5525304</td><td>3</td><td>DT00002</td><td>16</td><td>9</td><td>2017</td><td>AC Cars Motors</td><td>Subaru Motors</td><td>Hyundai</td><td>Hyu</td><td>1841768.0</td></tr><tr><td>BR0006</td><td>DLR0168</td><td>Ren-M128</td><td>12971088</td><td>3</td><td>DT00003</td><td>20</td><td>5</td><td>2017</td><td>AC Cars Motors</td><td>Saab Motors</td><td>Renault</td><td>Ren</td><td>4323696.0</td></tr><tr><td>BR0008</td><td>DLR0128</td><td>Hon-M68</td><td>7321228</td><td>1</td><td>DT00004</td><td>28</td><td>4</td><td>2017</td><td>AC Cars Motors</td><td>Messerschmitt Motors</td><td>Honda</td><td>Hon</td><td>7321228.0</td></tr><tr><td>BR0009</td><td>DLR0108</td><td>Cad-M38</td><td>11379294</td><td>2</td><td>DT00004</td><td>31</td><td>12</td><td>2017</td><td>AC Cars Motors</td><td>Lexus Motors</td><td>Cadillac</td><td>Cad</td><td>5689647.0</td></tr><tr><td>BR0010</td><td>DLR0088</td><td>Mer-M8</td><td>11611234</td><td>2</td><td>DT00005</td><td>4</td><td>9</td><td>2017</td><td>AC Cars Motors</td><td>IFA (including Trabant, Wartburg, Barkas) Motors</td><td>Mercedes-Benz</td><td>Mer</td><td>5805617.0</td></tr><tr><td>BR0011</td><td>DLR0002</td><td>BMW-M2</td><td>19979446</td><td>2</td><td>DT00005</td><td>2</td><td>1</td><td>2017</td><td>Acura Motors</td><td>Acura Motors</td><td>BMW</td><td>BMW</td><td>9989723.0</td></tr><tr><td>BR0011</td><td>DLR0069</td><td>Vol-M256</td><td>14181510</td><td>3</td><td>DT00006</td><td>9</td><td>5</td><td>2017</td><td>Acura Motors</td><td>Geo Motors</td><td>Volkswagen</td><td>Vol</td><td>4727170.0</td></tr></tbody></table></div>"
      ]
     },
     "metadata": {
      "application/vnd.databricks.v1+output": {
       "addedWidgets": {},
       "aggData": [],
       "aggError": "",
       "aggOverflow": false,
       "aggSchema": [],
       "aggSeriesLimitReached": false,
       "aggType": "",
       "arguments": {},
       "columnCustomDisplayInfos": {},
       "data": [
        [
         "BR0001",
         "DLR0001",
         "BMW-M1",
         13363978,
         2,
         "DT00001",
         1,
         1,
         2017,
         "AC Cars Motors",
         "AC Cars Motors",
         "BMW",
         "BMW",
         6681989.0
        ],
        [
         "BR0003",
         "DLR0228",
         "Hon-M218",
         17376468,
         3,
         "DT00001",
         10,
         5,
         2017,
         "AC Cars Motors",
         "Deccan Motors",
         "Honda",
         "Hon",
         5792156.0
        ],
        [
         "BR0004",
         "DLR0208",
         "Tat-M188",
         9664767,
         3,
         "DT00002",
         12,
         1,
         2017,
         "AC Cars Motors",
         "Wiesmann Motors",
         "Tata",
         "Tat",
         3221589.0
        ],
        [
         "BR0005",
         "DLR0188",
         "Hyu-M158",
         5525304,
         3,
         "DT00002",
         16,
         9,
         2017,
         "AC Cars Motors",
         "Subaru Motors",
         "Hyundai",
         "Hyu",
         1841768.0
        ],
        [
         "BR0006",
         "DLR0168",
         "Ren-M128",
         12971088,
         3,
         "DT00003",
         20,
         5,
         2017,
         "AC Cars Motors",
         "Saab Motors",
         "Renault",
         "Ren",
         4323696.0
        ],
        [
         "BR0008",
         "DLR0128",
         "Hon-M68",
         7321228,
         1,
         "DT00004",
         28,
         4,
         2017,
         "AC Cars Motors",
         "Messerschmitt Motors",
         "Honda",
         "Hon",
         7321228.0
        ],
        [
         "BR0009",
         "DLR0108",
         "Cad-M38",
         11379294,
         2,
         "DT00004",
         31,
         12,
         2017,
         "AC Cars Motors",
         "Lexus Motors",
         "Cadillac",
         "Cad",
         5689647.0
        ],
        [
         "BR0010",
         "DLR0088",
         "Mer-M8",
         11611234,
         2,
         "DT00005",
         4,
         9,
         2017,
         "AC Cars Motors",
         "IFA (including Trabant, Wartburg, Barkas) Motors",
         "Mercedes-Benz",
         "Mer",
         5805617.0
        ],
        [
         "BR0011",
         "DLR0002",
         "BMW-M2",
         19979446,
         2,
         "DT00005",
         2,
         1,
         2017,
         "Acura Motors",
         "Acura Motors",
         "BMW",
         "BMW",
         9989723.0
        ],
        [
         "BR0011",
         "DLR0069",
         "Vol-M256",
         14181510,
         3,
         "DT00006",
         9,
         5,
         2017,
         "Acura Motors",
         "Geo Motors",
         "Volkswagen",
         "Vol",
         4727170.0
        ]
       ],
       "datasetInfos": [
        {
         "name": "_sqldf",
         "schema": {
          "fields": [
           {
            "metadata": {},
            "name": "Branch_ID",
            "nullable": true,
            "type": "string"
           },
           {
            "metadata": {},
            "name": "Dealer_ID",
            "nullable": true,
            "type": "string"
           },
           {
            "metadata": {},
            "name": "Model_ID",
            "nullable": true,
            "type": "string"
           },
           {
            "metadata": {},
            "name": "Revenue",
            "nullable": true,
            "type": "long"
           },
           {
            "metadata": {},
            "name": "Units_Sold",
            "nullable": true,
            "type": "long"
           },
           {
            "metadata": {},
            "name": "Date_ID",
            "nullable": true,
            "type": "string"
           },
           {
            "metadata": {},
            "name": "Day",
            "nullable": true,
            "type": "integer"
           },
           {
            "metadata": {},
            "name": "Month",
            "nullable": true,
            "type": "integer"
           },
           {
            "metadata": {},
            "name": "Year",
            "nullable": true,
            "type": "integer"
           },
           {
            "metadata": {},
            "name": "BranchName",
            "nullable": true,
            "type": "string"
           },
           {
            "metadata": {},
            "name": "DealerName",
            "nullable": true,
            "type": "string"
           },
           {
            "metadata": {},
            "name": "Product_Name",
            "nullable": true,
            "type": "string"
           },
           {
            "metadata": {},
            "name": "model_category",
            "nullable": true,
            "type": "string"
           },
           {
            "metadata": {},
            "name": "RevPerUnit",
            "nullable": true,
            "type": "double"
           }
          ],
          "type": "struct"
         },
         "tableIdentifier": null,
         "typeStr": "pyspark.sql.connect.dataframe.DataFrame"
        }
       ],
       "dbfsResultPath": null,
       "isJsonSchema": true,
       "metadata": {
        "createTempViewForImplicitDf": true,
        "dataframeName": "_sqldf",
        "executionCount": 11
       },
       "overflow": false,
       "plotOptions": {
        "customPlotOptions": {},
        "displayType": "table",
        "pivotAggregation": null,
        "pivotColumns": null,
        "xColumns": null,
        "yColumns": null
       },
       "removedWidgets": [],
       "schema": [
        {
         "metadata": "{}",
         "name": "Branch_ID",
         "type": "\"string\""
        },
        {
         "metadata": "{}",
         "name": "Dealer_ID",
         "type": "\"string\""
        },
        {
         "metadata": "{}",
         "name": "Model_ID",
         "type": "\"string\""
        },
        {
         "metadata": "{}",
         "name": "Revenue",
         "type": "\"long\""
        },
        {
         "metadata": "{}",
         "name": "Units_Sold",
         "type": "\"long\""
        },
        {
         "metadata": "{}",
         "name": "Date_ID",
         "type": "\"string\""
        },
        {
         "metadata": "{}",
         "name": "Day",
         "type": "\"integer\""
        },
        {
         "metadata": "{}",
         "name": "Month",
         "type": "\"integer\""
        },
        {
         "metadata": "{}",
         "name": "Year",
         "type": "\"integer\""
        },
        {
         "metadata": "{}",
         "name": "BranchName",
         "type": "\"string\""
        },
        {
         "metadata": "{}",
         "name": "DealerName",
         "type": "\"string\""
        },
        {
         "metadata": "{}",
         "name": "Product_Name",
         "type": "\"string\""
        },
        {
         "metadata": "{}",
         "name": "model_category",
         "type": "\"string\""
        },
        {
         "metadata": "{}",
         "name": "RevPerUnit",
         "type": "\"double\""
        }
       ],
       "type": "table"
      }
     },
     "output_type": "display_data"
    }
   ],
   "source": [
    "%sql\n",
    "select * from parquet.`abfss://silver@thadiyalcardatalake.dfs.core.windows.net/carsales`\n",
    "limit 10"
   ]
  },
  {
   "cell_type": "markdown",
   "metadata": {
    "application/vnd.databricks.v1+cell": {
     "cellMetadata": {},
     "inputWidgets": {},
     "nuid": "cf26a595-6605-44d9-88b1-0e6af05c7116",
     "showTitle": false,
     "tableResultSettingsMap": {},
     "title": ""
    }
   },
   "source": [
    "#Creating Dimension Model"
   ]
  },
  {
   "cell_type": "code",
   "execution_count": 0,
   "metadata": {
    "application/vnd.databricks.v1+cell": {
     "cellMetadata": {
      "byteLimit": 2048000,
      "implicitDf": true,
      "rowLimit": 10000
     },
     "inputWidgets": {},
     "nuid": "8a73fb60-571a-47a9-9a03-11f646ed4d62",
     "showTitle": false,
     "tableResultSettingsMap": {},
     "title": ""
    }
   },
   "outputs": [],
   "source": [
    "df_src = spark.sql('''\n",
    "select Distinct(Branch_ID) as Branch_ID, BranchName from parquet.`abfss://silver@thadiyalcardatalake.dfs.core.windows.net/carsales`\n",
    "''')\n"
   ]
  },
  {
   "cell_type": "code",
   "execution_count": 0,
   "metadata": {
    "application/vnd.databricks.v1+cell": {
     "cellMetadata": {
      "byteLimit": 2048000,
      "rowLimit": 10000
     },
     "inputWidgets": {},
     "nuid": "4c0eaffa-3c5f-4555-a6ca-d6c9278e209d",
     "showTitle": false,
     "tableResultSettingsMap": {},
     "title": ""
    }
   },
   "outputs": [
    {
     "output_type": "display_data",
     "data": {
      "text/html": [
       "<style scoped>\n",
       "  .table-result-container {\n",
       "    max-height: 300px;\n",
       "    overflow: auto;\n",
       "  }\n",
       "  table, th, td {\n",
       "    border: 1px solid black;\n",
       "    border-collapse: collapse;\n",
       "  }\n",
       "  th, td {\n",
       "    padding: 5px;\n",
       "  }\n",
       "  th {\n",
       "    text-align: left;\n",
       "  }\n",
       "</style><div class='table-result-container'><table class='table-result'><thead style='background-color: white'><tr><th>Branch_ID</th><th>BranchName</th></tr></thead><tbody><tr><td>BR0131</td><td>Audi Motors</td></tr><tr><td>BR0760</td><td>Healey Motors</td></tr><tr><td>BR0789</td><td>Hillman Motors</td></tr><tr><td>BR0938</td><td>Isotta Fraschini Motors</td></tr><tr><td>BR1040</td><td>Lada Motors</td></tr><tr><td>BR1693</td><td>Saleen Motors</td></tr><tr><td>BR1792</td><td>Simca do Brasil Motors</td></tr><tr><td>BR1799</td><td>Simca do Brasil Motors</td></tr><tr><td>BR1955</td><td>Toyota Motors</td></tr><tr><td>BR1978</td><td>Turner Motors</td></tr></tbody></table></div>"
      ]
     },
     "metadata": {
      "application/vnd.databricks.v1+output": {
       "addedWidgets": {},
       "aggData": [],
       "aggError": "",
       "aggOverflow": false,
       "aggSchema": [],
       "aggSeriesLimitReached": false,
       "aggType": "",
       "arguments": {},
       "columnCustomDisplayInfos": {},
       "data": [
        [
         "BR0131",
         "Audi Motors"
        ],
        [
         "BR0760",
         "Healey Motors"
        ],
        [
         "BR0789",
         "Hillman Motors"
        ],
        [
         "BR0938",
         "Isotta Fraschini Motors"
        ],
        [
         "BR1040",
         "Lada Motors"
        ],
        [
         "BR1693",
         "Saleen Motors"
        ],
        [
         "BR1792",
         "Simca do Brasil Motors"
        ],
        [
         "BR1799",
         "Simca do Brasil Motors"
        ],
        [
         "BR1955",
         "Toyota Motors"
        ],
        [
         "BR1978",
         "Turner Motors"
        ]
       ],
       "datasetInfos": [],
       "dbfsResultPath": null,
       "isJsonSchema": true,
       "metadata": {},
       "overflow": false,
       "plotOptions": {
        "customPlotOptions": {},
        "displayType": "table",
        "pivotAggregation": null,
        "pivotColumns": null,
        "xColumns": null,
        "yColumns": null
       },
       "removedWidgets": [],
       "schema": [
        {
         "metadata": "{}",
         "name": "Branch_ID",
         "type": "\"string\""
        },
        {
         "metadata": "{}",
         "name": "BranchName",
         "type": "\"string\""
        }
       ],
       "type": "table"
      }
     },
     "output_type": "display_data"
    }
   ],
   "source": [
    "df_src.limit(10).display()"
   ]
  },
  {
   "cell_type": "markdown",
   "metadata": {
    "application/vnd.databricks.v1+cell": {
     "cellMetadata": {},
     "inputWidgets": {},
     "nuid": "bf129043-3315-474e-96ab-1df9b24d0167",
     "showTitle": false,
     "tableResultSettingsMap": {},
     "title": ""
    }
   },
   "source": [
    "### dim_branch sink - initial and incremental"
   ]
  },
  {
   "cell_type": "code",
   "execution_count": 0,
   "metadata": {
    "application/vnd.databricks.v1+cell": {
     "cellMetadata": {
      "byteLimit": 2048000,
      "rowLimit": 10000
     },
     "inputWidgets": {},
     "nuid": "d832c393-d221-485c-be0d-e2f27ab5d68e",
     "showTitle": false,
     "tableResultSettingsMap": {},
     "title": ""
    }
   },
   "outputs": [],
   "source": [
    "if spark.catalog.tableExists('CarProject.gold.dim_branch'):\n",
    "    df_sink = spark.sql(\n",
    "                    \"select dim_branch_key, Branch_ID, BranchName from carproject.gold.dim_branch\"\n",
    "                    )\n",
    "else:\n",
    "    df_sink = spark.sql('''\n",
    "                    select 1 as dim_branch_key, Branch_ID, BranchName from parquet.`abfss://silver@thadiyalcardatalake.dfs.core.windows.net/carsales`\n",
    "                    where 1=0\n",
    "                    ''')\n"
   ]
  },
  {
   "cell_type": "code",
   "execution_count": 0,
   "metadata": {
    "application/vnd.databricks.v1+cell": {
     "cellMetadata": {
      "byteLimit": 2048000,
      "rowLimit": 10000
     },
     "inputWidgets": {},
     "nuid": "767a69db-13fc-416a-ad68-0a0c8c27a391",
     "showTitle": false,
     "tableResultSettingsMap": {},
     "title": ""
    }
   },
   "outputs": [
    {
     "output_type": "display_data",
     "data": {
      "text/html": [
       "<style scoped>\n",
       "  .table-result-container {\n",
       "    max-height: 300px;\n",
       "    overflow: auto;\n",
       "  }\n",
       "  table, th, td {\n",
       "    border: 1px solid black;\n",
       "    border-collapse: collapse;\n",
       "  }\n",
       "  th, td {\n",
       "    padding: 5px;\n",
       "  }\n",
       "  th {\n",
       "    text-align: left;\n",
       "  }\n",
       "</style><div class='table-result-container'><table class='table-result'><thead style='background-color: white'><tr><th>dim_branch_key</th><th>Branch_ID</th><th>BranchName</th></tr></thead><tbody></tbody></table></div>"
      ]
     },
     "metadata": {
      "application/vnd.databricks.v1+output": {
       "addedWidgets": {},
       "aggData": [],
       "aggError": "",
       "aggOverflow": false,
       "aggSchema": [],
       "aggSeriesLimitReached": false,
       "aggType": "",
       "arguments": {},
       "columnCustomDisplayInfos": {},
       "data": [],
       "datasetInfos": [],
       "dbfsResultPath": null,
       "isJsonSchema": true,
       "metadata": {},
       "overflow": false,
       "plotOptions": {
        "customPlotOptions": {},
        "displayType": "table",
        "pivotAggregation": null,
        "pivotColumns": null,
        "xColumns": null,
        "yColumns": null
       },
       "removedWidgets": [],
       "schema": [
        {
         "metadata": "{}",
         "name": "dim_branch_key",
         "type": "\"integer\""
        },
        {
         "metadata": "{}",
         "name": "Branch_ID",
         "type": "\"string\""
        },
        {
         "metadata": "{}",
         "name": "BranchName",
         "type": "\"string\""
        }
       ],
       "type": "table"
      }
     },
     "output_type": "display_data"
    }
   ],
   "source": [
    "df_sink.display()"
   ]
  },
  {
   "cell_type": "code",
   "execution_count": 0,
   "metadata": {
    "application/vnd.databricks.v1+cell": {
     "cellMetadata": {
      "byteLimit": 2048000,
      "rowLimit": 10000
     },
     "collapsed": true,
     "inputWidgets": {},
     "nuid": "16dbd16d-da05-4342-b612-6300287eb075",
     "showTitle": false,
     "tableResultSettingsMap": {},
     "title": ""
    }
   },
   "outputs": [
    {
     "output_type": "display_data",
     "data": {
      "text/html": [
       "<style scoped>\n",
       "  .table-result-container {\n",
       "    max-height: 300px;\n",
       "    overflow: auto;\n",
       "  }\n",
       "  table, th, td {\n",
       "    border: 1px solid black;\n",
       "    border-collapse: collapse;\n",
       "  }\n",
       "  th, td {\n",
       "    padding: 5px;\n",
       "  }\n",
       "  th {\n",
       "    text-align: left;\n",
       "  }\n",
       "</style><div class='table-result-container'><table class='table-result'><thead style='background-color: white'><tr><th>Branch_ID</th><th>BranchName</th><th>dim_branch_key</th></tr></thead><tbody><tr><td>BR0131</td><td>Audi Motors</td><td>null</td></tr><tr><td>BR0760</td><td>Healey Motors</td><td>null</td></tr><tr><td>BR0789</td><td>Hillman Motors</td><td>null</td></tr><tr><td>BR0938</td><td>Isotta Fraschini Motors</td><td>null</td></tr><tr><td>BR1040</td><td>Lada Motors</td><td>null</td></tr><tr><td>BR1693</td><td>Saleen Motors</td><td>null</td></tr><tr><td>BR1792</td><td>Simca do Brasil Motors</td><td>null</td></tr><tr><td>BR1799</td><td>Simca do Brasil Motors</td><td>null</td></tr><tr><td>BR1955</td><td>Toyota Motors</td><td>null</td></tr><tr><td>BR1978</td><td>Turner Motors</td><td>null</td></tr><tr><td>BR2068</td><td>Westfield Motors</td><td>null</td></tr><tr><td>BR2332</td><td>Bohn Motor Company Automobile Dealership</td><td>null</td></tr><tr><td>BR0151</td><td>Auto-Union Motors</td><td>null</td></tr><tr><td>BR0409</td><td>DAF Motors</td><td>null</td></tr><tr><td>BR0434</td><td>Datsun Motors</td><td>null</td></tr><tr><td>BR0599</td><td>Fisker, Karma Motors</td><td>null</td></tr><tr><td>BR0753</td><td>Healey Motors</td><td>null</td></tr><tr><td>BR1143</td><td>Mahindra Motors</td><td>null</td></tr><tr><td>BR12246</td><td>Volkswagen South Africa Motors</td><td>null</td></tr><tr><td>BR1233</td><td>McLaren Motors</td><td>null</td></tr><tr><td>BR1558</td><td>Plymouth Motors</td><td>null</td></tr><tr><td>BR1795</td><td>Simca do Brasil Motors</td><td>null</td></tr><tr><td>BR1847</td><td>SsangYong Motors</td><td>null</td></tr><tr><td>BR1943</td><td>Tornado Motors</td><td>null</td></tr><tr><td>BR2054</td><td>Volvo Motors</td><td>null</td></tr><tr><td>BR2063</td><td>Westfield Motors</td><td>null</td></tr><tr><td>BR0019</td><td>Acura Motors</td><td>null</td></tr><tr><td>BR0145</td><td>Autobianchi Motors</td><td>null</td></tr><tr><td>BR0913</td><td>Isdera Motors</td><td>null</td></tr><tr><td>BR1340</td><td>Monteverdi Motors</td><td>null</td></tr><tr><td>BR1630</td><td>Ranger Motors</td><td>null</td></tr><tr><td>BR1865</td><td>Studebaker Motors</td><td>null</td></tr><tr><td>BR2139</td><td>Horch Motors</td><td>null</td></tr><tr><td>BR0274</td><td>Buick Motors</td><td>null</td></tr><tr><td>BR0308</td><td>Caterham Motors</td><td>null</td></tr><tr><td>BR0399</td><td>Daewoo, Saehan, Chevrolet Korea Motors</td><td>null</td></tr><tr><td>BR0471</td><td>De Tomaso Motors</td><td>null</td></tr><tr><td>BR0731</td><td>GTA Spano Motors</td><td>null</td></tr><tr><td>BR0759</td><td>Healey Motors</td><td>null</td></tr><tr><td>BR1383</td><td>Nissan Motors</td><td>null</td></tr><tr><td>BR1664</td><td>Rolls-Royce Motors</td><td>null</td></tr><tr><td>BR1769</td><td>Seat Motors</td><td>null</td></tr><tr><td>BR2262</td><td>Ramani Motors</td><td>null</td></tr><tr><td>BR2352</td><td>Cadillac Automobile Company Building</td><td>null</td></tr><tr><td>BR0114</td><td>Asia Motors Motors</td><td>null</td></tr><tr><td>BR0462</td><td>DeSoto Motors</td><td>null</td></tr><tr><td>BR0699</td><td>Gilbern Motors</td><td>null</td></tr><tr><td>BR0793</td><td>Hindustan Motors</td><td>null</td></tr><tr><td>BR1479</td><td>Panhard Motors</td><td>null</td></tr><tr><td>BR2275</td><td>Deccan Motors</td><td>null</td></tr><tr><td>BR0138</td><td>Audi Motors</td><td>null</td></tr><tr><td>BR0202</td><td>Bond Motors</td><td>null</td></tr><tr><td>BR0700</td><td>Gilbern Motors</td><td>null</td></tr><tr><td>BR0988</td><td>Jensen Motors</td><td>null</td></tr><tr><td>BR9246</td><td>Piaggio Motors</td><td>null</td></tr><tr><td>BR0095</td><td>ARO Motors</td><td>null</td></tr><tr><td>BR0351</td><td>Chrysler Europe Motors</td><td>null</td></tr><tr><td>BR0368</td><td>Citroën Motors</td><td>null</td></tr><tr><td>BR0614</td><td>Ford Australia Motors</td><td>null</td></tr><tr><td>BR1248</td><td>Mercedes-Benz (including Maybach) Motors</td><td>null</td></tr><tr><td>BR1884</td><td>Sunbeam Motors</td><td>null</td></tr><tr><td>BR2035</td><td>Volkswagen do Brasil Motors</td><td>null</td></tr><tr><td>BR0070</td><td>AMC, Eagle Motors</td><td>null</td></tr><tr><td>BR0251</td><td>Austin, Rover Motors</td><td>null</td></tr><tr><td>BR0262</td><td>Bugatti Motors</td><td>null</td></tr><tr><td>BR1243</td><td>Mercedes-Benz (including Maybach) Motors</td><td>null</td></tr><tr><td>BR1289</td><td>Mia Motors</td><td>null</td></tr><tr><td>BR1405</td><td>Noble Motors</td><td>null</td></tr><tr><td>BR2033</td><td>Volkswagen do Brasil Motors</td><td>null</td></tr><tr><td>BR2329</td><td>Blankinship Motor Company Building</td><td>null</td></tr><tr><td>BR2385</td><td>Claremore Auto Dealership</td><td>null</td></tr><tr><td>BR0130</td><td>Aston Martin Motors</td><td>null</td></tr><tr><td>BR0891</td><td>Innocenti Motors</td><td>null</td></tr><tr><td>BR1177</td><td>Maruti Motors</td><td>null</td></tr><tr><td>BR1321</td><td>Monica Motors</td><td>null</td></tr><tr><td>BR13626</td><td>Deccan Motors</td><td>null</td></tr><tr><td>BR0064</td><td>AMC, Eagle Motors</td><td>null</td></tr><tr><td>BR0673</td><td>GAZ Motors</td><td>null</td></tr><tr><td>BR0685</td><td>Geo Motors</td><td>null</td></tr><tr><td>BR0718</td><td>Glas Motors</td><td>null</td></tr><tr><td>BR1298</td><td>Micro Motors</td><td>null</td></tr><tr><td>BR1300</td><td>Micro Motors</td><td>null</td></tr><tr><td>BR1347</td><td>Morgan Motors</td><td>null</td></tr><tr><td>BR1373</td><td>Naza Motors</td><td>null</td></tr><tr><td>BR2337</td><td>Bohn Motor Company Automobile Dealership</td><td>null</td></tr><tr><td>BR0231</td><td>British Leyland Motors</td><td>null</td></tr><tr><td>BR0895</td><td>Innocenti Motors</td><td>null</td></tr><tr><td>BR1228</td><td>Mazzanti Motors</td><td>null</td></tr><tr><td>BR1617</td><td>Puma Motors</td><td>null</td></tr><tr><td>BR1637</td><td>Reliant Motors</td><td>null</td></tr><tr><td>BR1680</td><td>Saab Motors</td><td>null</td></tr><tr><td>BR1821</td><td>Smart Motors</td><td>null</td></tr><tr><td>BR1940</td><td>Tesla Motors</td><td>null</td></tr><tr><td>BR2391</td><td>Clemens Automobile Company Building</td><td>null</td></tr><tr><td>BR2467</td><td>Kindel Building</td><td>null</td></tr><tr><td>BR3186</td><td>Elva Motors</td><td>null</td></tr><tr><td>BR5466</td><td>Isdera Motors</td><td>null</td></tr><tr><td>BR9126</td><td>Peugeot Motors</td><td>null</td></tr><tr><td>BR0104</td><td>Artega Motors</td><td>null</td></tr><tr><td>BR0354</td><td>Chrysler Europe Motors</td><td>null</td></tr><tr><td>BR0494</td><td>Donkervoort Motors</td><td>null</td></tr><tr><td>BR0528</td><td>Eicher Polaris Motors</td><td>null</td></tr><tr><td>BR1074</td><td>Lexus Motors</td><td>null</td></tr><tr><td>BR1503</td><td>Peel Motors</td><td>null</td></tr><tr><td>BR1718</td><td>San Motors</td><td>null</td></tr><tr><td>BR1864</td><td>Studebaker Motors</td><td>null</td></tr><tr><td>BR1993</td><td>UAZ Motors</td><td>null</td></tr><tr><td>BR2217</td><td>Riley  Motors</td><td>null</td></tr><tr><td>BR0682</td><td>Geo Motors</td><td>null</td></tr><tr><td>BR0905</td><td>Invicta Motors</td><td>null</td></tr><tr><td>BR10686</td><td>Simca Motors</td><td>null</td></tr><tr><td>BR1325</td><td>Monica Motors</td><td>null</td></tr><tr><td>BR1568</td><td>Polestar Motors</td><td>null</td></tr><tr><td>BR1822</td><td>Smart Motors</td><td>null</td></tr><tr><td>BR2154</td><td>Maybach  Motors</td><td>null</td></tr><tr><td>BR0011</td><td>Acura Motors</td><td>null</td></tr><tr><td>BR0115</td><td>Asia Motors Motors</td><td>null</td></tr><tr><td>BR0223</td><td>Bristol Motors</td><td>null</td></tr><tr><td>BR0490</td><td>Dodge Motors</td><td>null</td></tr><tr><td>BR0625</td><td>Ford do Brasil Motors</td><td>null</td></tr><tr><td>BR1111</td><td>LTI Motors</td><td>null</td></tr><tr><td>BR1829</td><td>Smart Motors</td><td>null</td></tr><tr><td>BR2277</td><td>Deccan Motors</td><td>null</td></tr><tr><td>BR2369</td><td>Casa de cadillac</td><td>null</td></tr><tr><td>BR6066</td><td>Koenigsegg Motors</td><td>null</td></tr><tr><td>BR0512</td><td>e.GO Mobile Motors</td><td>null</td></tr><tr><td>BR0584</td><td>Fiat India Motors</td><td>null</td></tr><tr><td>BR1691</td><td>Saleen Motors</td><td>null</td></tr><tr><td>BR1845</td><td>SsangYong Motors</td><td>null</td></tr><tr><td>BR1932</td><td>Tesla Motors</td><td>null</td></tr><tr><td>BR0360</td><td>Chrysler Europe Motors</td><td>null</td></tr><tr><td>BR0388</td><td>Dacia Motors</td><td>null</td></tr><tr><td>BR0486</td><td>Ariel Motors</td><td>null</td></tr><tr><td>BR0811</td><td>Honda Motors</td><td>null</td></tr><tr><td>BR1105</td><td>Lotus Motors</td><td>null</td></tr><tr><td>BR1762</td><td>Seat Motors</td><td>null</td></tr><tr><td>BR1768</td><td>Seat Motors</td><td>null</td></tr><tr><td>BR1960</td><td>Toyota Motors</td><td>null</td></tr><tr><td>BR2322</td><td>Blankinship Motor Company Building</td><td>null</td></tr><tr><td>BR2412</td><td>H Street Playhouse</td><td>null</td></tr><tr><td>BR2440</td><td>Hupmobile Building</td><td>null</td></tr><tr><td>BR0058</td><td>Alvis Motors</td><td>null</td></tr><tr><td>BR0447</td><td>Delahaye Motors</td><td>null</td></tr><tr><td>BR0479</td><td>De Tomaso Motors</td><td>null</td></tr><tr><td>BR0501</td><td>Edsel Motors</td><td>null</td></tr><tr><td>BR0919</td><td>Isdera Motors</td><td>null</td></tr><tr><td>BR1152</td><td>Marcos Motors</td><td>null</td></tr><tr><td>BR2289</td><td>Herald Motors</td><td>null</td></tr><tr><td>BR9426</td><td>Pontiac, Asüna Motors</td><td>null</td></tr><tr><td>BR0027</td><td>Aixam-Mega (including Arola) Motors</td><td>null</td></tr><tr><td>BR0411</td><td>Daihatsu Motors</td><td>null</td></tr><tr><td>BR1140</td><td>Lynx Motors</td><td>null</td></tr><tr><td>BR2087</td><td>Zastava Motors</td><td>null</td></tr><tr><td>BR2155</td><td>Maybach  Motors</td><td>null</td></tr><tr><td>BR2233</td><td>Standard  Motors</td><td>null</td></tr><tr><td>BR5406</td><td>Invicta Motors</td><td>null</td></tr><tr><td>BR0463</td><td>DeSoto Motors</td><td>null</td></tr><tr><td>BR0606</td><td>Artega Motors</td><td>null</td></tr><tr><td>BR0662</td><td>FSO Motors</td><td>null</td></tr><tr><td>BR1180</td><td>Maruti Motors</td><td>null</td></tr><tr><td>BR1380</td><td>Naza Motors</td><td>null</td></tr><tr><td>BR13986</td><td>Bohn Motor Company Automobile Dealership</td><td>null</td></tr><tr><td>BR1553</td><td>Plymouth Motors</td><td>null</td></tr><tr><td>BR1789</td><td>Simca Motors</td><td>null</td></tr><tr><td>BR1957</td><td>Toyota Motors</td><td>null</td></tr><tr><td>BR2025</td><td>Volkswagen Motors</td><td>null</td></tr><tr><td>BR2100</td><td>ZAZ Motors</td><td>null</td></tr><tr><td>BR2378</td><td>Cass Motor Sales</td><td>null</td></tr><tr><td>BR0089</td><td>Ariel Motors</td><td>null</td></tr><tr><td>BR0608</td><td>Ford America Motors</td><td>null</td></tr><tr><td>BR0941</td><td>Isuzu Motors</td><td>null</td></tr><tr><td>BR1273</td><td>Messerschmitt Motors</td><td>null</td></tr><tr><td>BR1860</td><td>Standard-Triumph Motors</td><td>null</td></tr><tr><td>BR1888</td><td>Sunbeam Motors</td><td>null</td></tr><tr><td>BR2142</td><td>Wanderer Motors</td><td>null</td></tr><tr><td>BR2319</td><td>2008 NRHP-listed</td><td>null</td></tr><tr><td>BR0264</td><td>Bugatti Motors</td><td>null</td></tr><tr><td>BR0498</td><td>Donkervoort Motors</td><td>null</td></tr><tr><td>BR0829</td><td>Honda India Motors</td><td>null</td></tr><tr><td>BR0890</td><td>Infiniti Motors</td><td>null</td></tr><tr><td>BR1044</td><td>Lamborghini Motors</td><td>null</td></tr><tr><td>BR13746</td><td>Zion Automobils</td><td>null</td></tr><tr><td>BR1398</td><td>Nissan India Motors</td><td>null</td></tr><tr><td>BR1877</td><td>Subaru Motors</td><td>null</td></tr><tr><td>BR1927</td><td>Tazzari Motors</td><td>null</td></tr><tr><td>BR2410</td><td>Colman Automotive Building</td><td>null</td></tr><tr><td>BR0534</td><td>Elva Motors</td><td>null</td></tr><tr><td>BR1442</td><td>Opel Motors</td><td>null</td></tr><tr><td>BR1722</td><td>Santa Matilde Motors</td><td>null</td></tr><tr><td>BR1990</td><td>TVR Motors</td><td>null</td></tr><tr><td>BR2070</td><td>Westfield Motors</td><td>null</td></tr><tr><td>BR2204</td><td>Austin  Motors</td><td>null</td></tr><tr><td>BR0204</td><td>Bond Motors</td><td>null</td></tr><tr><td>BR0717</td><td>Glas Motors</td><td>null</td></tr><tr><td>BR0947</td><td>Isuzu Motors</td><td>null</td></tr><tr><td>BR0983</td><td>Jensen Motors</td><td>null</td></tr><tr><td>BR1003</td><td>Kia Motors</td><td>null</td></tr><tr><td>BR11706</td><td>Toyota Motors</td><td>null</td></tr><tr><td>BR1232</td><td>McLaren Motors</td><td>null</td></tr><tr><td>BR1688</td><td>SAIC Motor Motors</td><td>null</td></tr><tr><td>BR1809</td><td>Singer Motors</td><td>null</td></tr><tr><td>BR1968</td><td>Toyota India Motors</td><td>null</td></tr><tr><td>BR2018</td><td>Venturi Motors</td><td>null</td></tr><tr><td>BR2022</td><td>Volkswagen Motors</td><td>null</td></tr><tr><td>BR2226</td><td>Cizeta-Moroder Motors</td><td>null</td></tr><tr><td>BR0235</td><td>British Leyland Motors</td><td>null</td></tr><tr><td>BR0634</td><td>Ford Europe Motors</td><td>null</td></tr><tr><td>BR0889</td><td>Infiniti Motors</td><td>null</td></tr><tr><td>BR1318</td><td>Mitsubishi Motors</td><td>null</td></tr><tr><td>BR1626</td><td>Buick Motors</td><td>null</td></tr><tr><td>BR2267</td><td>Ramani Motors</td><td>null</td></tr><tr><td>BR0591</td><td>Fisker, Karma Motors</td><td>null</td></tr><tr><td>BR0642</td><td>Ford India Motors</td><td>null</td></tr><tr><td>BR0930</td><td>Iso Motors</td><td>null</td></tr><tr><td>BR1027</td><td>KTM Motors</td><td>null</td></tr><tr><td>BR1065</td><td>Land Rover Motors</td><td>null</td></tr><tr><td>BR1382</td><td>Nissan Motors</td><td>null</td></tr><tr><td>BR1749</td><td>Saturn Motors</td><td>null</td></tr><tr><td>BR2433</td><td>Hupmobile Building</td><td>null</td></tr><tr><td>BR8406</td><td>Noble Motors</td><td>null</td></tr><tr><td>BR0040</td><td>Alfa Romeo Motors</td><td>null</td></tr><tr><td>BR0218</td><td>Borgward (including Goliath and Lloyd) Motors</td><td>null</td></tr><tr><td>BR0337</td><td>Chevrolet India Motors</td><td>null</td></tr><tr><td>BR1162</td><td>Marlin Motors</td><td>null</td></tr><tr><td>BR0082</td><td>Ariel Motors</td><td>null</td></tr><tr><td>BR0164</td><td>Auverland Motors</td><td>null</td></tr><tr><td>BR0598</td><td>Fisker, Karma Motors</td><td>null</td></tr><tr><td>BR0735</td><td>GTA Spano Motors</td><td>null</td></tr><tr><td>BR1063</td><td>Land Rover Motors</td><td>null</td></tr><tr><td>BR1579</td><td>Pontiac, Asüna Motors</td><td>null</td></tr><tr><td>BR2149</td><td>Wanderer Motors</td><td>null</td></tr><tr><td>BR2168</td><td>Izh  Motors</td><td>null</td></tr><tr><td>BR0279</td><td>Buick Motors</td><td>null</td></tr><tr><td>BR0884</td><td>Infiniti Motors</td><td>null</td></tr><tr><td>BR1048</td><td>Lamborghini Motors</td><td>null</td></tr><tr><td>BR1094</td><td>Lincoln Motors</td><td>null</td></tr><tr><td>BR1292</td><td>Micro Motors</td><td>null</td></tr><tr><td>BR1323</td><td>Monica Motors</td><td>null</td></tr><tr><td>BR1395</td><td>Nissan India Motors</td><td>null</td></tr><tr><td>BR1424</td><td>Oldsmobile Motors</td><td>null</td></tr><tr><td>BR1477</td><td>Panhard Motors</td><td>null</td></tr><tr><td>BR1670</td><td>Rolls-Royce Motors</td><td>null</td></tr><tr><td>BR1708</td><td>Samsung Motors</td><td>null</td></tr><tr><td>BR2039</td><td>Volkswagen do Brasil Motors</td><td>null</td></tr><tr><td>BR2404</td><td>Colman Automotive Building</td><td>null</td></tr><tr><td>BR0270</td><td>Bugatti Motors</td><td>null</td></tr><tr><td>BR0275</td><td>Buick Motors</td><td>null</td></tr><tr><td>BR0378</td><td>Cizeta-Moroder Motors</td><td>null</td></tr><tr><td>BR0405</td><td>DAF Motors</td><td>null</td></tr><tr><td>BR0592</td><td>Fisker, Karma Motors</td><td>null</td></tr><tr><td>BR0881</td><td>Infiniti Motors</td><td>null</td></tr><tr><td>BR0963</td><td>Jaguar Motors</td><td>null</td></tr><tr><td>BR1320</td><td>Mitsubishi Motors</td><td>null</td></tr><tr><td>BR1531</td><td>PGO Motors</td><td>null</td></tr><tr><td>BR1612</td><td>Puma Motors</td><td>null</td></tr><tr><td>BR1873</td><td>Subaru Motors</td><td>null</td></tr><tr><td>BR2077</td><td>Wiesmann Motors</td><td>null</td></tr><tr><td>BR2143</td><td>Wanderer Motors</td><td>null</td></tr><tr><td>BR2223</td><td>Wolseley  Motors</td><td>null</td></tr><tr><td>BR0509</td><td>Edsel Motors</td><td>null</td></tr><tr><td>BR1267</td><td>Merkur Motors</td><td>null</td></tr><tr><td>BR2225</td><td>Wolseley  Motors</td><td>null</td></tr><tr><td>BR0168</td><td>Auverland Motors</td><td>null</td></tr><tr><td>BR0318</td><td>Checker Motors</td><td>null</td></tr><tr><td>BR0362</td><td>Citroën Motors</td><td>null</td></tr><tr><td>BR0562</td><td>Fiat Motors</td><td>null</td></tr><tr><td>BR0738</td><td>GTA Spano Motors</td><td>null</td></tr><tr><td>BR0805</td><td>Holden Motors</td><td>null</td></tr><tr><td>BR0934</td><td>Isotta Fraschini Motors</td><td>null</td></tr><tr><td>BR1051</td><td>Lancia Motors</td><td>null</td></tr><tr><td>BR11466</td><td>Tatra Motors</td><td>null</td></tr><tr><td>BR1192</td><td>Mastretta Motors</td><td>null</td></tr><tr><td>BR1746</td><td>Cadillac Motors</td><td>null</td></tr><tr><td>BR1830</td><td>Smart Motors</td><td>null</td></tr><tr><td>BR2297</td><td>Zion Automobils</td><td>null</td></tr><tr><td>BR8046</td><td>Morgan Motors</td><td>null</td></tr><tr><td>BR0037</td><td>Alfa Romeo Motors</td><td>null</td></tr><tr><td>BR0268</td><td>Bugatti Motors</td><td>null</td></tr><tr><td>BR0367</td><td>Citroën Motors</td><td>null</td></tr><tr><td>BR1212</td><td>Mazda Motors</td><td>null</td></tr><tr><td>BR13806</td><td>Atlantic Motor Company</td><td>null</td></tr><tr><td>BR1491</td><td>Panther Motors</td><td>null</td></tr><tr><td>BR1750</td><td>Saturn Motors</td><td>null</td></tr><tr><td>BR1820</td><td>Skoda Motors</td><td>null</td></tr><tr><td>BR2037</td><td>Volkswagen do Brasil Motors</td><td>null</td></tr><tr><td>BR2248</td><td>Talbot  Motors</td><td>null</td></tr><tr><td>BR2280</td><td>Deccan Motors</td><td>null</td></tr><tr><td>BR7926</td><td>Monica Motors</td><td>null</td></tr><tr><td>BR1149</td><td>Mahindra Motors</td><td>null</td></tr><tr><td>BR1449</td><td>Opel Motors</td><td>null</td></tr><tr><td>BR6786</td><td>Lynx Motors</td><td>null</td></tr><tr><td>BR0059</td><td>Alvis Motors</td><td>null</td></tr><tr><td>BR0497</td><td>Donkervoort Motors</td><td>null</td></tr><tr><td>BR0561</td><td>Fiat Motors</td><td>null</td></tr><tr><td>BR0933</td><td>Isotta Fraschini Motors</td><td>null</td></tr><tr><td>BR1164</td><td>Marlin Motors</td><td>null</td></tr><tr><td>BR11946</td><td>UAZ Motors</td><td>null</td></tr><tr><td>BR1399</td><td>Nissan India Motors</td><td>null</td></tr><tr><td>BR1414</td><td>NSU Motors</td><td>null</td></tr><tr><td>BR1935</td><td>Tesla Motors</td><td>null</td></tr><tr><td>BR2210</td><td>Austin  Motors</td><td>null</td></tr><tr><td>BR3306</td><td>Ferrari Motors</td><td>null</td></tr><tr><td>BR3546</td><td>Fisker, Karma Motors</td><td>null</td></tr><tr><td>BR0075</td><td>Anadol Motors</td><td>null</td></tr><tr><td>BR0135</td><td>Audi Motors</td><td>null</td></tr><tr><td>BR0163</td><td>Auverland Motors</td><td>null</td></tr><tr><td>BR0491</td><td>Donkervoort Motors</td><td>null</td></tr><tr><td>BR0647</td><td>Ford India Motors</td><td>null</td></tr><tr><td>BR0765</td><td>Heinkel Motors</td><td>null</td></tr><tr><td>BR10206</td><td>Samsung Motors</td><td>null</td></tr><tr><td>BR1353</td><td>Moskwitch Motors</td><td>null</td></tr><tr><td>BR1561</td><td>Polestar Motors</td><td>null</td></tr><tr><td>BR1828</td><td>Smart Motors</td><td>null</td></tr><tr><td>BR2062</td><td>Westfield Motors</td><td>null</td></tr><tr><td>BR2084</td><td>Zastava Motors</td><td>null</td></tr><tr><td>BR2383</td><td>Claremore Auto Dealership</td><td>null</td></tr><tr><td>BR0451</td><td>DeLorean Motors</td><td>null</td></tr><tr><td>BR0701</td><td>Ginetta Motors</td><td>null</td></tr><tr><td>BR0786</td><td>Audi Motors</td><td>null</td></tr><tr><td>BR1293</td><td>Micro Motors</td><td>null</td></tr><tr><td>BR2191</td><td>Morris  Motors</td><td>null</td></tr><tr><td>BR4146</td><td>Gilbern Motors</td><td>null</td></tr><tr><td>BR0285</td><td>Bytom Motors</td><td>null</td></tr><tr><td>BR0525</td><td>Eicher Polaris Motors</td><td>null</td></tr><tr><td>BR0714</td><td>Glas Motors</td><td>null</td></tr><tr><td>BR1452</td><td>Packard Motors</td><td>null</td></tr><tr><td>BR1660</td><td>Rivian Motors</td><td>null</td></tr><tr><td>BR2244</td><td>Talbot  Motors</td><td>null</td></tr><tr><td>BR5646</td><td>Isuzu Motors</td><td>null</td></tr><tr><td>BR0575</td><td>Fiat do Brasil Motors</td><td>null</td></tr><tr><td>BR0803</td><td>Holden Motors</td><td>null</td></tr><tr><td>BR1195</td><td>Mastretta Motors</td><td>null</td></tr><tr><td>BR1279</td><td>Messerschmitt Motors</td><td>null</td></tr><tr><td>BR1844</td><td>SsangYong Motors</td><td>null</td></tr><tr><td>BR2221</td><td>Wolseley  Motors</td><td>null</td></tr><tr><td>BR0553</td><td>Ferrari Motors</td><td>null</td></tr><tr><td>BR0579</td><td>Fiat do Brasil Motors</td><td>null</td></tr><tr><td>BR0841</td><td>Humber Motors</td><td>null</td></tr><tr><td>BR1045</td><td>Lamborghini Motors</td><td>null</td></tr><tr><td>BR1112</td><td>LTI Motors</td><td>null</td></tr><tr><td>BR12186</td><td>Volkswagen do Brasil Motors</td><td>null</td></tr><tr><td>BR12366</td><td>Westfield Motors</td><td>null</td></tr><tr><td>BR1460</td><td>Packard Motors</td><td>null</td></tr><tr><td>BR1597</td><td>Premier Motors</td><td>null</td></tr><tr><td>BR2192</td><td>Morris  Motors</td><td>null</td></tr><tr><td>BR0158</td><td>Auto-Union Motors</td><td>null</td></tr><tr><td>BR0243</td><td>Austin-Healey Motors</td><td>null</td></tr><tr><td>BR0298</td><td>Cadillac Motors</td><td>null</td></tr><tr><td>BR0771</td><td>Hennessey Motors</td><td>null</td></tr><tr><td>BR0857</td><td>Hummer Motors</td><td>null</td></tr><tr><td>BR1155</td><td>Marcos Motors</td><td>null</td></tr><tr><td>BR12786</td><td>Horch Motors</td><td>null</td></tr><tr><td>BR12966</td><td>Izh  Motors</td><td>null</td></tr><tr><td>BR2185</td><td>MG  Motors</td><td>null</td></tr><tr><td>BR7446</td><td>Mercedes-Benz (including Maybach) Motors</td><td>null</td></tr><tr><td>BR0172</td><td>Bentley Motors</td><td>null</td></tr><tr><td>BR0392</td><td>Daewoo, Saehan, Chevrolet Korea Motors</td><td>null</td></tr><tr><td>BR0943</td><td>Isuzu Motors</td><td>null</td></tr><tr><td>BR1047</td><td>Lamborghini Motors</td><td>null</td></tr><tr><td>BR14706</td><td>Jones Motor Company</td><td>null</td></tr><tr><td>BR1598</td><td>Premier Motors</td><td>null</td></tr><tr><td>BR1755</td><td>Scion Motors</td><td>null</td></tr><tr><td>BR2005</td><td>Vauxhall Motors</td><td>null</td></tr><tr><td>BR2188</td><td>MG  Motors</td><td>null</td></tr><tr><td>BR0017</td><td>Acura Motors</td><td>null</td></tr><tr><td>BR0651</td><td>Freightliner Motors</td><td>null</td></tr><tr><td>BR0900</td><td>Innocenti Motors</td><td>null</td></tr><tr><td>BR1288</td><td>Mia Motors</td><td>null</td></tr><tr><td>BR1330</td><td>Monica Motors</td><td>null</td></tr><tr><td>BR1390</td><td>Nissan Motors</td><td>null</td></tr><tr><td>BR1862</td><td>Studebaker Motors</td><td>null</td></tr><tr><td>BR1871</td><td>Subaru Motors</td><td>null</td></tr><tr><td>BR1939</td><td>Tesla Motors</td><td>null</td></tr><tr><td>BR1951</td><td>Toyota Motors</td><td>null</td></tr><tr><td>BR2083</td><td>Zastava Motors</td><td>null</td></tr><tr><td>BR2415</td><td>H Street Playhouse</td><td>null</td></tr><tr><td>BR4086</td><td>Geo Motors</td><td>null</td></tr><tr><td>BR0708</td><td>Ginetta Motors</td><td>null</td></tr><tr><td>BR0801</td><td>Holden Motors</td><td>null</td></tr><tr><td>BR1220</td><td>Mazda Motors</td><td>null</td></tr><tr><td>BR1369</td><td>Nash Motors</td><td>null</td></tr><tr><td>BR1384</td><td>Nissan Motors</td><td>null</td></tr><tr><td>BR1464</td><td>Pagani Motors</td><td>null</td></tr><tr><td>BR1778</td><td>Shelby SuperCars Motors</td><td>null</td></tr><tr><td>BR2097</td><td>ZAZ Motors</td><td>null</td></tr><tr><td>BR1438</td><td>Oltcit Motors</td><td>null</td></tr><tr><td>BR1461</td><td>Pagani Motors</td><td>null</td></tr><tr><td>BR1771</td><td>Shelby SuperCars Motors</td><td>null</td></tr><tr><td>BR2445</td><td>Jennings Ford Automobile Dealership</td><td>null</td></tr><tr><td>BR2449</td><td>Jennings Ford Automobile Dealership</td><td>null</td></tr><tr><td>BR2706</td><td>DeLorean Motors</td><td>null</td></tr><tr><td>BR0347</td><td>Chrysler Motors</td><td>null</td></tr><tr><td>BR0353</td><td>Chrysler Europe Motors</td><td>null</td></tr><tr><td>BR0604</td><td>Ford America Motors</td><td>null</td></tr><tr><td>BR0770</td><td>Heinkel Motors</td><td>null</td></tr><tr><td>BR1632</td><td>Reliant Motors</td><td>null</td></tr><tr><td>BR2420</td><td>H Street Playhouse</td><td>null</td></tr><tr><td>BR4986</td><td>Hudson Motors</td><td>null</td></tr><tr><td>BR0980</td><td>Jeep Motors</td><td>null</td></tr><tr><td>BR1861</td><td>Studebaker Motors</td><td>null</td></tr><tr><td>BR1991</td><td>UAZ Motors</td><td>null</td></tr><tr><td>BR2308</td><td>Atlantic Motor Company</td><td>null</td></tr><tr><td>BR2452</td><td>Jones Motor Company</td><td>null</td></tr><tr><td>BR6486</td><td>Ligier Motors</td><td>null</td></tr><tr><td>BR0225</td><td>Bristol Motors</td><td>null</td></tr><tr><td>BR0269</td><td>Bugatti Motors</td><td>null</td></tr><tr><td>BR0300</td><td>Cadillac Motors</td><td>null</td></tr><tr><td>BR0415</td><td>Daihatsu Motors</td><td>null</td></tr><tr><td>BR0732</td><td>GTA Spano Motors</td><td>null</td></tr><tr><td>BR0927</td><td>Iso Motors</td><td>null</td></tr><tr><td>BR1608</td><td>Proton Motors</td><td>null</td></tr><tr><td>BR1913</td><td>Tatra Motors</td><td>null</td></tr><tr><td>BR1917</td><td>Tatra Motors</td><td>null</td></tr><tr><td>BR2047</td><td>Volkswagen South Africa Motors</td><td>null</td></tr><tr><td>BR2179</td><td>Lagonda  Motors</td><td>null</td></tr><tr><td>BR2237</td><td>Standard  Motors</td><td>null</td></tr><tr><td>BR2946</td><td>Donkervoort Motors</td><td>null</td></tr><tr><td>BR0001</td><td>AC Cars Motors</td><td>null</td></tr><tr><td>BR0018</td><td>Acura Motors</td><td>null</td></tr><tr><td>BR0304</td><td>Caterham Motors</td><td>null</td></tr><tr><td>BR0407</td><td>DAF Motors</td><td>null</td></tr><tr><td>BR0960</td><td>Iveco Motors</td><td>null</td></tr><tr><td>BR0989</td><td>Jensen Motors</td><td>null</td></tr><tr><td>BR10326</td><td>Santa Matilde Motors</td><td>null</td></tr><tr><td>BR1418</td><td>NSU Motors</td><td>null</td></tr><tr><td>BR1600</td><td>Premier Motors</td><td>null</td></tr><tr><td>BR1757</td><td>Scion Motors</td><td>null</td></tr><tr><td>BR1931</td><td>Tesla Motors</td><td>null</td></tr><tr><td>BR2072</td><td>Wiesmann Motors</td><td>null</td></tr><tr><td>BR2117</td><td>Audi Motors</td><td>null</td></tr><tr><td>BR7746</td><td>Micro Motors</td><td>null</td></tr><tr><td>BR0013</td><td>Acura Motors</td><td>null</td></tr><tr><td>BR0182</td><td>Bitter Motors</td><td>null</td></tr><tr><td>BR0219</td><td>Borgward (including Goliath and Lloyd) Motors</td><td>null</td></tr><tr><td>BR0252</td><td>Austin, Rover Motors</td><td>null</td></tr><tr><td>BR0363</td><td>Citroën Motors</td><td>null</td></tr><tr><td>BR0792</td><td>Hindustan Motors</td><td>null</td></tr><tr><td>BR0877</td><td>IFA (including Trabant, Wartburg, Barkas) Motors</td><td>null</td></tr><tr><td>BR0888</td><td>Infiniti Motors</td><td>null</td></tr><tr><td>BR0972</td><td>Jeep Motors</td><td>null</td></tr><tr><td>BR12006</td><td>Vauxhall Motors</td><td>null</td></tr><tr><td>BR1547</td><td>Piaggio Motors</td><td>null</td></tr><tr><td>BR2061</td><td>Westfield Motors</td><td>null</td></tr><tr><td>BR2158</td><td>Maybach  Motors</td><td>null</td></tr><tr><td>BR2252</td><td>Das Motors</td><td>null</td></tr><tr><td>BR2377</td><td>Cass Motor Sales</td><td>null</td></tr><tr><td>BR0505</td><td>Edsel Motors</td><td>null</td></tr><tr><td>BR10986</td><td>Spyker Motors</td><td>null</td></tr><tr><td>BR1351</td><td>Moskwitch Motors</td><td>null</td></tr><tr><td>BR1549</td><td>Piaggio Motors</td><td>null</td></tr><tr><td>BR1604</td><td>Proton Motors</td><td>null</td></tr><tr><td>BR1677</td><td>Saab Motors</td><td>null</td></tr><tr><td>BR1840</td><td>Spyker Motors</td><td>null</td></tr><tr><td>BR1863</td><td>Studebaker Motors</td><td>null</td></tr><tr><td>BR1919</td><td>Tatra Motors</td><td>null</td></tr><tr><td>BR2147</td><td>Wanderer Motors</td><td>null</td></tr><tr><td>BR2160</td><td>Maybach  Motors</td><td>null</td></tr><tr><td>BR2293</td><td>Zion Automobils</td><td>null</td></tr><tr><td>BR2406</td><td>DAF Motors</td><td>null</td></tr><tr><td>BR8106</td><td>Moskwitch Motors</td><td>null</td></tr><tr><td>BR0531</td><td>Elva Motors</td><td>null</td></tr><tr><td>BR0691</td><td>Gilbern Motors</td><td>null</td></tr><tr><td>BR0828</td><td>Honda India Motors</td><td>null</td></tr><tr><td>BR10566</td><td>Seat Motors</td><td>null</td></tr><tr><td>BR1067</td><td>Land Rover Motors</td><td>null</td></tr><tr><td>BR1812</td><td>Skoda Motors</td><td>null</td></tr><tr><td>BR1910</td><td>Tata Motors</td><td>null</td></tr><tr><td>BR2291</td><td>Zion Automobils</td><td>null</td></tr><tr><td>BR7866</td><td>Mitsubishi Motors</td><td>null</td></tr><tr><td>BR1270</td><td>Merkur Motors</td><td>null</td></tr><tr><td>BR13926</td><td>Blankinship Motor Company Building</td><td>null</td></tr><tr><td>BR1984</td><td>TVR Motors</td><td>null</td></tr><tr><td>BR2050</td><td>Volkswagen South Africa Motors</td><td>null</td></tr><tr><td>BR2213</td><td>Riley  Motors</td><td>null</td></tr><tr><td>BR2360</td><td>Cadillac Automobile Company Building</td><td>null</td></tr><tr><td>BR2646</td><td>Delahaye Motors</td><td>null</td></tr><tr><td>BR5046</td><td>Humber Motors</td><td>null</td></tr><tr><td>BR0065</td><td>AMC, Eagle Motors</td><td>null</td></tr><tr><td>BR0313</td><td>Checker Motors</td><td>null</td></tr><tr><td>BR0393</td><td>Daewoo, Saehan, Chevrolet Korea Motors</td><td>null</td></tr><tr><td>BR0802</td><td>Holden Motors</td><td>null</td></tr><tr><td>BR1413</td><td>NSU Motors</td><td>null</td></tr><tr><td>BR1681</td><td>SAIC Motor Motors</td><td>null</td></tr><tr><td>BR1735</td><td>Santana Motors</td><td>null</td></tr><tr><td>BR1752</td><td>Scion Motors</td><td>null</td></tr><tr><td>BR2064</td><td>Westfield Motors</td><td>null</td></tr><tr><td>BR2125</td><td>DKW Motors</td><td>null</td></tr><tr><td>BR0189</td><td>Bitter Motors</td><td>null</td></tr><tr><td>BR0513</td><td>e.GO Mobile Motors</td><td>null</td></tr><tr><td>BR0544</td><td>Facel Vega Motors</td><td>null</td></tr><tr><td>BR0775</td><td>Hennessey Motors</td><td>null</td></tr><tr><td>BR1445</td><td>Opel Motors</td><td>null</td></tr><tr><td>BR1654</td><td>Rivian Motors</td><td>null</td></tr><tr><td>BR1743</td><td>Saturn Motors</td><td>null</td></tr><tr><td>BR2046</td><td>Chrysler Motors</td><td>null</td></tr><tr><td>BR2138</td><td>Horch Motors</td><td>null</td></tr><tr><td>BR0006</td><td>AC Cars Motors</td><td>null</td></tr><tr><td>BR0139</td><td>Audi Motors</td><td>null</td></tr><tr><td>BR0649</td><td>Ford India Motors</td><td>null</td></tr><tr><td>BR1050</td><td>Lamborghini Motors</td><td>null</td></tr><tr><td>BR1071</td><td>Lexus Motors</td><td>null</td></tr><tr><td>BR12486</td><td>Zastava Motors</td><td>null</td></tr><tr><td>BR1307</td><td>Mini Motors</td><td>null</td></tr><tr><td>BR1661</td><td>Rolls-Royce Motors</td><td>null</td></tr><tr><td>BR1832</td><td>Spyker Motors</td><td>null</td></tr><tr><td>BR1934</td><td>Tesla Motors</td><td>null</td></tr><tr><td>BR2065</td><td>Westfield Motors</td><td>null</td></tr><tr><td>BR2129</td><td>DKW Motors</td><td>null</td></tr><tr><td>BR2441</td><td>Jennings Ford Automobile Dealership</td><td>null</td></tr><tr><td>BR0153</td><td>Auto-Union Motors</td><td>null</td></tr><tr><td>BR0968</td><td>Jaguar Motors</td><td>null</td></tr><tr><td>BR11586</td><td>Tesla Motors</td><td>null</td></tr><tr><td>BR1255</td><td>Mercury Motors</td><td>null</td></tr><tr><td>BR1402</td><td>Noble Motors</td><td>null</td></tr><tr><td>BR1965</td><td>Toyota India Motors</td><td>null</td></tr><tr><td>BR1969</td><td>Toyota India Motors</td><td>null</td></tr><tr><td>BR2085</td><td>Zastava Motors</td><td>null</td></tr><tr><td>BR2288</td><td>Herald Motors</td><td>null</td></tr><tr><td>BR5706</td><td>Iveco Motors</td><td>null</td></tr><tr><td>BR0461</td><td>DeSoto Motors</td><td>null</td></tr><tr><td>BR0568</td><td>Fiat Motors</td><td>null</td></tr><tr><td>BR0666</td><td>Asia Motors Motors</td><td>null</td></tr><tr><td>BR0773</td><td>Hennessey Motors</td><td>null</td></tr><tr><td>BR0852</td><td>Hummer Motors</td><td>null</td></tr><tr><td>BR1322</td><td>Monica Motors</td><td>null</td></tr><tr><td>BR0032</td><td>Alfa Romeo Motors</td><td>null</td></tr><tr><td>BR0212</td><td>Borgward (including Goliath and Lloyd) Motors</td><td>null</td></tr><tr><td>BR0728</td><td>GMC Motors</td><td>null</td></tr><tr><td>BR0861</td><td>Hyundai Motors</td><td>null</td></tr><tr><td>BR0868</td><td>Hyundai Motors</td><td>null</td></tr><tr><td>BR0966</td><td>Auverland Motors</td><td>null</td></tr><tr><td>BR1182</td><td>Maserati Motors</td><td>null</td></tr><tr><td>BR0762</td><td>Heinkel Motors</td><td>null</td></tr><tr><td>BR13506</td><td>Das Motors</td><td>null</td></tr><tr><td>BR14586</td><td>Hupmobile Building</td><td>null</td></tr><tr><td>BR1628</td><td>Ranger Motors</td><td>null</td></tr><tr><td>BR1658</td><td>Rivian Motors</td><td>null</td></tr><tr><td>BR1711</td><td>San Motors</td><td>null</td></tr><tr><td>BR1763</td><td>Seat Motors</td><td>null</td></tr><tr><td>BR1989</td><td>TVR Motors</td><td>null</td></tr><tr><td>BR2468</td><td>Kindel Building</td><td>null</td></tr><tr><td>BR0031</td><td>Alfa Romeo Motors</td><td>null</td></tr><tr><td>BR0121</td><td>Aston Martin Motors</td><td>null</td></tr><tr><td>BR0171</td><td>Bentley Motors</td><td>null</td></tr><tr><td>BR0500</td><td>Donkervoort Motors</td><td>null</td></tr><tr><td>BR0638</td><td>Ford Europe Motors</td><td>null</td></tr><tr><td>BR0650</td><td>Ford India Motors</td><td>null</td></tr><tr><td>BR1017</td><td>Koenigsegg Motors</td><td>null</td></tr><tr><td>BR10746</td><td>Simca do Brasil Motors</td><td>null</td></tr><tr><td>BR1263</td><td>Merkur Motors</td><td>null</td></tr><tr><td>BR1403</td><td>Noble Motors</td><td>null</td></tr><tr><td>BR1947</td><td>Tornado Motors</td><td>null</td></tr><tr><td>BR2447</td><td>Jennings Ford Automobile Dealership</td><td>null</td></tr><tr><td>BR3246</td><td>Facel Vega Motors</td><td>null</td></tr><tr><td>BR0169</td><td>Auverland Motors</td><td>null</td></tr><tr><td>BR0517</td><td>e.GO Mobile Motors</td><td>null</td></tr><tr><td>BR0911</td><td>Isdera Motors</td><td>null</td></tr><tr><td>BR1197</td><td>Mastretta Motors</td><td>null</td></tr><tr><td>BR1525</td><td>Peugeot Motors</td><td>null</td></tr><tr><td>BR1529</td><td>Peugeot Motors</td><td>null</td></tr><tr><td>BR1564</td><td>Polestar Motors</td><td>null</td></tr><tr><td>BR1577</td><td>Pontiac, Asüna Motors</td><td>null</td></tr><tr><td>BR1592</td><td>Premier Motors</td><td>null</td></tr><tr><td>BR1855</td><td>Standard-Triumph Motors</td><td>null</td></tr><tr><td>BR2150</td><td>Wanderer Motors</td><td>null</td></tr><tr><td>BR0315</td><td>Checker Motors</td><td>null</td></tr><tr><td>BR0408</td><td>DAF Motors</td><td>null</td></tr><tr><td>BR0502</td><td>Edsel Motors</td><td>null</td></tr><tr><td>BR0504</td><td>Edsel Motors</td><td>null</td></tr><tr><td>BR0572</td><td>Fiat do Brasil Motors</td><td>null</td></tr><tr><td>BR0617</td><td>Ford Australia Motors</td><td>null</td></tr><tr><td>BR0794</td><td>Hindustan Motors</td><td>null</td></tr><tr><td>BR0849</td><td>Humber Motors</td><td>null</td></tr><tr><td>BR0958</td><td>Iveco Motors</td><td>null</td></tr><tr><td>BR0995</td><td>JPX Motors</td><td>null</td></tr><tr><td>BR13026</td><td>Lagonda  Motors</td><td>null</td></tr><tr><td>BR1574</td><td>Pontiac, Asüna Motors</td><td>null</td></tr><tr><td>BR1594</td><td>Premier Motors</td><td>null</td></tr><tr><td>BR1731</td><td>Santana Motors</td><td>null</td></tr><tr><td>BR1944</td><td>Tornado Motors</td><td>null</td></tr><tr><td>BR2115</td><td>Audi Motors</td><td>null</td></tr><tr><td>BR0125</td><td>Aston Martin Motors</td><td>null</td></tr><tr><td>BR0297</td><td>Cadillac Motors</td><td>null</td></tr><tr><td>BR0372</td><td>Cizeta-Moroder Motors</td><td>null</td></tr><tr><td>BR0798</td><td>Hindustan Motors</td><td>null</td></tr><tr><td>BR0939</td><td>Isotta Fraschini Motors</td><td>null</td></tr><tr><td>BR1302</td><td>Mini Motors</td><td>null</td></tr><tr><td>BR1377</td><td>Naza Motors</td><td>null</td></tr><tr><td>BR14226</td><td>Cass Motor Sales</td><td>null</td></tr><tr><td>BR14526</td><td>Howard Motor Company Building</td><td>null</td></tr><tr><td>BR1463</td><td>Pagani Motors</td><td>null</td></tr><tr><td>BR1473</td><td>Panhard Motors</td><td>null</td></tr><tr><td>BR1952</td><td>Toyota Motors</td><td>null</td></tr><tr><td>BR2021</td><td>Volkswagen Motors</td><td>null</td></tr><tr><td>BR5886</td><td>Jensen Motors</td><td>null</td></tr><tr><td>BR0053</td><td>Alvis Motors</td><td>null</td></tr><tr><td>BR0054</td><td>Alvis Motors</td><td>null</td></tr><tr><td>BR0514</td><td>e.GO Mobile Motors</td><td>null</td></tr><tr><td>BR0744</td><td>Gumpert Motors</td><td>null</td></tr><tr><td>BR1012</td><td>Koenigsegg Motors</td><td>null</td></tr><tr><td>BR1159</td><td>Marcos Motors</td><td>null</td></tr><tr><td>BR1444</td><td>Opel Motors</td><td>null</td></tr><tr><td>BR1721</td><td>Santa Matilde Motors</td><td>null</td></tr><tr><td>BR1753</td><td>Scion Motors</td><td>null</td></tr><tr><td>BR2090</td><td>Zastava Motors</td><td>null</td></tr><tr><td>BR2399</td><td>Clemens Automobile Company Building</td><td>null</td></tr><tr><td>BR0140</td><td>Audi Motors</td><td>null</td></tr><tr><td>BR0690</td><td>Geo Motors</td><td>null</td></tr><tr><td>BR0922</td><td>Iso Motors</td><td>null</td></tr><tr><td>BR1349</td><td>Morgan Motors</td><td>null</td></tr><tr><td>BR1737</td><td>Santana Motors</td><td>null</td></tr><tr><td>BR1949</td><td>Tornado Motors</td><td>null</td></tr><tr><td>BR4806</td><td>Holden Motors</td><td>null</td></tr><tr><td>BR5826</td><td>Jeep Motors</td><td>null</td></tr><tr><td>BR8646</td><td>Opel Motors</td><td>null</td></tr><tr><td>BR0352</td><td>Chrysler Europe Motors</td><td>null</td></tr><tr><td>BR0458</td><td>DeLorean Motors</td><td>null</td></tr><tr><td>BR0784</td><td>Hillman Motors</td><td>null</td></tr><tr><td>BR1230</td><td>Mazzanti Motors</td><td>null</td></tr><tr><td>BR1425</td><td>Oldsmobile Motors</td><td>null</td></tr><tr><td>BR1967</td><td>Toyota India Motors</td><td>null</td></tr><tr><td>BR2091</td><td>ZAZ Motors</td><td>null</td></tr><tr><td>BR2429</td><td>Howard Motor Company Building</td><td>null</td></tr><tr><td>BR5346</td><td>Innocenti Motors</td><td>null</td></tr><tr><td>BR0144</td><td>Autobianchi Motors</td><td>null</td></tr><tr><td>BR1098</td><td>Lincoln Motors</td><td>null</td></tr><tr><td>BR1239</td><td>McLaren Motors</td><td>null</td></tr><tr><td>BR1747</td><td>Saturn Motors</td><td>null</td></tr><tr><td>BR1849</td><td>SsangYong Motors</td><td>null</td></tr><tr><td>BR2464</td><td>Kindel Building</td><td>null</td></tr><tr><td>BR9186</td><td>PGO Motors</td><td>null</td></tr><tr><td>BR0068</td><td>AMC, Eagle Motors</td><td>null</td></tr><tr><td>BR0291</td><td>Cadillac Motors</td><td>null</td></tr><tr><td>BR0452</td><td>DeLorean Motors</td><td>null</td></tr><tr><td>BR0672</td><td>GAZ Motors</td><td>null</td></tr><tr><td>BR0688</td><td>Geo Motors</td><td>null</td></tr><tr><td>BR0778</td><td>Hennessey Motors</td><td>null</td></tr><tr><td>BR10506</td><td>Scion Motors</td><td>null</td></tr><tr><td>BR1208</td><td>Matra (including Deutsch-Bonnet, René Bonnet) Motors</td><td>null</td></tr><tr><td>BR1290</td><td>Mia Motors</td><td>null</td></tr><tr><td>BR1343</td><td>Morgan Motors</td><td>null</td></tr><tr><td>BR1541</td><td>Piaggio Motors</td><td>null</td></tr><tr><td>BR1915</td><td>Tatra Motors</td><td>null</td></tr><tr><td>BR2048</td><td>Volkswagen South Africa Motors</td><td>null</td></tr><tr><td>BR2455</td><td>Jones Motor Company</td><td>null</td></tr><tr><td>BR2470</td><td>Kindel Building</td><td>null</td></tr><tr><td>BR0092</td><td>ARO Motors</td><td>null</td></tr><tr><td>BR0111</td><td>Asia Motors Motors</td><td>null</td></tr><tr><td>BR0383</td><td>Dacia Motors</td><td>null</td></tr><tr><td>BR0423</td><td>Daimler Motors</td><td>null</td></tr><tr><td>BR0713</td><td>Glas Motors</td><td>null</td></tr><tr><td>BR0817</td><td>Honda Motors</td><td>null</td></tr><tr><td>BR0928</td><td>Iso Motors</td><td>null</td></tr><tr><td>BR0993</td><td>JPX Motors</td><td>null</td></tr><tr><td>BR1061</td><td>Land Rover Motors</td><td>null</td></tr><tr><td>BR1301</td><td>Mini Motors</td><td>null</td></tr><tr><td>BR1605</td><td>Proton Motors</td><td>null</td></tr><tr><td>BR2075</td><td>Wiesmann Motors</td><td>null</td></tr><tr><td>BR2161</td><td>Izh  Motors</td><td>null</td></tr><tr><td>BR2178</td><td>Lagonda  Motors</td><td>null</td></tr><tr><td>BR0014</td><td>Acura Motors</td><td>null</td></tr><tr><td>BR0232</td><td>British Leyland Motors</td><td>null</td></tr><tr><td>BR0271</td><td>Buick Motors</td><td>null</td></tr><tr><td>BR0559</td><td>Ferrari Motors</td><td>null</td></tr><tr><td>BR0707</td><td>Ginetta Motors</td><td>null</td></tr><tr><td>BR0722</td><td>GMC Motors</td><td>null</td></tr><tr><td>BR0918</td><td>Isdera Motors</td><td>null</td></tr><tr><td>BR1163</td><td>Marlin Motors</td><td>null</td></tr><tr><td>BR1615</td><td>Puma Motors</td><td>null</td></tr><tr><td>BR2123</td><td>DKW Motors</td><td>null</td></tr><tr><td>BR2437</td><td>Hupmobile Building</td><td>null</td></tr><tr><td>BR2443</td><td>Jennings Ford Automobile Dealership</td><td>null</td></tr><tr><td>BR0101</td><td>Artega Motors</td><td>null</td></tr><tr><td>BR0112</td><td>Asia Motors Motors</td><td>null</td></tr><tr><td>BR0222</td><td>Bristol Motors</td><td>null</td></tr><tr><td>BR0230</td><td>Bristol Motors</td><td>null</td></tr><tr><td>BR1015</td><td>Koenigsegg Motors</td><td>null</td></tr><tr><td>BR1141</td><td>Mahindra Motors</td><td>null</td></tr><tr><td>BR1358</td><td>Moskwitch Motors</td><td>null</td></tr><tr><td>BR1922</td><td>Tazzari Motors</td><td>null</td></tr><tr><td>BR2402</td><td>Colman Automotive Building</td><td>null</td></tr><tr><td>BR0552</td><td>Ferrari Motors</td><td>null</td></tr><tr><td>BR0658</td><td>Freightliner Motors</td><td>null</td></tr><tr><td>BR0859</td><td>Hummer Motors</td><td>null</td></tr><tr><td>BR1310</td><td>Mini Motors</td><td>null</td></tr><tr><td>BR1391</td><td>Nissan India Motors</td><td>null</td></tr><tr><td>BR1714</td><td>San Motors</td><td>null</td></tr><tr><td>BR1945</td><td>Tornado Motors</td><td>null</td></tr><tr><td>BR2263</td><td>Ramani Motors</td><td>null</td></tr><tr><td>BR0069</td><td>AMC, Eagle Motors</td><td>null</td></tr><tr><td>BR0198</td><td>BMW Motors</td><td>null</td></tr><tr><td>BR0621</td><td>Ford do Brasil Motors</td><td>null</td></tr><tr><td>BR0997</td><td>JPX Motors</td><td>null</td></tr><tr><td>BR1215</td><td>Mazda Motors</td><td>null</td></tr><tr><td>BR1407</td><td>Noble Motors</td><td>null</td></tr><tr><td>BR2024</td><td>Volkswagen Motors</td><td>null</td></tr><tr><td>BR0863</td><td>Hyundai Motors</td><td>null</td></tr><tr><td>BR0967</td><td>Jaguar Motors</td><td>null</td></tr><tr><td>BR1412</td><td>NSU Motors</td><td>null</td></tr><tr><td>BR1435</td><td>Oltcit Motors</td><td>null</td></tr><tr><td>BR1710</td><td>Samsung Motors</td><td>null</td></tr><tr><td>BR1929</td><td>Tazzari Motors</td><td>null</td></tr><tr><td>BR2134</td><td>Horch Motors</td><td>null</td></tr><tr><td>BR2230</td><td>Wolseley  Motors</td><td>null</td></tr><tr><td>BR2295</td><td>Zion Automobils</td><td>null</td></tr><tr><td>BR4446</td><td>Gumpert Motors</td><td>null</td></tr><tr><td>BR0519</td><td>e.GO Mobile Motors</td><td>null</td></tr><tr><td>BR0660</td><td>Freightliner Motors</td><td>null</td></tr><tr><td>BR11106</td><td>Standard-Triumph Motors</td><td>null</td></tr><tr><td>BR1404</td><td>Noble Motors</td><td>null</td></tr><tr><td>BR1869</td><td>Studebaker Motors</td><td>null</td></tr><tr><td>BR1880</td><td>Subaru Motors</td><td>null</td></tr><tr><td>BR2071</td><td>Wiesmann Motors</td><td>null</td></tr><tr><td>BR2232</td><td>Standard  Motors</td><td>null</td></tr><tr><td>BR2427</td><td>Howard Motor Company Building</td><td>null</td></tr><tr><td>BR4746</td><td>Hindustan Motors</td><td>null</td></tr><tr><td>BR0044</td><td>Alpine Motors</td><td>null</td></tr><tr><td>BR0539</td><td>Elva Motors</td><td>null</td></tr><tr><td>BR1093</td><td>Lincoln Motors</td><td>null</td></tr><tr><td>BR1241</td><td>Mercedes-Benz (including Maybach) Motors</td><td>null</td></tr><tr><td>BR1408</td><td>Noble Motors</td><td>null</td></tr><tr><td>BR14766</td><td>Kindel Building</td><td>null</td></tr><tr><td>BR1689</td><td>SAIC Motor Motors</td><td>null</td></tr><tr><td>BR1700</td><td>Saleen Motors</td><td>null</td></tr><tr><td>BR2372</td><td>Cass Motor Sales</td><td>null</td></tr><tr><td>BR0129</td><td>Aston Martin Motors</td><td>null</td></tr><tr><td>BR0211</td><td>Borgward (including Goliath and Lloyd) Motors</td><td>null</td></tr><tr><td>BR0321</td><td>Chevrolet Motors</td><td>null</td></tr><tr><td>BR0433</td><td>Datsun Motors</td><td>null</td></tr><tr><td>BR0607</td><td>Ford America Motors</td><td>null</td></tr><tr><td>BR0764</td><td>Heinkel Motors</td><td>null</td></tr><tr><td>BR0984</td><td>Jensen Motors</td><td>null</td></tr><tr><td>BR2159</td><td>Maybach  Motors</td><td>null</td></tr><tr><td>BR0009</td><td>AC Cars Motors</td><td>null</td></tr><tr><td>BR0783</td><td>Hillman Motors</td><td>null</td></tr><tr><td>BR0878</td><td>IFA (including Trabant, Wartburg, Barkas) Motors</td><td>null</td></tr><tr><td>BR1483</td><td>Panoz Motors</td><td>null</td></tr><tr><td>BR2171</td><td>Lagonda  Motors</td><td>null</td></tr><tr><td>BR2323</td><td>Blankinship Motor Company Building</td><td>null</td></tr><tr><td>BR2362</td><td>Casa de cadillac</td><td>null</td></tr><tr><td>BR0254</td><td>Austin, Rover Motors</td><td>null</td></tr><tr><td>BR0823</td><td>Honda India Motors</td><td>null</td></tr><tr><td>BR14166</td><td>Casa de cadillac</td><td>null</td></tr><tr><td>BR1540</td><td>PGO Motors</td><td>null</td></tr><tr><td>BR1613</td><td>Puma Motors</td><td>null</td></tr><tr><td>BR1892</td><td>Suzuki Motors</td><td>null</td></tr><tr><td>BR1948</td><td>Tornado Motors</td><td>null</td></tr><tr><td>BR1959</td><td>Toyota Motors</td><td>null</td></tr><tr><td>BR2106</td><td>Chrysler Europe Motors</td><td>null</td></tr><tr><td>BR7386</td><td>McLaren Motors</td><td>null</td></tr><tr><td>BR0021</td><td>Aixam-Mega (including Arola) Motors</td><td>null</td></tr><tr><td>BR0385</td><td>Dacia Motors</td><td>null</td></tr><tr><td>BR1083</td><td>Ligier Motors</td><td>null</td></tr><tr><td>BR1179</td><td>Maruti Motors</td><td>null</td></tr><tr><td>BR1240</td><td>McLaren Motors</td><td>null</td></tr><tr><td>BR14406</td><td>Colman Automotive Building</td><td>null</td></tr><tr><td>BR2017</td><td>Venturi Motors</td><td>null</td></tr><tr><td>BR2428</td><td>Howard Motor Company Building</td><td>null</td></tr><tr><td>BR0195</td><td>BMW Motors</td><td>null</td></tr><tr><td>BR0247</td><td>Austin-Healey Motors</td><td>null</td></tr><tr><td>BR0709</td><td>Ginetta Motors</td><td>null</td></tr><tr><td>BR0710</td><td>Ginetta Motors</td><td>null</td></tr><tr><td>BR1671</td><td>Saab Motors</td><td>null</td></tr><tr><td>BR2407</td><td>Colman Automotive Building</td><td>null</td></tr><tr><td>BR0328</td><td>Chevrolet Motors</td><td>null</td></tr><tr><td>BR0350</td><td>Chrysler Motors</td><td>null</td></tr><tr><td>BR0395</td><td>Daewoo, Saehan, Chevrolet Korea Motors</td><td>null</td></tr><tr><td>BR0581</td><td>Fiat India Motors</td><td>null</td></tr><tr><td>BR0627</td><td>Ford do Brasil Motors</td><td>null</td></tr><tr><td>BR0755</td><td>Healey Motors</td><td>null</td></tr><tr><td>BR1117</td><td>LTI Motors</td><td>null</td></tr><tr><td>BR1305</td><td>Mini Motors</td><td>null</td></tr><tr><td>BR1332</td><td>Monteverdi Motors</td><td>null</td></tr><tr><td>BR1378</td><td>Naza Motors</td><td>null</td></tr><tr><td>BR2285</td><td>Herald Motors</td><td>null</td></tr><tr><td>BR2353</td><td>Cadillac Automobile Company Building</td><td>null</td></tr><tr><td>BR7686</td><td>Mia Motors</td><td>null</td></tr><tr><td>BR0048</td><td>Alpine Motors</td><td>null</td></tr><tr><td>BR0293</td><td>Cadillac Motors</td><td>null</td></tr><tr><td>BR0301</td><td>Caterham Motors</td><td>null</td></tr><tr><td>BR0429</td><td>Daimler Motors</td><td>null</td></tr><tr><td>BR0585</td><td>Fiat India Motors</td><td>null</td></tr><tr><td>BR0720</td><td>Glas Motors</td><td>null</td></tr><tr><td>BR0787</td><td>Hillman Motors</td><td>null</td></tr><tr><td>BR0871</td><td>IFA (including Trabant, Wartburg, Barkas) Motors</td><td>null</td></tr><tr><td>BR1025</td><td>KTM Motors</td><td>null</td></tr><tr><td>BR2095</td><td>ZAZ Motors</td><td>null</td></tr><tr><td>BR2133</td><td>Horch Motors</td><td>null</td></tr><tr><td>BR0005</td><td>AC Cars Motors</td><td>null</td></tr><tr><td>BR0791</td><td>Hindustan Motors</td><td>null</td></tr><tr><td>BR0846</td><td>Autobianchi Motors</td><td>null</td></tr><tr><td>BR0883</td><td>Infiniti Motors</td><td>null</td></tr><tr><td>BR1088</td><td>Ligier Motors</td><td>null</td></tr><tr><td>BR1181</td><td>Maserati Motors</td><td>null</td></tr><tr><td>BR1565</td><td>Polestar Motors</td><td>null</td></tr><tr><td>BR2367</td><td>Casa de cadillac</td><td>null</td></tr><tr><td>BR2380</td><td>Cass Motor Sales</td><td>null</td></tr><tr><td>BR6546</td><td>Lincoln Motors</td><td>null</td></tr><tr><td>BR9066</td><td>Perodua Motors</td><td>null</td></tr><tr><td>BR0045</td><td>Alpine Motors</td><td>null</td></tr><tr><td>BR1223</td><td>Mazzanti Motors</td><td>null</td></tr><tr><td>BR12666</td><td>Audi Motors</td><td>null</td></tr><tr><td>BR1364</td><td>Nash Motors</td><td>null</td></tr><tr><td>BR1601</td><td>Proton Motors</td><td>null</td></tr><tr><td>BR1878</td><td>Subaru Motors</td><td>null</td></tr><tr><td>BR2042</td><td>Volkswagen South Africa Motors</td><td>null</td></tr><tr><td>BR0473</td><td>De Tomaso Motors</td><td>null</td></tr><tr><td>BR1053</td><td>Lancia Motors</td><td>null</td></tr><tr><td>BR1244</td><td>Mercedes-Benz (including Maybach) Motors</td><td>null</td></tr><tr><td>BR1785</td><td>Simca Motors</td><td>null</td></tr><tr><td>BR2101</td><td>ZIL Motors</td><td>null</td></tr><tr><td>BR2165</td><td>Izh  Motors</td><td>null</td></tr><tr><td>BR7146</td><td>Mastretta Motors</td><td>null</td></tr><tr><td>BR0126</td><td>Aixam-Mega (including Arola) Motors</td><td>null</td></tr><tr><td>BR0359</td><td>Chrysler Europe Motors</td><td>null</td></tr><tr><td>BR0611</td><td>Ford Australia Motors</td><td>null</td></tr><tr><td>BR1104</td><td>Lotus Motors</td><td>null</td></tr><tr><td>BR1174</td><td>Maruti Motors</td><td>null</td></tr><tr><td>BR1277</td><td>Messerschmitt Motors</td><td>null</td></tr><tr><td>BR1419</td><td>NSU Motors</td><td>null</td></tr><tr><td>BR1510</td><td>Peel Motors</td><td>null</td></tr><tr><td>BR1653</td><td>Rivian Motors</td><td>null</td></tr><tr><td>BR1780</td><td>Shelby SuperCars Motors</td><td>null</td></tr><tr><td>BR2135</td><td>Horch Motors</td><td>null</td></tr><tr><td>BR2167</td><td>Izh  Motors</td><td>null</td></tr><tr><td>BR2371</td><td>Cass Motor Sales</td><td>null</td></tr><tr><td>BR3606</td><td>Ford America Motors</td><td>null</td></tr><tr><td>BR0143</td><td>Autobianchi Motors</td><td>null</td></tr><tr><td>BR1283</td><td>Mia Motors</td><td>null</td></tr><tr><td>BR1328</td><td>Monica Motors</td><td>null</td></tr><tr><td>BR1783</td><td>Simca Motors</td><td>null</td></tr><tr><td>BR0727</td><td>GMC Motors</td><td>null</td></tr><tr><td>BR0892</td><td>Innocenti Motors</td><td>null</td></tr><tr><td>BR1123</td><td>LuAZ Motors</td><td>null</td></tr><tr><td>BR12906</td><td>Maybach  Motors</td><td>null</td></tr><tr><td>BR1690</td><td>SAIC Motor Motors</td><td>null</td></tr><tr><td>BR1843</td><td>SsangYong Motors</td><td>null</td></tr><tr><td>BR2067</td><td>Westfield Motors</td><td>null</td></tr><tr><td>BR2099</td><td>ZAZ Motors</td><td>null</td></tr><tr><td>BR0057</td><td>Alvis Motors</td><td>null</td></tr><tr><td>BR0929</td><td>Iso Motors</td><td>null</td></tr><tr><td>BR1842</td><td>SsangYong Motors</td><td>null</td></tr><tr><td>BR0073</td><td>Anadol Motors</td><td>null</td></tr><tr><td>BR0492</td><td>Donkervoort Motors</td><td>null</td></tr><tr><td>BR0565</td><td>Fiat Motors</td><td>null</td></tr><tr><td>BR0851</td><td>Hummer Motors</td><td>null</td></tr><tr><td>BR1032</td><td>Lada Motors</td><td>null</td></tr><tr><td>BR1190</td><td>Maserati Motors</td><td>null</td></tr><tr><td>BR1410</td><td>Noble Motors</td><td>null</td></tr><tr><td>BR1678</td><td>Saab Motors</td><td>null</td></tr><tr><td>BR2082</td><td>Zastava Motors</td><td>null</td></tr><tr><td>BR2124</td><td>DKW Motors</td><td>null</td></tr><tr><td>BR2131</td><td>Horch Motors</td><td>null</td></tr><tr><td>BR2247</td><td>Talbot  Motors</td><td>null</td></tr><tr><td>BR2460</td><td>Jones Motor Company</td><td>null</td></tr><tr><td>BR3786</td><td>Ford Europe Motors</td><td>null</td></tr><tr><td>BR0080</td><td>Anadol Motors</td><td>null</td></tr><tr><td>BR0085</td><td>Ariel Motors</td><td>null</td></tr><tr><td>BR0220</td><td>Borgward (including Goliath and Lloyd) Motors</td><td>null</td></tr><tr><td>BR0342</td><td>Chrysler Motors</td><td>null</td></tr><tr><td>BR0624</td><td>Ford do Brasil Motors</td><td>null</td></tr><tr><td>BR0730</td><td>GMC Motors</td><td>null</td></tr><tr><td>BR0845</td><td>Humber Motors</td><td>null</td></tr><tr><td>BR0935</td><td>Isotta Fraschini Motors</td><td>null</td></tr><tr><td>BR1055</td><td>Lancia Motors</td><td>null</td></tr><tr><td>BR1326</td><td>Bristol Motors</td><td>null</td></tr><tr><td>BR1867</td><td>Studebaker Motors</td><td>null</td></tr><tr><td>BR1895</td><td>Suzuki Motors</td><td>null</td></tr><tr><td>BR2153</td><td>Maybach  Motors</td><td>null</td></tr><tr><td>BR2184</td><td>MG  Motors</td><td>null</td></tr><tr><td>BR2250</td><td>Talbot  Motors</td><td>null</td></tr><tr><td>BR2282</td><td>Herald Motors</td><td>null</td></tr><tr><td>BR6606</td><td>Lotus Motors</td><td>null</td></tr><tr><td>BR0152</td><td>Auto-Union Motors</td><td>null</td></tr><tr><td>BR0842</td><td>Humber Motors</td><td>null</td></tr><tr><td>BR1291</td><td>Micro Motors</td><td>null</td></tr><tr><td>BR2199</td><td>Morris  Motors</td><td>null</td></tr><tr><td>BR2451</td><td>Jones Motor Company</td><td>null</td></tr><tr><td>BR0029</td><td>Aixam-Mega (including Arola) Motors</td><td>null</td></tr><tr><td>BR0033</td><td>Alfa Romeo Motors</td><td>null</td></tr><tr><td>BR0229</td><td>Bristol Motors</td><td>null</td></tr><tr><td>BR0457</td><td>DeLorean Motors</td><td>null</td></tr><tr><td>BR0605</td><td>Ford America Motors</td><td>null</td></tr><tr><td>BR0950</td><td>Isuzu Motors</td><td>null</td></tr><tr><td>BR0990</td><td>Jensen Motors</td><td>null</td></tr><tr><td>BR1585</td><td>Porsche Motors</td><td>null</td></tr><tr><td>BR1672</td><td>Saab Motors</td><td>null</td></tr><tr><td>BR4026</td><td>GAZ Motors</td><td>null</td></tr><tr><td>BR0424</td><td>Daimler Motors</td><td>null</td></tr><tr><td>BR0971</td><td>Jeep Motors</td><td>null</td></tr><tr><td>BR1114</td><td>LTI Motors</td><td>null</td></tr><tr><td>BR1258</td><td>Mercury Motors</td><td>null</td></tr><tr><td>BR1488</td><td>Panoz Motors</td><td>null</td></tr><tr><td>BR1679</td><td>Saab Motors</td><td>null</td></tr><tr><td>BR2172</td><td>Lagonda  Motors</td><td>null</td></tr><tr><td>BR2462</td><td>Kindel Building</td><td>null</td></tr><tr><td>BR0094</td><td>ARO Motors</td><td>null</td></tr><tr><td>BR0357</td><td>Chrysler Europe Motors</td><td>null</td></tr><tr><td>BR0417</td><td>Daihatsu Motors</td><td>null</td></tr><tr><td>BR0854</td><td>Hummer Motors</td><td>null</td></tr><tr><td>BR1014</td><td>Koenigsegg Motors</td><td>null</td></tr><tr><td>BR1245</td><td>Mercedes-Benz (including Maybach) Motors</td><td>null</td></tr><tr><td>BR1295</td><td>Micro Motors</td><td>null</td></tr><tr><td>BR1625</td><td>Ranger Motors</td><td>null</td></tr><tr><td>BR1683</td><td>SAIC Motor Motors</td><td>null</td></tr><tr><td>BR1742</td><td>Saturn Motors</td><td>null</td></tr><tr><td>BR1827</td><td>Smart Motors</td><td>null</td></tr><tr><td>BR1975</td><td>Turner Motors</td><td>null</td></tr><tr><td>BR0120</td><td>Asia Motors Motors</td><td>null</td></tr><tr><td>BR0382</td><td>Dacia Motors</td><td>null</td></tr><tr><td>BR0470</td><td>DeSoto Motors</td><td>null</td></tr><tr><td>BR1034</td><td>Lada Motors</td><td>null</td></tr><tr><td>BR10626</td><td>Shelby SuperCars Motors</td><td>null</td></tr><tr><td>BR1099</td><td>Lincoln Motors</td><td>null</td></tr><tr><td>BR2351</td><td>Cadillac Automobile Company Building</td><td>null</td></tr><tr><td>BR2394</td><td>Clemens Automobile Company Building</td><td>null</td></tr><tr><td>BR0310</td><td>Caterham Motors</td><td>null</td></tr><tr><td>BR0602</td><td>Ford America Motors</td><td>null</td></tr><tr><td>BR0694</td><td>Gilbern Motors</td><td>null</td></tr><tr><td>BR1668</td><td>Rolls-Royce Motors</td><td>null</td></tr><tr><td>BR2148</td><td>Wanderer Motors</td><td>null</td></tr><tr><td>BR2309</td><td>Atlantic Motor Company</td><td>null</td></tr><tr><td>BR0546</td><td>ARO Motors</td><td>null</td></tr><tr><td>BR0678</td><td>GAZ Motors</td><td>null</td></tr><tr><td>BR1569</td><td>Polestar Motors</td><td>null</td></tr><tr><td>BR1570</td><td>Polestar Motors</td><td>null</td></tr><tr><td>BR1811</td><td>Skoda Motors</td><td>null</td></tr><tr><td>BR1882</td><td>Sunbeam Motors</td><td>null</td></tr><tr><td>BR1901</td><td>Tata Motors</td><td>null</td></tr><tr><td>BR1937</td><td>Tesla Motors</td><td>null</td></tr><tr><td>BR1988</td><td>TVR Motors</td><td>null</td></tr><tr><td>BR2034</td><td>Volkswagen do Brasil Motors</td><td>null</td></tr><tr><td>BR2334</td><td>Bohn Motor Company Automobile Dealership</td><td>null</td></tr><tr><td>BR0074</td><td>Anadol Motors</td><td>null</td></tr><tr><td>BR0103</td><td>Artega Motors</td><td>null</td></tr><tr><td>BR0338</td><td>Chevrolet India Motors</td><td>null</td></tr><tr><td>BR0418</td><td>Daihatsu Motors</td><td>null</td></tr><tr><td>BR0435</td><td>Datsun Motors</td><td>null</td></tr><tr><td>BR0533</td><td>Elva Motors</td><td>null</td></tr><tr><td>BR0879</td><td>IFA (including Trabant, Wartburg, Barkas) Motors</td><td>null</td></tr><tr><td>BR1512</td><td>Perodua Motors</td><td>null</td></tr><tr><td>BR2234</td><td>Standard  Motors</td><td>null</td></tr><tr><td>BR2245</td><td>Talbot  Motors</td><td>null</td></tr><tr><td>BR2283</td><td>Herald Motors</td><td>null</td></tr><tr><td>BR2438</td><td>Hupmobile Building</td><td>null</td></tr><tr><td>BR8466</td><td>NSU Motors</td><td>null</td></tr><tr><td>BR8766</td><td>Pagani Motors</td><td>null</td></tr><tr><td>BR0961</td><td>Jaguar Motors</td><td>null</td></tr><tr><td>BR1471</td><td>Panhard Motors</td><td>null</td></tr><tr><td>BR1603</td><td>Proton Motors</td><td>null</td></tr><tr><td>BR1879</td><td>Subaru Motors</td><td>null</td></tr><tr><td>BR2211</td><td>Riley  Motors</td><td>null</td></tr><tr><td>BR2320</td><td>2008 NRHP-listed</td><td>null</td></tr><tr><td>BR0020</td><td>Acura Motors</td><td>null</td></tr><tr><td>BR0339</td><td>Chevrolet India Motors</td><td>null</td></tr><tr><td>BR0375</td><td>Cizeta-Moroder Motors</td><td>null</td></tr><tr><td>BR0404</td><td>DAF Motors</td><td>null</td></tr><tr><td>BR0752</td><td>Healey Motors</td><td>null</td></tr><tr><td>BR1315</td><td>Mitsubishi Motors</td><td>null</td></tr><tr><td>BR1392</td><td>Nissan India Motors</td><td>null</td></tr><tr><td>BR1542</td><td>Piaggio Motors</td><td>null</td></tr><tr><td>BR2302</td><td>Atlantic Motor Company</td><td>null</td></tr><tr><td>BR0397</td><td>Daewoo, Saehan, Chevrolet Korea Motors</td><td>null</td></tr><tr><td>BR0675</td><td>GAZ Motors</td><td>null</td></tr><tr><td>BR11526</td><td>Tazzari Motors</td><td>null</td></tr><tr><td>BR1619</td><td>Puma Motors</td><td>null</td></tr><tr><td>BR1798</td><td>Simca do Brasil Motors</td><td>null</td></tr><tr><td>BR1994</td><td>UAZ Motors</td><td>null</td></tr><tr><td>BR2342</td><td>Buick Automobile Company Building</td><td>null</td></tr><tr><td>BR7506</td><td>Mercury Motors</td><td>null</td></tr><tr><td>BR0049</td><td>Alpine Motors</td><td>null</td></tr><tr><td>BR0640</td><td>Ford Europe Motors</td><td>null</td></tr><tr><td>BR0653</td><td>Freightliner Motors</td><td>null</td></tr><tr><td>BR0897</td><td>Innocenti Motors</td><td>null</td></tr><tr><td>BR1520</td><td>Perodua Motors</td><td>null</td></tr><tr><td>BR1621</td><td>Ranger Motors</td><td>null</td></tr><tr><td>BR2008</td><td>Vauxhall Motors</td><td>null</td></tr><tr><td>BR2170</td><td>Izh  Motors</td><td>null</td></tr><tr><td>BR2526</td><td>Daimler Motors</td><td>null</td></tr><tr><td>BR3006</td><td>Edsel Motors</td><td>null</td></tr><tr><td>BR8226</td><td>Naza Motors</td><td>null</td></tr><tr><td>BR0170</td><td>Auverland Motors</td><td>null</td></tr><tr><td>BR0843</td><td>Humber Motors</td><td>null</td></tr><tr><td>BR1249</td><td>Mercedes-Benz (including Maybach) Motors</td><td>null</td></tr><tr><td>BR1552</td><td>Plymouth Motors</td><td>null</td></tr><tr><td>BR2258</td><td>Das Motors</td><td>null</td></tr><tr><td>BR0084</td><td>Ariel Motors</td><td>null</td></tr><tr><td>BR0610</td><td>Ford America Motors</td><td>null</td></tr><tr><td>BR1077</td><td>Lexus Motors</td><td>null</td></tr><tr><td>BR1101</td><td>Lotus Motors</td><td>null</td></tr><tr><td>BR1107</td><td>Lotus Motors</td><td>null</td></tr><tr><td>BR1209</td><td>Matra (including Deutsch-Bonnet, René Bonnet) Motors</td><td>null</td></tr><tr><td>BR1235</td><td>McLaren Motors</td><td>null</td></tr><tr><td>BR1417</td><td>NSU Motors</td><td>null</td></tr><tr><td>BR1519</td><td>Perodua Motors</td><td>null</td></tr><tr><td>BR1524</td><td>Peugeot Motors</td><td>null</td></tr><tr><td>BR1640</td><td>Reliant Motors</td><td>null</td></tr><tr><td>BR2110</td><td>ZIL Motors</td><td>null</td></tr><tr><td>BR2307</td><td>Atlantic Motor Company</td><td>null</td></tr><tr><td>BR2457</td><td>Jones Motor Company</td><td>null</td></tr><tr><td>BR5106</td><td>Hummer Motors</td><td>null</td></tr><tr><td>BR6306</td><td>Lancia Motors</td><td>null</td></tr><tr><td>BR0108</td><td>Artega Motors</td><td>null</td></tr><tr><td>BR0380</td><td>Cizeta-Moroder Motors</td><td>null</td></tr><tr><td>BR0577</td><td>Fiat do Brasil Motors</td><td>null</td></tr><tr><td>BR0812</td><td>Honda Motors</td><td>null</td></tr><tr><td>BR0865</td><td>Hyundai Motors</td><td>null</td></tr><tr><td>BR1202</td><td>Matra (including Deutsch-Bonnet, René Bonnet) Motors</td><td>null</td></tr><tr><td>BR1504</td><td>Peel Motors</td><td>null</td></tr><tr><td>BR1833</td><td>Spyker Motors</td><td>null</td></tr><tr><td>BR2041</td><td>Volkswagen South Africa Motors</td><td>null</td></tr><tr><td>BR2313</td><td>2008 NRHP-listed</td><td>null</td></tr><tr><td>BR3726</td><td>Ford do Brasil Motors</td><td>null</td></tr><tr><td>BR7326</td><td>Mazzanti Motors</td><td>null</td></tr><tr><td>BR0334</td><td>Chevrolet India Motors</td><td>null</td></tr><tr><td>BR0364</td><td>Citroën Motors</td><td>null</td></tr><tr><td>BR0371</td><td>Cizeta-Moroder Motors</td><td>null</td></tr><tr><td>BR0485</td><td>Dodge Motors</td><td>null</td></tr><tr><td>BR0909</td><td>Invicta Motors</td><td>null</td></tr><tr><td>BR0921</td><td>Iso Motors</td><td>null</td></tr><tr><td>BR0267</td><td>Bugatti Motors</td><td>null</td></tr><tr><td>BR0410</td><td>DAF Motors</td><td>null</td></tr><tr><td>BR0469</td><td>DeSoto Motors</td><td>null</td></tr><tr><td>BR0654</td><td>Freightliner Motors</td><td>null</td></tr><tr><td>BR1528</td><td>Peugeot Motors</td><td>null</td></tr><tr><td>BR2183</td><td>MG  Motors</td><td>null</td></tr><tr><td>BR2264</td><td>Ramani Motors</td><td>null</td></tr><tr><td>BR0041</td><td>Alpine Motors</td><td>null</td></tr><tr><td>BR0122</td><td>Aston Martin Motors</td><td>null</td></tr><tr><td>BR0349</td><td>Chrysler Motors</td><td>null</td></tr><tr><td>BR0906</td><td>Auto-Union Motors</td><td>null</td></tr><tr><td>BR0973</td><td>Jeep Motors</td><td>null</td></tr><tr><td>BR1168</td><td>Marlin Motors</td><td>null</td></tr><tr><td>BR1231</td><td>McLaren Motors</td><td>null</td></tr><tr><td>BR1518</td><td>Perodua Motors</td><td>null</td></tr><tr><td>BR1639</td><td>Reliant Motors</td><td>null</td></tr><tr><td>BR2290</td><td>Herald Motors</td><td>null</td></tr><tr><td>BR0302</td><td>Caterham Motors</td><td>null</td></tr><tr><td>BR0468</td><td>DeSoto Motors</td><td>null</td></tr><tr><td>BR0477</td><td>De Tomaso Motors</td><td>null</td></tr><tr><td>BR0768</td><td>Heinkel Motors</td><td>null</td></tr><tr><td>BR0824</td><td>Honda India Motors</td><td>null</td></tr><tr><td>BR1008</td><td>Kia Motors</td><td>null</td></tr><tr><td>BR1674</td><td>Saab Motors</td><td>null</td></tr><tr><td>BR1697</td><td>Saleen Motors</td><td>null</td></tr><tr><td>BR1715</td><td>San Motors</td><td>null</td></tr><tr><td>BR1782</td><td>Simca Motors</td><td>null</td></tr><tr><td>BR1797</td><td>Simca do Brasil Motors</td><td>null</td></tr><tr><td>BR1924</td><td>Tazzari Motors</td><td>null</td></tr><tr><td>BR4686</td><td>Hillman Motors</td><td>null</td></tr><tr><td>BR8826</td><td>Panhard Motors</td><td>null</td></tr><tr><td>BR0322</td><td>Chevrolet Motors</td><td>null</td></tr><tr><td>BR0724</td><td>GMC Motors</td><td>null</td></tr><tr><td>BR0994</td><td>JPX Motors</td><td>null</td></tr><tr><td>BR1173</td><td>Maruti Motors</td><td>null</td></tr><tr><td>BR1692</td><td>Saleen Motors</td><td>null</td></tr><tr><td>BR1875</td><td>Subaru Motors</td><td>null</td></tr><tr><td>BR0004</td><td>AC Cars Motors</td><td>null</td></tr><tr><td>BR0067</td><td>AMC, Eagle Motors</td><td>null</td></tr><tr><td>BR0459</td><td>DeLorean Motors</td><td>null</td></tr><tr><td>BR0488</td><td>Dodge Motors</td><td>null</td></tr><tr><td>BR0663</td><td>FSO Motors</td><td>null</td></tr><tr><td>BR0711</td><td>Glas Motors</td><td>null</td></tr><tr><td>BR0747</td><td>Gumpert Motors</td><td>null</td></tr><tr><td>BR0894</td><td>Innocenti Motors</td><td>null</td></tr><tr><td>BR1039</td><td>Lada Motors</td><td>null</td></tr><tr><td>BR14046</td><td>Buick Automobile Company Building</td><td>null</td></tr><tr><td>BR1440</td><td>Oltcit Motors</td><td>null</td></tr><tr><td>BR1492</td><td>Panther Motors</td><td>null</td></tr><tr><td>BR1557</td><td>Plymouth Motors</td><td>null</td></tr><tr><td>BR2388</td><td>Claremore Auto Dealership</td><td>null</td></tr><tr><td>BR0224</td><td>Bristol Motors</td><td>null</td></tr><tr><td>BR1303</td><td>Mini Motors</td><td>null</td></tr><tr><td>BR1304</td><td>Mini Motors</td><td>null</td></tr><tr><td>BR13086</td><td>MG  Motors</td><td>null</td></tr><tr><td>BR1567</td><td>Polestar Motors</td><td>null</td></tr><tr><td>BR1659</td><td>Rivian Motors</td><td>null</td></tr><tr><td>BR1725</td><td>Santa Matilde Motors</td><td>null</td></tr><tr><td>BR2104</td><td>ZIL Motors</td><td>null</td></tr><tr><td>BR6426</td><td>Lexus Motors</td><td>null</td></tr><tr><td>BR0697</td><td>Gilbern Motors</td><td>null</td></tr><tr><td>BR0781</td><td>Hillman Motors</td><td>null</td></tr><tr><td>BR0931</td><td>Isotta Fraschini Motors</td><td>null</td></tr><tr><td>BR1070</td><td>Land Rover Motors</td><td>null</td></tr><tr><td>BR1130</td><td>LuAZ Motors</td><td>null</td></tr><tr><td>BR1397</td><td>Nissan India Motors</td><td>null</td></tr><tr><td>BR1595</td><td>Premier Motors</td><td>null</td></tr><tr><td>BR1985</td><td>TVR Motors</td><td>null</td></tr><tr><td>BR2011</td><td>Venturi Motors</td><td>null</td></tr><tr><td>BR2089</td><td>Zastava Motors</td><td>null</td></tr><tr><td>BR0484</td><td>Dodge Motors</td><td>null</td></tr><tr><td>BR0899</td><td>Innocenti Motors</td><td>null</td></tr><tr><td>BR1379</td><td>Naza Motors</td><td>null</td></tr><tr><td>BR1903</td><td>Tata Motors</td><td>null</td></tr><tr><td>BR0303</td><td>Caterham Motors</td><td>null</td></tr><tr><td>BR0523</td><td>Eicher Polaris Motors</td><td>null</td></tr><tr><td>BR0538</td><td>Elva Motors</td><td>null</td></tr><tr><td>BR1363</td><td>Nash Motors</td><td>null</td></tr><tr><td>BR1459</td><td>Packard Motors</td><td>null</td></tr><tr><td>BR1837</td><td>Spyker Motors</td><td>null</td></tr><tr><td>BR1918</td><td>Tatra Motors</td><td>null</td></tr><tr><td>BR2281</td><td>Herald Motors</td><td>null</td></tr><tr><td>BR0025</td><td>Aixam-Mega (including Arola) Motors</td><td>null</td></tr><tr><td>BR1068</td><td>Land Rover Motors</td><td>null</td></tr><tr><td>BR1135</td><td>Lynx Motors</td><td>null</td></tr><tr><td>BR1560</td><td>Plymouth Motors</td><td>null</td></tr><tr><td>BR1717</td><td>San Motors</td><td>null</td></tr><tr><td>BR1923</td><td>Tazzari Motors</td><td>null</td></tr><tr><td>BR1964</td><td>Toyota India Motors</td><td>null</td></tr><tr><td>BR4266</td><td>Glas Motors</td><td>null</td></tr><tr><td>BR0159</td><td>Auto-Union Motors</td><td>null</td></tr><tr><td>BR0331</td><td>Chevrolet India Motors</td><td>null</td></tr><tr><td>BR0681</td><td>Geo Motors</td><td>null</td></tr><tr><td>BR0703</td><td>Ginetta Motors</td><td>null</td></tr><tr><td>BR0832</td><td>Hudson Motors</td><td>null</td></tr><tr><td>BR0880</td><td>IFA (including Trabant, Wartburg, Barkas) Motors</td><td>null</td></tr><tr><td>BR0999</td><td>JPX Motors</td><td>null</td></tr><tr><td>BR1974</td><td>Turner Motors</td><td>null</td></tr><tr><td>BR2180</td><td>Lagonda  Motors</td><td>null</td></tr><tr><td>BR0923</td><td>Iso Motors</td><td>null</td></tr><tr><td>BR0953</td><td>Iveco Motors</td><td>null</td></tr><tr><td>BR1498</td><td>Panther Motors</td><td>null</td></tr><tr><td>BR1583</td><td>Porsche Motors</td><td>null</td></tr><tr><td>BR1709</td><td>Samsung Motors</td><td>null</td></tr><tr><td>BR1723</td><td>Santa Matilde Motors</td><td>null</td></tr><tr><td>BR1920</td><td>Tatra Motors</td><td>null</td></tr><tr><td>BR2222</td><td>Wolseley  Motors</td><td>null</td></tr><tr><td>BR2231</td><td>Standard  Motors</td><td>null</td></tr><tr><td>BR2273</td><td>Deccan Motors</td><td>null</td></tr><tr><td>BR2327</td><td>Blankinship Motor Company Building</td><td>null</td></tr><tr><td>BR0077</td><td>Anadol Motors</td><td>null</td></tr><tr><td>BR0344</td><td>Chrysler Motors</td><td>null</td></tr><tr><td>BR0774</td><td>Hennessey Motors</td><td>null</td></tr><tr><td>BR0901</td><td>Invicta Motors</td><td>null</td></tr><tr><td>BR1193</td><td>Mastretta Motors</td><td>null</td></tr><tr><td>BR1199</td><td>Mastretta Motors</td><td>null</td></tr><tr><td>BR1227</td><td>Mazzanti Motors</td><td>null</td></tr><tr><td>BR1317</td><td>Mitsubishi Motors</td><td>null</td></tr><tr><td>BR1428</td><td>Oldsmobile Motors</td><td>null</td></tr><tr><td>BR1589</td><td>Porsche Motors</td><td>null</td></tr><tr><td>BR1634</td><td>Reliant Motors</td><td>null</td></tr><tr><td>BR1894</td><td>Suzuki Motors</td><td>null</td></tr><tr><td>BR0387</td><td>Dacia Motors</td><td>null</td></tr><tr><td>BR0426</td><td>Anadol Motors</td><td>null</td></tr><tr><td>BR0573</td><td>Fiat do Brasil Motors</td><td>null</td></tr><tr><td>BR1234</td><td>McLaren Motors</td><td>null</td></tr><tr><td>BR1401</td><td>Noble Motors</td><td>null</td></tr><tr><td>BR1578</td><td>Pontiac, Asüna Motors</td><td>null</td></tr><tr><td>BR1788</td><td>Simca Motors</td><td>null</td></tr><tr><td>BR1805</td><td>Singer Motors</td><td>null</td></tr><tr><td>BR2144</td><td>Wanderer Motors</td><td>null</td></tr><tr><td>BR2243</td><td>Talbot  Motors</td><td>null</td></tr><tr><td>BR0154</td><td>Auto-Union Motors</td><td>null</td></tr><tr><td>BR0193</td><td>BMW Motors</td><td>null</td></tr><tr><td>BR0439</td><td>Datsun Motors</td><td>null</td></tr><tr><td>BR0910</td><td>Invicta Motors</td><td>null</td></tr><tr><td>BR1360</td><td>Moskwitch Motors</td><td>null</td></tr><tr><td>BR1649</td><td>Renault Motors</td><td>null</td></tr><tr><td>BR1804</td><td>Singer Motors</td><td>null</td></tr><tr><td>BR1963</td><td>Toyota India Motors</td><td>null</td></tr><tr><td>BR2019</td><td>Venturi Motors</td><td>null</td></tr><tr><td>BR0098</td><td>ARO Motors</td><td>null</td></tr><tr><td>BR0141</td><td>Autobianchi Motors</td><td>null</td></tr><tr><td>BR0442</td><td>Delahaye Motors</td><td>null</td></tr><tr><td>BR0590</td><td>Fiat India Motors</td><td>null</td></tr><tr><td>BR10086</td><td>SAIC Motor Motors</td><td>null</td></tr><tr><td>BR1043</td><td>Lamborghini Motors</td><td>null</td></tr><tr><td>BR1222</td><td>Mazzanti Motors</td><td>null</td></tr><tr><td>BR1393</td><td>Nissan India Motors</td><td>null</td></tr><tr><td>BR2031</td><td>Volkswagen do Brasil Motors</td><td>null</td></tr><tr><td>BR2187</td><td>MG  Motors</td><td>null</td></tr><tr><td>BR2207</td><td>Austin  Motors</td><td>null</td></tr><tr><td>BR2240</td><td>Standard  Motors</td><td>null</td></tr><tr><td>BR2361</td><td>Casa de cadillac</td><td>null</td></tr><tr><td>BR2392</td><td>Clemens Automobile Company Building</td><td>null</td></tr><tr><td>BR5946</td><td>JPX Motors</td><td>null</td></tr><tr><td>BR0208</td><td>Bond Motors</td><td>null</td></tr><tr><td>BR0260</td><td>Austin, Rover Motors</td><td>null</td></tr><tr><td>BR0309</td><td>Caterham Motors</td><td>null</td></tr><tr><td>BR1128</td><td>LuAZ Motors</td><td>null</td></tr><tr><td>BR1348</td><td>Morgan Motors</td><td>null</td></tr><tr><td>BR1667</td><td>Rolls-Royce Motors</td><td>null</td></tr><tr><td>BR2312</td><td>2008 NRHP-listed</td><td>null</td></tr><tr><td>BR2423</td><td>Howard Motor Company Building</td><td>null</td></tr><tr><td>BR4926</td><td>Honda India Motors</td><td>null</td></tr><tr><td>BR0391</td><td>Daewoo, Saehan, Chevrolet Korea Motors</td><td>null</td></tr><tr><td>BR0751</td><td>Healey Motors</td><td>null</td></tr><tr><td>BR0769</td><td>Heinkel Motors</td><td>null</td></tr><tr><td>BR0998</td><td>JPX Motors</td><td>null</td></tr><tr><td>BR1183</td><td>Maserati Motors</td><td>null</td></tr><tr><td>BR1313</td><td>Mitsubishi Motors</td><td>null</td></tr><tr><td>BR1455</td><td>Packard Motors</td><td>null</td></tr><tr><td>BR2463</td><td>Kindel Building</td><td>null</td></tr><tr><td>BR4566</td><td>Heinkel Motors</td><td>null</td></tr><tr><td>BR1108</td><td>Lotus Motors</td><td>null</td></tr><tr><td>BR1204</td><td>Matra (including Deutsch-Bonnet, René Bonnet) Motors</td><td>null</td></tr><tr><td>BR13326</td><td>Wolseley  Motors</td><td>null</td></tr><tr><td>BR1372</td><td>Naza Motors</td><td>null</td></tr><tr><td>BR1758</td><td>Scion Motors</td><td>null</td></tr><tr><td>BR1887</td><td>Sunbeam Motors</td><td>null</td></tr><tr><td>BR2214</td><td>Riley  Motors</td><td>null</td></tr><tr><td>BR7986</td><td>Monteverdi Motors</td><td>null</td></tr><tr><td>BR0515</td><td>e.GO Mobile Motors</td><td>null</td></tr><tr><td>BR0661</td><td>FSO Motors</td><td>null</td></tr><tr><td>BR1021</td><td>KTM Motors</td><td>null</td></tr><tr><td>BR1268</td><td>Merkur Motors</td><td>null</td></tr><tr><td>BR13266</td><td>Riley  Motors</td><td>null</td></tr><tr><td>BR2151</td><td>Maybach  Motors</td><td>null</td></tr><tr><td>BR2300</td><td>Zion Automobils</td><td>null</td></tr><tr><td>BR2382</td><td>Claremore Auto Dealership</td><td>null</td></tr><tr><td>BR0010</td><td>AC Cars Motors</td><td>null</td></tr><tr><td>BR0051</td><td>Alvis Motors</td><td>null</td></tr><tr><td>BR0341</td><td>Chrysler Motors</td><td>null</td></tr><tr><td>BR0384</td><td>Dacia Motors</td><td>null</td></tr><tr><td>BR0569</td><td>Fiat Motors</td><td>null</td></tr><tr><td>BR14646</td><td>Jennings Ford Automobile Dealership</td><td>null</td></tr><tr><td>BR1562</td><td>Polestar Motors</td><td>null</td></tr><tr><td>BR1872</td><td>Subaru Motors</td><td>null</td></tr><tr><td>BR2128</td><td>DKW Motors</td><td>null</td></tr><tr><td>BR2197</td><td>Morris  Motors</td><td>null</td></tr><tr><td>BR2253</td><td>Das Motors</td><td>null</td></tr><tr><td>BR2315</td><td>2008 NRHP-listed</td><td>null</td></tr><tr><td>BR0443</td><td>Delahaye Motors</td><td>null</td></tr><tr><td>BR0925</td><td>Iso Motors</td><td>null</td></tr><tr><td>BR1019</td><td>Koenigsegg Motors</td><td>null</td></tr><tr><td>BR1411</td><td>NSU Motors</td><td>null</td></tr><tr><td>BR1733</td><td>Santana Motors</td><td>null</td></tr><tr><td>BR1745</td><td>Saturn Motors</td><td>null</td></tr><tr><td>BR1962</td><td>Toyota India Motors</td><td>null</td></tr><tr><td>BR2251</td><td>Das Motors</td><td>null</td></tr><tr><td>BR0102</td><td>Artega Motors</td><td>null</td></tr><tr><td>BR0745</td><td>Gumpert Motors</td><td>null</td></tr><tr><td>BR0858</td><td>Hummer Motors</td><td>null</td></tr><tr><td>BR0917</td><td>Isdera Motors</td><td>null</td></tr><tr><td>BR1171</td><td>Maruti Motors</td><td>null</td></tr><tr><td>BR1247</td><td>Mercedes-Benz (including Maybach) Motors</td><td>null</td></tr><tr><td>BR1831</td><td>Spyker Motors</td><td>null</td></tr><tr><td>BR2448</td><td>Jennings Ford Automobile Dealership</td><td>null</td></tr><tr><td>BR0173</td><td>Bentley Motors</td><td>null</td></tr><tr><td>BR0249</td><td>Austin-Healey Motors</td><td>null</td></tr><tr><td>BR0619</td><td>Ford Australia Motors</td><td>null</td></tr><tr><td>BR1118</td><td>LTI Motors</td><td>null</td></tr><tr><td>BR1294</td><td>Micro Motors</td><td>null</td></tr><tr><td>BR1593</td><td>Premier Motors</td><td>null</td></tr><tr><td>BR1712</td><td>San Motors</td><td>null</td></tr><tr><td>BR1728</td><td>Santa Matilde Motors</td><td>null</td></tr><tr><td>BR2409</td><td>Colman Automotive Building</td><td>null</td></tr><tr><td>BR8586</td><td>Oltcit Motors</td><td>null</td></tr><tr><td>BR0402</td><td>DAF Motors</td><td>null</td></tr><tr><td>BR0542</td><td>Facel Vega Motors</td><td>null</td></tr><tr><td>BR11646</td><td>Tornado Motors</td><td>null</td></tr><tr><td>BR1467</td><td>Pagani Motors</td><td>null</td></tr><tr><td>BR2321</td><td>Blankinship Motor Company Building</td><td>null</td></tr><tr><td>BR7026</td><td>Maruti Motors</td><td>null</td></tr><tr><td>BR0295</td><td>Cadillac Motors</td><td>null</td></tr><tr><td>BR0641</td><td>Ford India Motors</td><td>null</td></tr><tr><td>BR0715</td><td>Glas Motors</td><td>null</td></tr><tr><td>BR0975</td><td>Jeep Motors</td><td>null</td></tr><tr><td>BR1004</td><td>Kia Motors</td><td>null</td></tr><tr><td>BR1610</td><td>Proton Motors</td><td>null</td></tr><tr><td>BR1741</td><td>Saturn Motors</td><td>null</td></tr><tr><td>BR2053</td><td>Volvo Motors</td><td>null</td></tr><tr><td>BR2340</td><td>Bohn Motor Company Automobile Dealership</td><td>null</td></tr><tr><td>BR0042</td><td>Alpine Motors</td><td>null</td></tr><tr><td>BR0311</td><td>Checker Motors</td><td>null</td></tr><tr><td>BR0482</td><td>Dodge Motors</td><td>null</td></tr><tr><td>BR0870</td><td>Hyundai Motors</td><td>null</td></tr><tr><td>BR1362</td><td>Nash Motors</td><td>null</td></tr><tr><td>BR1571</td><td>Pontiac, Asüna Motors</td><td>null</td></tr><tr><td>BR2370</td><td>Casa de cadillac</td><td>null</td></tr><tr><td>BR2389</td><td>Claremore Auto Dealership</td><td>null</td></tr><tr><td>BR3966</td><td>FSO Motors</td><td>null</td></tr><tr><td>BR6846</td><td>Mahindra Motors</td><td>null</td></tr><tr><td>BR7806</td><td>Mini Motors</td><td>null</td></tr><tr><td>BR0420</td><td>Daihatsu Motors</td><td>null</td></tr><tr><td>BR0667</td><td>FSO Motors</td><td>null</td></tr><tr><td>BR0742</td><td>Gumpert Motors</td><td>null</td></tr><tr><td>BR0822</td><td>Honda India Motors</td><td>null</td></tr><tr><td>BR0981</td><td>Jensen Motors</td><td>null</td></tr><tr><td>BR1052</td><td>Lancia Motors</td><td>null</td></tr><tr><td>BR1194</td><td>Mastretta Motors</td><td>null</td></tr><tr><td>BR1620</td><td>Puma Motors</td><td>null</td></tr><tr><td>BR1761</td><td>Seat Motors</td><td>null</td></tr><tr><td>BR1925</td><td>Tazzari Motors</td><td>null</td></tr><tr><td>BR1933</td><td>Tesla Motors</td><td>null</td></tr><tr><td>BR2045</td><td>Volkswagen South Africa Motors</td><td>null</td></tr><tr><td>BR2469</td><td>Kindel Building</td><td>null</td></tr><tr><td>BR8706</td><td>Packard Motors</td><td>null</td></tr><tr><td>BR9306</td><td>Plymouth Motors</td><td>null</td></tr><tr><td>BR0015</td><td>Acura Motors</td><td>null</td></tr><tr><td>BR0217</td><td>Borgward (including Goliath and Lloyd) Motors</td><td>null</td></tr><tr><td>BR0283</td><td>Bytom Motors</td><td>null</td></tr><tr><td>BR1274</td><td>Messerschmitt Motors</td><td>null</td></tr><tr><td>BR1431</td><td>Oltcit Motors</td><td>null</td></tr><tr><td>BR1451</td><td>Packard Motors</td><td>null</td></tr><tr><td>BR1554</td><td>Plymouth Motors</td><td>null</td></tr><tr><td>BR2049</td><td>Volkswagen South Africa Motors</td><td>null</td></tr><tr><td>BR2088</td><td>Zastava Motors</td><td>null</td></tr><tr><td>BR2107</td><td>ZIL Motors</td><td>null</td></tr><tr><td>BR2305</td><td>Atlantic Motor Company</td><td>null</td></tr><tr><td>BR5586</td><td>Isotta Fraschini Motors</td><td>null</td></tr><tr><td>BR0290</td><td>Bytom Motors</td><td>null</td></tr><tr><td>BR0474</td><td>De Tomaso Motors</td><td>null</td></tr><tr><td>BR0940</td><td>Isotta Fraschini Motors</td><td>null</td></tr><tr><td>BR2202</td><td>Austin  Motors</td><td>null</td></tr><tr><td>BR6246</td><td>Lamborghini Motors</td><td>null</td></tr><tr><td>BR0179</td><td>Bentley Motors</td><td>null</td></tr><tr><td>BR0797</td><td>Hindustan Motors</td><td>null</td></tr><tr><td>BR1261</td><td>Merkur Motors</td><td>null</td></tr><tr><td>BR1575</td><td>Pontiac, Asüna Motors</td><td>null</td></tr><tr><td>BR2114</td><td>Audi Motors</td><td>null</td></tr><tr><td>BR2208</td><td>Austin  Motors</td><td>null</td></tr><tr><td>BR0087</td><td>Ariel Motors</td><td>null</td></tr><tr><td>BR0117</td><td>Asia Motors Motors</td><td>null</td></tr><tr><td>BR0181</td><td>Bitter Motors</td><td>null</td></tr><tr><td>BR0183</td><td>Bitter Motors</td><td>null</td></tr><tr><td>BR0464</td><td>DeSoto Motors</td><td>null</td></tr><tr><td>BR0633</td><td>Ford Europe Motors</td><td>null</td></tr><tr><td>BR8946</td><td>Panther Motors</td><td>null</td></tr><tr><td>BR0643</td><td>Ford India Motors</td><td>null</td></tr><tr><td>BR1086</td><td>Bitter Motors</td><td>null</td></tr><tr><td>BR1465</td><td>Pagani Motors</td><td>null</td></tr><tr><td>BR1489</td><td>Panoz Motors</td><td>null</td></tr><tr><td>BR1643</td><td>Renault Motors</td><td>null</td></tr><tr><td>BR1765</td><td>Seat Motors</td><td>null</td></tr><tr><td>BR0090</td><td>Ariel Motors</td><td>null</td></tr><tr><td>BR0487</td><td>Dodge Motors</td><td>null</td></tr><tr><td>BR1020</td><td>Koenigsegg Motors</td><td>null</td></tr><tr><td>BR1073</td><td>Lexus Motors</td><td>null</td></tr><tr><td>BR1102</td><td>Lotus Motors</td><td>null</td></tr><tr><td>BR12306</td><td>Volvo Motors</td><td>null</td></tr><tr><td>BR1682</td><td>SAIC Motor Motors</td><td>null</td></tr><tr><td>BR1702</td><td>Samsung Motors</td><td>null</td></tr><tr><td>BR1938</td><td>Tesla Motors</td><td>null</td></tr><tr><td>BR1958</td><td>Toyota Motors</td><td>null</td></tr><tr><td>BR2173</td><td>Lagonda  Motors</td><td>null</td></tr><tr><td>BR0379</td><td>Cizeta-Moroder Motors</td><td>null</td></tr><tr><td>BR0687</td><td>Geo Motors</td><td>null</td></tr><tr><td>BR0767</td><td>Heinkel Motors</td><td>null</td></tr><tr><td>BR14106</td><td>Cadillac Automobile Company Building</td><td>null</td></tr><tr><td>BR1454</td><td>Packard Motors</td><td>null</td></tr><tr><td>BR1642</td><td>Renault Motors</td><td>null</td></tr><tr><td>BR1652</td><td>Rivian Motors</td><td>null</td></tr><tr><td>BR2052</td><td>Volvo Motors</td><td>null</td></tr><tr><td>BR2157</td><td>Maybach  Motors</td><td>null</td></tr><tr><td>BR2182</td><td>MG  Motors</td><td>null</td></tr><tr><td>BR3666</td><td>Ford Australia Motors</td><td>null</td></tr><tr><td>BR0668</td><td>FSO Motors</td><td>null</td></tr><tr><td>BR0719</td><td>Glas Motors</td><td>null</td></tr><tr><td>BR1079</td><td>Lexus Motors</td><td>null</td></tr><tr><td>BR1299</td><td>Micro Motors</td><td>null</td></tr><tr><td>BR1685</td><td>SAIC Motor Motors</td><td>null</td></tr><tr><td>BR1720</td><td>San Motors</td><td>null</td></tr><tr><td>BR1729</td><td>Santa Matilde Motors</td><td>null</td></tr><tr><td>BR2079</td><td>Wiesmann Motors</td><td>null</td></tr><tr><td>BR2163</td><td>Izh  Motors</td><td>null</td></tr><tr><td>BR2414</td><td>H Street Playhouse</td><td>null</td></tr><tr><td>BR6966</td><td>Marlin Motors</td><td>null</td></tr><tr><td>BR0819</td><td>Honda Motors</td><td>null</td></tr><tr><td>BR1214</td><td>Mazda Motors</td><td>null</td></tr><tr><td>BR1911</td><td>Tatra Motors</td><td>null</td></tr><tr><td>BR2166</td><td>Citroën Motors</td><td>null</td></tr><tr><td>BR2175</td><td>Lagonda  Motors</td><td>null</td></tr><tr><td>BR2198</td><td>Morris  Motors</td><td>null</td></tr><tr><td>BR6126</td><td>KTM Motors</td><td>null</td></tr><tr><td>BR0400</td><td>Daewoo, Saehan, Chevrolet Korea Motors</td><td>null</td></tr><tr><td>BR0527</td><td>Eicher Polaris Motors</td><td>null</td></tr><tr><td>BR1103</td><td>Lotus Motors</td><td>null</td></tr><tr><td>BR13686</td><td>Herald Motors</td><td>null</td></tr><tr><td>BR1815</td><td>Skoda Motors</td><td>null</td></tr><tr><td>BR0414</td><td>Daihatsu Motors</td><td>null</td></tr><tr><td>BR0444</td><td>Delahaye Motors</td><td>null</td></tr><tr><td>BR0959</td><td>Iveco Motors</td><td>null</td></tr><tr><td>BR1058</td><td>Lancia Motors</td><td>null</td></tr><tr><td>BR1338</td><td>Monteverdi Motors</td><td>null</td></tr><tr><td>BR1388</td><td>Nissan Motors</td><td>null</td></tr><tr><td>BR1854</td><td>Standard-Triumph Motors</td><td>null</td></tr><tr><td>BR2270</td><td>Ramani Motors</td><td>null</td></tr><tr><td>BR2278</td><td>Deccan Motors</td><td>null</td></tr><tr><td>BR2287</td><td>Herald Motors</td><td>null</td></tr><tr><td>BR2324</td><td>Blankinship Motor Company Building</td><td>null</td></tr><tr><td>BR0280</td><td>Buick Motors</td><td>null</td></tr><tr><td>BR0631</td><td>Ford Europe Motors</td><td>null</td></tr><tr><td>BR0702</td><td>Ginetta Motors</td><td>null</td></tr><tr><td>BR0942</td><td>Isuzu Motors</td><td>null</td></tr><tr><td>BR1151</td><td>Marcos Motors</td><td>null</td></tr><tr><td>BR2121</td><td>DKW Motors</td><td>null</td></tr><tr><td>BR2174</td><td>Lagonda  Motors</td><td>null</td></tr><tr><td>BR2886</td><td>Dodge Motors</td><td>null</td></tr><tr><td>BR0213</td><td>Borgward (including Goliath and Lloyd) Motors</td><td>null</td></tr><tr><td>BR0680</td><td>GAZ Motors</td><td>null</td></tr><tr><td>BR1075</td><td>Lexus Motors</td><td>null</td></tr><tr><td>BR1207</td><td>Matra (including Deutsch-Bonnet, René Bonnet) Motors</td><td>null</td></tr><tr><td>BR1507</td><td>Peel Motors</td><td>null</td></tr><tr><td>BR2080</td><td>Wiesmann Motors</td><td>null</td></tr><tr><td>BR0454</td><td>DeLorean Motors</td><td>null</td></tr><tr><td>BR0974</td><td>Jeep Motors</td><td>null</td></tr><tr><td>BR1026</td><td>Bentley Motors</td><td>null</td></tr><tr><td>BR13566</td><td>Ramani Motors</td><td>null</td></tr><tr><td>BR1457</td><td>Packard Motors</td><td>null</td></tr><tr><td>BR1684</td><td>SAIC Motor Motors</td><td>null</td></tr><tr><td>BR2301</td><td>Atlantic Motor Company</td><td>null</td></tr><tr><td>BR2310</td><td>Atlantic Motor Company</td><td>null</td></tr><tr><td>BR2384</td><td>Claremore Auto Dealership</td><td>null</td></tr><tr><td>BR2454</td><td>Jones Motor Company</td><td>null</td></tr><tr><td>BR0186</td><td>Alfa Romeo Motors</td><td>null</td></tr><tr><td>BR0834</td><td>Hudson Motors</td><td>null</td></tr><tr><td>BR0904</td><td>Invicta Motors</td><td>null</td></tr><tr><td>BR0907</td><td>Invicta Motors</td><td>null</td></tr><tr><td>BR1200</td><td>Mastretta Motors</td><td>null</td></tr><tr><td>BR1889</td><td>Sunbeam Motors</td><td>null</td></tr><tr><td>BR2140</td><td>Horch Motors</td><td>null</td></tr><tr><td>BR2177</td><td>Lagonda  Motors</td><td>null</td></tr><tr><td>BR0810</td><td>Holden Motors</td><td>null</td></tr><tr><td>BR1530</td><td>Peugeot Motors</td><td>null</td></tr><tr><td>BR1638</td><td>Reliant Motors</td><td>null</td></tr><tr><td>BR1779</td><td>Shelby SuperCars Motors</td><td>null</td></tr><tr><td>BR1928</td><td>Tazzari Motors</td><td>null</td></tr><tr><td>BR1954</td><td>Toyota Motors</td><td>null</td></tr><tr><td>BR1998</td><td>UAZ Motors</td><td>null</td></tr><tr><td>BR2355</td><td>Cadillac Automobile Company Building</td><td>null</td></tr><tr><td>BR2359</td><td>Cadillac Automobile Company Building</td><td>null</td></tr><tr><td>BR0012</td><td>Acura Motors</td><td>null</td></tr><tr><td>BR0578</td><td>Fiat do Brasil Motors</td><td>null</td></tr><tr><td>BR0748</td><td>Gumpert Motors</td><td>null</td></tr><tr><td>BR1386</td><td>British Leyland Motors</td><td>null</td></tr><tr><td>BR1868</td><td>Studebaker Motors</td><td>null</td></tr><tr><td>BR1930</td><td>Tazzari Motors</td><td>null</td></tr><tr><td>BR0427</td><td>Daimler Motors</td><td>null</td></tr><tr><td>BR0924</td><td>Iso Motors</td><td>null</td></tr><tr><td>BR0949</td><td>Isuzu Motors</td><td>null</td></tr><tr><td>BR1001</td><td>Kia Motors</td><td>null</td></tr><tr><td>BR1157</td><td>Marcos Motors</td><td>null</td></tr><tr><td>BR1165</td><td>Marlin Motors</td><td>null</td></tr><tr><td>BR1188</td><td>Maserati Motors</td><td>null</td></tr><tr><td>BR1513</td><td>Perodua Motors</td><td>null</td></tr><tr><td>BR1751</td><td>Scion Motors</td><td>null</td></tr><tr><td>BR2029</td><td>Volkswagen Motors</td><td>null</td></tr><tr><td>BR2060</td><td>Volvo Motors</td><td>null</td></tr><tr><td>BR2137</td><td>Horch Motors</td><td>null</td></tr><tr><td>BR0403</td><td>DAF Motors</td><td>null</td></tr><tr><td>BR0645</td><td>Ford India Motors</td><td>null</td></tr><tr><td>BR0893</td><td>Innocenti Motors</td><td>null</td></tr><tr><td>BR1170</td><td>Marlin Motors</td><td>null</td></tr><tr><td>BR1371</td><td>Naza Motors</td><td>null</td></tr><tr><td>BR1858</td><td>Standard-Triumph Motors</td><td>null</td></tr><tr><td>BR2419</td><td>H Street Playhouse</td><td>null</td></tr><tr><td>BR3066</td><td>e.GO Mobile Motors</td><td>null</td></tr><tr><td>BR0061</td><td>AMC, Eagle Motors</td><td>null</td></tr><tr><td>BR0323</td><td>Chevrolet Motors</td><td>null</td></tr><tr><td>BR1475</td><td>Panhard Motors</td><td>null</td></tr><tr><td>BR1908</td><td>Tata Motors</td><td>null</td></tr><tr><td>BR2220</td><td>Riley  Motors</td><td>null</td></tr><tr><td>BR2286</td><td>Dacia Motors</td><td>null</td></tr><tr><td>BR2431</td><td>Hupmobile Building</td><td>null</td></tr><tr><td>BR0332</td><td>Chevrolet India Motors</td><td>null</td></tr><tr><td>BR0551</td><td>Ferrari Motors</td><td>null</td></tr><tr><td>BR0969</td><td>Jaguar Motors</td><td>null</td></tr><tr><td>BR1172</td><td>Maruti Motors</td><td>null</td></tr><tr><td>BR1203</td><td>Matra (including Deutsch-Bonnet, René Bonnet) Motors</td><td>null</td></tr><tr><td>BR1543</td><td>Piaggio Motors</td><td>null</td></tr><tr><td>BR1588</td><td>Porsche Motors</td><td>null</td></tr><tr><td>BR1800</td><td>Simca do Brasil Motors</td><td>null</td></tr><tr><td>BR1839</td><td>Spyker Motors</td><td>null</td></tr><tr><td>BR0221</td><td>Bristol Motors</td><td>null</td></tr><tr><td>BR0422</td><td>Daimler Motors</td><td>null</td></tr><tr><td>BR0450</td><td>Delahaye Motors</td><td>null</td></tr><tr><td>BR0669</td><td>FSO Motors</td><td>null</td></tr><tr><td>BR0712</td><td>Glas Motors</td><td>null</td></tr><tr><td>BR0804</td><td>Holden Motors</td><td>null</td></tr><tr><td>BR0844</td><td>Humber Motors</td><td>null</td></tr><tr><td>BR0970</td><td>Jaguar Motors</td><td>null</td></tr><tr><td>BR1092</td><td>Lincoln Motors</td><td>null</td></tr><tr><td>BR1184</td><td>Maserati Motors</td><td>null</td></tr><tr><td>BR1251</td><td>Mercury Motors</td><td>null</td></tr><tr><td>BR1287</td><td>Mia Motors</td><td>null</td></tr><tr><td>BR1582</td><td>Porsche Motors</td><td>null</td></tr><tr><td>BR1787</td><td>Simca Motors</td><td>null</td></tr><tr><td>BR2395</td><td>Clemens Automobile Company Building</td><td>null</td></tr><tr><td>BR0265</td><td>Bugatti Motors</td><td>null</td></tr><tr><td>BR0305</td><td>Caterham Motors</td><td>null</td></tr><tr><td>BR0860</td><td>Hummer Motors</td><td>null</td></tr><tr><td>BR1023</td><td>KTM Motors</td><td>null</td></tr><tr><td>BR1037</td><td>Lada Motors</td><td>null</td></tr><tr><td>BR10446</td><td>Saturn Motors</td><td>null</td></tr><tr><td>BR4386</td><td>GTA Spano Motors</td><td>null</td></tr><tr><td>BR0060</td><td>Alvis Motors</td><td>null</td></tr><tr><td>BR0123</td><td>Aston Martin Motors</td><td>null</td></tr><tr><td>BR0239</td><td>British Leyland Motors</td><td>null</td></tr><tr><td>BR0306</td><td>Alvis Motors</td><td>null</td></tr><tr><td>BR10026</td><td>Saab Motors</td><td>null</td></tr><tr><td>BR1217</td><td>Mazda Motors</td><td>null</td></tr><tr><td>BR1914</td><td>Tatra Motors</td><td>null</td></tr><tr><td>BR2113</td><td>Audi Motors</td><td>null</td></tr><tr><td>BR4626</td><td>Hennessey Motors</td><td>null</td></tr><tr><td>BR0381</td><td>Dacia Motors</td><td>null</td></tr><tr><td>BR0629</td><td>Ford do Brasil Motors</td><td>null</td></tr><tr><td>BR1060</td><td>Lancia Motors</td><td>null</td></tr><tr><td>BR1145</td><td>Mahindra Motors</td><td>null</td></tr><tr><td>BR1229</td><td>Mazzanti Motors</td><td>null</td></tr><tr><td>BR1252</td><td>Mercury Motors</td><td>null</td></tr><tr><td>BR1602</td><td>Proton Motors</td><td>null</td></tr><tr><td>BR1793</td><td>Simca do Brasil Motors</td><td>null</td></tr><tr><td>BR2130</td><td>DKW Motors</td><td>null</td></tr><tr><td>BR2411</td><td>H Street Playhouse</td><td>null</td></tr><tr><td>BR0215</td><td>Borgward (including Goliath and Lloyd) Motors</td><td>null</td></tr><tr><td>BR0329</td><td>Chevrolet Motors</td><td>null</td></tr><tr><td>BR0441</td><td>Delahaye Motors</td><td>null</td></tr><tr><td>BR1059</td><td>Lancia Motors</td><td>null</td></tr><tr><td>BR13386</td><td>Standard  Motors</td><td>null</td></tr><tr><td>BR1590</td><td>Porsche Motors</td><td>null</td></tr><tr><td>BR1647</td><td>Renault Motors</td><td>null</td></tr><tr><td>BR1777</td><td>Shelby SuperCars Motors</td><td>null</td></tr><tr><td>BR2040</td><td>Volkswagen do Brasil Motors</td><td>null</td></tr><tr><td>BR2164</td><td>Izh  Motors</td><td>null</td></tr><tr><td>BR0483</td><td>Dodge Motors</td><td>null</td></tr><tr><td>BR0739</td><td>GTA Spano Motors</td><td>null</td></tr><tr><td>BR0987</td><td>Jensen Motors</td><td>null</td></tr><tr><td>BR1129</td><td>LuAZ Motors</td><td>null</td></tr><tr><td>BR12126</td><td>Volkswagen Motors</td><td>null</td></tr><tr><td>BR1275</td><td>Messerschmitt Motors</td><td>null</td></tr><tr><td>BR1495</td><td>Panther Motors</td><td>null</td></tr><tr><td>BR1657</td><td>Rivian Motors</td><td>null</td></tr><tr><td>BR1686</td><td>Bytom Motors</td><td>null</td></tr><tr><td>BR0228</td><td>Bristol Motors</td><td>null</td></tr><tr><td>BR0272</td><td>Buick Motors</td><td>null</td></tr><tr><td>BR10386</td><td>Santana Motors</td><td>null</td></tr><tr><td>BR1080</td><td>Lexus Motors</td><td>null</td></tr><tr><td>BR1148</td><td>Mahindra Motors</td><td>null</td></tr><tr><td>BR1150</td><td>Mahindra Motors</td><td>null</td></tr><tr><td>BR1370</td><td>Nash Motors</td><td>null</td></tr><tr><td>BR1673</td><td>Saab Motors</td><td>null</td></tr><tr><td>BR0324</td><td>Chevrolet Motors</td><td>null</td></tr><tr><td>BR0815</td><td>Honda Motors</td><td>null</td></tr><tr><td>BR0985</td><td>Jensen Motors</td><td>null</td></tr><tr><td>BR1127</td><td>LuAZ Motors</td><td>null</td></tr><tr><td>BR12606</td><td>ZIL Motors</td><td>null</td></tr><tr><td>BR1655</td><td>Rivian Motors</td><td>null</td></tr><tr><td>BR1841</td><td>SsangYong Motors</td><td>null</td></tr><tr><td>BR2118</td><td>Audi Motors</td><td>null</td></tr><tr><td>BR2368</td><td>Casa de cadillac</td><td>null</td></tr><tr><td>BR0277</td><td>Buick Motors</td><td>null</td></tr><tr><td>BR0827</td><td>Honda India Motors</td><td>null</td></tr><tr><td>BR1365</td><td>Nash Motors</td><td>null</td></tr><tr><td>BR1784</td><td>Simca Motors</td><td>null</td></tr><tr><td>BR2190</td><td>MG  Motors</td><td>null</td></tr><tr><td>BR5226</td><td>IFA (including Trabant, Wartburg, Barkas) Motors</td><td>null</td></tr><tr><td>BR0188</td><td>Bitter Motors</td><td>null</td></tr><tr><td>BR0432</td><td>Datsun Motors</td><td>null</td></tr><tr><td>BR1701</td><td>Samsung Motors</td><td>null</td></tr><tr><td>BR2009</td><td>Vauxhall Motors</td><td>null</td></tr><tr><td>BR2030</td><td>Volkswagen Motors</td><td>null</td></tr><tr><td>BR2058</td><td>Volvo Motors</td><td>null</td></tr><tr><td>BR2271</td><td>Deccan Motors</td><td>null</td></tr><tr><td>BR2303</td><td>Atlantic Motor Company</td><td>null</td></tr><tr><td>BR2357</td><td>Cadillac Automobile Company Building</td><td>null</td></tr><tr><td>BR0003</td><td>AC Cars Motors</td><td>null</td></tr><tr><td>BR0050</td><td>Alpine Motors</td><td>null</td></tr><tr><td>BR0227</td><td>Bristol Motors</td><td>null</td></tr><tr><td>BR0521</td><td>Eicher Polaris Motors</td><td>null</td></tr><tr><td>BR0620</td><td>Ford Australia Motors</td><td>null</td></tr><tr><td>BR0623</td><td>Ford do Brasil Motors</td><td>null</td></tr><tr><td>BR0807</td><td>Holden Motors</td><td>null</td></tr><tr><td>BR1450</td><td>Opel Motors</td><td>null</td></tr><tr><td>BR1971</td><td>Turner Motors</td><td>null</td></tr><tr><td>BR1987</td><td>TVR Motors</td><td>null</td></tr><tr><td>BR2119</td><td>Audi Motors</td><td>null</td></tr><tr><td>BR0072</td><td>Anadol Motors</td><td>null</td></tr><tr><td>BR0078</td><td>Anadol Motors</td><td>null</td></tr><tr><td>BR0081</td><td>Ariel Motors</td><td>null</td></tr><tr><td>BR0118</td><td>Asia Motors Motors</td><td>null</td></tr><tr><td>BR0180</td><td>Bentley Motors</td><td>null</td></tr><tr><td>BR0203</td><td>Bond Motors</td><td>null</td></tr><tr><td>BR1138</td><td>Lynx Motors</td><td>null</td></tr><tr><td>BR1238</td><td>McLaren Motors</td><td>null</td></tr><tr><td>BR2346</td><td>Daewoo, Saehan, Chevrolet Korea Motors</td><td>null</td></tr><tr><td>BR6006</td><td>Kia Motors</td><td>null</td></tr><tr><td>BR0047</td><td>Alpine Motors</td><td>null</td></tr><tr><td>BR0253</td><td>Austin, Rover Motors</td><td>null</td></tr><tr><td>BR0601</td><td>Ford America Motors</td><td>null</td></tr><tr><td>BR0833</td><td>Hudson Motors</td><td>null</td></tr><tr><td>BR10806</td><td>Singer Motors</td><td>null</td></tr><tr><td>BR1158</td><td>Marcos Motors</td><td>null</td></tr><tr><td>BR1502</td><td>Peel Motors</td><td>null</td></tr><tr><td>BR1555</td><td>Plymouth Motors</td><td>null</td></tr><tr><td>BR1611</td><td>Puma Motors</td><td>null</td></tr><tr><td>BR1635</td><td>Reliant Motors</td><td>null</td></tr><tr><td>BR1852</td><td>Standard-Triumph Motors</td><td>null</td></tr><tr><td>BR1980</td><td>Turner Motors</td><td>null</td></tr><tr><td>BR2028</td><td>Volkswagen Motors</td><td>null</td></tr><tr><td>BR2229</td><td>Wolseley  Motors</td><td>null</td></tr><tr><td>BR2338</td><td>Bohn Motor Company Automobile Dealership</td><td>null</td></tr><tr><td>BR8286</td><td>Nissan Motors</td><td>null</td></tr><tr><td>BR0043</td><td>Alpine Motors</td><td>null</td></tr><tr><td>BR0194</td><td>BMW Motors</td><td>null</td></tr><tr><td>BR0695</td><td>Gilbern Motors</td><td>null</td></tr><tr><td>BR1028</td><td>KTM Motors</td><td>null</td></tr><tr><td>BR1178</td><td>Maruti Motors</td><td>null</td></tr><tr><td>BR1669</td><td>Rolls-Royce Motors</td><td>null</td></tr><tr><td>BR2330</td><td>Blankinship Motor Company Building</td><td>null</td></tr><tr><td>BR2358</td><td>Cadillac Automobile Company Building</td><td>null</td></tr><tr><td>BR0704</td><td>Ginetta Motors</td><td>null</td></tr><tr><td>BR0721</td><td>GMC Motors</td><td>null</td></tr><tr><td>BR0838</td><td>Hudson Motors</td><td>null</td></tr><tr><td>BR10146</td><td>Saleen Motors</td><td>null</td></tr><tr><td>BR1087</td><td>Ligier Motors</td><td>null</td></tr><tr><td>BR1266</td><td>Borgward (including Goliath and Lloyd) Motors</td><td>null</td></tr><tr><td>BR2331</td><td>Bohn Motor Company Automobile Dealership</td><td>null</td></tr><tr><td>BR2345</td><td>Buick Automobile Company Building</td><td>null</td></tr><tr><td>BR2347</td><td>Buick Automobile Company Building</td><td>null</td></tr><tr><td>BR0205</td><td>Bond Motors</td><td>null</td></tr><tr><td>BR0278</td><td>Buick Motors</td><td>null</td></tr><tr><td>BR0333</td><td>Chevrolet India Motors</td><td>null</td></tr><tr><td>BR0412</td><td>Daihatsu Motors</td><td>null</td></tr><tr><td>BR0460</td><td>DeLorean Motors</td><td>null</td></tr><tr><td>BR0520</td><td>e.GO Mobile Motors</td><td>null</td></tr><tr><td>BR0726</td><td>Aston Martin Motors</td><td>null</td></tr><tr><td>BR0837</td><td>Hudson Motors</td><td>null</td></tr><tr><td>BR0908</td><td>Invicta Motors</td><td>null</td></tr><tr><td>BR11286</td><td>Sunbeam Motors</td><td>null</td></tr><tr><td>BR1480</td><td>Panhard Motors</td><td>null</td></tr><tr><td>BR0165</td><td>Auverland Motors</td><td>null</td></tr><tr><td>BR0600</td><td>Fisker, Karma Motors</td><td>null</td></tr><tr><td>BR0979</td><td>Jeep Motors</td><td>null</td></tr><tr><td>BR1035</td><td>Lada Motors</td><td>null</td></tr><tr><td>BR1210</td><td>Matra (including Deutsch-Bonnet, René Bonnet) Motors</td><td>null</td></tr><tr><td>BR1264</td><td>Merkur Motors</td><td>null</td></tr><tr><td>BR1559</td><td>Plymouth Motors</td><td>null</td></tr><tr><td>BR1573</td><td>Pontiac, Asüna Motors</td><td>null</td></tr><tr><td>BR2450</td><td>Jennings Ford Automobile Dealership</td><td>null</td></tr><tr><td>BR0083</td><td>Ariel Motors</td><td>null</td></tr><tr><td>BR0161</td><td>Auverland Motors</td><td>null</td></tr><tr><td>BR0197</td><td>BMW Motors</td><td>null</td></tr><tr><td>BR0481</td><td>Dodge Motors</td><td>null</td></tr><tr><td>BR0567</td><td>Fiat Motors</td><td>null</td></tr><tr><td>BR0945</td><td>Isuzu Motors</td><td>null</td></tr><tr><td>BR11406</td><td>Tata Motors</td><td>null</td></tr><tr><td>BR1521</td><td>Peugeot Motors</td><td>null</td></tr><tr><td>BR1814</td><td>Skoda Motors</td><td>null</td></tr><tr><td>BR2007</td><td>Vauxhall Motors</td><td>null</td></tr><tr><td>BR2405</td><td>Colman Automotive Building</td><td>null</td></tr><tr><td>BR0655</td><td>Freightliner Motors</td><td>null</td></tr><tr><td>BR0964</td><td>Jaguar Motors</td><td>null</td></tr><tr><td>BR1013</td><td>Koenigsegg Motors</td><td>null</td></tr><tr><td>BR1834</td><td>Spyker Motors</td><td>null</td></tr><tr><td>BR1835</td><td>Spyker Motors</td><td>null</td></tr><tr><td>BR0200</td><td>BMW Motors</td><td>null</td></tr><tr><td>BR0240</td><td>British Leyland Motors</td><td>null</td></tr><tr><td>BR0657</td><td>Freightliner Motors</td><td>null</td></tr><tr><td>BR0665</td><td>FSO Motors</td><td>null</td></tr><tr><td>BR0698</td><td>Gilbern Motors</td><td>null</td></tr><tr><td>BR0741</td><td>Gumpert Motors</td><td>null</td></tr><tr><td>BR1113</td><td>LTI Motors</td><td>null</td></tr><tr><td>BR1198</td><td>Mastretta Motors</td><td>null</td></tr><tr><td>BR1253</td><td>Mercury Motors</td><td>null</td></tr><tr><td>BR1807</td><td>Singer Motors</td><td>null</td></tr><tr><td>BR1897</td><td>Suzuki Motors</td><td>null</td></tr><tr><td>BR1905</td><td>Tata Motors</td><td>null</td></tr><tr><td>BR2000</td><td>UAZ Motors</td><td>null</td></tr><tr><td>BR6366</td><td>Land Rover Motors</td><td>null</td></tr><tr><td>BR0055</td><td>Alvis Motors</td><td>null</td></tr><tr><td>BR0902</td><td>Invicta Motors</td><td>null</td></tr><tr><td>BR1110</td><td>Lotus Motors</td><td>null</td></tr><tr><td>BR1511</td><td>Perodua Motors</td><td>null</td></tr><tr><td>BR2152</td><td>Maybach  Motors</td><td>null</td></tr><tr><td>BR2444</td><td>Jennings Ford Automobile Dealership</td><td>null</td></tr><tr><td>BR0066</td><td>Acura Motors</td><td>null</td></tr><tr><td>BR0294</td><td>Cadillac Motors</td><td>null</td></tr><tr><td>BR0814</td><td>Honda Motors</td><td>null</td></tr><tr><td>BR0839</td><td>Hudson Motors</td><td>null</td></tr><tr><td>BR0873</td><td>IFA (including Trabant, Wartburg, Barkas) Motors</td><td>null</td></tr><tr><td>BR11826</td><td>Turner Motors</td><td>null</td></tr><tr><td>BR1189</td><td>Maserati Motors</td><td>null</td></tr><tr><td>BR1259</td><td>Mercury Motors</td><td>null</td></tr><tr><td>BR1808</td><td>Singer Motors</td><td>null</td></tr><tr><td>BR2004</td><td>Vauxhall Motors</td><td>null</td></tr><tr><td>BR2027</td><td>Volkswagen Motors</td><td>null</td></tr><tr><td>BR0317</td><td>Checker Motors</td><td>null</td></tr><tr><td>BR1333</td><td>Monteverdi Motors</td><td>null</td></tr><tr><td>BR1651</td><td>Rivian Motors</td><td>null</td></tr><tr><td>BR1803</td><td>Singer Motors</td><td>null</td></tr><tr><td>BR2103</td><td>ZIL Motors</td><td>null</td></tr><tr><td>BR2132</td><td>Horch Motors</td><td>null</td></tr><tr><td>BR2260</td><td>Das Motors</td><td>null</td></tr><tr><td>BR2350</td><td>Buick Automobile Company Building</td><td>null</td></tr><tr><td>BR2421</td><td>Howard Motor Company Building</td><td>null</td></tr><tr><td>BR0071</td><td>Anadol Motors</td><td>null</td></tr><tr><td>BR0160</td><td>Auto-Union Motors</td><td>null</td></tr><tr><td>BR0175</td><td>Bentley Motors</td><td>null</td></tr><tr><td>BR0413</td><td>Daihatsu Motors</td><td>null</td></tr><tr><td>BR0635</td><td>Ford Europe Motors</td><td>null</td></tr><tr><td>BR0693</td><td>Gilbern Motors</td><td>null</td></tr><tr><td>BR0734</td><td>GTA Spano Motors</td><td>null</td></tr><tr><td>BR1663</td><td>Rolls-Royce Motors</td><td>null</td></tr><tr><td>BR1874</td><td>Subaru Motors</td><td>null</td></tr><tr><td>BR2122</td><td>DKW Motors</td><td>null</td></tr><tr><td>BR8886</td><td>Panoz Motors</td><td>null</td></tr><tr><td>BR0192</td><td>BMW Motors</td><td>null</td></tr><tr><td>BR0255</td><td>Austin, Rover Motors</td><td>null</td></tr><tr><td>BR0637</td><td>Ford Europe Motors</td><td>null</td></tr><tr><td>BR0757</td><td>Healey Motors</td><td>null</td></tr><tr><td>BR0965</td><td>Jaguar Motors</td><td>null</td></tr><tr><td>BR1078</td><td>Lexus Motors</td><td>null</td></tr><tr><td>BR1262</td><td>Merkur Motors</td><td>null</td></tr><tr><td>BR1352</td><td>Moskwitch Motors</td><td>null</td></tr><tr><td>BR1448</td><td>Opel Motors</td><td>null</td></tr><tr><td>BR1631</td><td>Reliant Motors</td><td>null</td></tr><tr><td>BR1633</td><td>Reliant Motors</td><td>null</td></tr><tr><td>BR1665</td><td>Rolls-Royce Motors</td><td>null</td></tr><tr><td>BR2169</td><td>Izh  Motors</td><td>null</td></tr><tr><td>BR2272</td><td>Deccan Motors</td><td>null</td></tr><tr><td>BR2318</td><td>2008 NRHP-listed</td><td>null</td></tr><tr><td>BR1224</td><td>Mazzanti Motors</td><td>null</td></tr><tr><td>BR1339</td><td>Monteverdi Motors</td><td>null</td></tr><tr><td>BR1699</td><td>Saleen Motors</td><td>null</td></tr><tr><td>BR1739</td><td>Santana Motors</td><td>null</td></tr><tr><td>BR1972</td><td>Turner Motors</td><td>null</td></tr><tr><td>BR2439</td><td>Hupmobile Building</td><td>null</td></tr><tr><td>BR0052</td><td>Alvis Motors</td><td>null</td></tr><tr><td>BR0119</td><td>Asia Motors Motors</td><td>null</td></tr><tr><td>BR0723</td><td>GMC Motors</td><td>null</td></tr><tr><td>BR1167</td><td>Marlin Motors</td><td>null</td></tr><tr><td>BR1545</td><td>Piaggio Motors</td><td>null</td></tr><tr><td>BR2401</td><td>Colman Automotive Building</td><td>null</td></tr><tr><td>BR2586</td><td>Datsun Motors</td><td>null</td></tr><tr><td>BR0419</td><td>Daihatsu Motors</td><td>null</td></tr><tr><td>BR0867</td><td>Hyundai Motors</td><td>null</td></tr><tr><td>BR1770</td><td>Seat Motors</td><td>null</td></tr><tr><td>BR1824</td><td>Smart Motors</td><td>null</td></tr><tr><td>BR2348</td><td>Buick Automobile Company Building</td><td>null</td></tr><tr><td>BR0185</td><td>Bitter Motors</td><td>null</td></tr><tr><td>BR0455</td><td>DeLorean Motors</td><td>null</td></tr><tr><td>BR0692</td><td>Gilbern Motors</td><td>null</td></tr><tr><td>BR0790</td><td>Hillman Motors</td><td>null</td></tr><tr><td>BR0955</td><td>Iveco Motors</td><td>null</td></tr><tr><td>BR0978</td><td>Jeep Motors</td><td>null</td></tr><tr><td>BR1420</td><td>NSU Motors</td><td>null</td></tr><tr><td>BR1522</td><td>Peugeot Motors</td><td>null</td></tr><tr><td>BR1719</td><td>San Motors</td><td>null</td></tr><tr><td>BR2335</td><td>Bohn Motor Company Automobile Dealership</td><td>null</td></tr><tr><td>BR1499</td><td>Panther Motors</td><td>null</td></tr><tr><td>BR3906</td><td>Freightliner Motors</td><td>null</td></tr><tr><td>BR6186</td><td>Lada Motors</td><td>null</td></tr><tr><td>BR0299</td><td>Cadillac Motors</td><td>null</td></tr><tr><td>BR0438</td><td>Datsun Motors</td><td>null</td></tr><tr><td>BR1629</td><td>Ranger Motors</td><td>null</td></tr><tr><td>BR1941</td><td>Tornado Motors</td><td>null</td></tr><tr><td>BR2032</td><td>Volkswagen do Brasil Motors</td><td>null</td></tr><tr><td>BR2057</td><td>Volvo Motors</td><td>null</td></tr><tr><td>BR2241</td><td>Talbot  Motors</td><td>null</td></tr><tr><td>BR0191</td><td>BMW Motors</td><td>null</td></tr><tr><td>BR0537</td><td>Elva Motors</td><td>null</td></tr><tr><td>BR1623</td><td>Ranger Motors</td><td>null</td></tr><tr><td>BR2284</td><td>Herald Motors</td><td>null</td></tr><tr><td>BR0035</td><td>Alfa Romeo Motors</td><td>null</td></tr><tr><td>BR0785</td><td>Hillman Motors</td><td>null</td></tr><tr><td>BR0818</td><td>Honda Motors</td><td>null</td></tr><tr><td>BR1137</td><td>Lynx Motors</td><td>null</td></tr><tr><td>BR1146</td><td>BMW Motors</td><td>null</td></tr><tr><td>BR1759</td><td>Scion Motors</td><td>null</td></tr><tr><td>BR2375</td><td>Cass Motor Sales</td><td>null</td></tr><tr><td>BR3426</td><td>Fiat do Brasil Motors</td><td>null</td></tr><tr><td>BR0613</td><td>Ford Australia Motors</td><td>null</td></tr><tr><td>BR1205</td><td>Matra (including Deutsch-Bonnet, René Bonnet) Motors</td><td>null</td></tr><tr><td>BR1515</td><td>Perodua Motors</td><td>null</td></tr><tr><td>BR1618</td><td>Puma Motors</td><td>null</td></tr><tr><td>BR2766</td><td>DeSoto Motors</td><td>null</td></tr><tr><td>BR0127</td><td>Aston Martin Motors</td><td>null</td></tr><tr><td>BR1447</td><td>Opel Motors</td><td>null</td></tr><tr><td>BR1823</td><td>Smart Motors</td><td>null</td></tr><tr><td>BR2259</td><td>Das Motors</td><td>null</td></tr><tr><td>BR0199</td><td>BMW Motors</td><td>null</td></tr><tr><td>BR0201</td><td>Bond Motors</td><td>null</td></tr><tr><td>BR0237</td><td>British Leyland Motors</td><td>null</td></tr><tr><td>BR0493</td><td>Donkervoort Motors</td><td>null</td></tr><tr><td>BR1041</td><td>Lamborghini Motors</td><td>null</td></tr><tr><td>BR1485</td><td>Panoz Motors</td><td>null</td></tr><tr><td>BR1527</td><td>Peugeot Motors</td><td>null</td></tr><tr><td>BR2417</td><td>H Street Playhouse</td><td>null</td></tr><tr><td>BR7266</td><td>Mazda Motors</td><td>null</td></tr><tr><td>BR0128</td><td>Aston Martin Motors</td><td>null</td></tr><tr><td>BR0234</td><td>British Leyland Motors</td><td>null</td></tr><tr><td>BR1029</td><td>KTM Motors</td><td>null</td></tr><tr><td>BR1125</td><td>LuAZ Motors</td><td>null</td></tr><tr><td>BR1219</td><td>Mazda Motors</td><td>null</td></tr><tr><td>BR1421</td><td>Oldsmobile Motors</td><td>null</td></tr><tr><td>BR1523</td><td>Peugeot Motors</td><td>null</td></tr><tr><td>BR1764</td><td>Seat Motors</td><td>null</td></tr><tr><td>BR2195</td><td>Morris  Motors</td><td>null</td></tr><tr><td>BR2200</td><td>Morris  Motors</td><td>null</td></tr><tr><td>BR2317</td><td>2008 NRHP-listed</td><td>null</td></tr><tr><td>BR0028</td><td>Aixam-Mega (including Arola) Motors</td><td>null</td></tr><tr><td>BR0038</td><td>Alfa Romeo Motors</td><td>null</td></tr><tr><td>BR0872</td><td>IFA (including Trabant, Wartburg, Barkas) Motors</td><td>null</td></tr><tr><td>BR0898</td><td>Innocenti Motors</td><td>null</td></tr><tr><td>BR0912</td><td>Isdera Motors</td><td>null</td></tr><tr><td>BR1005</td><td>Kia Motors</td><td>null</td></tr><tr><td>BR1147</td><td>Mahindra Motors</td><td>null</td></tr><tr><td>BR1999</td><td>UAZ Motors</td><td>null</td></tr><tr><td>BR2023</td><td>Volkswagen Motors</td><td>null</td></tr><tr><td>BR2108</td><td>ZIL Motors</td><td>null</td></tr><tr><td>BR2341</td><td>Buick Automobile Company Building</td><td>null</td></tr><tr><td>BR2344</td><td>Buick Automobile Company Building</td><td>null</td></tr><tr><td>BR0008</td><td>AC Cars Motors</td><td>null</td></tr><tr><td>BR0445</td><td>Delahaye Motors</td><td>null</td></tr><tr><td>BR1493</td><td>Panther Motors</td><td>null</td></tr><tr><td>BR1754</td><td>Scion Motors</td><td>null</td></tr><tr><td>BR2059</td><td>Volvo Motors</td><td>null</td></tr><tr><td>BR0024</td><td>Aixam-Mega (including Arola) Motors</td><td>null</td></tr><tr><td>BR0524</td><td>Eicher Polaris Motors</td><td>null</td></tr><tr><td>BR1218</td><td>Mazda Motors</td><td>null</td></tr><tr><td>BR1482</td><td>Panoz Motors</td><td>null</td></tr><tr><td>BR1687</td><td>SAIC Motor Motors</td><td>null</td></tr><tr><td>BR1838</td><td>Spyker Motors</td><td>null</td></tr><tr><td>BR1902</td><td>Tata Motors</td><td>null</td></tr><tr><td>BR1977</td><td>Turner Motors</td><td>null</td></tr><tr><td>BR2201</td><td>Austin  Motors</td><td>null</td></tr><tr><td>BR2374</td><td>Cass Motor Sales</td><td>null</td></tr><tr><td>BR1175</td><td>Maruti Motors</td><td>null</td></tr><tr><td>BR1544</td><td>Piaggio Motors</td><td>null</td></tr><tr><td>BR1641</td><td>Renault Motors</td><td>null</td></tr><tr><td>BR0214</td><td>Borgward (including Goliath and Lloyd) Motors</td><td>null</td></tr><tr><td>BR0588</td><td>Fiat India Motors</td><td>null</td></tr><tr><td>BR1049</td><td>Lamborghini Motors</td><td>null</td></tr><tr><td>BR1727</td><td>Santa Matilde Motors</td><td>null</td></tr><tr><td>BR2105</td><td>ZIL Motors</td><td>null</td></tr><tr><td>BR0369</td><td>Citroën Motors</td><td>null</td></tr><tr><td>BR0555</td><td>Ferrari Motors</td><td>null</td></tr><tr><td>BR0615</td><td>Ford Australia Motors</td><td>null</td></tr><tr><td>BR0840</td><td>Hudson Motors</td><td>null</td></tr><tr><td>BR1121</td><td>LuAZ Motors</td><td>null</td></tr><tr><td>BR1314</td><td>Mitsubishi Motors</td><td>null</td></tr><tr><td>BR1563</td><td>Polestar Motors</td><td>null</td></tr><tr><td>BR2239</td><td>Standard  Motors</td><td>null</td></tr><tr><td>BR2339</td><td>Bohn Motor Company Automobile Dealership</td><td>null</td></tr><tr><td>BR2393</td><td>Clemens Automobile Company Building</td><td>null</td></tr></tbody></table></div>"
      ]
     },
     "metadata": {
      "application/vnd.databricks.v1+output": {
       "addedWidgets": {},
       "aggData": [],
       "aggError": "",
       "aggOverflow": false,
       "aggSchema": [],
       "aggSeriesLimitReached": false,
       "aggType": "",
       "arguments": {},
       "columnCustomDisplayInfos": {},
       "data": [
        [
         "BR0131",
         "Audi Motors",
         null
        ],
        [
         "BR0760",
         "Healey Motors",
         null
        ],
        [
         "BR0789",
         "Hillman Motors",
         null
        ],
        [
         "BR0938",
         "Isotta Fraschini Motors",
         null
        ],
        [
         "BR1040",
         "Lada Motors",
         null
        ],
        [
         "BR1693",
         "Saleen Motors",
         null
        ],
        [
         "BR1792",
         "Simca do Brasil Motors",
         null
        ],
        [
         "BR1799",
         "Simca do Brasil Motors",
         null
        ],
        [
         "BR1955",
         "Toyota Motors",
         null
        ],
        [
         "BR1978",
         "Turner Motors",
         null
        ],
        [
         "BR2068",
         "Westfield Motors",
         null
        ],
        [
         "BR2332",
         "Bohn Motor Company Automobile Dealership",
         null
        ],
        [
         "BR0151",
         "Auto-Union Motors",
         null
        ],
        [
         "BR0409",
         "DAF Motors",
         null
        ],
        [
         "BR0434",
         "Datsun Motors",
         null
        ],
        [
         "BR0599",
         "Fisker, Karma Motors",
         null
        ],
        [
         "BR0753",
         "Healey Motors",
         null
        ],
        [
         "BR1143",
         "Mahindra Motors",
         null
        ],
        [
         "BR12246",
         "Volkswagen South Africa Motors",
         null
        ],
        [
         "BR1233",
         "McLaren Motors",
         null
        ],
        [
         "BR1558",
         "Plymouth Motors",
         null
        ],
        [
         "BR1795",
         "Simca do Brasil Motors",
         null
        ],
        [
         "BR1847",
         "SsangYong Motors",
         null
        ],
        [
         "BR1943",
         "Tornado Motors",
         null
        ],
        [
         "BR2054",
         "Volvo Motors",
         null
        ],
        [
         "BR2063",
         "Westfield Motors",
         null
        ],
        [
         "BR0019",
         "Acura Motors",
         null
        ],
        [
         "BR0145",
         "Autobianchi Motors",
         null
        ],
        [
         "BR0913",
         "Isdera Motors",
         null
        ],
        [
         "BR1340",
         "Monteverdi Motors",
         null
        ],
        [
         "BR1630",
         "Ranger Motors",
         null
        ],
        [
         "BR1865",
         "Studebaker Motors",
         null
        ],
        [
         "BR2139",
         "Horch Motors",
         null
        ],
        [
         "BR0274",
         "Buick Motors",
         null
        ],
        [
         "BR0308",
         "Caterham Motors",
         null
        ],
        [
         "BR0399",
         "Daewoo, Saehan, Chevrolet Korea Motors",
         null
        ],
        [
         "BR0471",
         "De Tomaso Motors",
         null
        ],
        [
         "BR0731",
         "GTA Spano Motors",
         null
        ],
        [
         "BR0759",
         "Healey Motors",
         null
        ],
        [
         "BR1383",
         "Nissan Motors",
         null
        ],
        [
         "BR1664",
         "Rolls-Royce Motors",
         null
        ],
        [
         "BR1769",
         "Seat Motors",
         null
        ],
        [
         "BR2262",
         "Ramani Motors",
         null
        ],
        [
         "BR2352",
         "Cadillac Automobile Company Building",
         null
        ],
        [
         "BR0114",
         "Asia Motors Motors",
         null
        ],
        [
         "BR0462",
         "DeSoto Motors",
         null
        ],
        [
         "BR0699",
         "Gilbern Motors",
         null
        ],
        [
         "BR0793",
         "Hindustan Motors",
         null
        ],
        [
         "BR1479",
         "Panhard Motors",
         null
        ],
        [
         "BR2275",
         "Deccan Motors",
         null
        ],
        [
         "BR0138",
         "Audi Motors",
         null
        ],
        [
         "BR0202",
         "Bond Motors",
         null
        ],
        [
         "BR0700",
         "Gilbern Motors",
         null
        ],
        [
         "BR0988",
         "Jensen Motors",
         null
        ],
        [
         "BR9246",
         "Piaggio Motors",
         null
        ],
        [
         "BR0095",
         "ARO Motors",
         null
        ],
        [
         "BR0351",
         "Chrysler Europe Motors",
         null
        ],
        [
         "BR0368",
         "Citroën Motors",
         null
        ],
        [
         "BR0614",
         "Ford Australia Motors",
         null
        ],
        [
         "BR1248",
         "Mercedes-Benz (including Maybach) Motors",
         null
        ],
        [
         "BR1884",
         "Sunbeam Motors",
         null
        ],
        [
         "BR2035",
         "Volkswagen do Brasil Motors",
         null
        ],
        [
         "BR0070",
         "AMC, Eagle Motors",
         null
        ],
        [
         "BR0251",
         "Austin, Rover Motors",
         null
        ],
        [
         "BR0262",
         "Bugatti Motors",
         null
        ],
        [
         "BR1243",
         "Mercedes-Benz (including Maybach) Motors",
         null
        ],
        [
         "BR1289",
         "Mia Motors",
         null
        ],
        [
         "BR1405",
         "Noble Motors",
         null
        ],
        [
         "BR2033",
         "Volkswagen do Brasil Motors",
         null
        ],
        [
         "BR2329",
         "Blankinship Motor Company Building",
         null
        ],
        [
         "BR2385",
         "Claremore Auto Dealership",
         null
        ],
        [
         "BR0130",
         "Aston Martin Motors",
         null
        ],
        [
         "BR0891",
         "Innocenti Motors",
         null
        ],
        [
         "BR1177",
         "Maruti Motors",
         null
        ],
        [
         "BR1321",
         "Monica Motors",
         null
        ],
        [
         "BR13626",
         "Deccan Motors",
         null
        ],
        [
         "BR0064",
         "AMC, Eagle Motors",
         null
        ],
        [
         "BR0673",
         "GAZ Motors",
         null
        ],
        [
         "BR0685",
         "Geo Motors",
         null
        ],
        [
         "BR0718",
         "Glas Motors",
         null
        ],
        [
         "BR1298",
         "Micro Motors",
         null
        ],
        [
         "BR1300",
         "Micro Motors",
         null
        ],
        [
         "BR1347",
         "Morgan Motors",
         null
        ],
        [
         "BR1373",
         "Naza Motors",
         null
        ],
        [
         "BR2337",
         "Bohn Motor Company Automobile Dealership",
         null
        ],
        [
         "BR0231",
         "British Leyland Motors",
         null
        ],
        [
         "BR0895",
         "Innocenti Motors",
         null
        ],
        [
         "BR1228",
         "Mazzanti Motors",
         null
        ],
        [
         "BR1617",
         "Puma Motors",
         null
        ],
        [
         "BR1637",
         "Reliant Motors",
         null
        ],
        [
         "BR1680",
         "Saab Motors",
         null
        ],
        [
         "BR1821",
         "Smart Motors",
         null
        ],
        [
         "BR1940",
         "Tesla Motors",
         null
        ],
        [
         "BR2391",
         "Clemens Automobile Company Building",
         null
        ],
        [
         "BR2467",
         "Kindel Building",
         null
        ],
        [
         "BR3186",
         "Elva Motors",
         null
        ],
        [
         "BR5466",
         "Isdera Motors",
         null
        ],
        [
         "BR9126",
         "Peugeot Motors",
         null
        ],
        [
         "BR0104",
         "Artega Motors",
         null
        ],
        [
         "BR0354",
         "Chrysler Europe Motors",
         null
        ],
        [
         "BR0494",
         "Donkervoort Motors",
         null
        ],
        [
         "BR0528",
         "Eicher Polaris Motors",
         null
        ],
        [
         "BR1074",
         "Lexus Motors",
         null
        ],
        [
         "BR1503",
         "Peel Motors",
         null
        ],
        [
         "BR1718",
         "San Motors",
         null
        ],
        [
         "BR1864",
         "Studebaker Motors",
         null
        ],
        [
         "BR1993",
         "UAZ Motors",
         null
        ],
        [
         "BR2217",
         "Riley  Motors",
         null
        ],
        [
         "BR0682",
         "Geo Motors",
         null
        ],
        [
         "BR0905",
         "Invicta Motors",
         null
        ],
        [
         "BR10686",
         "Simca Motors",
         null
        ],
        [
         "BR1325",
         "Monica Motors",
         null
        ],
        [
         "BR1568",
         "Polestar Motors",
         null
        ],
        [
         "BR1822",
         "Smart Motors",
         null
        ],
        [
         "BR2154",
         "Maybach  Motors",
         null
        ],
        [
         "BR0011",
         "Acura Motors",
         null
        ],
        [
         "BR0115",
         "Asia Motors Motors",
         null
        ],
        [
         "BR0223",
         "Bristol Motors",
         null
        ],
        [
         "BR0490",
         "Dodge Motors",
         null
        ],
        [
         "BR0625",
         "Ford do Brasil Motors",
         null
        ],
        [
         "BR1111",
         "LTI Motors",
         null
        ],
        [
         "BR1829",
         "Smart Motors",
         null
        ],
        [
         "BR2277",
         "Deccan Motors",
         null
        ],
        [
         "BR2369",
         "Casa de cadillac",
         null
        ],
        [
         "BR6066",
         "Koenigsegg Motors",
         null
        ],
        [
         "BR0512",
         "e.GO Mobile Motors",
         null
        ],
        [
         "BR0584",
         "Fiat India Motors",
         null
        ],
        [
         "BR1691",
         "Saleen Motors",
         null
        ],
        [
         "BR1845",
         "SsangYong Motors",
         null
        ],
        [
         "BR1932",
         "Tesla Motors",
         null
        ],
        [
         "BR0360",
         "Chrysler Europe Motors",
         null
        ],
        [
         "BR0388",
         "Dacia Motors",
         null
        ],
        [
         "BR0486",
         "Ariel Motors",
         null
        ],
        [
         "BR0811",
         "Honda Motors",
         null
        ],
        [
         "BR1105",
         "Lotus Motors",
         null
        ],
        [
         "BR1762",
         "Seat Motors",
         null
        ],
        [
         "BR1768",
         "Seat Motors",
         null
        ],
        [
         "BR1960",
         "Toyota Motors",
         null
        ],
        [
         "BR2322",
         "Blankinship Motor Company Building",
         null
        ],
        [
         "BR2412",
         "H Street Playhouse",
         null
        ],
        [
         "BR2440",
         "Hupmobile Building",
         null
        ],
        [
         "BR0058",
         "Alvis Motors",
         null
        ],
        [
         "BR0447",
         "Delahaye Motors",
         null
        ],
        [
         "BR0479",
         "De Tomaso Motors",
         null
        ],
        [
         "BR0501",
         "Edsel Motors",
         null
        ],
        [
         "BR0919",
         "Isdera Motors",
         null
        ],
        [
         "BR1152",
         "Marcos Motors",
         null
        ],
        [
         "BR2289",
         "Herald Motors",
         null
        ],
        [
         "BR9426",
         "Pontiac, Asüna Motors",
         null
        ],
        [
         "BR0027",
         "Aixam-Mega (including Arola) Motors",
         null
        ],
        [
         "BR0411",
         "Daihatsu Motors",
         null
        ],
        [
         "BR1140",
         "Lynx Motors",
         null
        ],
        [
         "BR2087",
         "Zastava Motors",
         null
        ],
        [
         "BR2155",
         "Maybach  Motors",
         null
        ],
        [
         "BR2233",
         "Standard  Motors",
         null
        ],
        [
         "BR5406",
         "Invicta Motors",
         null
        ],
        [
         "BR0463",
         "DeSoto Motors",
         null
        ],
        [
         "BR0606",
         "Artega Motors",
         null
        ],
        [
         "BR0662",
         "FSO Motors",
         null
        ],
        [
         "BR1180",
         "Maruti Motors",
         null
        ],
        [
         "BR1380",
         "Naza Motors",
         null
        ],
        [
         "BR13986",
         "Bohn Motor Company Automobile Dealership",
         null
        ],
        [
         "BR1553",
         "Plymouth Motors",
         null
        ],
        [
         "BR1789",
         "Simca Motors",
         null
        ],
        [
         "BR1957",
         "Toyota Motors",
         null
        ],
        [
         "BR2025",
         "Volkswagen Motors",
         null
        ],
        [
         "BR2100",
         "ZAZ Motors",
         null
        ],
        [
         "BR2378",
         "Cass Motor Sales",
         null
        ],
        [
         "BR0089",
         "Ariel Motors",
         null
        ],
        [
         "BR0608",
         "Ford America Motors",
         null
        ],
        [
         "BR0941",
         "Isuzu Motors",
         null
        ],
        [
         "BR1273",
         "Messerschmitt Motors",
         null
        ],
        [
         "BR1860",
         "Standard-Triumph Motors",
         null
        ],
        [
         "BR1888",
         "Sunbeam Motors",
         null
        ],
        [
         "BR2142",
         "Wanderer Motors",
         null
        ],
        [
         "BR2319",
         "2008 NRHP-listed",
         null
        ],
        [
         "BR0264",
         "Bugatti Motors",
         null
        ],
        [
         "BR0498",
         "Donkervoort Motors",
         null
        ],
        [
         "BR0829",
         "Honda India Motors",
         null
        ],
        [
         "BR0890",
         "Infiniti Motors",
         null
        ],
        [
         "BR1044",
         "Lamborghini Motors",
         null
        ],
        [
         "BR13746",
         "Zion Automobils",
         null
        ],
        [
         "BR1398",
         "Nissan India Motors",
         null
        ],
        [
         "BR1877",
         "Subaru Motors",
         null
        ],
        [
         "BR1927",
         "Tazzari Motors",
         null
        ],
        [
         "BR2410",
         "Colman Automotive Building",
         null
        ],
        [
         "BR0534",
         "Elva Motors",
         null
        ],
        [
         "BR1442",
         "Opel Motors",
         null
        ],
        [
         "BR1722",
         "Santa Matilde Motors",
         null
        ],
        [
         "BR1990",
         "TVR Motors",
         null
        ],
        [
         "BR2070",
         "Westfield Motors",
         null
        ],
        [
         "BR2204",
         "Austin  Motors",
         null
        ],
        [
         "BR0204",
         "Bond Motors",
         null
        ],
        [
         "BR0717",
         "Glas Motors",
         null
        ],
        [
         "BR0947",
         "Isuzu Motors",
         null
        ],
        [
         "BR0983",
         "Jensen Motors",
         null
        ],
        [
         "BR1003",
         "Kia Motors",
         null
        ],
        [
         "BR11706",
         "Toyota Motors",
         null
        ],
        [
         "BR1232",
         "McLaren Motors",
         null
        ],
        [
         "BR1688",
         "SAIC Motor Motors",
         null
        ],
        [
         "BR1809",
         "Singer Motors",
         null
        ],
        [
         "BR1968",
         "Toyota India Motors",
         null
        ],
        [
         "BR2018",
         "Venturi Motors",
         null
        ],
        [
         "BR2022",
         "Volkswagen Motors",
         null
        ],
        [
         "BR2226",
         "Cizeta-Moroder Motors",
         null
        ],
        [
         "BR0235",
         "British Leyland Motors",
         null
        ],
        [
         "BR0634",
         "Ford Europe Motors",
         null
        ],
        [
         "BR0889",
         "Infiniti Motors",
         null
        ],
        [
         "BR1318",
         "Mitsubishi Motors",
         null
        ],
        [
         "BR1626",
         "Buick Motors",
         null
        ],
        [
         "BR2267",
         "Ramani Motors",
         null
        ],
        [
         "BR0591",
         "Fisker, Karma Motors",
         null
        ],
        [
         "BR0642",
         "Ford India Motors",
         null
        ],
        [
         "BR0930",
         "Iso Motors",
         null
        ],
        [
         "BR1027",
         "KTM Motors",
         null
        ],
        [
         "BR1065",
         "Land Rover Motors",
         null
        ],
        [
         "BR1382",
         "Nissan Motors",
         null
        ],
        [
         "BR1749",
         "Saturn Motors",
         null
        ],
        [
         "BR2433",
         "Hupmobile Building",
         null
        ],
        [
         "BR8406",
         "Noble Motors",
         null
        ],
        [
         "BR0040",
         "Alfa Romeo Motors",
         null
        ],
        [
         "BR0218",
         "Borgward (including Goliath and Lloyd) Motors",
         null
        ],
        [
         "BR0337",
         "Chevrolet India Motors",
         null
        ],
        [
         "BR1162",
         "Marlin Motors",
         null
        ],
        [
         "BR0082",
         "Ariel Motors",
         null
        ],
        [
         "BR0164",
         "Auverland Motors",
         null
        ],
        [
         "BR0598",
         "Fisker, Karma Motors",
         null
        ],
        [
         "BR0735",
         "GTA Spano Motors",
         null
        ],
        [
         "BR1063",
         "Land Rover Motors",
         null
        ],
        [
         "BR1579",
         "Pontiac, Asüna Motors",
         null
        ],
        [
         "BR2149",
         "Wanderer Motors",
         null
        ],
        [
         "BR2168",
         "Izh  Motors",
         null
        ],
        [
         "BR0279",
         "Buick Motors",
         null
        ],
        [
         "BR0884",
         "Infiniti Motors",
         null
        ],
        [
         "BR1048",
         "Lamborghini Motors",
         null
        ],
        [
         "BR1094",
         "Lincoln Motors",
         null
        ],
        [
         "BR1292",
         "Micro Motors",
         null
        ],
        [
         "BR1323",
         "Monica Motors",
         null
        ],
        [
         "BR1395",
         "Nissan India Motors",
         null
        ],
        [
         "BR1424",
         "Oldsmobile Motors",
         null
        ],
        [
         "BR1477",
         "Panhard Motors",
         null
        ],
        [
         "BR1670",
         "Rolls-Royce Motors",
         null
        ],
        [
         "BR1708",
         "Samsung Motors",
         null
        ],
        [
         "BR2039",
         "Volkswagen do Brasil Motors",
         null
        ],
        [
         "BR2404",
         "Colman Automotive Building",
         null
        ],
        [
         "BR0270",
         "Bugatti Motors",
         null
        ],
        [
         "BR0275",
         "Buick Motors",
         null
        ],
        [
         "BR0378",
         "Cizeta-Moroder Motors",
         null
        ],
        [
         "BR0405",
         "DAF Motors",
         null
        ],
        [
         "BR0592",
         "Fisker, Karma Motors",
         null
        ],
        [
         "BR0881",
         "Infiniti Motors",
         null
        ],
        [
         "BR0963",
         "Jaguar Motors",
         null
        ],
        [
         "BR1320",
         "Mitsubishi Motors",
         null
        ],
        [
         "BR1531",
         "PGO Motors",
         null
        ],
        [
         "BR1612",
         "Puma Motors",
         null
        ],
        [
         "BR1873",
         "Subaru Motors",
         null
        ],
        [
         "BR2077",
         "Wiesmann Motors",
         null
        ],
        [
         "BR2143",
         "Wanderer Motors",
         null
        ],
        [
         "BR2223",
         "Wolseley  Motors",
         null
        ],
        [
         "BR0509",
         "Edsel Motors",
         null
        ],
        [
         "BR1267",
         "Merkur Motors",
         null
        ],
        [
         "BR2225",
         "Wolseley  Motors",
         null
        ],
        [
         "BR0168",
         "Auverland Motors",
         null
        ],
        [
         "BR0318",
         "Checker Motors",
         null
        ],
        [
         "BR0362",
         "Citroën Motors",
         null
        ],
        [
         "BR0562",
         "Fiat Motors",
         null
        ],
        [
         "BR0738",
         "GTA Spano Motors",
         null
        ],
        [
         "BR0805",
         "Holden Motors",
         null
        ],
        [
         "BR0934",
         "Isotta Fraschini Motors",
         null
        ],
        [
         "BR1051",
         "Lancia Motors",
         null
        ],
        [
         "BR11466",
         "Tatra Motors",
         null
        ],
        [
         "BR1192",
         "Mastretta Motors",
         null
        ],
        [
         "BR1746",
         "Cadillac Motors",
         null
        ],
        [
         "BR1830",
         "Smart Motors",
         null
        ],
        [
         "BR2297",
         "Zion Automobils",
         null
        ],
        [
         "BR8046",
         "Morgan Motors",
         null
        ],
        [
         "BR0037",
         "Alfa Romeo Motors",
         null
        ],
        [
         "BR0268",
         "Bugatti Motors",
         null
        ],
        [
         "BR0367",
         "Citroën Motors",
         null
        ],
        [
         "BR1212",
         "Mazda Motors",
         null
        ],
        [
         "BR13806",
         "Atlantic Motor Company",
         null
        ],
        [
         "BR1491",
         "Panther Motors",
         null
        ],
        [
         "BR1750",
         "Saturn Motors",
         null
        ],
        [
         "BR1820",
         "Skoda Motors",
         null
        ],
        [
         "BR2037",
         "Volkswagen do Brasil Motors",
         null
        ],
        [
         "BR2248",
         "Talbot  Motors",
         null
        ],
        [
         "BR2280",
         "Deccan Motors",
         null
        ],
        [
         "BR7926",
         "Monica Motors",
         null
        ],
        [
         "BR1149",
         "Mahindra Motors",
         null
        ],
        [
         "BR1449",
         "Opel Motors",
         null
        ],
        [
         "BR6786",
         "Lynx Motors",
         null
        ],
        [
         "BR0059",
         "Alvis Motors",
         null
        ],
        [
         "BR0497",
         "Donkervoort Motors",
         null
        ],
        [
         "BR0561",
         "Fiat Motors",
         null
        ],
        [
         "BR0933",
         "Isotta Fraschini Motors",
         null
        ],
        [
         "BR1164",
         "Marlin Motors",
         null
        ],
        [
         "BR11946",
         "UAZ Motors",
         null
        ],
        [
         "BR1399",
         "Nissan India Motors",
         null
        ],
        [
         "BR1414",
         "NSU Motors",
         null
        ],
        [
         "BR1935",
         "Tesla Motors",
         null
        ],
        [
         "BR2210",
         "Austin  Motors",
         null
        ],
        [
         "BR3306",
         "Ferrari Motors",
         null
        ],
        [
         "BR3546",
         "Fisker, Karma Motors",
         null
        ],
        [
         "BR0075",
         "Anadol Motors",
         null
        ],
        [
         "BR0135",
         "Audi Motors",
         null
        ],
        [
         "BR0163",
         "Auverland Motors",
         null
        ],
        [
         "BR0491",
         "Donkervoort Motors",
         null
        ],
        [
         "BR0647",
         "Ford India Motors",
         null
        ],
        [
         "BR0765",
         "Heinkel Motors",
         null
        ],
        [
         "BR10206",
         "Samsung Motors",
         null
        ],
        [
         "BR1353",
         "Moskwitch Motors",
         null
        ],
        [
         "BR1561",
         "Polestar Motors",
         null
        ],
        [
         "BR1828",
         "Smart Motors",
         null
        ],
        [
         "BR2062",
         "Westfield Motors",
         null
        ],
        [
         "BR2084",
         "Zastava Motors",
         null
        ],
        [
         "BR2383",
         "Claremore Auto Dealership",
         null
        ],
        [
         "BR0451",
         "DeLorean Motors",
         null
        ],
        [
         "BR0701",
         "Ginetta Motors",
         null
        ],
        [
         "BR0786",
         "Audi Motors",
         null
        ],
        [
         "BR1293",
         "Micro Motors",
         null
        ],
        [
         "BR2191",
         "Morris  Motors",
         null
        ],
        [
         "BR4146",
         "Gilbern Motors",
         null
        ],
        [
         "BR0285",
         "Bytom Motors",
         null
        ],
        [
         "BR0525",
         "Eicher Polaris Motors",
         null
        ],
        [
         "BR0714",
         "Glas Motors",
         null
        ],
        [
         "BR1452",
         "Packard Motors",
         null
        ],
        [
         "BR1660",
         "Rivian Motors",
         null
        ],
        [
         "BR2244",
         "Talbot  Motors",
         null
        ],
        [
         "BR5646",
         "Isuzu Motors",
         null
        ],
        [
         "BR0575",
         "Fiat do Brasil Motors",
         null
        ],
        [
         "BR0803",
         "Holden Motors",
         null
        ],
        [
         "BR1195",
         "Mastretta Motors",
         null
        ],
        [
         "BR1279",
         "Messerschmitt Motors",
         null
        ],
        [
         "BR1844",
         "SsangYong Motors",
         null
        ],
        [
         "BR2221",
         "Wolseley  Motors",
         null
        ],
        [
         "BR0553",
         "Ferrari Motors",
         null
        ],
        [
         "BR0579",
         "Fiat do Brasil Motors",
         null
        ],
        [
         "BR0841",
         "Humber Motors",
         null
        ],
        [
         "BR1045",
         "Lamborghini Motors",
         null
        ],
        [
         "BR1112",
         "LTI Motors",
         null
        ],
        [
         "BR12186",
         "Volkswagen do Brasil Motors",
         null
        ],
        [
         "BR12366",
         "Westfield Motors",
         null
        ],
        [
         "BR1460",
         "Packard Motors",
         null
        ],
        [
         "BR1597",
         "Premier Motors",
         null
        ],
        [
         "BR2192",
         "Morris  Motors",
         null
        ],
        [
         "BR0158",
         "Auto-Union Motors",
         null
        ],
        [
         "BR0243",
         "Austin-Healey Motors",
         null
        ],
        [
         "BR0298",
         "Cadillac Motors",
         null
        ],
        [
         "BR0771",
         "Hennessey Motors",
         null
        ],
        [
         "BR0857",
         "Hummer Motors",
         null
        ],
        [
         "BR1155",
         "Marcos Motors",
         null
        ],
        [
         "BR12786",
         "Horch Motors",
         null
        ],
        [
         "BR12966",
         "Izh  Motors",
         null
        ],
        [
         "BR2185",
         "MG  Motors",
         null
        ],
        [
         "BR7446",
         "Mercedes-Benz (including Maybach) Motors",
         null
        ],
        [
         "BR0172",
         "Bentley Motors",
         null
        ],
        [
         "BR0392",
         "Daewoo, Saehan, Chevrolet Korea Motors",
         null
        ],
        [
         "BR0943",
         "Isuzu Motors",
         null
        ],
        [
         "BR1047",
         "Lamborghini Motors",
         null
        ],
        [
         "BR14706",
         "Jones Motor Company",
         null
        ],
        [
         "BR1598",
         "Premier Motors",
         null
        ],
        [
         "BR1755",
         "Scion Motors",
         null
        ],
        [
         "BR2005",
         "Vauxhall Motors",
         null
        ],
        [
         "BR2188",
         "MG  Motors",
         null
        ],
        [
         "BR0017",
         "Acura Motors",
         null
        ],
        [
         "BR0651",
         "Freightliner Motors",
         null
        ],
        [
         "BR0900",
         "Innocenti Motors",
         null
        ],
        [
         "BR1288",
         "Mia Motors",
         null
        ],
        [
         "BR1330",
         "Monica Motors",
         null
        ],
        [
         "BR1390",
         "Nissan Motors",
         null
        ],
        [
         "BR1862",
         "Studebaker Motors",
         null
        ],
        [
         "BR1871",
         "Subaru Motors",
         null
        ],
        [
         "BR1939",
         "Tesla Motors",
         null
        ],
        [
         "BR1951",
         "Toyota Motors",
         null
        ],
        [
         "BR2083",
         "Zastava Motors",
         null
        ],
        [
         "BR2415",
         "H Street Playhouse",
         null
        ],
        [
         "BR4086",
         "Geo Motors",
         null
        ],
        [
         "BR0708",
         "Ginetta Motors",
         null
        ],
        [
         "BR0801",
         "Holden Motors",
         null
        ],
        [
         "BR1220",
         "Mazda Motors",
         null
        ],
        [
         "BR1369",
         "Nash Motors",
         null
        ],
        [
         "BR1384",
         "Nissan Motors",
         null
        ],
        [
         "BR1464",
         "Pagani Motors",
         null
        ],
        [
         "BR1778",
         "Shelby SuperCars Motors",
         null
        ],
        [
         "BR2097",
         "ZAZ Motors",
         null
        ],
        [
         "BR1438",
         "Oltcit Motors",
         null
        ],
        [
         "BR1461",
         "Pagani Motors",
         null
        ],
        [
         "BR1771",
         "Shelby SuperCars Motors",
         null
        ],
        [
         "BR2445",
         "Jennings Ford Automobile Dealership",
         null
        ],
        [
         "BR2449",
         "Jennings Ford Automobile Dealership",
         null
        ],
        [
         "BR2706",
         "DeLorean Motors",
         null
        ],
        [
         "BR0347",
         "Chrysler Motors",
         null
        ],
        [
         "BR0353",
         "Chrysler Europe Motors",
         null
        ],
        [
         "BR0604",
         "Ford America Motors",
         null
        ],
        [
         "BR0770",
         "Heinkel Motors",
         null
        ],
        [
         "BR1632",
         "Reliant Motors",
         null
        ],
        [
         "BR2420",
         "H Street Playhouse",
         null
        ],
        [
         "BR4986",
         "Hudson Motors",
         null
        ],
        [
         "BR0980",
         "Jeep Motors",
         null
        ],
        [
         "BR1861",
         "Studebaker Motors",
         null
        ],
        [
         "BR1991",
         "UAZ Motors",
         null
        ],
        [
         "BR2308",
         "Atlantic Motor Company",
         null
        ],
        [
         "BR2452",
         "Jones Motor Company",
         null
        ],
        [
         "BR6486",
         "Ligier Motors",
         null
        ],
        [
         "BR0225",
         "Bristol Motors",
         null
        ],
        [
         "BR0269",
         "Bugatti Motors",
         null
        ],
        [
         "BR0300",
         "Cadillac Motors",
         null
        ],
        [
         "BR0415",
         "Daihatsu Motors",
         null
        ],
        [
         "BR0732",
         "GTA Spano Motors",
         null
        ],
        [
         "BR0927",
         "Iso Motors",
         null
        ],
        [
         "BR1608",
         "Proton Motors",
         null
        ],
        [
         "BR1913",
         "Tatra Motors",
         null
        ],
        [
         "BR1917",
         "Tatra Motors",
         null
        ],
        [
         "BR2047",
         "Volkswagen South Africa Motors",
         null
        ],
        [
         "BR2179",
         "Lagonda  Motors",
         null
        ],
        [
         "BR2237",
         "Standard  Motors",
         null
        ],
        [
         "BR2946",
         "Donkervoort Motors",
         null
        ],
        [
         "BR0001",
         "AC Cars Motors",
         null
        ],
        [
         "BR0018",
         "Acura Motors",
         null
        ],
        [
         "BR0304",
         "Caterham Motors",
         null
        ],
        [
         "BR0407",
         "DAF Motors",
         null
        ],
        [
         "BR0960",
         "Iveco Motors",
         null
        ],
        [
         "BR0989",
         "Jensen Motors",
         null
        ],
        [
         "BR10326",
         "Santa Matilde Motors",
         null
        ],
        [
         "BR1418",
         "NSU Motors",
         null
        ],
        [
         "BR1600",
         "Premier Motors",
         null
        ],
        [
         "BR1757",
         "Scion Motors",
         null
        ],
        [
         "BR1931",
         "Tesla Motors",
         null
        ],
        [
         "BR2072",
         "Wiesmann Motors",
         null
        ],
        [
         "BR2117",
         "Audi Motors",
         null
        ],
        [
         "BR7746",
         "Micro Motors",
         null
        ],
        [
         "BR0013",
         "Acura Motors",
         null
        ],
        [
         "BR0182",
         "Bitter Motors",
         null
        ],
        [
         "BR0219",
         "Borgward (including Goliath and Lloyd) Motors",
         null
        ],
        [
         "BR0252",
         "Austin, Rover Motors",
         null
        ],
        [
         "BR0363",
         "Citroën Motors",
         null
        ],
        [
         "BR0792",
         "Hindustan Motors",
         null
        ],
        [
         "BR0877",
         "IFA (including Trabant, Wartburg, Barkas) Motors",
         null
        ],
        [
         "BR0888",
         "Infiniti Motors",
         null
        ],
        [
         "BR0972",
         "Jeep Motors",
         null
        ],
        [
         "BR12006",
         "Vauxhall Motors",
         null
        ],
        [
         "BR1547",
         "Piaggio Motors",
         null
        ],
        [
         "BR2061",
         "Westfield Motors",
         null
        ],
        [
         "BR2158",
         "Maybach  Motors",
         null
        ],
        [
         "BR2252",
         "Das Motors",
         null
        ],
        [
         "BR2377",
         "Cass Motor Sales",
         null
        ],
        [
         "BR0505",
         "Edsel Motors",
         null
        ],
        [
         "BR10986",
         "Spyker Motors",
         null
        ],
        [
         "BR1351",
         "Moskwitch Motors",
         null
        ],
        [
         "BR1549",
         "Piaggio Motors",
         null
        ],
        [
         "BR1604",
         "Proton Motors",
         null
        ],
        [
         "BR1677",
         "Saab Motors",
         null
        ],
        [
         "BR1840",
         "Spyker Motors",
         null
        ],
        [
         "BR1863",
         "Studebaker Motors",
         null
        ],
        [
         "BR1919",
         "Tatra Motors",
         null
        ],
        [
         "BR2147",
         "Wanderer Motors",
         null
        ],
        [
         "BR2160",
         "Maybach  Motors",
         null
        ],
        [
         "BR2293",
         "Zion Automobils",
         null
        ],
        [
         "BR2406",
         "DAF Motors",
         null
        ],
        [
         "BR8106",
         "Moskwitch Motors",
         null
        ],
        [
         "BR0531",
         "Elva Motors",
         null
        ],
        [
         "BR0691",
         "Gilbern Motors",
         null
        ],
        [
         "BR0828",
         "Honda India Motors",
         null
        ],
        [
         "BR10566",
         "Seat Motors",
         null
        ],
        [
         "BR1067",
         "Land Rover Motors",
         null
        ],
        [
         "BR1812",
         "Skoda Motors",
         null
        ],
        [
         "BR1910",
         "Tata Motors",
         null
        ],
        [
         "BR2291",
         "Zion Automobils",
         null
        ],
        [
         "BR7866",
         "Mitsubishi Motors",
         null
        ],
        [
         "BR1270",
         "Merkur Motors",
         null
        ],
        [
         "BR13926",
         "Blankinship Motor Company Building",
         null
        ],
        [
         "BR1984",
         "TVR Motors",
         null
        ],
        [
         "BR2050",
         "Volkswagen South Africa Motors",
         null
        ],
        [
         "BR2213",
         "Riley  Motors",
         null
        ],
        [
         "BR2360",
         "Cadillac Automobile Company Building",
         null
        ],
        [
         "BR2646",
         "Delahaye Motors",
         null
        ],
        [
         "BR5046",
         "Humber Motors",
         null
        ],
        [
         "BR0065",
         "AMC, Eagle Motors",
         null
        ],
        [
         "BR0313",
         "Checker Motors",
         null
        ],
        [
         "BR0393",
         "Daewoo, Saehan, Chevrolet Korea Motors",
         null
        ],
        [
         "BR0802",
         "Holden Motors",
         null
        ],
        [
         "BR1413",
         "NSU Motors",
         null
        ],
        [
         "BR1681",
         "SAIC Motor Motors",
         null
        ],
        [
         "BR1735",
         "Santana Motors",
         null
        ],
        [
         "BR1752",
         "Scion Motors",
         null
        ],
        [
         "BR2064",
         "Westfield Motors",
         null
        ],
        [
         "BR2125",
         "DKW Motors",
         null
        ],
        [
         "BR0189",
         "Bitter Motors",
         null
        ],
        [
         "BR0513",
         "e.GO Mobile Motors",
         null
        ],
        [
         "BR0544",
         "Facel Vega Motors",
         null
        ],
        [
         "BR0775",
         "Hennessey Motors",
         null
        ],
        [
         "BR1445",
         "Opel Motors",
         null
        ],
        [
         "BR1654",
         "Rivian Motors",
         null
        ],
        [
         "BR1743",
         "Saturn Motors",
         null
        ],
        [
         "BR2046",
         "Chrysler Motors",
         null
        ],
        [
         "BR2138",
         "Horch Motors",
         null
        ],
        [
         "BR0006",
         "AC Cars Motors",
         null
        ],
        [
         "BR0139",
         "Audi Motors",
         null
        ],
        [
         "BR0649",
         "Ford India Motors",
         null
        ],
        [
         "BR1050",
         "Lamborghini Motors",
         null
        ],
        [
         "BR1071",
         "Lexus Motors",
         null
        ],
        [
         "BR12486",
         "Zastava Motors",
         null
        ],
        [
         "BR1307",
         "Mini Motors",
         null
        ],
        [
         "BR1661",
         "Rolls-Royce Motors",
         null
        ],
        [
         "BR1832",
         "Spyker Motors",
         null
        ],
        [
         "BR1934",
         "Tesla Motors",
         null
        ],
        [
         "BR2065",
         "Westfield Motors",
         null
        ],
        [
         "BR2129",
         "DKW Motors",
         null
        ],
        [
         "BR2441",
         "Jennings Ford Automobile Dealership",
         null
        ],
        [
         "BR0153",
         "Auto-Union Motors",
         null
        ],
        [
         "BR0968",
         "Jaguar Motors",
         null
        ],
        [
         "BR11586",
         "Tesla Motors",
         null
        ],
        [
         "BR1255",
         "Mercury Motors",
         null
        ],
        [
         "BR1402",
         "Noble Motors",
         null
        ],
        [
         "BR1965",
         "Toyota India Motors",
         null
        ],
        [
         "BR1969",
         "Toyota India Motors",
         null
        ],
        [
         "BR2085",
         "Zastava Motors",
         null
        ],
        [
         "BR2288",
         "Herald Motors",
         null
        ],
        [
         "BR5706",
         "Iveco Motors",
         null
        ],
        [
         "BR0461",
         "DeSoto Motors",
         null
        ],
        [
         "BR0568",
         "Fiat Motors",
         null
        ],
        [
         "BR0666",
         "Asia Motors Motors",
         null
        ],
        [
         "BR0773",
         "Hennessey Motors",
         null
        ],
        [
         "BR0852",
         "Hummer Motors",
         null
        ],
        [
         "BR1322",
         "Monica Motors",
         null
        ],
        [
         "BR0032",
         "Alfa Romeo Motors",
         null
        ],
        [
         "BR0212",
         "Borgward (including Goliath and Lloyd) Motors",
         null
        ],
        [
         "BR0728",
         "GMC Motors",
         null
        ],
        [
         "BR0861",
         "Hyundai Motors",
         null
        ],
        [
         "BR0868",
         "Hyundai Motors",
         null
        ],
        [
         "BR0966",
         "Auverland Motors",
         null
        ],
        [
         "BR1182",
         "Maserati Motors",
         null
        ],
        [
         "BR0762",
         "Heinkel Motors",
         null
        ],
        [
         "BR13506",
         "Das Motors",
         null
        ],
        [
         "BR14586",
         "Hupmobile Building",
         null
        ],
        [
         "BR1628",
         "Ranger Motors",
         null
        ],
        [
         "BR1658",
         "Rivian Motors",
         null
        ],
        [
         "BR1711",
         "San Motors",
         null
        ],
        [
         "BR1763",
         "Seat Motors",
         null
        ],
        [
         "BR1989",
         "TVR Motors",
         null
        ],
        [
         "BR2468",
         "Kindel Building",
         null
        ],
        [
         "BR0031",
         "Alfa Romeo Motors",
         null
        ],
        [
         "BR0121",
         "Aston Martin Motors",
         null
        ],
        [
         "BR0171",
         "Bentley Motors",
         null
        ],
        [
         "BR0500",
         "Donkervoort Motors",
         null
        ],
        [
         "BR0638",
         "Ford Europe Motors",
         null
        ],
        [
         "BR0650",
         "Ford India Motors",
         null
        ],
        [
         "BR1017",
         "Koenigsegg Motors",
         null
        ],
        [
         "BR10746",
         "Simca do Brasil Motors",
         null
        ],
        [
         "BR1263",
         "Merkur Motors",
         null
        ],
        [
         "BR1403",
         "Noble Motors",
         null
        ],
        [
         "BR1947",
         "Tornado Motors",
         null
        ],
        [
         "BR2447",
         "Jennings Ford Automobile Dealership",
         null
        ],
        [
         "BR3246",
         "Facel Vega Motors",
         null
        ],
        [
         "BR0169",
         "Auverland Motors",
         null
        ],
        [
         "BR0517",
         "e.GO Mobile Motors",
         null
        ],
        [
         "BR0911",
         "Isdera Motors",
         null
        ],
        [
         "BR1197",
         "Mastretta Motors",
         null
        ],
        [
         "BR1525",
         "Peugeot Motors",
         null
        ],
        [
         "BR1529",
         "Peugeot Motors",
         null
        ],
        [
         "BR1564",
         "Polestar Motors",
         null
        ],
        [
         "BR1577",
         "Pontiac, Asüna Motors",
         null
        ],
        [
         "BR1592",
         "Premier Motors",
         null
        ],
        [
         "BR1855",
         "Standard-Triumph Motors",
         null
        ],
        [
         "BR2150",
         "Wanderer Motors",
         null
        ],
        [
         "BR0315",
         "Checker Motors",
         null
        ],
        [
         "BR0408",
         "DAF Motors",
         null
        ],
        [
         "BR0502",
         "Edsel Motors",
         null
        ],
        [
         "BR0504",
         "Edsel Motors",
         null
        ],
        [
         "BR0572",
         "Fiat do Brasil Motors",
         null
        ],
        [
         "BR0617",
         "Ford Australia Motors",
         null
        ],
        [
         "BR0794",
         "Hindustan Motors",
         null
        ],
        [
         "BR0849",
         "Humber Motors",
         null
        ],
        [
         "BR0958",
         "Iveco Motors",
         null
        ],
        [
         "BR0995",
         "JPX Motors",
         null
        ],
        [
         "BR13026",
         "Lagonda  Motors",
         null
        ],
        [
         "BR1574",
         "Pontiac, Asüna Motors",
         null
        ],
        [
         "BR1594",
         "Premier Motors",
         null
        ],
        [
         "BR1731",
         "Santana Motors",
         null
        ],
        [
         "BR1944",
         "Tornado Motors",
         null
        ],
        [
         "BR2115",
         "Audi Motors",
         null
        ],
        [
         "BR0125",
         "Aston Martin Motors",
         null
        ],
        [
         "BR0297",
         "Cadillac Motors",
         null
        ],
        [
         "BR0372",
         "Cizeta-Moroder Motors",
         null
        ],
        [
         "BR0798",
         "Hindustan Motors",
         null
        ],
        [
         "BR0939",
         "Isotta Fraschini Motors",
         null
        ],
        [
         "BR1302",
         "Mini Motors",
         null
        ],
        [
         "BR1377",
         "Naza Motors",
         null
        ],
        [
         "BR14226",
         "Cass Motor Sales",
         null
        ],
        [
         "BR14526",
         "Howard Motor Company Building",
         null
        ],
        [
         "BR1463",
         "Pagani Motors",
         null
        ],
        [
         "BR1473",
         "Panhard Motors",
         null
        ],
        [
         "BR1952",
         "Toyota Motors",
         null
        ],
        [
         "BR2021",
         "Volkswagen Motors",
         null
        ],
        [
         "BR5886",
         "Jensen Motors",
         null
        ],
        [
         "BR0053",
         "Alvis Motors",
         null
        ],
        [
         "BR0054",
         "Alvis Motors",
         null
        ],
        [
         "BR0514",
         "e.GO Mobile Motors",
         null
        ],
        [
         "BR0744",
         "Gumpert Motors",
         null
        ],
        [
         "BR1012",
         "Koenigsegg Motors",
         null
        ],
        [
         "BR1159",
         "Marcos Motors",
         null
        ],
        [
         "BR1444",
         "Opel Motors",
         null
        ],
        [
         "BR1721",
         "Santa Matilde Motors",
         null
        ],
        [
         "BR1753",
         "Scion Motors",
         null
        ],
        [
         "BR2090",
         "Zastava Motors",
         null
        ],
        [
         "BR2399",
         "Clemens Automobile Company Building",
         null
        ],
        [
         "BR0140",
         "Audi Motors",
         null
        ],
        [
         "BR0690",
         "Geo Motors",
         null
        ],
        [
         "BR0922",
         "Iso Motors",
         null
        ],
        [
         "BR1349",
         "Morgan Motors",
         null
        ],
        [
         "BR1737",
         "Santana Motors",
         null
        ],
        [
         "BR1949",
         "Tornado Motors",
         null
        ],
        [
         "BR4806",
         "Holden Motors",
         null
        ],
        [
         "BR5826",
         "Jeep Motors",
         null
        ],
        [
         "BR8646",
         "Opel Motors",
         null
        ],
        [
         "BR0352",
         "Chrysler Europe Motors",
         null
        ],
        [
         "BR0458",
         "DeLorean Motors",
         null
        ],
        [
         "BR0784",
         "Hillman Motors",
         null
        ],
        [
         "BR1230",
         "Mazzanti Motors",
         null
        ],
        [
         "BR1425",
         "Oldsmobile Motors",
         null
        ],
        [
         "BR1967",
         "Toyota India Motors",
         null
        ],
        [
         "BR2091",
         "ZAZ Motors",
         null
        ],
        [
         "BR2429",
         "Howard Motor Company Building",
         null
        ],
        [
         "BR5346",
         "Innocenti Motors",
         null
        ],
        [
         "BR0144",
         "Autobianchi Motors",
         null
        ],
        [
         "BR1098",
         "Lincoln Motors",
         null
        ],
        [
         "BR1239",
         "McLaren Motors",
         null
        ],
        [
         "BR1747",
         "Saturn Motors",
         null
        ],
        [
         "BR1849",
         "SsangYong Motors",
         null
        ],
        [
         "BR2464",
         "Kindel Building",
         null
        ],
        [
         "BR9186",
         "PGO Motors",
         null
        ],
        [
         "BR0068",
         "AMC, Eagle Motors",
         null
        ],
        [
         "BR0291",
         "Cadillac Motors",
         null
        ],
        [
         "BR0452",
         "DeLorean Motors",
         null
        ],
        [
         "BR0672",
         "GAZ Motors",
         null
        ],
        [
         "BR0688",
         "Geo Motors",
         null
        ],
        [
         "BR0778",
         "Hennessey Motors",
         null
        ],
        [
         "BR10506",
         "Scion Motors",
         null
        ],
        [
         "BR1208",
         "Matra (including Deutsch-Bonnet, René Bonnet) Motors",
         null
        ],
        [
         "BR1290",
         "Mia Motors",
         null
        ],
        [
         "BR1343",
         "Morgan Motors",
         null
        ],
        [
         "BR1541",
         "Piaggio Motors",
         null
        ],
        [
         "BR1915",
         "Tatra Motors",
         null
        ],
        [
         "BR2048",
         "Volkswagen South Africa Motors",
         null
        ],
        [
         "BR2455",
         "Jones Motor Company",
         null
        ],
        [
         "BR2470",
         "Kindel Building",
         null
        ],
        [
         "BR0092",
         "ARO Motors",
         null
        ],
        [
         "BR0111",
         "Asia Motors Motors",
         null
        ],
        [
         "BR0383",
         "Dacia Motors",
         null
        ],
        [
         "BR0423",
         "Daimler Motors",
         null
        ],
        [
         "BR0713",
         "Glas Motors",
         null
        ],
        [
         "BR0817",
         "Honda Motors",
         null
        ],
        [
         "BR0928",
         "Iso Motors",
         null
        ],
        [
         "BR0993",
         "JPX Motors",
         null
        ],
        [
         "BR1061",
         "Land Rover Motors",
         null
        ],
        [
         "BR1301",
         "Mini Motors",
         null
        ],
        [
         "BR1605",
         "Proton Motors",
         null
        ],
        [
         "BR2075",
         "Wiesmann Motors",
         null
        ],
        [
         "BR2161",
         "Izh  Motors",
         null
        ],
        [
         "BR2178",
         "Lagonda  Motors",
         null
        ],
        [
         "BR0014",
         "Acura Motors",
         null
        ],
        [
         "BR0232",
         "British Leyland Motors",
         null
        ],
        [
         "BR0271",
         "Buick Motors",
         null
        ],
        [
         "BR0559",
         "Ferrari Motors",
         null
        ],
        [
         "BR0707",
         "Ginetta Motors",
         null
        ],
        [
         "BR0722",
         "GMC Motors",
         null
        ],
        [
         "BR0918",
         "Isdera Motors",
         null
        ],
        [
         "BR1163",
         "Marlin Motors",
         null
        ],
        [
         "BR1615",
         "Puma Motors",
         null
        ],
        [
         "BR2123",
         "DKW Motors",
         null
        ],
        [
         "BR2437",
         "Hupmobile Building",
         null
        ],
        [
         "BR2443",
         "Jennings Ford Automobile Dealership",
         null
        ],
        [
         "BR0101",
         "Artega Motors",
         null
        ],
        [
         "BR0112",
         "Asia Motors Motors",
         null
        ],
        [
         "BR0222",
         "Bristol Motors",
         null
        ],
        [
         "BR0230",
         "Bristol Motors",
         null
        ],
        [
         "BR1015",
         "Koenigsegg Motors",
         null
        ],
        [
         "BR1141",
         "Mahindra Motors",
         null
        ],
        [
         "BR1358",
         "Moskwitch Motors",
         null
        ],
        [
         "BR1922",
         "Tazzari Motors",
         null
        ],
        [
         "BR2402",
         "Colman Automotive Building",
         null
        ],
        [
         "BR0552",
         "Ferrari Motors",
         null
        ],
        [
         "BR0658",
         "Freightliner Motors",
         null
        ],
        [
         "BR0859",
         "Hummer Motors",
         null
        ],
        [
         "BR1310",
         "Mini Motors",
         null
        ],
        [
         "BR1391",
         "Nissan India Motors",
         null
        ],
        [
         "BR1714",
         "San Motors",
         null
        ],
        [
         "BR1945",
         "Tornado Motors",
         null
        ],
        [
         "BR2263",
         "Ramani Motors",
         null
        ],
        [
         "BR0069",
         "AMC, Eagle Motors",
         null
        ],
        [
         "BR0198",
         "BMW Motors",
         null
        ],
        [
         "BR0621",
         "Ford do Brasil Motors",
         null
        ],
        [
         "BR0997",
         "JPX Motors",
         null
        ],
        [
         "BR1215",
         "Mazda Motors",
         null
        ],
        [
         "BR1407",
         "Noble Motors",
         null
        ],
        [
         "BR2024",
         "Volkswagen Motors",
         null
        ],
        [
         "BR0863",
         "Hyundai Motors",
         null
        ],
        [
         "BR0967",
         "Jaguar Motors",
         null
        ],
        [
         "BR1412",
         "NSU Motors",
         null
        ],
        [
         "BR1435",
         "Oltcit Motors",
         null
        ],
        [
         "BR1710",
         "Samsung Motors",
         null
        ],
        [
         "BR1929",
         "Tazzari Motors",
         null
        ],
        [
         "BR2134",
         "Horch Motors",
         null
        ],
        [
         "BR2230",
         "Wolseley  Motors",
         null
        ],
        [
         "BR2295",
         "Zion Automobils",
         null
        ],
        [
         "BR4446",
         "Gumpert Motors",
         null
        ],
        [
         "BR0519",
         "e.GO Mobile Motors",
         null
        ],
        [
         "BR0660",
         "Freightliner Motors",
         null
        ],
        [
         "BR11106",
         "Standard-Triumph Motors",
         null
        ],
        [
         "BR1404",
         "Noble Motors",
         null
        ],
        [
         "BR1869",
         "Studebaker Motors",
         null
        ],
        [
         "BR1880",
         "Subaru Motors",
         null
        ],
        [
         "BR2071",
         "Wiesmann Motors",
         null
        ],
        [
         "BR2232",
         "Standard  Motors",
         null
        ],
        [
         "BR2427",
         "Howard Motor Company Building",
         null
        ],
        [
         "BR4746",
         "Hindustan Motors",
         null
        ],
        [
         "BR0044",
         "Alpine Motors",
         null
        ],
        [
         "BR0539",
         "Elva Motors",
         null
        ],
        [
         "BR1093",
         "Lincoln Motors",
         null
        ],
        [
         "BR1241",
         "Mercedes-Benz (including Maybach) Motors",
         null
        ],
        [
         "BR1408",
         "Noble Motors",
         null
        ],
        [
         "BR14766",
         "Kindel Building",
         null
        ],
        [
         "BR1689",
         "SAIC Motor Motors",
         null
        ],
        [
         "BR1700",
         "Saleen Motors",
         null
        ],
        [
         "BR2372",
         "Cass Motor Sales",
         null
        ],
        [
         "BR0129",
         "Aston Martin Motors",
         null
        ],
        [
         "BR0211",
         "Borgward (including Goliath and Lloyd) Motors",
         null
        ],
        [
         "BR0321",
         "Chevrolet Motors",
         null
        ],
        [
         "BR0433",
         "Datsun Motors",
         null
        ],
        [
         "BR0607",
         "Ford America Motors",
         null
        ],
        [
         "BR0764",
         "Heinkel Motors",
         null
        ],
        [
         "BR0984",
         "Jensen Motors",
         null
        ],
        [
         "BR2159",
         "Maybach  Motors",
         null
        ],
        [
         "BR0009",
         "AC Cars Motors",
         null
        ],
        [
         "BR0783",
         "Hillman Motors",
         null
        ],
        [
         "BR0878",
         "IFA (including Trabant, Wartburg, Barkas) Motors",
         null
        ],
        [
         "BR1483",
         "Panoz Motors",
         null
        ],
        [
         "BR2171",
         "Lagonda  Motors",
         null
        ],
        [
         "BR2323",
         "Blankinship Motor Company Building",
         null
        ],
        [
         "BR2362",
         "Casa de cadillac",
         null
        ],
        [
         "BR0254",
         "Austin, Rover Motors",
         null
        ],
        [
         "BR0823",
         "Honda India Motors",
         null
        ],
        [
         "BR14166",
         "Casa de cadillac",
         null
        ],
        [
         "BR1540",
         "PGO Motors",
         null
        ],
        [
         "BR1613",
         "Puma Motors",
         null
        ],
        [
         "BR1892",
         "Suzuki Motors",
         null
        ],
        [
         "BR1948",
         "Tornado Motors",
         null
        ],
        [
         "BR1959",
         "Toyota Motors",
         null
        ],
        [
         "BR2106",
         "Chrysler Europe Motors",
         null
        ],
        [
         "BR7386",
         "McLaren Motors",
         null
        ],
        [
         "BR0021",
         "Aixam-Mega (including Arola) Motors",
         null
        ],
        [
         "BR0385",
         "Dacia Motors",
         null
        ],
        [
         "BR1083",
         "Ligier Motors",
         null
        ],
        [
         "BR1179",
         "Maruti Motors",
         null
        ],
        [
         "BR1240",
         "McLaren Motors",
         null
        ],
        [
         "BR14406",
         "Colman Automotive Building",
         null
        ],
        [
         "BR2017",
         "Venturi Motors",
         null
        ],
        [
         "BR2428",
         "Howard Motor Company Building",
         null
        ],
        [
         "BR0195",
         "BMW Motors",
         null
        ],
        [
         "BR0247",
         "Austin-Healey Motors",
         null
        ],
        [
         "BR0709",
         "Ginetta Motors",
         null
        ],
        [
         "BR0710",
         "Ginetta Motors",
         null
        ],
        [
         "BR1671",
         "Saab Motors",
         null
        ],
        [
         "BR2407",
         "Colman Automotive Building",
         null
        ],
        [
         "BR0328",
         "Chevrolet Motors",
         null
        ],
        [
         "BR0350",
         "Chrysler Motors",
         null
        ],
        [
         "BR0395",
         "Daewoo, Saehan, Chevrolet Korea Motors",
         null
        ],
        [
         "BR0581",
         "Fiat India Motors",
         null
        ],
        [
         "BR0627",
         "Ford do Brasil Motors",
         null
        ],
        [
         "BR0755",
         "Healey Motors",
         null
        ],
        [
         "BR1117",
         "LTI Motors",
         null
        ],
        [
         "BR1305",
         "Mini Motors",
         null
        ],
        [
         "BR1332",
         "Monteverdi Motors",
         null
        ],
        [
         "BR1378",
         "Naza Motors",
         null
        ],
        [
         "BR2285",
         "Herald Motors",
         null
        ],
        [
         "BR2353",
         "Cadillac Automobile Company Building",
         null
        ],
        [
         "BR7686",
         "Mia Motors",
         null
        ],
        [
         "BR0048",
         "Alpine Motors",
         null
        ],
        [
         "BR0293",
         "Cadillac Motors",
         null
        ],
        [
         "BR0301",
         "Caterham Motors",
         null
        ],
        [
         "BR0429",
         "Daimler Motors",
         null
        ],
        [
         "BR0585",
         "Fiat India Motors",
         null
        ],
        [
         "BR0720",
         "Glas Motors",
         null
        ],
        [
         "BR0787",
         "Hillman Motors",
         null
        ],
        [
         "BR0871",
         "IFA (including Trabant, Wartburg, Barkas) Motors",
         null
        ],
        [
         "BR1025",
         "KTM Motors",
         null
        ],
        [
         "BR2095",
         "ZAZ Motors",
         null
        ],
        [
         "BR2133",
         "Horch Motors",
         null
        ],
        [
         "BR0005",
         "AC Cars Motors",
         null
        ],
        [
         "BR0791",
         "Hindustan Motors",
         null
        ],
        [
         "BR0846",
         "Autobianchi Motors",
         null
        ],
        [
         "BR0883",
         "Infiniti Motors",
         null
        ],
        [
         "BR1088",
         "Ligier Motors",
         null
        ],
        [
         "BR1181",
         "Maserati Motors",
         null
        ],
        [
         "BR1565",
         "Polestar Motors",
         null
        ],
        [
         "BR2367",
         "Casa de cadillac",
         null
        ],
        [
         "BR2380",
         "Cass Motor Sales",
         null
        ],
        [
         "BR6546",
         "Lincoln Motors",
         null
        ],
        [
         "BR9066",
         "Perodua Motors",
         null
        ],
        [
         "BR0045",
         "Alpine Motors",
         null
        ],
        [
         "BR1223",
         "Mazzanti Motors",
         null
        ],
        [
         "BR12666",
         "Audi Motors",
         null
        ],
        [
         "BR1364",
         "Nash Motors",
         null
        ],
        [
         "BR1601",
         "Proton Motors",
         null
        ],
        [
         "BR1878",
         "Subaru Motors",
         null
        ],
        [
         "BR2042",
         "Volkswagen South Africa Motors",
         null
        ],
        [
         "BR0473",
         "De Tomaso Motors",
         null
        ],
        [
         "BR1053",
         "Lancia Motors",
         null
        ],
        [
         "BR1244",
         "Mercedes-Benz (including Maybach) Motors",
         null
        ],
        [
         "BR1785",
         "Simca Motors",
         null
        ],
        [
         "BR2101",
         "ZIL Motors",
         null
        ],
        [
         "BR2165",
         "Izh  Motors",
         null
        ],
        [
         "BR7146",
         "Mastretta Motors",
         null
        ],
        [
         "BR0126",
         "Aixam-Mega (including Arola) Motors",
         null
        ],
        [
         "BR0359",
         "Chrysler Europe Motors",
         null
        ],
        [
         "BR0611",
         "Ford Australia Motors",
         null
        ],
        [
         "BR1104",
         "Lotus Motors",
         null
        ],
        [
         "BR1174",
         "Maruti Motors",
         null
        ],
        [
         "BR1277",
         "Messerschmitt Motors",
         null
        ],
        [
         "BR1419",
         "NSU Motors",
         null
        ],
        [
         "BR1510",
         "Peel Motors",
         null
        ],
        [
         "BR1653",
         "Rivian Motors",
         null
        ],
        [
         "BR1780",
         "Shelby SuperCars Motors",
         null
        ],
        [
         "BR2135",
         "Horch Motors",
         null
        ],
        [
         "BR2167",
         "Izh  Motors",
         null
        ],
        [
         "BR2371",
         "Cass Motor Sales",
         null
        ],
        [
         "BR3606",
         "Ford America Motors",
         null
        ],
        [
         "BR0143",
         "Autobianchi Motors",
         null
        ],
        [
         "BR1283",
         "Mia Motors",
         null
        ],
        [
         "BR1328",
         "Monica Motors",
         null
        ],
        [
         "BR1783",
         "Simca Motors",
         null
        ],
        [
         "BR0727",
         "GMC Motors",
         null
        ],
        [
         "BR0892",
         "Innocenti Motors",
         null
        ],
        [
         "BR1123",
         "LuAZ Motors",
         null
        ],
        [
         "BR12906",
         "Maybach  Motors",
         null
        ],
        [
         "BR1690",
         "SAIC Motor Motors",
         null
        ],
        [
         "BR1843",
         "SsangYong Motors",
         null
        ],
        [
         "BR2067",
         "Westfield Motors",
         null
        ],
        [
         "BR2099",
         "ZAZ Motors",
         null
        ],
        [
         "BR0057",
         "Alvis Motors",
         null
        ],
        [
         "BR0929",
         "Iso Motors",
         null
        ],
        [
         "BR1842",
         "SsangYong Motors",
         null
        ],
        [
         "BR0073",
         "Anadol Motors",
         null
        ],
        [
         "BR0492",
         "Donkervoort Motors",
         null
        ],
        [
         "BR0565",
         "Fiat Motors",
         null
        ],
        [
         "BR0851",
         "Hummer Motors",
         null
        ],
        [
         "BR1032",
         "Lada Motors",
         null
        ],
        [
         "BR1190",
         "Maserati Motors",
         null
        ],
        [
         "BR1410",
         "Noble Motors",
         null
        ],
        [
         "BR1678",
         "Saab Motors",
         null
        ],
        [
         "BR2082",
         "Zastava Motors",
         null
        ],
        [
         "BR2124",
         "DKW Motors",
         null
        ],
        [
         "BR2131",
         "Horch Motors",
         null
        ],
        [
         "BR2247",
         "Talbot  Motors",
         null
        ],
        [
         "BR2460",
         "Jones Motor Company",
         null
        ],
        [
         "BR3786",
         "Ford Europe Motors",
         null
        ],
        [
         "BR0080",
         "Anadol Motors",
         null
        ],
        [
         "BR0085",
         "Ariel Motors",
         null
        ],
        [
         "BR0220",
         "Borgward (including Goliath and Lloyd) Motors",
         null
        ],
        [
         "BR0342",
         "Chrysler Motors",
         null
        ],
        [
         "BR0624",
         "Ford do Brasil Motors",
         null
        ],
        [
         "BR0730",
         "GMC Motors",
         null
        ],
        [
         "BR0845",
         "Humber Motors",
         null
        ],
        [
         "BR0935",
         "Isotta Fraschini Motors",
         null
        ],
        [
         "BR1055",
         "Lancia Motors",
         null
        ],
        [
         "BR1326",
         "Bristol Motors",
         null
        ],
        [
         "BR1867",
         "Studebaker Motors",
         null
        ],
        [
         "BR1895",
         "Suzuki Motors",
         null
        ],
        [
         "BR2153",
         "Maybach  Motors",
         null
        ],
        [
         "BR2184",
         "MG  Motors",
         null
        ],
        [
         "BR2250",
         "Talbot  Motors",
         null
        ],
        [
         "BR2282",
         "Herald Motors",
         null
        ],
        [
         "BR6606",
         "Lotus Motors",
         null
        ],
        [
         "BR0152",
         "Auto-Union Motors",
         null
        ],
        [
         "BR0842",
         "Humber Motors",
         null
        ],
        [
         "BR1291",
         "Micro Motors",
         null
        ],
        [
         "BR2199",
         "Morris  Motors",
         null
        ],
        [
         "BR2451",
         "Jones Motor Company",
         null
        ],
        [
         "BR0029",
         "Aixam-Mega (including Arola) Motors",
         null
        ],
        [
         "BR0033",
         "Alfa Romeo Motors",
         null
        ],
        [
         "BR0229",
         "Bristol Motors",
         null
        ],
        [
         "BR0457",
         "DeLorean Motors",
         null
        ],
        [
         "BR0605",
         "Ford America Motors",
         null
        ],
        [
         "BR0950",
         "Isuzu Motors",
         null
        ],
        [
         "BR0990",
         "Jensen Motors",
         null
        ],
        [
         "BR1585",
         "Porsche Motors",
         null
        ],
        [
         "BR1672",
         "Saab Motors",
         null
        ],
        [
         "BR4026",
         "GAZ Motors",
         null
        ],
        [
         "BR0424",
         "Daimler Motors",
         null
        ],
        [
         "BR0971",
         "Jeep Motors",
         null
        ],
        [
         "BR1114",
         "LTI Motors",
         null
        ],
        [
         "BR1258",
         "Mercury Motors",
         null
        ],
        [
         "BR1488",
         "Panoz Motors",
         null
        ],
        [
         "BR1679",
         "Saab Motors",
         null
        ],
        [
         "BR2172",
         "Lagonda  Motors",
         null
        ],
        [
         "BR2462",
         "Kindel Building",
         null
        ],
        [
         "BR0094",
         "ARO Motors",
         null
        ],
        [
         "BR0357",
         "Chrysler Europe Motors",
         null
        ],
        [
         "BR0417",
         "Daihatsu Motors",
         null
        ],
        [
         "BR0854",
         "Hummer Motors",
         null
        ],
        [
         "BR1014",
         "Koenigsegg Motors",
         null
        ],
        [
         "BR1245",
         "Mercedes-Benz (including Maybach) Motors",
         null
        ],
        [
         "BR1295",
         "Micro Motors",
         null
        ],
        [
         "BR1625",
         "Ranger Motors",
         null
        ],
        [
         "BR1683",
         "SAIC Motor Motors",
         null
        ],
        [
         "BR1742",
         "Saturn Motors",
         null
        ],
        [
         "BR1827",
         "Smart Motors",
         null
        ],
        [
         "BR1975",
         "Turner Motors",
         null
        ],
        [
         "BR0120",
         "Asia Motors Motors",
         null
        ],
        [
         "BR0382",
         "Dacia Motors",
         null
        ],
        [
         "BR0470",
         "DeSoto Motors",
         null
        ],
        [
         "BR1034",
         "Lada Motors",
         null
        ],
        [
         "BR10626",
         "Shelby SuperCars Motors",
         null
        ],
        [
         "BR1099",
         "Lincoln Motors",
         null
        ],
        [
         "BR2351",
         "Cadillac Automobile Company Building",
         null
        ],
        [
         "BR2394",
         "Clemens Automobile Company Building",
         null
        ],
        [
         "BR0310",
         "Caterham Motors",
         null
        ],
        [
         "BR0602",
         "Ford America Motors",
         null
        ],
        [
         "BR0694",
         "Gilbern Motors",
         null
        ],
        [
         "BR1668",
         "Rolls-Royce Motors",
         null
        ],
        [
         "BR2148",
         "Wanderer Motors",
         null
        ],
        [
         "BR2309",
         "Atlantic Motor Company",
         null
        ],
        [
         "BR0546",
         "ARO Motors",
         null
        ],
        [
         "BR0678",
         "GAZ Motors",
         null
        ],
        [
         "BR1569",
         "Polestar Motors",
         null
        ],
        [
         "BR1570",
         "Polestar Motors",
         null
        ],
        [
         "BR1811",
         "Skoda Motors",
         null
        ],
        [
         "BR1882",
         "Sunbeam Motors",
         null
        ],
        [
         "BR1901",
         "Tata Motors",
         null
        ],
        [
         "BR1937",
         "Tesla Motors",
         null
        ],
        [
         "BR1988",
         "TVR Motors",
         null
        ],
        [
         "BR2034",
         "Volkswagen do Brasil Motors",
         null
        ],
        [
         "BR2334",
         "Bohn Motor Company Automobile Dealership",
         null
        ],
        [
         "BR0074",
         "Anadol Motors",
         null
        ],
        [
         "BR0103",
         "Artega Motors",
         null
        ],
        [
         "BR0338",
         "Chevrolet India Motors",
         null
        ],
        [
         "BR0418",
         "Daihatsu Motors",
         null
        ],
        [
         "BR0435",
         "Datsun Motors",
         null
        ],
        [
         "BR0533",
         "Elva Motors",
         null
        ],
        [
         "BR0879",
         "IFA (including Trabant, Wartburg, Barkas) Motors",
         null
        ],
        [
         "BR1512",
         "Perodua Motors",
         null
        ],
        [
         "BR2234",
         "Standard  Motors",
         null
        ],
        [
         "BR2245",
         "Talbot  Motors",
         null
        ],
        [
         "BR2283",
         "Herald Motors",
         null
        ],
        [
         "BR2438",
         "Hupmobile Building",
         null
        ],
        [
         "BR8466",
         "NSU Motors",
         null
        ],
        [
         "BR8766",
         "Pagani Motors",
         null
        ],
        [
         "BR0961",
         "Jaguar Motors",
         null
        ],
        [
         "BR1471",
         "Panhard Motors",
         null
        ],
        [
         "BR1603",
         "Proton Motors",
         null
        ],
        [
         "BR1879",
         "Subaru Motors",
         null
        ],
        [
         "BR2211",
         "Riley  Motors",
         null
        ],
        [
         "BR2320",
         "2008 NRHP-listed",
         null
        ],
        [
         "BR0020",
         "Acura Motors",
         null
        ],
        [
         "BR0339",
         "Chevrolet India Motors",
         null
        ],
        [
         "BR0375",
         "Cizeta-Moroder Motors",
         null
        ],
        [
         "BR0404",
         "DAF Motors",
         null
        ],
        [
         "BR0752",
         "Healey Motors",
         null
        ],
        [
         "BR1315",
         "Mitsubishi Motors",
         null
        ],
        [
         "BR1392",
         "Nissan India Motors",
         null
        ],
        [
         "BR1542",
         "Piaggio Motors",
         null
        ],
        [
         "BR2302",
         "Atlantic Motor Company",
         null
        ],
        [
         "BR0397",
         "Daewoo, Saehan, Chevrolet Korea Motors",
         null
        ],
        [
         "BR0675",
         "GAZ Motors",
         null
        ],
        [
         "BR11526",
         "Tazzari Motors",
         null
        ],
        [
         "BR1619",
         "Puma Motors",
         null
        ],
        [
         "BR1798",
         "Simca do Brasil Motors",
         null
        ],
        [
         "BR1994",
         "UAZ Motors",
         null
        ],
        [
         "BR2342",
         "Buick Automobile Company Building",
         null
        ],
        [
         "BR7506",
         "Mercury Motors",
         null
        ],
        [
         "BR0049",
         "Alpine Motors",
         null
        ],
        [
         "BR0640",
         "Ford Europe Motors",
         null
        ],
        [
         "BR0653",
         "Freightliner Motors",
         null
        ],
        [
         "BR0897",
         "Innocenti Motors",
         null
        ],
        [
         "BR1520",
         "Perodua Motors",
         null
        ],
        [
         "BR1621",
         "Ranger Motors",
         null
        ],
        [
         "BR2008",
         "Vauxhall Motors",
         null
        ],
        [
         "BR2170",
         "Izh  Motors",
         null
        ],
        [
         "BR2526",
         "Daimler Motors",
         null
        ],
        [
         "BR3006",
         "Edsel Motors",
         null
        ],
        [
         "BR8226",
         "Naza Motors",
         null
        ],
        [
         "BR0170",
         "Auverland Motors",
         null
        ],
        [
         "BR0843",
         "Humber Motors",
         null
        ],
        [
         "BR1249",
         "Mercedes-Benz (including Maybach) Motors",
         null
        ],
        [
         "BR1552",
         "Plymouth Motors",
         null
        ],
        [
         "BR2258",
         "Das Motors",
         null
        ],
        [
         "BR0084",
         "Ariel Motors",
         null
        ],
        [
         "BR0610",
         "Ford America Motors",
         null
        ],
        [
         "BR1077",
         "Lexus Motors",
         null
        ],
        [
         "BR1101",
         "Lotus Motors",
         null
        ],
        [
         "BR1107",
         "Lotus Motors",
         null
        ],
        [
         "BR1209",
         "Matra (including Deutsch-Bonnet, René Bonnet) Motors",
         null
        ],
        [
         "BR1235",
         "McLaren Motors",
         null
        ],
        [
         "BR1417",
         "NSU Motors",
         null
        ],
        [
         "BR1519",
         "Perodua Motors",
         null
        ],
        [
         "BR1524",
         "Peugeot Motors",
         null
        ],
        [
         "BR1640",
         "Reliant Motors",
         null
        ],
        [
         "BR2110",
         "ZIL Motors",
         null
        ],
        [
         "BR2307",
         "Atlantic Motor Company",
         null
        ],
        [
         "BR2457",
         "Jones Motor Company",
         null
        ],
        [
         "BR5106",
         "Hummer Motors",
         null
        ],
        [
         "BR6306",
         "Lancia Motors",
         null
        ],
        [
         "BR0108",
         "Artega Motors",
         null
        ],
        [
         "BR0380",
         "Cizeta-Moroder Motors",
         null
        ],
        [
         "BR0577",
         "Fiat do Brasil Motors",
         null
        ],
        [
         "BR0812",
         "Honda Motors",
         null
        ],
        [
         "BR0865",
         "Hyundai Motors",
         null
        ],
        [
         "BR1202",
         "Matra (including Deutsch-Bonnet, René Bonnet) Motors",
         null
        ],
        [
         "BR1504",
         "Peel Motors",
         null
        ],
        [
         "BR1833",
         "Spyker Motors",
         null
        ],
        [
         "BR2041",
         "Volkswagen South Africa Motors",
         null
        ],
        [
         "BR2313",
         "2008 NRHP-listed",
         null
        ],
        [
         "BR3726",
         "Ford do Brasil Motors",
         null
        ],
        [
         "BR7326",
         "Mazzanti Motors",
         null
        ],
        [
         "BR0334",
         "Chevrolet India Motors",
         null
        ],
        [
         "BR0364",
         "Citroën Motors",
         null
        ],
        [
         "BR0371",
         "Cizeta-Moroder Motors",
         null
        ],
        [
         "BR0485",
         "Dodge Motors",
         null
        ],
        [
         "BR0909",
         "Invicta Motors",
         null
        ],
        [
         "BR0921",
         "Iso Motors",
         null
        ],
        [
         "BR0267",
         "Bugatti Motors",
         null
        ],
        [
         "BR0410",
         "DAF Motors",
         null
        ],
        [
         "BR0469",
         "DeSoto Motors",
         null
        ],
        [
         "BR0654",
         "Freightliner Motors",
         null
        ],
        [
         "BR1528",
         "Peugeot Motors",
         null
        ],
        [
         "BR2183",
         "MG  Motors",
         null
        ],
        [
         "BR2264",
         "Ramani Motors",
         null
        ],
        [
         "BR0041",
         "Alpine Motors",
         null
        ],
        [
         "BR0122",
         "Aston Martin Motors",
         null
        ],
        [
         "BR0349",
         "Chrysler Motors",
         null
        ],
        [
         "BR0906",
         "Auto-Union Motors",
         null
        ],
        [
         "BR0973",
         "Jeep Motors",
         null
        ],
        [
         "BR1168",
         "Marlin Motors",
         null
        ],
        [
         "BR1231",
         "McLaren Motors",
         null
        ],
        [
         "BR1518",
         "Perodua Motors",
         null
        ],
        [
         "BR1639",
         "Reliant Motors",
         null
        ],
        [
         "BR2290",
         "Herald Motors",
         null
        ],
        [
         "BR0302",
         "Caterham Motors",
         null
        ],
        [
         "BR0468",
         "DeSoto Motors",
         null
        ],
        [
         "BR0477",
         "De Tomaso Motors",
         null
        ],
        [
         "BR0768",
         "Heinkel Motors",
         null
        ],
        [
         "BR0824",
         "Honda India Motors",
         null
        ],
        [
         "BR1008",
         "Kia Motors",
         null
        ],
        [
         "BR1674",
         "Saab Motors",
         null
        ],
        [
         "BR1697",
         "Saleen Motors",
         null
        ],
        [
         "BR1715",
         "San Motors",
         null
        ],
        [
         "BR1782",
         "Simca Motors",
         null
        ],
        [
         "BR1797",
         "Simca do Brasil Motors",
         null
        ],
        [
         "BR1924",
         "Tazzari Motors",
         null
        ],
        [
         "BR4686",
         "Hillman Motors",
         null
        ],
        [
         "BR8826",
         "Panhard Motors",
         null
        ],
        [
         "BR0322",
         "Chevrolet Motors",
         null
        ],
        [
         "BR0724",
         "GMC Motors",
         null
        ],
        [
         "BR0994",
         "JPX Motors",
         null
        ],
        [
         "BR1173",
         "Maruti Motors",
         null
        ],
        [
         "BR1692",
         "Saleen Motors",
         null
        ],
        [
         "BR1875",
         "Subaru Motors",
         null
        ],
        [
         "BR0004",
         "AC Cars Motors",
         null
        ],
        [
         "BR0067",
         "AMC, Eagle Motors",
         null
        ],
        [
         "BR0459",
         "DeLorean Motors",
         null
        ],
        [
         "BR0488",
         "Dodge Motors",
         null
        ],
        [
         "BR0663",
         "FSO Motors",
         null
        ],
        [
         "BR0711",
         "Glas Motors",
         null
        ],
        [
         "BR0747",
         "Gumpert Motors",
         null
        ],
        [
         "BR0894",
         "Innocenti Motors",
         null
        ],
        [
         "BR1039",
         "Lada Motors",
         null
        ],
        [
         "BR14046",
         "Buick Automobile Company Building",
         null
        ],
        [
         "BR1440",
         "Oltcit Motors",
         null
        ],
        [
         "BR1492",
         "Panther Motors",
         null
        ],
        [
         "BR1557",
         "Plymouth Motors",
         null
        ],
        [
         "BR2388",
         "Claremore Auto Dealership",
         null
        ],
        [
         "BR0224",
         "Bristol Motors",
         null
        ],
        [
         "BR1303",
         "Mini Motors",
         null
        ],
        [
         "BR1304",
         "Mini Motors",
         null
        ],
        [
         "BR13086",
         "MG  Motors",
         null
        ],
        [
         "BR1567",
         "Polestar Motors",
         null
        ],
        [
         "BR1659",
         "Rivian Motors",
         null
        ],
        [
         "BR1725",
         "Santa Matilde Motors",
         null
        ],
        [
         "BR2104",
         "ZIL Motors",
         null
        ],
        [
         "BR6426",
         "Lexus Motors",
         null
        ],
        [
         "BR0697",
         "Gilbern Motors",
         null
        ],
        [
         "BR0781",
         "Hillman Motors",
         null
        ],
        [
         "BR0931",
         "Isotta Fraschini Motors",
         null
        ],
        [
         "BR1070",
         "Land Rover Motors",
         null
        ],
        [
         "BR1130",
         "LuAZ Motors",
         null
        ],
        [
         "BR1397",
         "Nissan India Motors",
         null
        ],
        [
         "BR1595",
         "Premier Motors",
         null
        ],
        [
         "BR1985",
         "TVR Motors",
         null
        ],
        [
         "BR2011",
         "Venturi Motors",
         null
        ],
        [
         "BR2089",
         "Zastava Motors",
         null
        ],
        [
         "BR0484",
         "Dodge Motors",
         null
        ],
        [
         "BR0899",
         "Innocenti Motors",
         null
        ],
        [
         "BR1379",
         "Naza Motors",
         null
        ],
        [
         "BR1903",
         "Tata Motors",
         null
        ],
        [
         "BR0303",
         "Caterham Motors",
         null
        ],
        [
         "BR0523",
         "Eicher Polaris Motors",
         null
        ],
        [
         "BR0538",
         "Elva Motors",
         null
        ],
        [
         "BR1363",
         "Nash Motors",
         null
        ],
        [
         "BR1459",
         "Packard Motors",
         null
        ],
        [
         "BR1837",
         "Spyker Motors",
         null
        ],
        [
         "BR1918",
         "Tatra Motors",
         null
        ],
        [
         "BR2281",
         "Herald Motors",
         null
        ],
        [
         "BR0025",
         "Aixam-Mega (including Arola) Motors",
         null
        ],
        [
         "BR1068",
         "Land Rover Motors",
         null
        ],
        [
         "BR1135",
         "Lynx Motors",
         null
        ],
        [
         "BR1560",
         "Plymouth Motors",
         null
        ],
        [
         "BR1717",
         "San Motors",
         null
        ],
        [
         "BR1923",
         "Tazzari Motors",
         null
        ],
        [
         "BR1964",
         "Toyota India Motors",
         null
        ],
        [
         "BR4266",
         "Glas Motors",
         null
        ],
        [
         "BR0159",
         "Auto-Union Motors",
         null
        ],
        [
         "BR0331",
         "Chevrolet India Motors",
         null
        ],
        [
         "BR0681",
         "Geo Motors",
         null
        ],
        [
         "BR0703",
         "Ginetta Motors",
         null
        ],
        [
         "BR0832",
         "Hudson Motors",
         null
        ],
        [
         "BR0880",
         "IFA (including Trabant, Wartburg, Barkas) Motors",
         null
        ],
        [
         "BR0999",
         "JPX Motors",
         null
        ],
        [
         "BR1974",
         "Turner Motors",
         null
        ],
        [
         "BR2180",
         "Lagonda  Motors",
         null
        ],
        [
         "BR0923",
         "Iso Motors",
         null
        ],
        [
         "BR0953",
         "Iveco Motors",
         null
        ],
        [
         "BR1498",
         "Panther Motors",
         null
        ],
        [
         "BR1583",
         "Porsche Motors",
         null
        ],
        [
         "BR1709",
         "Samsung Motors",
         null
        ],
        [
         "BR1723",
         "Santa Matilde Motors",
         null
        ],
        [
         "BR1920",
         "Tatra Motors",
         null
        ],
        [
         "BR2222",
         "Wolseley  Motors",
         null
        ],
        [
         "BR2231",
         "Standard  Motors",
         null
        ],
        [
         "BR2273",
         "Deccan Motors",
         null
        ],
        [
         "BR2327",
         "Blankinship Motor Company Building",
         null
        ],
        [
         "BR0077",
         "Anadol Motors",
         null
        ],
        [
         "BR0344",
         "Chrysler Motors",
         null
        ],
        [
         "BR0774",
         "Hennessey Motors",
         null
        ],
        [
         "BR0901",
         "Invicta Motors",
         null
        ],
        [
         "BR1193",
         "Mastretta Motors",
         null
        ],
        [
         "BR1199",
         "Mastretta Motors",
         null
        ],
        [
         "BR1227",
         "Mazzanti Motors",
         null
        ],
        [
         "BR1317",
         "Mitsubishi Motors",
         null
        ],
        [
         "BR1428",
         "Oldsmobile Motors",
         null
        ],
        [
         "BR1589",
         "Porsche Motors",
         null
        ],
        [
         "BR1634",
         "Reliant Motors",
         null
        ],
        [
         "BR1894",
         "Suzuki Motors",
         null
        ],
        [
         "BR0387",
         "Dacia Motors",
         null
        ],
        [
         "BR0426",
         "Anadol Motors",
         null
        ],
        [
         "BR0573",
         "Fiat do Brasil Motors",
         null
        ],
        [
         "BR1234",
         "McLaren Motors",
         null
        ],
        [
         "BR1401",
         "Noble Motors",
         null
        ],
        [
         "BR1578",
         "Pontiac, Asüna Motors",
         null
        ],
        [
         "BR1788",
         "Simca Motors",
         null
        ],
        [
         "BR1805",
         "Singer Motors",
         null
        ],
        [
         "BR2144",
         "Wanderer Motors",
         null
        ],
        [
         "BR2243",
         "Talbot  Motors",
         null
        ],
        [
         "BR0154",
         "Auto-Union Motors",
         null
        ],
        [
         "BR0193",
         "BMW Motors",
         null
        ],
        [
         "BR0439",
         "Datsun Motors",
         null
        ],
        [
         "BR0910",
         "Invicta Motors",
         null
        ],
        [
         "BR1360",
         "Moskwitch Motors",
         null
        ],
        [
         "BR1649",
         "Renault Motors",
         null
        ],
        [
         "BR1804",
         "Singer Motors",
         null
        ],
        [
         "BR1963",
         "Toyota India Motors",
         null
        ],
        [
         "BR2019",
         "Venturi Motors",
         null
        ],
        [
         "BR0098",
         "ARO Motors",
         null
        ],
        [
         "BR0141",
         "Autobianchi Motors",
         null
        ],
        [
         "BR0442",
         "Delahaye Motors",
         null
        ],
        [
         "BR0590",
         "Fiat India Motors",
         null
        ],
        [
         "BR10086",
         "SAIC Motor Motors",
         null
        ],
        [
         "BR1043",
         "Lamborghini Motors",
         null
        ],
        [
         "BR1222",
         "Mazzanti Motors",
         null
        ],
        [
         "BR1393",
         "Nissan India Motors",
         null
        ],
        [
         "BR2031",
         "Volkswagen do Brasil Motors",
         null
        ],
        [
         "BR2187",
         "MG  Motors",
         null
        ],
        [
         "BR2207",
         "Austin  Motors",
         null
        ],
        [
         "BR2240",
         "Standard  Motors",
         null
        ],
        [
         "BR2361",
         "Casa de cadillac",
         null
        ],
        [
         "BR2392",
         "Clemens Automobile Company Building",
         null
        ],
        [
         "BR5946",
         "JPX Motors",
         null
        ],
        [
         "BR0208",
         "Bond Motors",
         null
        ],
        [
         "BR0260",
         "Austin, Rover Motors",
         null
        ],
        [
         "BR0309",
         "Caterham Motors",
         null
        ],
        [
         "BR1128",
         "LuAZ Motors",
         null
        ],
        [
         "BR1348",
         "Morgan Motors",
         null
        ],
        [
         "BR1667",
         "Rolls-Royce Motors",
         null
        ],
        [
         "BR2312",
         "2008 NRHP-listed",
         null
        ],
        [
         "BR2423",
         "Howard Motor Company Building",
         null
        ],
        [
         "BR4926",
         "Honda India Motors",
         null
        ],
        [
         "BR0391",
         "Daewoo, Saehan, Chevrolet Korea Motors",
         null
        ],
        [
         "BR0751",
         "Healey Motors",
         null
        ],
        [
         "BR0769",
         "Heinkel Motors",
         null
        ],
        [
         "BR0998",
         "JPX Motors",
         null
        ],
        [
         "BR1183",
         "Maserati Motors",
         null
        ],
        [
         "BR1313",
         "Mitsubishi Motors",
         null
        ],
        [
         "BR1455",
         "Packard Motors",
         null
        ],
        [
         "BR2463",
         "Kindel Building",
         null
        ],
        [
         "BR4566",
         "Heinkel Motors",
         null
        ],
        [
         "BR1108",
         "Lotus Motors",
         null
        ],
        [
         "BR1204",
         "Matra (including Deutsch-Bonnet, René Bonnet) Motors",
         null
        ],
        [
         "BR13326",
         "Wolseley  Motors",
         null
        ],
        [
         "BR1372",
         "Naza Motors",
         null
        ],
        [
         "BR1758",
         "Scion Motors",
         null
        ],
        [
         "BR1887",
         "Sunbeam Motors",
         null
        ],
        [
         "BR2214",
         "Riley  Motors",
         null
        ],
        [
         "BR7986",
         "Monteverdi Motors",
         null
        ],
        [
         "BR0515",
         "e.GO Mobile Motors",
         null
        ],
        [
         "BR0661",
         "FSO Motors",
         null
        ],
        [
         "BR1021",
         "KTM Motors",
         null
        ],
        [
         "BR1268",
         "Merkur Motors",
         null
        ],
        [
         "BR13266",
         "Riley  Motors",
         null
        ],
        [
         "BR2151",
         "Maybach  Motors",
         null
        ],
        [
         "BR2300",
         "Zion Automobils",
         null
        ],
        [
         "BR2382",
         "Claremore Auto Dealership",
         null
        ],
        [
         "BR0010",
         "AC Cars Motors",
         null
        ],
        [
         "BR0051",
         "Alvis Motors",
         null
        ],
        [
         "BR0341",
         "Chrysler Motors",
         null
        ],
        [
         "BR0384",
         "Dacia Motors",
         null
        ],
        [
         "BR0569",
         "Fiat Motors",
         null
        ],
        [
         "BR14646",
         "Jennings Ford Automobile Dealership",
         null
        ],
        [
         "BR1562",
         "Polestar Motors",
         null
        ],
        [
         "BR1872",
         "Subaru Motors",
         null
        ],
        [
         "BR2128",
         "DKW Motors",
         null
        ],
        [
         "BR2197",
         "Morris  Motors",
         null
        ],
        [
         "BR2253",
         "Das Motors",
         null
        ],
        [
         "BR2315",
         "2008 NRHP-listed",
         null
        ],
        [
         "BR0443",
         "Delahaye Motors",
         null
        ],
        [
         "BR0925",
         "Iso Motors",
         null
        ],
        [
         "BR1019",
         "Koenigsegg Motors",
         null
        ],
        [
         "BR1411",
         "NSU Motors",
         null
        ],
        [
         "BR1733",
         "Santana Motors",
         null
        ],
        [
         "BR1745",
         "Saturn Motors",
         null
        ],
        [
         "BR1962",
         "Toyota India Motors",
         null
        ],
        [
         "BR2251",
         "Das Motors",
         null
        ],
        [
         "BR0102",
         "Artega Motors",
         null
        ],
        [
         "BR0745",
         "Gumpert Motors",
         null
        ],
        [
         "BR0858",
         "Hummer Motors",
         null
        ],
        [
         "BR0917",
         "Isdera Motors",
         null
        ],
        [
         "BR1171",
         "Maruti Motors",
         null
        ],
        [
         "BR1247",
         "Mercedes-Benz (including Maybach) Motors",
         null
        ],
        [
         "BR1831",
         "Spyker Motors",
         null
        ],
        [
         "BR2448",
         "Jennings Ford Automobile Dealership",
         null
        ],
        [
         "BR0173",
         "Bentley Motors",
         null
        ],
        [
         "BR0249",
         "Austin-Healey Motors",
         null
        ],
        [
         "BR0619",
         "Ford Australia Motors",
         null
        ],
        [
         "BR1118",
         "LTI Motors",
         null
        ],
        [
         "BR1294",
         "Micro Motors",
         null
        ],
        [
         "BR1593",
         "Premier Motors",
         null
        ],
        [
         "BR1712",
         "San Motors",
         null
        ],
        [
         "BR1728",
         "Santa Matilde Motors",
         null
        ],
        [
         "BR2409",
         "Colman Automotive Building",
         null
        ],
        [
         "BR8586",
         "Oltcit Motors",
         null
        ],
        [
         "BR0402",
         "DAF Motors",
         null
        ],
        [
         "BR0542",
         "Facel Vega Motors",
         null
        ],
        [
         "BR11646",
         "Tornado Motors",
         null
        ],
        [
         "BR1467",
         "Pagani Motors",
         null
        ],
        [
         "BR2321",
         "Blankinship Motor Company Building",
         null
        ],
        [
         "BR7026",
         "Maruti Motors",
         null
        ],
        [
         "BR0295",
         "Cadillac Motors",
         null
        ],
        [
         "BR0641",
         "Ford India Motors",
         null
        ],
        [
         "BR0715",
         "Glas Motors",
         null
        ],
        [
         "BR0975",
         "Jeep Motors",
         null
        ],
        [
         "BR1004",
         "Kia Motors",
         null
        ],
        [
         "BR1610",
         "Proton Motors",
         null
        ],
        [
         "BR1741",
         "Saturn Motors",
         null
        ],
        [
         "BR2053",
         "Volvo Motors",
         null
        ],
        [
         "BR2340",
         "Bohn Motor Company Automobile Dealership",
         null
        ],
        [
         "BR0042",
         "Alpine Motors",
         null
        ],
        [
         "BR0311",
         "Checker Motors",
         null
        ],
        [
         "BR0482",
         "Dodge Motors",
         null
        ],
        [
         "BR0870",
         "Hyundai Motors",
         null
        ],
        [
         "BR1362",
         "Nash Motors",
         null
        ],
        [
         "BR1571",
         "Pontiac, Asüna Motors",
         null
        ],
        [
         "BR2370",
         "Casa de cadillac",
         null
        ],
        [
         "BR2389",
         "Claremore Auto Dealership",
         null
        ],
        [
         "BR3966",
         "FSO Motors",
         null
        ],
        [
         "BR6846",
         "Mahindra Motors",
         null
        ],
        [
         "BR7806",
         "Mini Motors",
         null
        ],
        [
         "BR0420",
         "Daihatsu Motors",
         null
        ],
        [
         "BR0667",
         "FSO Motors",
         null
        ],
        [
         "BR0742",
         "Gumpert Motors",
         null
        ],
        [
         "BR0822",
         "Honda India Motors",
         null
        ],
        [
         "BR0981",
         "Jensen Motors",
         null
        ],
        [
         "BR1052",
         "Lancia Motors",
         null
        ],
        [
         "BR1194",
         "Mastretta Motors",
         null
        ],
        [
         "BR1620",
         "Puma Motors",
         null
        ],
        [
         "BR1761",
         "Seat Motors",
         null
        ],
        [
         "BR1925",
         "Tazzari Motors",
         null
        ],
        [
         "BR1933",
         "Tesla Motors",
         null
        ],
        [
         "BR2045",
         "Volkswagen South Africa Motors",
         null
        ],
        [
         "BR2469",
         "Kindel Building",
         null
        ],
        [
         "BR8706",
         "Packard Motors",
         null
        ],
        [
         "BR9306",
         "Plymouth Motors",
         null
        ],
        [
         "BR0015",
         "Acura Motors",
         null
        ],
        [
         "BR0217",
         "Borgward (including Goliath and Lloyd) Motors",
         null
        ],
        [
         "BR0283",
         "Bytom Motors",
         null
        ],
        [
         "BR1274",
         "Messerschmitt Motors",
         null
        ],
        [
         "BR1431",
         "Oltcit Motors",
         null
        ],
        [
         "BR1451",
         "Packard Motors",
         null
        ],
        [
         "BR1554",
         "Plymouth Motors",
         null
        ],
        [
         "BR2049",
         "Volkswagen South Africa Motors",
         null
        ],
        [
         "BR2088",
         "Zastava Motors",
         null
        ],
        [
         "BR2107",
         "ZIL Motors",
         null
        ],
        [
         "BR2305",
         "Atlantic Motor Company",
         null
        ],
        [
         "BR5586",
         "Isotta Fraschini Motors",
         null
        ],
        [
         "BR0290",
         "Bytom Motors",
         null
        ],
        [
         "BR0474",
         "De Tomaso Motors",
         null
        ],
        [
         "BR0940",
         "Isotta Fraschini Motors",
         null
        ],
        [
         "BR2202",
         "Austin  Motors",
         null
        ],
        [
         "BR6246",
         "Lamborghini Motors",
         null
        ],
        [
         "BR0179",
         "Bentley Motors",
         null
        ],
        [
         "BR0797",
         "Hindustan Motors",
         null
        ],
        [
         "BR1261",
         "Merkur Motors",
         null
        ],
        [
         "BR1575",
         "Pontiac, Asüna Motors",
         null
        ],
        [
         "BR2114",
         "Audi Motors",
         null
        ],
        [
         "BR2208",
         "Austin  Motors",
         null
        ],
        [
         "BR0087",
         "Ariel Motors",
         null
        ],
        [
         "BR0117",
         "Asia Motors Motors",
         null
        ],
        [
         "BR0181",
         "Bitter Motors",
         null
        ],
        [
         "BR0183",
         "Bitter Motors",
         null
        ],
        [
         "BR0464",
         "DeSoto Motors",
         null
        ],
        [
         "BR0633",
         "Ford Europe Motors",
         null
        ],
        [
         "BR8946",
         "Panther Motors",
         null
        ],
        [
         "BR0643",
         "Ford India Motors",
         null
        ],
        [
         "BR1086",
         "Bitter Motors",
         null
        ],
        [
         "BR1465",
         "Pagani Motors",
         null
        ],
        [
         "BR1489",
         "Panoz Motors",
         null
        ],
        [
         "BR1643",
         "Renault Motors",
         null
        ],
        [
         "BR1765",
         "Seat Motors",
         null
        ],
        [
         "BR0090",
         "Ariel Motors",
         null
        ],
        [
         "BR0487",
         "Dodge Motors",
         null
        ],
        [
         "BR1020",
         "Koenigsegg Motors",
         null
        ],
        [
         "BR1073",
         "Lexus Motors",
         null
        ],
        [
         "BR1102",
         "Lotus Motors",
         null
        ],
        [
         "BR12306",
         "Volvo Motors",
         null
        ],
        [
         "BR1682",
         "SAIC Motor Motors",
         null
        ],
        [
         "BR1702",
         "Samsung Motors",
         null
        ],
        [
         "BR1938",
         "Tesla Motors",
         null
        ],
        [
         "BR1958",
         "Toyota Motors",
         null
        ],
        [
         "BR2173",
         "Lagonda  Motors",
         null
        ],
        [
         "BR0379",
         "Cizeta-Moroder Motors",
         null
        ],
        [
         "BR0687",
         "Geo Motors",
         null
        ],
        [
         "BR0767",
         "Heinkel Motors",
         null
        ],
        [
         "BR14106",
         "Cadillac Automobile Company Building",
         null
        ],
        [
         "BR1454",
         "Packard Motors",
         null
        ],
        [
         "BR1642",
         "Renault Motors",
         null
        ],
        [
         "BR1652",
         "Rivian Motors",
         null
        ],
        [
         "BR2052",
         "Volvo Motors",
         null
        ],
        [
         "BR2157",
         "Maybach  Motors",
         null
        ],
        [
         "BR2182",
         "MG  Motors",
         null
        ],
        [
         "BR3666",
         "Ford Australia Motors",
         null
        ],
        [
         "BR0668",
         "FSO Motors",
         null
        ],
        [
         "BR0719",
         "Glas Motors",
         null
        ],
        [
         "BR1079",
         "Lexus Motors",
         null
        ],
        [
         "BR1299",
         "Micro Motors",
         null
        ],
        [
         "BR1685",
         "SAIC Motor Motors",
         null
        ],
        [
         "BR1720",
         "San Motors",
         null
        ],
        [
         "BR1729",
         "Santa Matilde Motors",
         null
        ],
        [
         "BR2079",
         "Wiesmann Motors",
         null
        ],
        [
         "BR2163",
         "Izh  Motors",
         null
        ],
        [
         "BR2414",
         "H Street Playhouse",
         null
        ],
        [
         "BR6966",
         "Marlin Motors",
         null
        ],
        [
         "BR0819",
         "Honda Motors",
         null
        ],
        [
         "BR1214",
         "Mazda Motors",
         null
        ],
        [
         "BR1911",
         "Tatra Motors",
         null
        ],
        [
         "BR2166",
         "Citroën Motors",
         null
        ],
        [
         "BR2175",
         "Lagonda  Motors",
         null
        ],
        [
         "BR2198",
         "Morris  Motors",
         null
        ],
        [
         "BR6126",
         "KTM Motors",
         null
        ],
        [
         "BR0400",
         "Daewoo, Saehan, Chevrolet Korea Motors",
         null
        ],
        [
         "BR0527",
         "Eicher Polaris Motors",
         null
        ],
        [
         "BR1103",
         "Lotus Motors",
         null
        ],
        [
         "BR13686",
         "Herald Motors",
         null
        ],
        [
         "BR1815",
         "Skoda Motors",
         null
        ],
        [
         "BR0414",
         "Daihatsu Motors",
         null
        ],
        [
         "BR0444",
         "Delahaye Motors",
         null
        ],
        [
         "BR0959",
         "Iveco Motors",
         null
        ],
        [
         "BR1058",
         "Lancia Motors",
         null
        ],
        [
         "BR1338",
         "Monteverdi Motors",
         null
        ],
        [
         "BR1388",
         "Nissan Motors",
         null
        ],
        [
         "BR1854",
         "Standard-Triumph Motors",
         null
        ],
        [
         "BR2270",
         "Ramani Motors",
         null
        ],
        [
         "BR2278",
         "Deccan Motors",
         null
        ],
        [
         "BR2287",
         "Herald Motors",
         null
        ],
        [
         "BR2324",
         "Blankinship Motor Company Building",
         null
        ],
        [
         "BR0280",
         "Buick Motors",
         null
        ],
        [
         "BR0631",
         "Ford Europe Motors",
         null
        ],
        [
         "BR0702",
         "Ginetta Motors",
         null
        ],
        [
         "BR0942",
         "Isuzu Motors",
         null
        ],
        [
         "BR1151",
         "Marcos Motors",
         null
        ],
        [
         "BR2121",
         "DKW Motors",
         null
        ],
        [
         "BR2174",
         "Lagonda  Motors",
         null
        ],
        [
         "BR2886",
         "Dodge Motors",
         null
        ],
        [
         "BR0213",
         "Borgward (including Goliath and Lloyd) Motors",
         null
        ],
        [
         "BR0680",
         "GAZ Motors",
         null
        ],
        [
         "BR1075",
         "Lexus Motors",
         null
        ],
        [
         "BR1207",
         "Matra (including Deutsch-Bonnet, René Bonnet) Motors",
         null
        ],
        [
         "BR1507",
         "Peel Motors",
         null
        ],
        [
         "BR2080",
         "Wiesmann Motors",
         null
        ],
        [
         "BR0454",
         "DeLorean Motors",
         null
        ],
        [
         "BR0974",
         "Jeep Motors",
         null
        ],
        [
         "BR1026",
         "Bentley Motors",
         null
        ],
        [
         "BR13566",
         "Ramani Motors",
         null
        ],
        [
         "BR1457",
         "Packard Motors",
         null
        ],
        [
         "BR1684",
         "SAIC Motor Motors",
         null
        ],
        [
         "BR2301",
         "Atlantic Motor Company",
         null
        ],
        [
         "BR2310",
         "Atlantic Motor Company",
         null
        ],
        [
         "BR2384",
         "Claremore Auto Dealership",
         null
        ],
        [
         "BR2454",
         "Jones Motor Company",
         null
        ],
        [
         "BR0186",
         "Alfa Romeo Motors",
         null
        ],
        [
         "BR0834",
         "Hudson Motors",
         null
        ],
        [
         "BR0904",
         "Invicta Motors",
         null
        ],
        [
         "BR0907",
         "Invicta Motors",
         null
        ],
        [
         "BR1200",
         "Mastretta Motors",
         null
        ],
        [
         "BR1889",
         "Sunbeam Motors",
         null
        ],
        [
         "BR2140",
         "Horch Motors",
         null
        ],
        [
         "BR2177",
         "Lagonda  Motors",
         null
        ],
        [
         "BR0810",
         "Holden Motors",
         null
        ],
        [
         "BR1530",
         "Peugeot Motors",
         null
        ],
        [
         "BR1638",
         "Reliant Motors",
         null
        ],
        [
         "BR1779",
         "Shelby SuperCars Motors",
         null
        ],
        [
         "BR1928",
         "Tazzari Motors",
         null
        ],
        [
         "BR1954",
         "Toyota Motors",
         null
        ],
        [
         "BR1998",
         "UAZ Motors",
         null
        ],
        [
         "BR2355",
         "Cadillac Automobile Company Building",
         null
        ],
        [
         "BR2359",
         "Cadillac Automobile Company Building",
         null
        ],
        [
         "BR0012",
         "Acura Motors",
         null
        ],
        [
         "BR0578",
         "Fiat do Brasil Motors",
         null
        ],
        [
         "BR0748",
         "Gumpert Motors",
         null
        ],
        [
         "BR1386",
         "British Leyland Motors",
         null
        ],
        [
         "BR1868",
         "Studebaker Motors",
         null
        ],
        [
         "BR1930",
         "Tazzari Motors",
         null
        ],
        [
         "BR0427",
         "Daimler Motors",
         null
        ],
        [
         "BR0924",
         "Iso Motors",
         null
        ],
        [
         "BR0949",
         "Isuzu Motors",
         null
        ],
        [
         "BR1001",
         "Kia Motors",
         null
        ],
        [
         "BR1157",
         "Marcos Motors",
         null
        ],
        [
         "BR1165",
         "Marlin Motors",
         null
        ],
        [
         "BR1188",
         "Maserati Motors",
         null
        ],
        [
         "BR1513",
         "Perodua Motors",
         null
        ],
        [
         "BR1751",
         "Scion Motors",
         null
        ],
        [
         "BR2029",
         "Volkswagen Motors",
         null
        ],
        [
         "BR2060",
         "Volvo Motors",
         null
        ],
        [
         "BR2137",
         "Horch Motors",
         null
        ],
        [
         "BR0403",
         "DAF Motors",
         null
        ],
        [
         "BR0645",
         "Ford India Motors",
         null
        ],
        [
         "BR0893",
         "Innocenti Motors",
         null
        ],
        [
         "BR1170",
         "Marlin Motors",
         null
        ],
        [
         "BR1371",
         "Naza Motors",
         null
        ],
        [
         "BR1858",
         "Standard-Triumph Motors",
         null
        ],
        [
         "BR2419",
         "H Street Playhouse",
         null
        ],
        [
         "BR3066",
         "e.GO Mobile Motors",
         null
        ],
        [
         "BR0061",
         "AMC, Eagle Motors",
         null
        ],
        [
         "BR0323",
         "Chevrolet Motors",
         null
        ],
        [
         "BR1475",
         "Panhard Motors",
         null
        ],
        [
         "BR1908",
         "Tata Motors",
         null
        ],
        [
         "BR2220",
         "Riley  Motors",
         null
        ],
        [
         "BR2286",
         "Dacia Motors",
         null
        ],
        [
         "BR2431",
         "Hupmobile Building",
         null
        ],
        [
         "BR0332",
         "Chevrolet India Motors",
         null
        ],
        [
         "BR0551",
         "Ferrari Motors",
         null
        ],
        [
         "BR0969",
         "Jaguar Motors",
         null
        ],
        [
         "BR1172",
         "Maruti Motors",
         null
        ],
        [
         "BR1203",
         "Matra (including Deutsch-Bonnet, René Bonnet) Motors",
         null
        ],
        [
         "BR1543",
         "Piaggio Motors",
         null
        ],
        [
         "BR1588",
         "Porsche Motors",
         null
        ],
        [
         "BR1800",
         "Simca do Brasil Motors",
         null
        ],
        [
         "BR1839",
         "Spyker Motors",
         null
        ],
        [
         "BR0221",
         "Bristol Motors",
         null
        ],
        [
         "BR0422",
         "Daimler Motors",
         null
        ],
        [
         "BR0450",
         "Delahaye Motors",
         null
        ],
        [
         "BR0669",
         "FSO Motors",
         null
        ],
        [
         "BR0712",
         "Glas Motors",
         null
        ],
        [
         "BR0804",
         "Holden Motors",
         null
        ],
        [
         "BR0844",
         "Humber Motors",
         null
        ],
        [
         "BR0970",
         "Jaguar Motors",
         null
        ],
        [
         "BR1092",
         "Lincoln Motors",
         null
        ],
        [
         "BR1184",
         "Maserati Motors",
         null
        ],
        [
         "BR1251",
         "Mercury Motors",
         null
        ],
        [
         "BR1287",
         "Mia Motors",
         null
        ],
        [
         "BR1582",
         "Porsche Motors",
         null
        ],
        [
         "BR1787",
         "Simca Motors",
         null
        ],
        [
         "BR2395",
         "Clemens Automobile Company Building",
         null
        ],
        [
         "BR0265",
         "Bugatti Motors",
         null
        ],
        [
         "BR0305",
         "Caterham Motors",
         null
        ],
        [
         "BR0860",
         "Hummer Motors",
         null
        ],
        [
         "BR1023",
         "KTM Motors",
         null
        ],
        [
         "BR1037",
         "Lada Motors",
         null
        ],
        [
         "BR10446",
         "Saturn Motors",
         null
        ],
        [
         "BR4386",
         "GTA Spano Motors",
         null
        ],
        [
         "BR0060",
         "Alvis Motors",
         null
        ],
        [
         "BR0123",
         "Aston Martin Motors",
         null
        ],
        [
         "BR0239",
         "British Leyland Motors",
         null
        ],
        [
         "BR0306",
         "Alvis Motors",
         null
        ],
        [
         "BR10026",
         "Saab Motors",
         null
        ],
        [
         "BR1217",
         "Mazda Motors",
         null
        ],
        [
         "BR1914",
         "Tatra Motors",
         null
        ],
        [
         "BR2113",
         "Audi Motors",
         null
        ],
        [
         "BR4626",
         "Hennessey Motors",
         null
        ],
        [
         "BR0381",
         "Dacia Motors",
         null
        ],
        [
         "BR0629",
         "Ford do Brasil Motors",
         null
        ],
        [
         "BR1060",
         "Lancia Motors",
         null
        ],
        [
         "BR1145",
         "Mahindra Motors",
         null
        ],
        [
         "BR1229",
         "Mazzanti Motors",
         null
        ],
        [
         "BR1252",
         "Mercury Motors",
         null
        ],
        [
         "BR1602",
         "Proton Motors",
         null
        ],
        [
         "BR1793",
         "Simca do Brasil Motors",
         null
        ],
        [
         "BR2130",
         "DKW Motors",
         null
        ],
        [
         "BR2411",
         "H Street Playhouse",
         null
        ],
        [
         "BR0215",
         "Borgward (including Goliath and Lloyd) Motors",
         null
        ],
        [
         "BR0329",
         "Chevrolet Motors",
         null
        ],
        [
         "BR0441",
         "Delahaye Motors",
         null
        ],
        [
         "BR1059",
         "Lancia Motors",
         null
        ],
        [
         "BR13386",
         "Standard  Motors",
         null
        ],
        [
         "BR1590",
         "Porsche Motors",
         null
        ],
        [
         "BR1647",
         "Renault Motors",
         null
        ],
        [
         "BR1777",
         "Shelby SuperCars Motors",
         null
        ],
        [
         "BR2040",
         "Volkswagen do Brasil Motors",
         null
        ],
        [
         "BR2164",
         "Izh  Motors",
         null
        ],
        [
         "BR0483",
         "Dodge Motors",
         null
        ],
        [
         "BR0739",
         "GTA Spano Motors",
         null
        ],
        [
         "BR0987",
         "Jensen Motors",
         null
        ],
        [
         "BR1129",
         "LuAZ Motors",
         null
        ],
        [
         "BR12126",
         "Volkswagen Motors",
         null
        ],
        [
         "BR1275",
         "Messerschmitt Motors",
         null
        ],
        [
         "BR1495",
         "Panther Motors",
         null
        ],
        [
         "BR1657",
         "Rivian Motors",
         null
        ],
        [
         "BR1686",
         "Bytom Motors",
         null
        ],
        [
         "BR0228",
         "Bristol Motors",
         null
        ],
        [
         "BR0272",
         "Buick Motors",
         null
        ],
        [
         "BR10386",
         "Santana Motors",
         null
        ],
        [
         "BR1080",
         "Lexus Motors",
         null
        ],
        [
         "BR1148",
         "Mahindra Motors",
         null
        ],
        [
         "BR1150",
         "Mahindra Motors",
         null
        ],
        [
         "BR1370",
         "Nash Motors",
         null
        ],
        [
         "BR1673",
         "Saab Motors",
         null
        ],
        [
         "BR0324",
         "Chevrolet Motors",
         null
        ],
        [
         "BR0815",
         "Honda Motors",
         null
        ],
        [
         "BR0985",
         "Jensen Motors",
         null
        ],
        [
         "BR1127",
         "LuAZ Motors",
         null
        ],
        [
         "BR12606",
         "ZIL Motors",
         null
        ],
        [
         "BR1655",
         "Rivian Motors",
         null
        ],
        [
         "BR1841",
         "SsangYong Motors",
         null
        ],
        [
         "BR2118",
         "Audi Motors",
         null
        ],
        [
         "BR2368",
         "Casa de cadillac",
         null
        ],
        [
         "BR0277",
         "Buick Motors",
         null
        ],
        [
         "BR0827",
         "Honda India Motors",
         null
        ],
        [
         "BR1365",
         "Nash Motors",
         null
        ],
        [
         "BR1784",
         "Simca Motors",
         null
        ],
        [
         "BR2190",
         "MG  Motors",
         null
        ],
        [
         "BR5226",
         "IFA (including Trabant, Wartburg, Barkas) Motors",
         null
        ],
        [
         "BR0188",
         "Bitter Motors",
         null
        ],
        [
         "BR0432",
         "Datsun Motors",
         null
        ],
        [
         "BR1701",
         "Samsung Motors",
         null
        ],
        [
         "BR2009",
         "Vauxhall Motors",
         null
        ],
        [
         "BR2030",
         "Volkswagen Motors",
         null
        ],
        [
         "BR2058",
         "Volvo Motors",
         null
        ],
        [
         "BR2271",
         "Deccan Motors",
         null
        ],
        [
         "BR2303",
         "Atlantic Motor Company",
         null
        ],
        [
         "BR2357",
         "Cadillac Automobile Company Building",
         null
        ],
        [
         "BR0003",
         "AC Cars Motors",
         null
        ],
        [
         "BR0050",
         "Alpine Motors",
         null
        ],
        [
         "BR0227",
         "Bristol Motors",
         null
        ],
        [
         "BR0521",
         "Eicher Polaris Motors",
         null
        ],
        [
         "BR0620",
         "Ford Australia Motors",
         null
        ],
        [
         "BR0623",
         "Ford do Brasil Motors",
         null
        ],
        [
         "BR0807",
         "Holden Motors",
         null
        ],
        [
         "BR1450",
         "Opel Motors",
         null
        ],
        [
         "BR1971",
         "Turner Motors",
         null
        ],
        [
         "BR1987",
         "TVR Motors",
         null
        ],
        [
         "BR2119",
         "Audi Motors",
         null
        ],
        [
         "BR0072",
         "Anadol Motors",
         null
        ],
        [
         "BR0078",
         "Anadol Motors",
         null
        ],
        [
         "BR0081",
         "Ariel Motors",
         null
        ],
        [
         "BR0118",
         "Asia Motors Motors",
         null
        ],
        [
         "BR0180",
         "Bentley Motors",
         null
        ],
        [
         "BR0203",
         "Bond Motors",
         null
        ],
        [
         "BR1138",
         "Lynx Motors",
         null
        ],
        [
         "BR1238",
         "McLaren Motors",
         null
        ],
        [
         "BR2346",
         "Daewoo, Saehan, Chevrolet Korea Motors",
         null
        ],
        [
         "BR6006",
         "Kia Motors",
         null
        ],
        [
         "BR0047",
         "Alpine Motors",
         null
        ],
        [
         "BR0253",
         "Austin, Rover Motors",
         null
        ],
        [
         "BR0601",
         "Ford America Motors",
         null
        ],
        [
         "BR0833",
         "Hudson Motors",
         null
        ],
        [
         "BR10806",
         "Singer Motors",
         null
        ],
        [
         "BR1158",
         "Marcos Motors",
         null
        ],
        [
         "BR1502",
         "Peel Motors",
         null
        ],
        [
         "BR1555",
         "Plymouth Motors",
         null
        ],
        [
         "BR1611",
         "Puma Motors",
         null
        ],
        [
         "BR1635",
         "Reliant Motors",
         null
        ],
        [
         "BR1852",
         "Standard-Triumph Motors",
         null
        ],
        [
         "BR1980",
         "Turner Motors",
         null
        ],
        [
         "BR2028",
         "Volkswagen Motors",
         null
        ],
        [
         "BR2229",
         "Wolseley  Motors",
         null
        ],
        [
         "BR2338",
         "Bohn Motor Company Automobile Dealership",
         null
        ],
        [
         "BR8286",
         "Nissan Motors",
         null
        ],
        [
         "BR0043",
         "Alpine Motors",
         null
        ],
        [
         "BR0194",
         "BMW Motors",
         null
        ],
        [
         "BR0695",
         "Gilbern Motors",
         null
        ],
        [
         "BR1028",
         "KTM Motors",
         null
        ],
        [
         "BR1178",
         "Maruti Motors",
         null
        ],
        [
         "BR1669",
         "Rolls-Royce Motors",
         null
        ],
        [
         "BR2330",
         "Blankinship Motor Company Building",
         null
        ],
        [
         "BR2358",
         "Cadillac Automobile Company Building",
         null
        ],
        [
         "BR0704",
         "Ginetta Motors",
         null
        ],
        [
         "BR0721",
         "GMC Motors",
         null
        ],
        [
         "BR0838",
         "Hudson Motors",
         null
        ],
        [
         "BR10146",
         "Saleen Motors",
         null
        ],
        [
         "BR1087",
         "Ligier Motors",
         null
        ],
        [
         "BR1266",
         "Borgward (including Goliath and Lloyd) Motors",
         null
        ],
        [
         "BR2331",
         "Bohn Motor Company Automobile Dealership",
         null
        ],
        [
         "BR2345",
         "Buick Automobile Company Building",
         null
        ],
        [
         "BR2347",
         "Buick Automobile Company Building",
         null
        ],
        [
         "BR0205",
         "Bond Motors",
         null
        ],
        [
         "BR0278",
         "Buick Motors",
         null
        ],
        [
         "BR0333",
         "Chevrolet India Motors",
         null
        ],
        [
         "BR0412",
         "Daihatsu Motors",
         null
        ],
        [
         "BR0460",
         "DeLorean Motors",
         null
        ],
        [
         "BR0520",
         "e.GO Mobile Motors",
         null
        ],
        [
         "BR0726",
         "Aston Martin Motors",
         null
        ],
        [
         "BR0837",
         "Hudson Motors",
         null
        ],
        [
         "BR0908",
         "Invicta Motors",
         null
        ],
        [
         "BR11286",
         "Sunbeam Motors",
         null
        ],
        [
         "BR1480",
         "Panhard Motors",
         null
        ],
        [
         "BR0165",
         "Auverland Motors",
         null
        ],
        [
         "BR0600",
         "Fisker, Karma Motors",
         null
        ],
        [
         "BR0979",
         "Jeep Motors",
         null
        ],
        [
         "BR1035",
         "Lada Motors",
         null
        ],
        [
         "BR1210",
         "Matra (including Deutsch-Bonnet, René Bonnet) Motors",
         null
        ],
        [
         "BR1264",
         "Merkur Motors",
         null
        ],
        [
         "BR1559",
         "Plymouth Motors",
         null
        ],
        [
         "BR1573",
         "Pontiac, Asüna Motors",
         null
        ],
        [
         "BR2450",
         "Jennings Ford Automobile Dealership",
         null
        ],
        [
         "BR0083",
         "Ariel Motors",
         null
        ],
        [
         "BR0161",
         "Auverland Motors",
         null
        ],
        [
         "BR0197",
         "BMW Motors",
         null
        ],
        [
         "BR0481",
         "Dodge Motors",
         null
        ],
        [
         "BR0567",
         "Fiat Motors",
         null
        ],
        [
         "BR0945",
         "Isuzu Motors",
         null
        ],
        [
         "BR11406",
         "Tata Motors",
         null
        ],
        [
         "BR1521",
         "Peugeot Motors",
         null
        ],
        [
         "BR1814",
         "Skoda Motors",
         null
        ],
        [
         "BR2007",
         "Vauxhall Motors",
         null
        ],
        [
         "BR2405",
         "Colman Automotive Building",
         null
        ],
        [
         "BR0655",
         "Freightliner Motors",
         null
        ],
        [
         "BR0964",
         "Jaguar Motors",
         null
        ],
        [
         "BR1013",
         "Koenigsegg Motors",
         null
        ],
        [
         "BR1834",
         "Spyker Motors",
         null
        ],
        [
         "BR1835",
         "Spyker Motors",
         null
        ],
        [
         "BR0200",
         "BMW Motors",
         null
        ],
        [
         "BR0240",
         "British Leyland Motors",
         null
        ],
        [
         "BR0657",
         "Freightliner Motors",
         null
        ],
        [
         "BR0665",
         "FSO Motors",
         null
        ],
        [
         "BR0698",
         "Gilbern Motors",
         null
        ],
        [
         "BR0741",
         "Gumpert Motors",
         null
        ],
        [
         "BR1113",
         "LTI Motors",
         null
        ],
        [
         "BR1198",
         "Mastretta Motors",
         null
        ],
        [
         "BR1253",
         "Mercury Motors",
         null
        ],
        [
         "BR1807",
         "Singer Motors",
         null
        ],
        [
         "BR1897",
         "Suzuki Motors",
         null
        ],
        [
         "BR1905",
         "Tata Motors",
         null
        ],
        [
         "BR2000",
         "UAZ Motors",
         null
        ],
        [
         "BR6366",
         "Land Rover Motors",
         null
        ],
        [
         "BR0055",
         "Alvis Motors",
         null
        ],
        [
         "BR0902",
         "Invicta Motors",
         null
        ],
        [
         "BR1110",
         "Lotus Motors",
         null
        ],
        [
         "BR1511",
         "Perodua Motors",
         null
        ],
        [
         "BR2152",
         "Maybach  Motors",
         null
        ],
        [
         "BR2444",
         "Jennings Ford Automobile Dealership",
         null
        ],
        [
         "BR0066",
         "Acura Motors",
         null
        ],
        [
         "BR0294",
         "Cadillac Motors",
         null
        ],
        [
         "BR0814",
         "Honda Motors",
         null
        ],
        [
         "BR0839",
         "Hudson Motors",
         null
        ],
        [
         "BR0873",
         "IFA (including Trabant, Wartburg, Barkas) Motors",
         null
        ],
        [
         "BR11826",
         "Turner Motors",
         null
        ],
        [
         "BR1189",
         "Maserati Motors",
         null
        ],
        [
         "BR1259",
         "Mercury Motors",
         null
        ],
        [
         "BR1808",
         "Singer Motors",
         null
        ],
        [
         "BR2004",
         "Vauxhall Motors",
         null
        ],
        [
         "BR2027",
         "Volkswagen Motors",
         null
        ],
        [
         "BR0317",
         "Checker Motors",
         null
        ],
        [
         "BR1333",
         "Monteverdi Motors",
         null
        ],
        [
         "BR1651",
         "Rivian Motors",
         null
        ],
        [
         "BR1803",
         "Singer Motors",
         null
        ],
        [
         "BR2103",
         "ZIL Motors",
         null
        ],
        [
         "BR2132",
         "Horch Motors",
         null
        ],
        [
         "BR2260",
         "Das Motors",
         null
        ],
        [
         "BR2350",
         "Buick Automobile Company Building",
         null
        ],
        [
         "BR2421",
         "Howard Motor Company Building",
         null
        ],
        [
         "BR0071",
         "Anadol Motors",
         null
        ],
        [
         "BR0160",
         "Auto-Union Motors",
         null
        ],
        [
         "BR0175",
         "Bentley Motors",
         null
        ],
        [
         "BR0413",
         "Daihatsu Motors",
         null
        ],
        [
         "BR0635",
         "Ford Europe Motors",
         null
        ],
        [
         "BR0693",
         "Gilbern Motors",
         null
        ],
        [
         "BR0734",
         "GTA Spano Motors",
         null
        ],
        [
         "BR1663",
         "Rolls-Royce Motors",
         null
        ],
        [
         "BR1874",
         "Subaru Motors",
         null
        ],
        [
         "BR2122",
         "DKW Motors",
         null
        ],
        [
         "BR8886",
         "Panoz Motors",
         null
        ],
        [
         "BR0192",
         "BMW Motors",
         null
        ],
        [
         "BR0255",
         "Austin, Rover Motors",
         null
        ],
        [
         "BR0637",
         "Ford Europe Motors",
         null
        ],
        [
         "BR0757",
         "Healey Motors",
         null
        ],
        [
         "BR0965",
         "Jaguar Motors",
         null
        ],
        [
         "BR1078",
         "Lexus Motors",
         null
        ],
        [
         "BR1262",
         "Merkur Motors",
         null
        ],
        [
         "BR1352",
         "Moskwitch Motors",
         null
        ],
        [
         "BR1448",
         "Opel Motors",
         null
        ],
        [
         "BR1631",
         "Reliant Motors",
         null
        ],
        [
         "BR1633",
         "Reliant Motors",
         null
        ],
        [
         "BR1665",
         "Rolls-Royce Motors",
         null
        ],
        [
         "BR2169",
         "Izh  Motors",
         null
        ],
        [
         "BR2272",
         "Deccan Motors",
         null
        ],
        [
         "BR2318",
         "2008 NRHP-listed",
         null
        ],
        [
         "BR1224",
         "Mazzanti Motors",
         null
        ],
        [
         "BR1339",
         "Monteverdi Motors",
         null
        ],
        [
         "BR1699",
         "Saleen Motors",
         null
        ],
        [
         "BR1739",
         "Santana Motors",
         null
        ],
        [
         "BR1972",
         "Turner Motors",
         null
        ],
        [
         "BR2439",
         "Hupmobile Building",
         null
        ],
        [
         "BR0052",
         "Alvis Motors",
         null
        ],
        [
         "BR0119",
         "Asia Motors Motors",
         null
        ],
        [
         "BR0723",
         "GMC Motors",
         null
        ],
        [
         "BR1167",
         "Marlin Motors",
         null
        ],
        [
         "BR1545",
         "Piaggio Motors",
         null
        ],
        [
         "BR2401",
         "Colman Automotive Building",
         null
        ],
        [
         "BR2586",
         "Datsun Motors",
         null
        ],
        [
         "BR0419",
         "Daihatsu Motors",
         null
        ],
        [
         "BR0867",
         "Hyundai Motors",
         null
        ],
        [
         "BR1770",
         "Seat Motors",
         null
        ],
        [
         "BR1824",
         "Smart Motors",
         null
        ],
        [
         "BR2348",
         "Buick Automobile Company Building",
         null
        ],
        [
         "BR0185",
         "Bitter Motors",
         null
        ],
        [
         "BR0455",
         "DeLorean Motors",
         null
        ],
        [
         "BR0692",
         "Gilbern Motors",
         null
        ],
        [
         "BR0790",
         "Hillman Motors",
         null
        ],
        [
         "BR0955",
         "Iveco Motors",
         null
        ],
        [
         "BR0978",
         "Jeep Motors",
         null
        ],
        [
         "BR1420",
         "NSU Motors",
         null
        ],
        [
         "BR1522",
         "Peugeot Motors",
         null
        ],
        [
         "BR1719",
         "San Motors",
         null
        ],
        [
         "BR2335",
         "Bohn Motor Company Automobile Dealership",
         null
        ],
        [
         "BR1499",
         "Panther Motors",
         null
        ],
        [
         "BR3906",
         "Freightliner Motors",
         null
        ],
        [
         "BR6186",
         "Lada Motors",
         null
        ],
        [
         "BR0299",
         "Cadillac Motors",
         null
        ],
        [
         "BR0438",
         "Datsun Motors",
         null
        ],
        [
         "BR1629",
         "Ranger Motors",
         null
        ],
        [
         "BR1941",
         "Tornado Motors",
         null
        ],
        [
         "BR2032",
         "Volkswagen do Brasil Motors",
         null
        ],
        [
         "BR2057",
         "Volvo Motors",
         null
        ],
        [
         "BR2241",
         "Talbot  Motors",
         null
        ],
        [
         "BR0191",
         "BMW Motors",
         null
        ],
        [
         "BR0537",
         "Elva Motors",
         null
        ],
        [
         "BR1623",
         "Ranger Motors",
         null
        ],
        [
         "BR2284",
         "Herald Motors",
         null
        ],
        [
         "BR0035",
         "Alfa Romeo Motors",
         null
        ],
        [
         "BR0785",
         "Hillman Motors",
         null
        ],
        [
         "BR0818",
         "Honda Motors",
         null
        ],
        [
         "BR1137",
         "Lynx Motors",
         null
        ],
        [
         "BR1146",
         "BMW Motors",
         null
        ],
        [
         "BR1759",
         "Scion Motors",
         null
        ],
        [
         "BR2375",
         "Cass Motor Sales",
         null
        ],
        [
         "BR3426",
         "Fiat do Brasil Motors",
         null
        ],
        [
         "BR0613",
         "Ford Australia Motors",
         null
        ],
        [
         "BR1205",
         "Matra (including Deutsch-Bonnet, René Bonnet) Motors",
         null
        ],
        [
         "BR1515",
         "Perodua Motors",
         null
        ],
        [
         "BR1618",
         "Puma Motors",
         null
        ],
        [
         "BR2766",
         "DeSoto Motors",
         null
        ],
        [
         "BR0127",
         "Aston Martin Motors",
         null
        ],
        [
         "BR1447",
         "Opel Motors",
         null
        ],
        [
         "BR1823",
         "Smart Motors",
         null
        ],
        [
         "BR2259",
         "Das Motors",
         null
        ],
        [
         "BR0199",
         "BMW Motors",
         null
        ],
        [
         "BR0201",
         "Bond Motors",
         null
        ],
        [
         "BR0237",
         "British Leyland Motors",
         null
        ],
        [
         "BR0493",
         "Donkervoort Motors",
         null
        ],
        [
         "BR1041",
         "Lamborghini Motors",
         null
        ],
        [
         "BR1485",
         "Panoz Motors",
         null
        ],
        [
         "BR1527",
         "Peugeot Motors",
         null
        ],
        [
         "BR2417",
         "H Street Playhouse",
         null
        ],
        [
         "BR7266",
         "Mazda Motors",
         null
        ],
        [
         "BR0128",
         "Aston Martin Motors",
         null
        ],
        [
         "BR0234",
         "British Leyland Motors",
         null
        ],
        [
         "BR1029",
         "KTM Motors",
         null
        ],
        [
         "BR1125",
         "LuAZ Motors",
         null
        ],
        [
         "BR1219",
         "Mazda Motors",
         null
        ],
        [
         "BR1421",
         "Oldsmobile Motors",
         null
        ],
        [
         "BR1523",
         "Peugeot Motors",
         null
        ],
        [
         "BR1764",
         "Seat Motors",
         null
        ],
        [
         "BR2195",
         "Morris  Motors",
         null
        ],
        [
         "BR2200",
         "Morris  Motors",
         null
        ],
        [
         "BR2317",
         "2008 NRHP-listed",
         null
        ],
        [
         "BR0028",
         "Aixam-Mega (including Arola) Motors",
         null
        ],
        [
         "BR0038",
         "Alfa Romeo Motors",
         null
        ],
        [
         "BR0872",
         "IFA (including Trabant, Wartburg, Barkas) Motors",
         null
        ],
        [
         "BR0898",
         "Innocenti Motors",
         null
        ],
        [
         "BR0912",
         "Isdera Motors",
         null
        ],
        [
         "BR1005",
         "Kia Motors",
         null
        ],
        [
         "BR1147",
         "Mahindra Motors",
         null
        ],
        [
         "BR1999",
         "UAZ Motors",
         null
        ],
        [
         "BR2023",
         "Volkswagen Motors",
         null
        ],
        [
         "BR2108",
         "ZIL Motors",
         null
        ],
        [
         "BR2341",
         "Buick Automobile Company Building",
         null
        ],
        [
         "BR2344",
         "Buick Automobile Company Building",
         null
        ],
        [
         "BR0008",
         "AC Cars Motors",
         null
        ],
        [
         "BR0445",
         "Delahaye Motors",
         null
        ],
        [
         "BR1493",
         "Panther Motors",
         null
        ],
        [
         "BR1754",
         "Scion Motors",
         null
        ],
        [
         "BR2059",
         "Volvo Motors",
         null
        ],
        [
         "BR0024",
         "Aixam-Mega (including Arola) Motors",
         null
        ],
        [
         "BR0524",
         "Eicher Polaris Motors",
         null
        ],
        [
         "BR1218",
         "Mazda Motors",
         null
        ],
        [
         "BR1482",
         "Panoz Motors",
         null
        ],
        [
         "BR1687",
         "SAIC Motor Motors",
         null
        ],
        [
         "BR1838",
         "Spyker Motors",
         null
        ],
        [
         "BR1902",
         "Tata Motors",
         null
        ],
        [
         "BR1977",
         "Turner Motors",
         null
        ],
        [
         "BR2201",
         "Austin  Motors",
         null
        ],
        [
         "BR2374",
         "Cass Motor Sales",
         null
        ],
        [
         "BR1175",
         "Maruti Motors",
         null
        ],
        [
         "BR1544",
         "Piaggio Motors",
         null
        ],
        [
         "BR1641",
         "Renault Motors",
         null
        ],
        [
         "BR0214",
         "Borgward (including Goliath and Lloyd) Motors",
         null
        ],
        [
         "BR0588",
         "Fiat India Motors",
         null
        ],
        [
         "BR1049",
         "Lamborghini Motors",
         null
        ],
        [
         "BR1727",
         "Santa Matilde Motors",
         null
        ],
        [
         "BR2105",
         "ZIL Motors",
         null
        ],
        [
         "BR0369",
         "Citroën Motors",
         null
        ],
        [
         "BR0555",
         "Ferrari Motors",
         null
        ],
        [
         "BR0615",
         "Ford Australia Motors",
         null
        ],
        [
         "BR0840",
         "Hudson Motors",
         null
        ],
        [
         "BR1121",
         "LuAZ Motors",
         null
        ],
        [
         "BR1314",
         "Mitsubishi Motors",
         null
        ],
        [
         "BR1563",
         "Polestar Motors",
         null
        ],
        [
         "BR2239",
         "Standard  Motors",
         null
        ],
        [
         "BR2339",
         "Bohn Motor Company Automobile Dealership",
         null
        ],
        [
         "BR2393",
         "Clemens Automobile Company Building",
         null
        ]
       ],
       "datasetInfos": [],
       "dbfsResultPath": null,
       "isJsonSchema": true,
       "metadata": {},
       "overflow": false,
       "plotOptions": {
        "customPlotOptions": {},
        "displayType": "table",
        "pivotAggregation": null,
        "pivotColumns": null,
        "xColumns": null,
        "yColumns": null
       },
       "removedWidgets": [],
       "schema": [
        {
         "metadata": "{}",
         "name": "Branch_ID",
         "type": "\"string\""
        },
        {
         "metadata": "{}",
         "name": "BranchName",
         "type": "\"string\""
        },
        {
         "metadata": "{}",
         "name": "dim_branch_key",
         "type": "\"integer\""
        }
       ],
       "type": "table"
      }
     },
     "output_type": "display_data"
    }
   ],
   "source": [
    "df_filter = df_src.join(df_sink, df_src.Branch_ID == df_sink.Branch_ID,'left').select(df_src.Branch_ID, df_src.BranchName, df_sink.dim_branch_key)\n",
    "df_filter.display()"
   ]
  },
  {
   "cell_type": "code",
   "execution_count": 0,
   "metadata": {
    "application/vnd.databricks.v1+cell": {
     "cellMetadata": {
      "byteLimit": 2048000,
      "rowLimit": 10000
     },
     "inputWidgets": {},
     "nuid": "12b61884-372f-479d-83f2-ca12f4827618",
     "showTitle": false,
     "tableResultSettingsMap": {},
     "title": ""
    }
   },
   "outputs": [
    {
     "output_type": "display_data",
     "data": {
      "text/html": [
       "<style scoped>\n",
       "  .table-result-container {\n",
       "    max-height: 300px;\n",
       "    overflow: auto;\n",
       "  }\n",
       "  table, th, td {\n",
       "    border: 1px solid black;\n",
       "    border-collapse: collapse;\n",
       "  }\n",
       "  th, td {\n",
       "    padding: 5px;\n",
       "  }\n",
       "  th {\n",
       "    text-align: left;\n",
       "  }\n",
       "</style><div class='table-result-container'><table class='table-result'><thead style='background-color: white'><tr><th>Branch_ID</th><th>BranchName</th><th>dim_branch_key</th></tr></thead><tbody></tbody></table></div>"
      ]
     },
     "metadata": {
      "application/vnd.databricks.v1+output": {
       "addedWidgets": {},
       "aggData": [],
       "aggError": "",
       "aggOverflow": false,
       "aggSchema": [],
       "aggSeriesLimitReached": false,
       "aggType": "",
       "arguments": {},
       "columnCustomDisplayInfos": {},
       "data": [],
       "datasetInfos": [],
       "dbfsResultPath": null,
       "isJsonSchema": true,
       "metadata": {},
       "overflow": false,
       "plotOptions": {
        "customPlotOptions": {},
        "displayType": "table",
        "pivotAggregation": null,
        "pivotColumns": null,
        "xColumns": null,
        "yColumns": null
       },
       "removedWidgets": [],
       "schema": [
        {
         "metadata": "{}",
         "name": "Branch_ID",
         "type": "\"string\""
        },
        {
         "metadata": "{}",
         "name": "BranchName",
         "type": "\"string\""
        },
        {
         "metadata": "{}",
         "name": "dim_branch_key",
         "type": "\"integer\""
        }
       ],
       "type": "table"
      }
     },
     "output_type": "display_data"
    }
   ],
   "source": [
    "from pyspark.sql.functions import *\n",
    "from pyspark.sql.types import *\n",
    "\n",
    "df_filter_old = df_filter.filter(col('dim_branch_key').isNotNull())\n",
    "df_filter_old.display()"
   ]
  },
  {
   "cell_type": "code",
   "execution_count": 0,
   "metadata": {
    "application/vnd.databricks.v1+cell": {
     "cellMetadata": {
      "byteLimit": 2048000,
      "rowLimit": 10000
     },
     "inputWidgets": {},
     "nuid": "090396b3-eab1-4eec-a05a-9cdc944ee1d9",
     "showTitle": false,
     "tableResultSettingsMap": {},
     "title": ""
    }
   },
   "outputs": [
    {
     "output_type": "display_data",
     "data": {
      "text/html": [
       "<style scoped>\n",
       "  .table-result-container {\n",
       "    max-height: 300px;\n",
       "    overflow: auto;\n",
       "  }\n",
       "  table, th, td {\n",
       "    border: 1px solid black;\n",
       "    border-collapse: collapse;\n",
       "  }\n",
       "  th, td {\n",
       "    padding: 5px;\n",
       "  }\n",
       "  th {\n",
       "    text-align: left;\n",
       "  }\n",
       "</style><div class='table-result-container'><table class='table-result'><thead style='background-color: white'><tr><th>Branch_ID</th><th>BranchName</th></tr></thead><tbody><tr><td>BR0131</td><td>Audi Motors</td></tr><tr><td>BR0760</td><td>Healey Motors</td></tr><tr><td>BR0789</td><td>Hillman Motors</td></tr><tr><td>BR0938</td><td>Isotta Fraschini Motors</td></tr><tr><td>BR1040</td><td>Lada Motors</td></tr><tr><td>BR1693</td><td>Saleen Motors</td></tr><tr><td>BR1792</td><td>Simca do Brasil Motors</td></tr><tr><td>BR1799</td><td>Simca do Brasil Motors</td></tr><tr><td>BR1955</td><td>Toyota Motors</td></tr><tr><td>BR1978</td><td>Turner Motors</td></tr></tbody></table></div>"
      ]
     },
     "metadata": {
      "application/vnd.databricks.v1+output": {
       "addedWidgets": {},
       "aggData": [],
       "aggError": "",
       "aggOverflow": false,
       "aggSchema": [],
       "aggSeriesLimitReached": false,
       "aggType": "",
       "arguments": {},
       "columnCustomDisplayInfos": {},
       "data": [
        [
         "BR0131",
         "Audi Motors"
        ],
        [
         "BR0760",
         "Healey Motors"
        ],
        [
         "BR0789",
         "Hillman Motors"
        ],
        [
         "BR0938",
         "Isotta Fraschini Motors"
        ],
        [
         "BR1040",
         "Lada Motors"
        ],
        [
         "BR1693",
         "Saleen Motors"
        ],
        [
         "BR1792",
         "Simca do Brasil Motors"
        ],
        [
         "BR1799",
         "Simca do Brasil Motors"
        ],
        [
         "BR1955",
         "Toyota Motors"
        ],
        [
         "BR1978",
         "Turner Motors"
        ]
       ],
       "datasetInfos": [],
       "dbfsResultPath": null,
       "isJsonSchema": true,
       "metadata": {},
       "overflow": false,
       "plotOptions": {
        "customPlotOptions": {},
        "displayType": "table",
        "pivotAggregation": null,
        "pivotColumns": null,
        "xColumns": null,
        "yColumns": null
       },
       "removedWidgets": [],
       "schema": [
        {
         "metadata": "{}",
         "name": "Branch_ID",
         "type": "\"string\""
        },
        {
         "metadata": "{}",
         "name": "BranchName",
         "type": "\"string\""
        }
       ],
       "type": "table"
      }
     },
     "output_type": "display_data"
    }
   ],
   "source": [
    "df_filter_new = df_filter.filter(col('dim_branch_key').isNull()).select(df_filter.Branch_ID, df_filter.BranchName)\n",
    "df_filter_new.limit(10).display()\n"
   ]
  },
  {
   "cell_type": "markdown",
   "metadata": {
    "application/vnd.databricks.v1+cell": {
     "cellMetadata": {},
     "inputWidgets": {},
     "nuid": "03b56be2-3ce7-415e-b966-749c587eed69",
     "showTitle": false,
     "tableResultSettingsMap": {},
     "title": ""
    }
   },
   "source": [
    "### Creating Surrogate key"
   ]
  },
  {
   "cell_type": "code",
   "execution_count": 0,
   "metadata": {
    "application/vnd.databricks.v1+cell": {
     "cellMetadata": {
      "byteLimit": 2048000,
      "rowLimit": 10000
     },
     "inputWidgets": {},
     "nuid": "38e3b02c-3090-4580-b3ed-b1cdd3bc66c4",
     "showTitle": false,
     "tableResultSettingsMap": {},
     "title": ""
    }
   },
   "outputs": [],
   "source": [
    "if (incremental_flag == '0'):\n",
    "    max_value = 1\n",
    "else:\n",
    "    max_value_df = spark.sql(\"select max('dim_branch_key') from carproject.gold.dim_branch\")\n",
    "    max_value = max_value_df.collect()[0][0]+1"
   ]
  },
  {
   "cell_type": "code",
   "execution_count": 0,
   "metadata": {
    "application/vnd.databricks.v1+cell": {
     "cellMetadata": {
      "byteLimit": 2048000,
      "rowLimit": 10000
     },
     "inputWidgets": {},
     "nuid": "9a3b37a5-2007-483e-b6e3-bd09b7cfcfe0",
     "showTitle": false,
     "tableResultSettingsMap": {},
     "title": ""
    }
   },
   "outputs": [],
   "source": [
    "df_filter_new = df_filter_new.withColumn('dim_branch_key',max_value + monotonically_increasing_id())\n"
   ]
  },
  {
   "cell_type": "code",
   "execution_count": 0,
   "metadata": {
    "application/vnd.databricks.v1+cell": {
     "cellMetadata": {
      "byteLimit": 2048000,
      "rowLimit": 10000
     },
     "inputWidgets": {},
     "nuid": "72be14e1-f15c-4654-820d-ef1184ff7d18",
     "showTitle": false,
     "tableResultSettingsMap": {},
     "title": ""
    }
   },
   "outputs": [
    {
     "output_type": "display_data",
     "data": {
      "text/html": [
       "<style scoped>\n",
       "  .table-result-container {\n",
       "    max-height: 300px;\n",
       "    overflow: auto;\n",
       "  }\n",
       "  table, th, td {\n",
       "    border: 1px solid black;\n",
       "    border-collapse: collapse;\n",
       "  }\n",
       "  th, td {\n",
       "    padding: 5px;\n",
       "  }\n",
       "  th {\n",
       "    text-align: left;\n",
       "  }\n",
       "</style><div class='table-result-container'><table class='table-result'><thead style='background-color: white'><tr><th>Branch_ID</th><th>BranchName</th><th>dim_branch_key</th></tr></thead><tbody><tr><td>BR0131</td><td>Audi Motors</td><td>1</td></tr><tr><td>BR0760</td><td>Healey Motors</td><td>2</td></tr><tr><td>BR0789</td><td>Hillman Motors</td><td>3</td></tr><tr><td>BR0938</td><td>Isotta Fraschini Motors</td><td>4</td></tr><tr><td>BR1040</td><td>Lada Motors</td><td>5</td></tr><tr><td>BR1693</td><td>Saleen Motors</td><td>6</td></tr><tr><td>BR1792</td><td>Simca do Brasil Motors</td><td>7</td></tr><tr><td>BR1799</td><td>Simca do Brasil Motors</td><td>8</td></tr><tr><td>BR1955</td><td>Toyota Motors</td><td>9</td></tr><tr><td>BR1978</td><td>Turner Motors</td><td>10</td></tr></tbody></table></div>"
      ]
     },
     "metadata": {
      "application/vnd.databricks.v1+output": {
       "addedWidgets": {},
       "aggData": [],
       "aggError": "",
       "aggOverflow": false,
       "aggSchema": [],
       "aggSeriesLimitReached": false,
       "aggType": "",
       "arguments": {},
       "columnCustomDisplayInfos": {},
       "data": [
        [
         "BR0131",
         "Audi Motors",
         1
        ],
        [
         "BR0760",
         "Healey Motors",
         2
        ],
        [
         "BR0789",
         "Hillman Motors",
         3
        ],
        [
         "BR0938",
         "Isotta Fraschini Motors",
         4
        ],
        [
         "BR1040",
         "Lada Motors",
         5
        ],
        [
         "BR1693",
         "Saleen Motors",
         6
        ],
        [
         "BR1792",
         "Simca do Brasil Motors",
         7
        ],
        [
         "BR1799",
         "Simca do Brasil Motors",
         8
        ],
        [
         "BR1955",
         "Toyota Motors",
         9
        ],
        [
         "BR1978",
         "Turner Motors",
         10
        ]
       ],
       "datasetInfos": [],
       "dbfsResultPath": null,
       "isJsonSchema": true,
       "metadata": {},
       "overflow": false,
       "plotOptions": {
        "customPlotOptions": {},
        "displayType": "table",
        "pivotAggregation": null,
        "pivotColumns": null,
        "xColumns": null,
        "yColumns": null
       },
       "removedWidgets": [],
       "schema": [
        {
         "metadata": "{}",
         "name": "Branch_ID",
         "type": "\"string\""
        },
        {
         "metadata": "{}",
         "name": "BranchName",
         "type": "\"string\""
        },
        {
         "metadata": "{}",
         "name": "dim_branch_key",
         "type": "\"long\""
        }
       ],
       "type": "table"
      }
     },
     "output_type": "display_data"
    }
   ],
   "source": [
    "df_filter_new.limit(10).display()"
   ]
  },
  {
   "cell_type": "markdown",
   "metadata": {
    "application/vnd.databricks.v1+cell": {
     "cellMetadata": {},
     "inputWidgets": {},
     "nuid": "b8419e9c-e84a-403b-b9ab-6921704db2d8",
     "showTitle": false,
     "tableResultSettingsMap": {},
     "title": ""
    }
   },
   "source": [
    "### Create Final DF - df_filter_old + df_filter_new"
   ]
  },
  {
   "cell_type": "code",
   "execution_count": 0,
   "metadata": {
    "application/vnd.databricks.v1+cell": {
     "cellMetadata": {
      "byteLimit": 2048000,
      "rowLimit": 10000
     },
     "inputWidgets": {},
     "nuid": "4bca7b0f-4262-43cc-8e4e-d43399262451",
     "showTitle": false,
     "tableResultSettingsMap": {},
     "title": ""
    }
   },
   "outputs": [
    {
     "output_type": "display_data",
     "data": {
      "text/html": [
       "<style scoped>\n",
       "  .table-result-container {\n",
       "    max-height: 300px;\n",
       "    overflow: auto;\n",
       "  }\n",
       "  table, th, td {\n",
       "    border: 1px solid black;\n",
       "    border-collapse: collapse;\n",
       "  }\n",
       "  th, td {\n",
       "    padding: 5px;\n",
       "  }\n",
       "  th {\n",
       "    text-align: left;\n",
       "  }\n",
       "</style><div class='table-result-container'><table class='table-result'><thead style='background-color: white'><tr><th>Branch_ID</th><th>BranchName</th><th>dim_branch_key</th></tr></thead><tbody><tr><td>BR0131</td><td>Audi Motors</td><td>1</td></tr><tr><td>BR0760</td><td>Healey Motors</td><td>2</td></tr><tr><td>BR0789</td><td>Hillman Motors</td><td>3</td></tr><tr><td>BR0938</td><td>Isotta Fraschini Motors</td><td>4</td></tr><tr><td>BR1040</td><td>Lada Motors</td><td>5</td></tr><tr><td>BR1693</td><td>Saleen Motors</td><td>6</td></tr><tr><td>BR1792</td><td>Simca do Brasil Motors</td><td>7</td></tr><tr><td>BR1799</td><td>Simca do Brasil Motors</td><td>8</td></tr><tr><td>BR1955</td><td>Toyota Motors</td><td>9</td></tr><tr><td>BR1978</td><td>Turner Motors</td><td>10</td></tr></tbody></table></div>"
      ]
     },
     "metadata": {
      "application/vnd.databricks.v1+output": {
       "addedWidgets": {},
       "aggData": [],
       "aggError": "",
       "aggOverflow": false,
       "aggSchema": [],
       "aggSeriesLimitReached": false,
       "aggType": "",
       "arguments": {},
       "columnCustomDisplayInfos": {},
       "data": [
        [
         "BR0131",
         "Audi Motors",
         1
        ],
        [
         "BR0760",
         "Healey Motors",
         2
        ],
        [
         "BR0789",
         "Hillman Motors",
         3
        ],
        [
         "BR0938",
         "Isotta Fraschini Motors",
         4
        ],
        [
         "BR1040",
         "Lada Motors",
         5
        ],
        [
         "BR1693",
         "Saleen Motors",
         6
        ],
        [
         "BR1792",
         "Simca do Brasil Motors",
         7
        ],
        [
         "BR1799",
         "Simca do Brasil Motors",
         8
        ],
        [
         "BR1955",
         "Toyota Motors",
         9
        ],
        [
         "BR1978",
         "Turner Motors",
         10
        ]
       ],
       "datasetInfos": [],
       "dbfsResultPath": null,
       "isJsonSchema": true,
       "metadata": {},
       "overflow": false,
       "plotOptions": {
        "customPlotOptions": {},
        "displayType": "table",
        "pivotAggregation": null,
        "pivotColumns": null,
        "xColumns": null,
        "yColumns": null
       },
       "removedWidgets": [],
       "schema": [
        {
         "metadata": "{}",
         "name": "Branch_ID",
         "type": "\"string\""
        },
        {
         "metadata": "{}",
         "name": "BranchName",
         "type": "\"string\""
        },
        {
         "metadata": "{}",
         "name": "dim_branch_key",
         "type": "\"long\""
        }
       ],
       "type": "table"
      }
     },
     "output_type": "display_data"
    }
   ],
   "source": [
    "df_final = df_filter_new.union(df_filter_old)\n",
    "df_final.limit(10).display()"
   ]
  },
  {
   "cell_type": "markdown",
   "metadata": {
    "application/vnd.databricks.v1+cell": {
     "cellMetadata": {},
     "inputWidgets": {},
     "nuid": "e11ca3a6-b561-4fe4-a718-b6b0239395a4",
     "showTitle": false,
     "tableResultSettingsMap": {},
     "title": ""
    }
   },
   "source": [
    "### SCD TYPE -1 (UPSERT)"
   ]
  },
  {
   "cell_type": "code",
   "execution_count": 0,
   "metadata": {
    "application/vnd.databricks.v1+cell": {
     "cellMetadata": {
      "byteLimit": 2048000,
      "rowLimit": 10000
     },
     "inputWidgets": {},
     "nuid": "8a263e13-053e-4b25-adc3-0bac29d6cb71",
     "showTitle": false,
     "tableResultSettingsMap": {},
     "title": ""
    }
   },
   "outputs": [],
   "source": [
    "from delta.tables import DeltaTable"
   ]
  },
  {
   "cell_type": "code",
   "execution_count": 0,
   "metadata": {
    "application/vnd.databricks.v1+cell": {
     "cellMetadata": {
      "byteLimit": 2048000,
      "rowLimit": 10000
     },
     "inputWidgets": {},
     "nuid": "822727e7-d97a-4cdd-b0fa-75f8621d4c81",
     "showTitle": false,
     "tableResultSettingsMap": {},
     "title": ""
    }
   },
   "outputs": [],
   "source": [
    "# Incremental Run\n",
    "if spark.catalog.tableExists('CarProject.gold.dim_branch'):\n",
    "    delta_tbl = DeltaTable.forPath(spark,'abfss://gold@thadiyalcardatalake.dfs.core.windows.net/dim_branch')\n",
    "    delta_tbl.alias('trg').merge(df_final.alias('src'), 'trg.dim_branch_key = src.dim_branch_key') \\\n",
    "    .whenMatchedUpdateAll() \\\n",
    "    .whenNotMatchedInsertAll() \\\n",
    "    .execute()\n",
    "\n",
    "\n",
    "# Initial Run\n",
    "else:\n",
    "    df_final.write.format('delta')\\\n",
    "        .mode('overwrite')\\\n",
    "            .option(\"path\", 'abfss://gold@thadiyalcardatalake.dfs.core.windows.net/dim_branch')\\\n",
    "                .saveAsTable('CarProject.gold.dim_branch')    "
   ]
  },
  {
   "cell_type": "code",
   "execution_count": 0,
   "metadata": {
    "application/vnd.databricks.v1+cell": {
     "cellMetadata": {
      "byteLimit": 2048000,
      "implicitDf": true,
      "rowLimit": 10000
     },
     "inputWidgets": {},
     "nuid": "88b34e94-39f3-46f6-9400-c5203fe6123e",
     "showTitle": false,
     "tableResultSettingsMap": {},
     "title": ""
    }
   },
   "outputs": [
    {
     "output_type": "display_data",
     "data": {
      "text/html": [
       "<style scoped>\n",
       "  .table-result-container {\n",
       "    max-height: 300px;\n",
       "    overflow: auto;\n",
       "  }\n",
       "  table, th, td {\n",
       "    border: 1px solid black;\n",
       "    border-collapse: collapse;\n",
       "  }\n",
       "  th, td {\n",
       "    padding: 5px;\n",
       "  }\n",
       "  th {\n",
       "    text-align: left;\n",
       "  }\n",
       "</style><div class='table-result-container'><table class='table-result'><thead style='background-color: white'><tr><th>Branch_ID</th><th>BranchName</th><th>dim_branch_key</th></tr></thead><tbody><tr><td>BR0131</td><td>Audi Motors</td><td>1</td></tr><tr><td>BR0760</td><td>Healey Motors</td><td>2</td></tr><tr><td>BR0789</td><td>Hillman Motors</td><td>3</td></tr><tr><td>BR0938</td><td>Isotta Fraschini Motors</td><td>4</td></tr><tr><td>BR1040</td><td>Lada Motors</td><td>5</td></tr><tr><td>BR1693</td><td>Saleen Motors</td><td>6</td></tr><tr><td>BR1792</td><td>Simca do Brasil Motors</td><td>7</td></tr><tr><td>BR1799</td><td>Simca do Brasil Motors</td><td>8</td></tr><tr><td>BR1955</td><td>Toyota Motors</td><td>9</td></tr><tr><td>BR1978</td><td>Turner Motors</td><td>10</td></tr></tbody></table></div>"
      ]
     },
     "metadata": {
      "application/vnd.databricks.v1+output": {
       "addedWidgets": {},
       "aggData": [],
       "aggError": "",
       "aggOverflow": false,
       "aggSchema": [],
       "aggSeriesLimitReached": false,
       "aggType": "",
       "arguments": {},
       "columnCustomDisplayInfos": {},
       "data": [
        [
         "BR0131",
         "Audi Motors",
         1
        ],
        [
         "BR0760",
         "Healey Motors",
         2
        ],
        [
         "BR0789",
         "Hillman Motors",
         3
        ],
        [
         "BR0938",
         "Isotta Fraschini Motors",
         4
        ],
        [
         "BR1040",
         "Lada Motors",
         5
        ],
        [
         "BR1693",
         "Saleen Motors",
         6
        ],
        [
         "BR1792",
         "Simca do Brasil Motors",
         7
        ],
        [
         "BR1799",
         "Simca do Brasil Motors",
         8
        ],
        [
         "BR1955",
         "Toyota Motors",
         9
        ],
        [
         "BR1978",
         "Turner Motors",
         10
        ]
       ],
       "datasetInfos": [
        {
         "name": "_sqldf",
         "schema": {
          "fields": [
           {
            "metadata": {},
            "name": "Branch_ID",
            "nullable": true,
            "type": "string"
           },
           {
            "metadata": {},
            "name": "BranchName",
            "nullable": true,
            "type": "string"
           },
           {
            "metadata": {},
            "name": "dim_branch_key",
            "nullable": true,
            "type": "long"
           }
          ],
          "type": "struct"
         },
         "tableIdentifier": null,
         "typeStr": "pyspark.sql.connect.dataframe.DataFrame"
        }
       ],
       "dbfsResultPath": null,
       "isJsonSchema": true,
       "metadata": {
        "createTempViewForImplicitDf": true,
        "dataframeName": "_sqldf",
        "executionCount": 29
       },
       "overflow": false,
       "plotOptions": {
        "customPlotOptions": {},
        "displayType": "table",
        "pivotAggregation": null,
        "pivotColumns": null,
        "xColumns": null,
        "yColumns": null
       },
       "removedWidgets": [],
       "schema": [
        {
         "metadata": "{}",
         "name": "Branch_ID",
         "type": "\"string\""
        },
        {
         "metadata": "{}",
         "name": "BranchName",
         "type": "\"string\""
        },
        {
         "metadata": "{}",
         "name": "dim_branch_key",
         "type": "\"long\""
        }
       ],
       "type": "table"
      }
     },
     "output_type": "display_data"
    }
   ],
   "source": [
    "%sql\n",
    "select * from carproject.gold.dim_branch \n",
    "limit 10"
   ]
  },
  {
   "cell_type": "code",
   "execution_count": 0,
   "metadata": {
    "application/vnd.databricks.v1+cell": {
     "cellMetadata": {},
     "inputWidgets": {},
     "nuid": "b1f3f430-595a-46e9-ae78-03d504a67985",
     "showTitle": false,
     "tableResultSettingsMap": {},
     "title": ""
    }
   },
   "outputs": [],
   "source": []
  }
 ],
 "metadata": {
  "application/vnd.databricks.v1+notebook": {
   "computePreferences": null,
   "dashboards": [],
   "environmentMetadata": {
    "base_environment": "",
    "environment_version": "2"
   },
   "inputWidgetPreferences": null,
   "language": "python",
   "notebookMetadata": {
    "mostRecentlyExecutedCommandWithImplicitDF": {
     "commandId": 3201084320331303,
     "dataframes": [
      "_sqldf"
     ]
    },
    "pythonIndentUnit": 4
   },
   "notebookName": "gold_dim_branch",
   "widgets": {
    "incremental_flag": {
     "currentValue": "0",
     "nuid": "8c333b9f-1654-4fdd-a402-f6fd29f8f526",
     "typedWidgetInfo": {
      "autoCreated": false,
      "defaultValue": "0",
      "label": null,
      "name": "incremental_flag",
      "options": {
       "widgetDisplayType": "Text",
       "validationRegex": null
      },
      "parameterDataType": "String"
     },
     "widgetInfo": {
      "widgetType": "text",
      "defaultValue": "0",
      "label": null,
      "name": "incremental_flag",
      "options": {
       "widgetType": "text",
       "autoCreated": null,
       "validationRegex": null
      }
     }
    }
   }
  },
  "language_info": {
   "name": "python"
  }
 },
 "nbformat": 4,
 "nbformat_minor": 0
}