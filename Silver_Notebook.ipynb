{
 "cells": [
  {
   "cell_type": "markdown",
   "metadata": {
    "application/vnd.databricks.v1+cell": {
     "cellMetadata": {},
     "inputWidgets": {},
     "nuid": "02932458-2c90-45f1-96b3-826cbfcb626d",
     "showTitle": false,
     "tableResultSettingsMap": {},
     "title": ""
    }
   },
   "source": [
    "#Reading Data"
   ]
  },
  {
   "cell_type": "code",
   "execution_count": 0,
   "metadata": {
    "application/vnd.databricks.v1+cell": {
     "cellMetadata": {
      "byteLimit": 2048000,
      "rowLimit": 10000
     },
     "inputWidgets": {},
     "nuid": "43728b52-f6e6-4692-a18a-ed9837d02598",
     "showTitle": false,
     "tableResultSettingsMap": {},
     "title": ""
    }
   },
   "outputs": [],
   "source": [
    "df = spark.read.format('parquet')\\\n",
    "    .option('inferSchema', True)\\\n",
    "        .load('abfss://bronze@thadiyalcardatalake.dfs.core.windows.net/Raw_Data')"
   ]
  },
  {
   "cell_type": "code",
   "execution_count": 0,
   "metadata": {
    "application/vnd.databricks.v1+cell": {
     "cellMetadata": {
      "byteLimit": 2048000,
      "rowLimit": 10000
     },
     "inputWidgets": {},
     "nuid": "9e7b09ee-153c-436a-9b17-38e0497e0d29",
     "showTitle": false,
     "tableResultSettingsMap": {},
     "title": ""
    }
   },
   "outputs": [
    {
     "output_type": "display_data",
     "data": {
      "text/html": [
       "<style scoped>\n",
       "  .table-result-container {\n",
       "    max-height: 300px;\n",
       "    overflow: auto;\n",
       "  }\n",
       "  table, th, td {\n",
       "    border: 1px solid black;\n",
       "    border-collapse: collapse;\n",
       "  }\n",
       "  th, td {\n",
       "    padding: 5px;\n",
       "  }\n",
       "  th {\n",
       "    text-align: left;\n",
       "  }\n",
       "</style><div class='table-result-container'><table class='table-result'><thead style='background-color: white'><tr><th>Branch_ID</th><th>Dealer_ID</th><th>Model_ID</th><th>Revenue</th><th>Units_Sold</th><th>Date_ID</th><th>Day</th><th>Month</th><th>Year</th><th>BranchName</th><th>DealerName</th><th>Product_Name</th></tr></thead><tbody><tr><td>BR0001</td><td>DLR0001</td><td>BMW-M1</td><td>13363978</td><td>2</td><td>DT00001</td><td>1</td><td>1</td><td>2017</td><td>AC Cars Motors</td><td>AC Cars Motors</td><td>BMW</td></tr><tr><td>BR0003</td><td>DLR0228</td><td>Hon-M218</td><td>17376468</td><td>3</td><td>DT00001</td><td>10</td><td>5</td><td>2017</td><td>AC Cars Motors</td><td>Deccan Motors</td><td>Honda</td></tr><tr><td>BR0004</td><td>DLR0208</td><td>Tat-M188</td><td>9664767</td><td>3</td><td>DT00002</td><td>12</td><td>1</td><td>2017</td><td>AC Cars Motors</td><td>Wiesmann Motors</td><td>Tata</td></tr><tr><td>BR0005</td><td>DLR0188</td><td>Hyu-M158</td><td>5525304</td><td>3</td><td>DT00002</td><td>16</td><td>9</td><td>2017</td><td>AC Cars Motors</td><td>Subaru Motors</td><td>Hyundai</td></tr><tr><td>BR0006</td><td>DLR0168</td><td>Ren-M128</td><td>12971088</td><td>3</td><td>DT00003</td><td>20</td><td>5</td><td>2017</td><td>AC Cars Motors</td><td>Saab Motors</td><td>Renault</td></tr><tr><td>BR0008</td><td>DLR0128</td><td>Hon-M68</td><td>7321228</td><td>1</td><td>DT00004</td><td>28</td><td>4</td><td>2017</td><td>AC Cars Motors</td><td>Messerschmitt Motors</td><td>Honda</td></tr><tr><td>BR0009</td><td>DLR0108</td><td>Cad-M38</td><td>11379294</td><td>2</td><td>DT00004</td><td>31</td><td>12</td><td>2017</td><td>AC Cars Motors</td><td>Lexus Motors</td><td>Cadillac</td></tr><tr><td>BR0010</td><td>DLR0088</td><td>Mer-M8</td><td>11611234</td><td>2</td><td>DT00005</td><td>4</td><td>9</td><td>2017</td><td>AC Cars Motors</td><td>IFA (including Trabant, Wartburg, Barkas) Motors</td><td>Mercedes-Benz</td></tr><tr><td>BR0011</td><td>DLR0002</td><td>BMW-M2</td><td>19979446</td><td>2</td><td>DT00005</td><td>2</td><td>1</td><td>2017</td><td>Acura Motors</td><td>Acura Motors</td><td>BMW</td></tr><tr><td>BR0011</td><td>DLR0069</td><td>Vol-M256</td><td>14181510</td><td>3</td><td>DT00006</td><td>9</td><td>5</td><td>2017</td><td>Acura Motors</td><td>Geo Motors</td><td>Volkswagen</td></tr></tbody></table></div>"
      ]
     },
     "metadata": {
      "application/vnd.databricks.v1+output": {
       "addedWidgets": {},
       "aggData": [],
       "aggError": "",
       "aggOverflow": false,
       "aggSchema": [],
       "aggSeriesLimitReached": false,
       "aggType": "",
       "arguments": {},
       "columnCustomDisplayInfos": {},
       "data": [
        [
         "BR0001",
         "DLR0001",
         "BMW-M1",
         13363978,
         2,
         "DT00001",
         1,
         1,
         2017,
         "AC Cars Motors",
         "AC Cars Motors",
         "BMW"
        ],
        [
         "BR0003",
         "DLR0228",
         "Hon-M218",
         17376468,
         3,
         "DT00001",
         10,
         5,
         2017,
         "AC Cars Motors",
         "Deccan Motors",
         "Honda"
        ],
        [
         "BR0004",
         "DLR0208",
         "Tat-M188",
         9664767,
         3,
         "DT00002",
         12,
         1,
         2017,
         "AC Cars Motors",
         "Wiesmann Motors",
         "Tata"
        ],
        [
         "BR0005",
         "DLR0188",
         "Hyu-M158",
         5525304,
         3,
         "DT00002",
         16,
         9,
         2017,
         "AC Cars Motors",
         "Subaru Motors",
         "Hyundai"
        ],
        [
         "BR0006",
         "DLR0168",
         "Ren-M128",
         12971088,
         3,
         "DT00003",
         20,
         5,
         2017,
         "AC Cars Motors",
         "Saab Motors",
         "Renault"
        ],
        [
         "BR0008",
         "DLR0128",
         "Hon-M68",
         7321228,
         1,
         "DT00004",
         28,
         4,
         2017,
         "AC Cars Motors",
         "Messerschmitt Motors",
         "Honda"
        ],
        [
         "BR0009",
         "DLR0108",
         "Cad-M38",
         11379294,
         2,
         "DT00004",
         31,
         12,
         2017,
         "AC Cars Motors",
         "Lexus Motors",
         "Cadillac"
        ],
        [
         "BR0010",
         "DLR0088",
         "Mer-M8",
         11611234,
         2,
         "DT00005",
         4,
         9,
         2017,
         "AC Cars Motors",
         "IFA (including Trabant, Wartburg, Barkas) Motors",
         "Mercedes-Benz"
        ],
        [
         "BR0011",
         "DLR0002",
         "BMW-M2",
         19979446,
         2,
         "DT00005",
         2,
         1,
         2017,
         "Acura Motors",
         "Acura Motors",
         "BMW"
        ],
        [
         "BR0011",
         "DLR0069",
         "Vol-M256",
         14181510,
         3,
         "DT00006",
         9,
         5,
         2017,
         "Acura Motors",
         "Geo Motors",
         "Volkswagen"
        ]
       ],
       "datasetInfos": [],
       "dbfsResultPath": null,
       "isJsonSchema": true,
       "metadata": {},
       "overflow": false,
       "plotOptions": {
        "customPlotOptions": {},
        "displayType": "table",
        "pivotAggregation": null,
        "pivotColumns": null,
        "xColumns": null,
        "yColumns": null
       },
       "removedWidgets": [],
       "schema": [
        {
         "metadata": "{}",
         "name": "Branch_ID",
         "type": "\"string\""
        },
        {
         "metadata": "{}",
         "name": "Dealer_ID",
         "type": "\"string\""
        },
        {
         "metadata": "{}",
         "name": "Model_ID",
         "type": "\"string\""
        },
        {
         "metadata": "{}",
         "name": "Revenue",
         "type": "\"long\""
        },
        {
         "metadata": "{}",
         "name": "Units_Sold",
         "type": "\"long\""
        },
        {
         "metadata": "{}",
         "name": "Date_ID",
         "type": "\"string\""
        },
        {
         "metadata": "{}",
         "name": "Day",
         "type": "\"integer\""
        },
        {
         "metadata": "{}",
         "name": "Month",
         "type": "\"integer\""
        },
        {
         "metadata": "{}",
         "name": "Year",
         "type": "\"integer\""
        },
        {
         "metadata": "{}",
         "name": "BranchName",
         "type": "\"string\""
        },
        {
         "metadata": "{}",
         "name": "DealerName",
         "type": "\"string\""
        },
        {
         "metadata": "{}",
         "name": "Product_Name",
         "type": "\"string\""
        }
       ],
       "type": "table"
      }
     },
     "output_type": "display_data"
    }
   ],
   "source": [
    "df.limit(10).display()"
   ]
  },
  {
   "cell_type": "markdown",
   "metadata": {
    "application/vnd.databricks.v1+cell": {
     "cellMetadata": {},
     "inputWidgets": {},
     "nuid": "5fa50deb-83f1-4ff2-851f-53464dbd0456",
     "showTitle": false,
     "tableResultSettingsMap": {},
     "title": ""
    }
   },
   "source": [
    "#Transformations"
   ]
  },
  {
   "cell_type": "code",
   "execution_count": 0,
   "metadata": {
    "application/vnd.databricks.v1+cell": {
     "cellMetadata": {
      "byteLimit": 2048000,
      "rowLimit": 10000
     },
     "inputWidgets": {},
     "nuid": "18076290-5e17-4efb-a49b-4619774e3d0a",
     "showTitle": false,
     "tableResultSettingsMap": {},
     "title": ""
    }
   },
   "outputs": [],
   "source": [
    "from pyspark.sql.functions import *\n",
    "from pyspark.sql.types import *"
   ]
  },
  {
   "cell_type": "code",
   "execution_count": 0,
   "metadata": {
    "application/vnd.databricks.v1+cell": {
     "cellMetadata": {
      "byteLimit": 2048000,
      "rowLimit": 10000
     },
     "inputWidgets": {},
     "nuid": "5a8b36fd-56f7-46a6-8901-87e957ab8755",
     "showTitle": false,
     "tableResultSettingsMap": {},
     "title": ""
    }
   },
   "outputs": [
    {
     "output_type": "display_data",
     "data": {
      "text/html": [
       "<style scoped>\n",
       "  .table-result-container {\n",
       "    max-height: 300px;\n",
       "    overflow: auto;\n",
       "  }\n",
       "  table, th, td {\n",
       "    border: 1px solid black;\n",
       "    border-collapse: collapse;\n",
       "  }\n",
       "  th, td {\n",
       "    padding: 5px;\n",
       "  }\n",
       "  th {\n",
       "    text-align: left;\n",
       "  }\n",
       "</style><div class='table-result-container'><table class='table-result'><thead style='background-color: white'><tr><th>Branch_ID</th><th>Dealer_ID</th><th>Model_ID</th><th>Revenue</th><th>Units_Sold</th><th>Date_ID</th><th>Day</th><th>Month</th><th>Year</th><th>BranchName</th><th>DealerName</th><th>Product_Name</th><th>model_category</th></tr></thead><tbody><tr><td>BR0001</td><td>DLR0001</td><td>BMW-M1</td><td>13363978</td><td>2</td><td>DT00001</td><td>1</td><td>1</td><td>2017</td><td>AC Cars Motors</td><td>AC Cars Motors</td><td>BMW</td><td>BMW</td></tr><tr><td>BR0003</td><td>DLR0228</td><td>Hon-M218</td><td>17376468</td><td>3</td><td>DT00001</td><td>10</td><td>5</td><td>2017</td><td>AC Cars Motors</td><td>Deccan Motors</td><td>Honda</td><td>Hon</td></tr><tr><td>BR0004</td><td>DLR0208</td><td>Tat-M188</td><td>9664767</td><td>3</td><td>DT00002</td><td>12</td><td>1</td><td>2017</td><td>AC Cars Motors</td><td>Wiesmann Motors</td><td>Tata</td><td>Tat</td></tr><tr><td>BR0005</td><td>DLR0188</td><td>Hyu-M158</td><td>5525304</td><td>3</td><td>DT00002</td><td>16</td><td>9</td><td>2017</td><td>AC Cars Motors</td><td>Subaru Motors</td><td>Hyundai</td><td>Hyu</td></tr><tr><td>BR0006</td><td>DLR0168</td><td>Ren-M128</td><td>12971088</td><td>3</td><td>DT00003</td><td>20</td><td>5</td><td>2017</td><td>AC Cars Motors</td><td>Saab Motors</td><td>Renault</td><td>Ren</td></tr><tr><td>BR0008</td><td>DLR0128</td><td>Hon-M68</td><td>7321228</td><td>1</td><td>DT00004</td><td>28</td><td>4</td><td>2017</td><td>AC Cars Motors</td><td>Messerschmitt Motors</td><td>Honda</td><td>Hon</td></tr><tr><td>BR0009</td><td>DLR0108</td><td>Cad-M38</td><td>11379294</td><td>2</td><td>DT00004</td><td>31</td><td>12</td><td>2017</td><td>AC Cars Motors</td><td>Lexus Motors</td><td>Cadillac</td><td>Cad</td></tr><tr><td>BR0010</td><td>DLR0088</td><td>Mer-M8</td><td>11611234</td><td>2</td><td>DT00005</td><td>4</td><td>9</td><td>2017</td><td>AC Cars Motors</td><td>IFA (including Trabant, Wartburg, Barkas) Motors</td><td>Mercedes-Benz</td><td>Mer</td></tr><tr><td>BR0011</td><td>DLR0002</td><td>BMW-M2</td><td>19979446</td><td>2</td><td>DT00005</td><td>2</td><td>1</td><td>2017</td><td>Acura Motors</td><td>Acura Motors</td><td>BMW</td><td>BMW</td></tr><tr><td>BR0011</td><td>DLR0069</td><td>Vol-M256</td><td>14181510</td><td>3</td><td>DT00006</td><td>9</td><td>5</td><td>2017</td><td>Acura Motors</td><td>Geo Motors</td><td>Volkswagen</td><td>Vol</td></tr></tbody></table></div>"
      ]
     },
     "metadata": {
      "application/vnd.databricks.v1+output": {
       "addedWidgets": {},
       "aggData": [],
       "aggError": "",
       "aggOverflow": false,
       "aggSchema": [],
       "aggSeriesLimitReached": false,
       "aggType": "",
       "arguments": {},
       "columnCustomDisplayInfos": {},
       "data": [
        [
         "BR0001",
         "DLR0001",
         "BMW-M1",
         13363978,
         2,
         "DT00001",
         1,
         1,
         2017,
         "AC Cars Motors",
         "AC Cars Motors",
         "BMW",
         "BMW"
        ],
        [
         "BR0003",
         "DLR0228",
         "Hon-M218",
         17376468,
         3,
         "DT00001",
         10,
         5,
         2017,
         "AC Cars Motors",
         "Deccan Motors",
         "Honda",
         "Hon"
        ],
        [
         "BR0004",
         "DLR0208",
         "Tat-M188",
         9664767,
         3,
         "DT00002",
         12,
         1,
         2017,
         "AC Cars Motors",
         "Wiesmann Motors",
         "Tata",
         "Tat"
        ],
        [
         "BR0005",
         "DLR0188",
         "Hyu-M158",
         5525304,
         3,
         "DT00002",
         16,
         9,
         2017,
         "AC Cars Motors",
         "Subaru Motors",
         "Hyundai",
         "Hyu"
        ],
        [
         "BR0006",
         "DLR0168",
         "Ren-M128",
         12971088,
         3,
         "DT00003",
         20,
         5,
         2017,
         "AC Cars Motors",
         "Saab Motors",
         "Renault",
         "Ren"
        ],
        [
         "BR0008",
         "DLR0128",
         "Hon-M68",
         7321228,
         1,
         "DT00004",
         28,
         4,
         2017,
         "AC Cars Motors",
         "Messerschmitt Motors",
         "Honda",
         "Hon"
        ],
        [
         "BR0009",
         "DLR0108",
         "Cad-M38",
         11379294,
         2,
         "DT00004",
         31,
         12,
         2017,
         "AC Cars Motors",
         "Lexus Motors",
         "Cadillac",
         "Cad"
        ],
        [
         "BR0010",
         "DLR0088",
         "Mer-M8",
         11611234,
         2,
         "DT00005",
         4,
         9,
         2017,
         "AC Cars Motors",
         "IFA (including Trabant, Wartburg, Barkas) Motors",
         "Mercedes-Benz",
         "Mer"
        ],
        [
         "BR0011",
         "DLR0002",
         "BMW-M2",
         19979446,
         2,
         "DT00005",
         2,
         1,
         2017,
         "Acura Motors",
         "Acura Motors",
         "BMW",
         "BMW"
        ],
        [
         "BR0011",
         "DLR0069",
         "Vol-M256",
         14181510,
         3,
         "DT00006",
         9,
         5,
         2017,
         "Acura Motors",
         "Geo Motors",
         "Volkswagen",
         "Vol"
        ]
       ],
       "datasetInfos": [],
       "dbfsResultPath": null,
       "isJsonSchema": true,
       "metadata": {},
       "overflow": false,
       "plotOptions": {
        "customPlotOptions": {},
        "displayType": "table",
        "pivotAggregation": null,
        "pivotColumns": null,
        "xColumns": null,
        "yColumns": null
       },
       "removedWidgets": [],
       "schema": [
        {
         "metadata": "{}",
         "name": "Branch_ID",
         "type": "\"string\""
        },
        {
         "metadata": "{}",
         "name": "Dealer_ID",
         "type": "\"string\""
        },
        {
         "metadata": "{}",
         "name": "Model_ID",
         "type": "\"string\""
        },
        {
         "metadata": "{}",
         "name": "Revenue",
         "type": "\"long\""
        },
        {
         "metadata": "{}",
         "name": "Units_Sold",
         "type": "\"long\""
        },
        {
         "metadata": "{}",
         "name": "Date_ID",
         "type": "\"string\""
        },
        {
         "metadata": "{}",
         "name": "Day",
         "type": "\"integer\""
        },
        {
         "metadata": "{}",
         "name": "Month",
         "type": "\"integer\""
        },
        {
         "metadata": "{}",
         "name": "Year",
         "type": "\"integer\""
        },
        {
         "metadata": "{}",
         "name": "BranchName",
         "type": "\"string\""
        },
        {
         "metadata": "{}",
         "name": "DealerName",
         "type": "\"string\""
        },
        {
         "metadata": "{}",
         "name": "Product_Name",
         "type": "\"string\""
        },
        {
         "metadata": "{}",
         "name": "model_category",
         "type": "\"string\""
        }
       ],
       "type": "table"
      }
     },
     "output_type": "display_data"
    }
   ],
   "source": [
    "df = df.withColumn('model_category', split(col('Model_ID'), '-')[0])\n",
    "df.limit(10).display()"
   ]
  },
  {
   "cell_type": "code",
   "execution_count": 0,
   "metadata": {
    "application/vnd.databricks.v1+cell": {
     "cellMetadata": {
      "byteLimit": 2048000,
      "rowLimit": 10000
     },
     "inputWidgets": {},
     "nuid": "d44cc82b-b24c-4b31-8269-a963bdaded5a",
     "showTitle": false,
     "tableResultSettingsMap": {},
     "title": ""
    }
   },
   "outputs": [
    {
     "output_type": "display_data",
     "data": {
      "text/html": [
       "<style scoped>\n",
       "  .table-result-container {\n",
       "    max-height: 300px;\n",
       "    overflow: auto;\n",
       "  }\n",
       "  table, th, td {\n",
       "    border: 1px solid black;\n",
       "    border-collapse: collapse;\n",
       "  }\n",
       "  th, td {\n",
       "    padding: 5px;\n",
       "  }\n",
       "  th {\n",
       "    text-align: left;\n",
       "  }\n",
       "</style><div class='table-result-container'><table class='table-result'><thead style='background-color: white'><tr><th>Branch_ID</th><th>Dealer_ID</th><th>Model_ID</th><th>Revenue</th><th>Units_Sold</th><th>Date_ID</th><th>Day</th><th>Month</th><th>Year</th><th>BranchName</th><th>DealerName</th><th>Product_Name</th><th>model_category</th><th>RevPerUnit</th></tr></thead><tbody><tr><td>BR0001</td><td>DLR0001</td><td>BMW-M1</td><td>13363978</td><td>2</td><td>DT00001</td><td>1</td><td>1</td><td>2017</td><td>AC Cars Motors</td><td>AC Cars Motors</td><td>BMW</td><td>BMW</td><td>6681989.0</td></tr><tr><td>BR0003</td><td>DLR0228</td><td>Hon-M218</td><td>17376468</td><td>3</td><td>DT00001</td><td>10</td><td>5</td><td>2017</td><td>AC Cars Motors</td><td>Deccan Motors</td><td>Honda</td><td>Hon</td><td>5792156.0</td></tr><tr><td>BR0004</td><td>DLR0208</td><td>Tat-M188</td><td>9664767</td><td>3</td><td>DT00002</td><td>12</td><td>1</td><td>2017</td><td>AC Cars Motors</td><td>Wiesmann Motors</td><td>Tata</td><td>Tat</td><td>3221589.0</td></tr><tr><td>BR0005</td><td>DLR0188</td><td>Hyu-M158</td><td>5525304</td><td>3</td><td>DT00002</td><td>16</td><td>9</td><td>2017</td><td>AC Cars Motors</td><td>Subaru Motors</td><td>Hyundai</td><td>Hyu</td><td>1841768.0</td></tr><tr><td>BR0006</td><td>DLR0168</td><td>Ren-M128</td><td>12971088</td><td>3</td><td>DT00003</td><td>20</td><td>5</td><td>2017</td><td>AC Cars Motors</td><td>Saab Motors</td><td>Renault</td><td>Ren</td><td>4323696.0</td></tr><tr><td>BR0008</td><td>DLR0128</td><td>Hon-M68</td><td>7321228</td><td>1</td><td>DT00004</td><td>28</td><td>4</td><td>2017</td><td>AC Cars Motors</td><td>Messerschmitt Motors</td><td>Honda</td><td>Hon</td><td>7321228.0</td></tr><tr><td>BR0009</td><td>DLR0108</td><td>Cad-M38</td><td>11379294</td><td>2</td><td>DT00004</td><td>31</td><td>12</td><td>2017</td><td>AC Cars Motors</td><td>Lexus Motors</td><td>Cadillac</td><td>Cad</td><td>5689647.0</td></tr><tr><td>BR0010</td><td>DLR0088</td><td>Mer-M8</td><td>11611234</td><td>2</td><td>DT00005</td><td>4</td><td>9</td><td>2017</td><td>AC Cars Motors</td><td>IFA (including Trabant, Wartburg, Barkas) Motors</td><td>Mercedes-Benz</td><td>Mer</td><td>5805617.0</td></tr><tr><td>BR0011</td><td>DLR0002</td><td>BMW-M2</td><td>19979446</td><td>2</td><td>DT00005</td><td>2</td><td>1</td><td>2017</td><td>Acura Motors</td><td>Acura Motors</td><td>BMW</td><td>BMW</td><td>9989723.0</td></tr><tr><td>BR0011</td><td>DLR0069</td><td>Vol-M256</td><td>14181510</td><td>3</td><td>DT00006</td><td>9</td><td>5</td><td>2017</td><td>Acura Motors</td><td>Geo Motors</td><td>Volkswagen</td><td>Vol</td><td>4727170.0</td></tr></tbody></table></div>"
      ]
     },
     "metadata": {
      "application/vnd.databricks.v1+output": {
       "addedWidgets": {},
       "aggData": [],
       "aggError": "",
       "aggOverflow": false,
       "aggSchema": [],
       "aggSeriesLimitReached": false,
       "aggType": "",
       "arguments": {},
       "columnCustomDisplayInfos": {},
       "data": [
        [
         "BR0001",
         "DLR0001",
         "BMW-M1",
         13363978,
         2,
         "DT00001",
         1,
         1,
         2017,
         "AC Cars Motors",
         "AC Cars Motors",
         "BMW",
         "BMW",
         6681989.0
        ],
        [
         "BR0003",
         "DLR0228",
         "Hon-M218",
         17376468,
         3,
         "DT00001",
         10,
         5,
         2017,
         "AC Cars Motors",
         "Deccan Motors",
         "Honda",
         "Hon",
         5792156.0
        ],
        [
         "BR0004",
         "DLR0208",
         "Tat-M188",
         9664767,
         3,
         "DT00002",
         12,
         1,
         2017,
         "AC Cars Motors",
         "Wiesmann Motors",
         "Tata",
         "Tat",
         3221589.0
        ],
        [
         "BR0005",
         "DLR0188",
         "Hyu-M158",
         5525304,
         3,
         "DT00002",
         16,
         9,
         2017,
         "AC Cars Motors",
         "Subaru Motors",
         "Hyundai",
         "Hyu",
         1841768.0
        ],
        [
         "BR0006",
         "DLR0168",
         "Ren-M128",
         12971088,
         3,
         "DT00003",
         20,
         5,
         2017,
         "AC Cars Motors",
         "Saab Motors",
         "Renault",
         "Ren",
         4323696.0
        ],
        [
         "BR0008",
         "DLR0128",
         "Hon-M68",
         7321228,
         1,
         "DT00004",
         28,
         4,
         2017,
         "AC Cars Motors",
         "Messerschmitt Motors",
         "Honda",
         "Hon",
         7321228.0
        ],
        [
         "BR0009",
         "DLR0108",
         "Cad-M38",
         11379294,
         2,
         "DT00004",
         31,
         12,
         2017,
         "AC Cars Motors",
         "Lexus Motors",
         "Cadillac",
         "Cad",
         5689647.0
        ],
        [
         "BR0010",
         "DLR0088",
         "Mer-M8",
         11611234,
         2,
         "DT00005",
         4,
         9,
         2017,
         "AC Cars Motors",
         "IFA (including Trabant, Wartburg, Barkas) Motors",
         "Mercedes-Benz",
         "Mer",
         5805617.0
        ],
        [
         "BR0011",
         "DLR0002",
         "BMW-M2",
         19979446,
         2,
         "DT00005",
         2,
         1,
         2017,
         "Acura Motors",
         "Acura Motors",
         "BMW",
         "BMW",
         9989723.0
        ],
        [
         "BR0011",
         "DLR0069",
         "Vol-M256",
         14181510,
         3,
         "DT00006",
         9,
         5,
         2017,
         "Acura Motors",
         "Geo Motors",
         "Volkswagen",
         "Vol",
         4727170.0
        ]
       ],
       "datasetInfos": [],
       "dbfsResultPath": null,
       "isJsonSchema": true,
       "metadata": {},
       "overflow": false,
       "plotOptions": {
        "customPlotOptions": {},
        "displayType": "table",
        "pivotAggregation": null,
        "pivotColumns": null,
        "xColumns": null,
        "yColumns": null
       },
       "removedWidgets": [],
       "schema": [
        {
         "metadata": "{}",
         "name": "Branch_ID",
         "type": "\"string\""
        },
        {
         "metadata": "{}",
         "name": "Dealer_ID",
         "type": "\"string\""
        },
        {
         "metadata": "{}",
         "name": "Model_ID",
         "type": "\"string\""
        },
        {
         "metadata": "{}",
         "name": "Revenue",
         "type": "\"long\""
        },
        {
         "metadata": "{}",
         "name": "Units_Sold",
         "type": "\"long\""
        },
        {
         "metadata": "{}",
         "name": "Date_ID",
         "type": "\"string\""
        },
        {
         "metadata": "{}",
         "name": "Day",
         "type": "\"integer\""
        },
        {
         "metadata": "{}",
         "name": "Month",
         "type": "\"integer\""
        },
        {
         "metadata": "{}",
         "name": "Year",
         "type": "\"integer\""
        },
        {
         "metadata": "{}",
         "name": "BranchName",
         "type": "\"string\""
        },
        {
         "metadata": "{}",
         "name": "DealerName",
         "type": "\"string\""
        },
        {
         "metadata": "{}",
         "name": "Product_Name",
         "type": "\"string\""
        },
        {
         "metadata": "{}",
         "name": "model_category",
         "type": "\"string\""
        },
        {
         "metadata": "{}",
         "name": "RevPerUnit",
         "type": "\"double\""
        }
       ],
       "type": "table"
      }
     },
     "output_type": "display_data"
    }
   ],
   "source": [
    "df = df.withColumn('RevPerUnit', col('Revenue')/col('Units_Sold'))\n",
    "df.limit(10).display()"
   ]
  },
  {
   "cell_type": "markdown",
   "metadata": {
    "application/vnd.databricks.v1+cell": {
     "cellMetadata": {},
     "inputWidgets": {},
     "nuid": "18f5051a-f7d1-4ec7-85d5-ff3f2d9ebddc",
     "showTitle": false,
     "tableResultSettingsMap": {},
     "title": ""
    }
   },
   "source": [
    "#Ad-hoc Analysis"
   ]
  },
  {
   "cell_type": "code",
   "execution_count": 0,
   "metadata": {
    "application/vnd.databricks.v1+cell": {
     "cellMetadata": {
      "byteLimit": 2048000,
      "rowLimit": 10000
     },
     "inputWidgets": {},
     "nuid": "10271294-8f91-48c9-bece-a497c7ff78f8",
     "showTitle": false,
     "tableResultSettingsMap": {},
     "title": ""
    }
   },
   "outputs": [
    {
     "output_type": "display_data",
     "data": {
      "text/html": [
       "<style scoped>\n",
       "  .table-result-container {\n",
       "    max-height: 300px;\n",
       "    overflow: auto;\n",
       "  }\n",
       "  table, th, td {\n",
       "    border: 1px solid black;\n",
       "    border-collapse: collapse;\n",
       "  }\n",
       "  th, td {\n",
       "    padding: 5px;\n",
       "  }\n",
       "  th {\n",
       "    text-align: left;\n",
       "  }\n",
       "</style><div class='table-result-container'><table class='table-result'><thead style='background-color: white'><tr><th>Year</th><th>BranchName</th><th>Total_Units</th></tr></thead><tbody><tr><td>2017</td><td>Alpine Motors</td><td>48</td></tr><tr><td>2017</td><td>Bristol Motors</td><td>46</td></tr><tr><td>2017</td><td>Acura Motors</td><td>46</td></tr><tr><td>2017</td><td>BMW Motors</td><td>46</td></tr><tr><td>2017</td><td>Aston Martin Motors</td><td>46</td></tr><tr><td>2017</td><td>Ariel Motors</td><td>42</td></tr><tr><td>2017</td><td>Daihatsu Motors</td><td>42</td></tr><tr><td>2017</td><td>Gilbern Motors</td><td>42</td></tr><tr><td>2017</td><td>Asia Motors Motors</td><td>40</td></tr><tr><td>2017</td><td>Anadol Motors</td><td>38</td></tr><tr><td>2017</td><td>AC Cars Motors</td><td>38</td></tr><tr><td>2017</td><td>DAF Motors</td><td>38</td></tr><tr><td>2017</td><td>DeLorean Motors</td><td>38</td></tr><tr><td>2017</td><td>AMC, Eagle Motors</td><td>36</td></tr><tr><td>2017</td><td>Auto-Union Motors</td><td>36</td></tr><tr><td>2017</td><td>Glas Motors</td><td>36</td></tr><tr><td>2017</td><td>Alvis Motors</td><td>34</td></tr><tr><td>2017</td><td>Caterham Motors</td><td>34</td></tr><tr><td>2017</td><td>Datsun Motors</td><td>34</td></tr><tr><td>2017</td><td>Borgward (including Goliath and Lloyd) Motors</td><td>32</td></tr><tr><td>2017</td><td>Chevrolet India Motors</td><td>32</td></tr><tr><td>2017</td><td>Dodge Motors</td><td>32</td></tr><tr><td>2017</td><td>FSO Motors</td><td>32</td></tr><tr><td>2017</td><td>Ginetta Motors</td><td>32</td></tr><tr><td>2017</td><td>Cadillac Motors</td><td>32</td></tr><tr><td>2017</td><td>Daewoo, Saehan, Chevrolet Korea Motors</td><td>30</td></tr><tr><td>2017</td><td>Freightliner Motors</td><td>30</td></tr><tr><td>2017</td><td>Aixam-Mega (including Arola) Motors</td><td>30</td></tr><tr><td>2017</td><td>British Leyland Motors</td><td>30</td></tr><tr><td>2017</td><td>Chrysler Europe Motors</td><td>30</td></tr><tr><td>2017</td><td>e.GO Mobile Motors</td><td>30</td></tr><tr><td>2017</td><td>Buick Motors</td><td>30</td></tr><tr><td>2017</td><td>GMC Motors</td><td>30</td></tr><tr><td>2017</td><td>Delahaye Motors</td><td>28</td></tr><tr><td>2017</td><td>Bentley Motors</td><td>28</td></tr><tr><td>2017</td><td>Citroën Motors</td><td>28</td></tr><tr><td>2017</td><td>Cizeta-Moroder Motors</td><td>28</td></tr><tr><td>2017</td><td>Gumpert Motors</td><td>28</td></tr><tr><td>2017</td><td>Ford America Motors</td><td>28</td></tr><tr><td>2017</td><td>Bond Motors</td><td>28</td></tr><tr><td>2017</td><td>DeSoto Motors</td><td>28</td></tr><tr><td>2017</td><td>Artega Motors</td><td>28</td></tr><tr><td>2017</td><td>Alfa Romeo Motors</td><td>28</td></tr><tr><td>2017</td><td>Fiat do Brasil Motors</td><td>26</td></tr><tr><td>2017</td><td>Healey Motors</td><td>26</td></tr><tr><td>2017</td><td>Geo Motors</td><td>26</td></tr><tr><td>2017</td><td>Dacia Motors</td><td>26</td></tr><tr><td>2017</td><td>Ford do Brasil Motors</td><td>26</td></tr><tr><td>2017</td><td>Bitter Motors</td><td>26</td></tr><tr><td>2017</td><td>Chevrolet Motors</td><td>24</td></tr><tr><td>2017</td><td>Audi Motors</td><td>24</td></tr><tr><td>2017</td><td>Bugatti Motors</td><td>24</td></tr><tr><td>2017</td><td>Ford Europe Motors</td><td>24</td></tr><tr><td>2017</td><td>Ford Australia Motors</td><td>24</td></tr><tr><td>2017</td><td>Fiat Motors</td><td>24</td></tr><tr><td>2017</td><td>Chrysler Motors</td><td>24</td></tr><tr><td>2017</td><td>Heinkel Motors</td><td>24</td></tr><tr><td>2017</td><td>ARO Motors</td><td>22</td></tr><tr><td>2017</td><td>Ford India Motors</td><td>22</td></tr><tr><td>2017</td><td>Eicher Polaris Motors</td><td>22</td></tr><tr><td>2017</td><td>Austin, Rover Motors</td><td>22</td></tr><tr><td>2017</td><td>Auverland Motors</td><td>22</td></tr><tr><td>2017</td><td>Fiat India Motors</td><td>22</td></tr><tr><td>2017</td><td>Ferrari Motors</td><td>22</td></tr><tr><td>2017</td><td>Checker Motors</td><td>20</td></tr><tr><td>2017</td><td>Elva Motors</td><td>20</td></tr><tr><td>2017</td><td>Donkervoort Motors</td><td>20</td></tr><tr><td>2017</td><td>Edsel Motors</td><td>20</td></tr><tr><td>2017</td><td>GAZ Motors</td><td>20</td></tr><tr><td>2017</td><td>GTA Spano Motors</td><td>18</td></tr><tr><td>2017</td><td>Austin-Healey Motors</td><td>18</td></tr><tr><td>2017</td><td>Fisker, Karma Motors</td><td>18</td></tr><tr><td>2017</td><td>De Tomaso Motors</td><td>16</td></tr><tr><td>2017</td><td>Autobianchi Motors</td><td>14</td></tr><tr><td>2017</td><td>Daimler Motors</td><td>14</td></tr><tr><td>2017</td><td>Bytom Motors</td><td>10</td></tr><tr><td>2017</td><td>Facel Vega Motors</td><td>6</td></tr><tr><td>2017</td><td>Hennessey Motors</td><td>4</td></tr><tr><td>2018</td><td>Maruti Motors</td><td>40</td></tr><tr><td>2018</td><td>Lamborghini Motors</td><td>40</td></tr><tr><td>2018</td><td>Packard Motors</td><td>38</td></tr><tr><td>2018</td><td>Mastretta Motors</td><td>38</td></tr><tr><td>2018</td><td>Jeep Motors</td><td>36</td></tr><tr><td>2018</td><td>Naza Motors</td><td>36</td></tr><tr><td>2018</td><td>Micro Motors</td><td>34</td></tr><tr><td>2018</td><td>Noble Motors</td><td>34</td></tr><tr><td>2018</td><td>Matra (including Deutsch-Bonnet, René Bonnet) Motors</td><td>34</td></tr><tr><td>2018</td><td>Opel Motors</td><td>32</td></tr><tr><td>2018</td><td>Iso Motors</td><td>32</td></tr><tr><td>2018</td><td>Innocenti Motors</td><td>32</td></tr><tr><td>2018</td><td>Jensen Motors</td><td>32</td></tr><tr><td>2018</td><td>Merkur Motors</td><td>32</td></tr><tr><td>2018</td><td>Invicta Motors</td><td>32</td></tr><tr><td>2018</td><td>Koenigsegg Motors</td><td>32</td></tr><tr><td>2018</td><td>Peugeot Motors</td><td>32</td></tr><tr><td>2018</td><td>Isuzu Motors</td><td>30</td></tr><tr><td>2018</td><td>Jaguar Motors</td><td>30</td></tr><tr><td>2018</td><td>Honda India Motors</td><td>30</td></tr><tr><td>2018</td><td>McLaren Motors</td><td>30</td></tr><tr><td>2018</td><td>LuAZ Motors</td><td>30</td></tr><tr><td>2018</td><td>Perodua Motors</td><td>30</td></tr><tr><td>2018</td><td>Holden Motors</td><td>30</td></tr><tr><td>2018</td><td>Marcos Motors</td><td>30</td></tr><tr><td>2018</td><td>Mini Motors</td><td>28</td></tr><tr><td>2018</td><td>Nissan India Motors</td><td>28</td></tr><tr><td>2018</td><td>Hudson Motors</td><td>28</td></tr><tr><td>2018</td><td>Isotta Fraschini Motors</td><td>28</td></tr><tr><td>2018</td><td>Mazzanti Motors</td><td>28</td></tr><tr><td>2018</td><td>Lancia Motors</td><td>28</td></tr><tr><td>2018</td><td>Panhard Motors</td><td>28</td></tr><tr><td>2018</td><td>NSU Motors</td><td>28</td></tr><tr><td>2018</td><td>Lexus Motors</td><td>28</td></tr><tr><td>2018</td><td>Hummer Motors</td><td>28</td></tr><tr><td>2018</td><td>Honda Motors</td><td>28</td></tr><tr><td>2018</td><td>Maserati Motors</td><td>26</td></tr><tr><td>2018</td><td>Mazda Motors</td><td>26</td></tr><tr><td>2018</td><td>Mitsubishi Motors</td><td>26</td></tr><tr><td>2018</td><td>IFA (including Trabant, Wartburg, Barkas) Motors</td><td>26</td></tr><tr><td>2018</td><td>Mercedes-Benz (including Maybach) Motors</td><td>26</td></tr><tr><td>2018</td><td>JPX Motors</td><td>26</td></tr><tr><td>2018</td><td>LTI Motors</td><td>26</td></tr><tr><td>2018</td><td>Hyundai Motors</td><td>26</td></tr><tr><td>2018</td><td>Oldsmobile Motors</td><td>24</td></tr><tr><td>2018</td><td>Mia Motors</td><td>24</td></tr><tr><td>2018</td><td>Marlin Motors</td><td>24</td></tr><tr><td>2018</td><td>Land Rover Motors</td><td>22</td></tr><tr><td>2018</td><td>Moskwitch Motors</td><td>22</td></tr><tr><td>2018</td><td>Lincoln Motors</td><td>22</td></tr><tr><td>2018</td><td>Kia Motors</td><td>22</td></tr><tr><td>2018</td><td>KTM Motors</td><td>22</td></tr><tr><td>2018</td><td>Hillman Motors</td><td>22</td></tr><tr><td>2018</td><td>Nash Motors</td><td>22</td></tr><tr><td>2018</td><td>Monica Motors</td><td>22</td></tr><tr><td>2018</td><td>Iveco Motors</td><td>20</td></tr><tr><td>2018</td><td>Mahindra Motors</td><td>20</td></tr><tr><td>2018</td><td>Messerschmitt Motors</td><td>20</td></tr><tr><td>2018</td><td>Mercury Motors</td><td>20</td></tr><tr><td>2018</td><td>Peel Motors</td><td>20</td></tr><tr><td>2018</td><td>Humber Motors</td><td>20</td></tr><tr><td>2018</td><td>Lotus Motors</td><td>20</td></tr><tr><td>2018</td><td>Nissan Motors</td><td>18</td></tr><tr><td>2018</td><td>Infiniti Motors</td><td>18</td></tr><tr><td>2018</td><td>Pagani Motors</td><td>18</td></tr><tr><td>2018</td><td>Monteverdi Motors</td><td>18</td></tr><tr><td>2018</td><td>Isdera Motors</td><td>18</td></tr><tr><td>2018</td><td>Hindustan Motors</td><td>18</td></tr><tr><td>2018</td><td>Panther Motors</td><td>18</td></tr><tr><td>2018</td><td>Lada Motors</td><td>18</td></tr><tr><td>2018</td><td>Oltcit Motors</td><td>16</td></tr><tr><td>2018</td><td>Panoz Motors</td><td>14</td></tr><tr><td>2018</td><td>Lynx Motors</td><td>14</td></tr><tr><td>2018</td><td>PGO Motors</td><td>12</td></tr><tr><td>2018</td><td>Hennessey Motors</td><td>12</td></tr><tr><td>2018</td><td>Morgan Motors</td><td>10</td></tr><tr><td>2018</td><td>Ligier Motors</td><td>8</td></tr><tr><td>2018</td><td>Santana Motors</td><td>6</td></tr><tr><td>2018</td><td>Kindel Building</td><td>6</td></tr><tr><td>2018</td><td>Blankinship Motor Company Building</td><td>6</td></tr><tr><td>2018</td><td>Vauxhall Motors</td><td>6</td></tr><tr><td>2018</td><td>Herald Motors</td><td>6</td></tr><tr><td>2018</td><td>Simca Motors</td><td>6</td></tr><tr><td>2018</td><td>Lagonda  Motors</td><td>6</td></tr><tr><td>2018</td><td>Tesla Motors</td><td>6</td></tr><tr><td>2018</td><td>Cass Motor Sales</td><td>6</td></tr><tr><td>2018</td><td>UAZ Motors</td><td>6</td></tr><tr><td>2018</td><td>Sunbeam Motors</td><td>6</td></tr><tr><td>2018</td><td>Auto-Union Motors</td><td>6</td></tr><tr><td>2018</td><td>Borgward (including Goliath and Lloyd) Motors</td><td>6</td></tr><tr><td>2018</td><td>MG  Motors</td><td>6</td></tr><tr><td>2018</td><td>Audi Motors</td><td>6</td></tr><tr><td>2018</td><td>Jennings Ford Automobile Dealership</td><td>6</td></tr><tr><td>2018</td><td>Zastava Motors</td><td>6</td></tr><tr><td>2018</td><td>Tatra Motors</td><td>6</td></tr><tr><td>2018</td><td>Casa de cadillac</td><td>6</td></tr><tr><td>2018</td><td>Izh  Motors</td><td>6</td></tr><tr><td>2018</td><td>Zion Automobils</td><td>6</td></tr><tr><td>2018</td><td>Volkswagen Motors</td><td>4</td></tr><tr><td>2018</td><td>Tata Motors</td><td>4</td></tr><tr><td>2018</td><td>Hupmobile Building</td><td>4</td></tr><tr><td>2018</td><td>Tazzari Motors</td><td>4</td></tr><tr><td>2018</td><td>Volvo Motors</td><td>4</td></tr><tr><td>2018</td><td>Simca do Brasil Motors</td><td>4</td></tr><tr><td>2018</td><td>Turner Motors</td><td>4</td></tr><tr><td>2018</td><td>Colman Automotive Building</td><td>4</td></tr><tr><td>2018</td><td>Saturn Motors</td><td>4</td></tr><tr><td>2018</td><td>Bentley Motors</td><td>4</td></tr><tr><td>2018</td><td>Atlantic Motor Company</td><td>4</td></tr><tr><td>2018</td><td>Volkswagen do Brasil Motors</td><td>4</td></tr><tr><td>2018</td><td>Howard Motor Company Building</td><td>4</td></tr><tr><td>2018</td><td>Westfield Motors</td><td>4</td></tr><tr><td>2018</td><td>British Leyland Motors</td><td>4</td></tr><tr><td>2018</td><td>Santa Matilde Motors</td><td>4</td></tr><tr><td>2018</td><td>Saleen Motors</td><td>4</td></tr><tr><td>2018</td><td>Volkswagen South Africa Motors</td><td>4</td></tr><tr><td>2018</td><td>Bristol Motors</td><td>4</td></tr><tr><td>2018</td><td>Deccan Motors</td><td>4</td></tr><tr><td>2018</td><td>Singer Motors</td><td>4</td></tr><tr><td>2018</td><td>Cadillac Automobile Company Building</td><td>4</td></tr><tr><td>2018</td><td>Samsung Motors</td><td>4</td></tr><tr><td>2018</td><td>Jones Motor Company</td><td>4</td></tr><tr><td>2018</td><td>Standard  Motors</td><td>4</td></tr><tr><td>2018</td><td>Piaggio Motors</td><td>4</td></tr><tr><td>2018</td><td>Spyker Motors</td><td>4</td></tr><tr><td>2018</td><td>SAIC Motor Motors</td><td>4</td></tr><tr><td>2018</td><td>Shelby SuperCars Motors</td><td>4</td></tr><tr><td>2018</td><td>Wolseley  Motors</td><td>2</td></tr><tr><td>2018</td><td>Scion Motors</td><td>2</td></tr><tr><td>2018</td><td>Standard-Triumph Motors</td><td>2</td></tr><tr><td>2018</td><td>BMW Motors</td><td>2</td></tr><tr><td>2018</td><td>Auverland Motors</td><td>2</td></tr><tr><td>2018</td><td>Tornado Motors</td><td>2</td></tr><tr><td>2018</td><td>Bohn Motor Company Automobile Dealership</td><td>2</td></tr><tr><td>2018</td><td>Autobianchi Motors</td><td>2</td></tr><tr><td>2018</td><td>Seat Motors</td><td>2</td></tr><tr><td>2018</td><td>Riley  Motors</td><td>2</td></tr><tr><td>2018</td><td>Ramani Motors</td><td>2</td></tr><tr><td>2018</td><td>Horch Motors</td><td>2</td></tr><tr><td>2018</td><td>Toyota Motors</td><td>2</td></tr><tr><td>2018</td><td>ZIL Motors</td><td>2</td></tr><tr><td>2018</td><td>Buick Automobile Company Building</td><td>2</td></tr><tr><td>2018</td><td>Saab Motors</td><td>2</td></tr><tr><td>2018</td><td>Bitter Motors</td><td>2</td></tr><tr><td>2018</td><td>Maybach  Motors</td><td>2</td></tr><tr><td>2018</td><td>Das Motors</td><td>2</td></tr><tr><td>2019</td><td>Tazzari Motors</td><td>42</td></tr><tr><td>2019</td><td>Izh  Motors</td><td>40</td></tr><tr><td>2019</td><td>Polestar Motors</td><td>38</td></tr><tr><td>2019</td><td>Spyker Motors</td><td>38</td></tr><tr><td>2019</td><td>San Motors</td><td>38</td></tr><tr><td>2019</td><td>Volkswagen do Brasil Motors</td><td>36</td></tr><tr><td>2019</td><td>Volkswagen Motors</td><td>36</td></tr><tr><td>2019</td><td>Scion Motors</td><td>36</td></tr><tr><td>2019</td><td>Standard  Motors</td><td>36</td></tr><tr><td>2019</td><td>Tesla Motors</td><td>36</td></tr><tr><td>2019</td><td>Horch Motors</td><td>36</td></tr><tr><td>2019</td><td>Seat Motors</td><td>36</td></tr><tr><td>2019</td><td>SsangYong Motors</td><td>36</td></tr><tr><td>2019</td><td>Westfield Motors</td><td>36</td></tr><tr><td>2019</td><td>Turner Motors</td><td>36</td></tr><tr><td>2019</td><td>Rivian Motors</td><td>34</td></tr><tr><td>2019</td><td>Plymouth Motors</td><td>34</td></tr><tr><td>2019</td><td>Proton Motors</td><td>34</td></tr><tr><td>2019</td><td>Tornado Motors</td><td>32</td></tr><tr><td>2019</td><td>Smart Motors</td><td>32</td></tr><tr><td>2019</td><td>Saturn Motors</td><td>32</td></tr><tr><td>2019</td><td>Lagonda  Motors</td><td>32</td></tr><tr><td>2019</td><td>Saab Motors</td><td>32</td></tr><tr><td>2019</td><td>Reliant Motors</td><td>32</td></tr><tr><td>2019</td><td>Santa Matilde Motors</td><td>32</td></tr><tr><td>2019</td><td>Simca do Brasil Motors</td><td>32</td></tr><tr><td>2019</td><td>Subaru Motors</td><td>32</td></tr><tr><td>2019</td><td>Studebaker Motors</td><td>32</td></tr><tr><td>2019</td><td>Morris  Motors</td><td>30</td></tr><tr><td>2019</td><td>Deccan Motors</td><td>30</td></tr><tr><td>2019</td><td>Standard-Triumph Motors</td><td>30</td></tr><tr><td>2019</td><td>Volkswagen South Africa Motors</td><td>30</td></tr><tr><td>2019</td><td>Puma Motors</td><td>30</td></tr><tr><td>2019</td><td>SAIC Motor Motors</td><td>30</td></tr><tr><td>2019</td><td>Toyota India Motors</td><td>30</td></tr><tr><td>2019</td><td>Vauxhall Motors</td><td>28</td></tr><tr><td>2019</td><td>Maybach  Motors</td><td>28</td></tr><tr><td>2019</td><td>Tatra Motors</td><td>28</td></tr><tr><td>2019</td><td>ZIL Motors</td><td>28</td></tr><tr><td>2019</td><td>Talbot  Motors</td><td>28</td></tr><tr><td>2019</td><td>Zastava Motors</td><td>28</td></tr><tr><td>2019</td><td>Audi Motors</td><td>28</td></tr><tr><td>2019</td><td>Volvo Motors</td><td>28</td></tr><tr><td>2019</td><td>Toyota Motors</td><td>28</td></tr><tr><td>2019</td><td>MG  Motors</td><td>28</td></tr><tr><td>2019</td><td>Simca Motors</td><td>28</td></tr><tr><td>2019</td><td>DKW Motors</td><td>26</td></tr><tr><td>2019</td><td>ZAZ Motors</td><td>26</td></tr><tr><td>2019</td><td>Wanderer Motors</td><td>26</td></tr><tr><td>2019</td><td>Das Motors</td><td>26</td></tr><tr><td>2019</td><td>UAZ Motors</td><td>26</td></tr><tr><td>2019</td><td>TVR Motors</td><td>26</td></tr><tr><td>2019</td><td>Austin  Motors</td><td>26</td></tr><tr><td>2019</td><td>Sunbeam Motors</td><td>24</td></tr><tr><td>2019</td><td>Piaggio Motors</td><td>24</td></tr><tr><td>2019</td><td>Premier Motors</td><td>24</td></tr><tr><td>2019</td><td>Tata Motors</td><td>24</td></tr><tr><td>2019</td><td>Santana Motors</td><td>24</td></tr><tr><td>2019</td><td>Renault Motors</td><td>22</td></tr><tr><td>2019</td><td>Wiesmann Motors</td><td>22</td></tr><tr><td>2019</td><td>Samsung Motors</td><td>22</td></tr><tr><td>2019</td><td>Ranger Motors</td><td>22</td></tr><tr><td>2019</td><td>Riley  Motors</td><td>22</td></tr><tr><td>2019</td><td>Saleen Motors</td><td>22</td></tr><tr><td>2019</td><td>Rolls-Royce Motors</td><td>22</td></tr><tr><td>2019</td><td>Ramani Motors</td><td>20</td></tr><tr><td>2019</td><td>Wolseley  Motors</td><td>20</td></tr><tr><td>2019</td><td>Shelby SuperCars Motors</td><td>20</td></tr><tr><td>2019</td><td>Skoda Motors</td><td>18</td></tr><tr><td>2019</td><td>Singer Motors</td><td>18</td></tr><tr><td>2019</td><td>Pontiac, Asüna Motors</td><td>16</td></tr><tr><td>2019</td><td>Suzuki Motors</td><td>16</td></tr><tr><td>2019</td><td>Porsche Motors</td><td>14</td></tr><tr><td>2019</td><td>Venturi Motors</td><td>14</td></tr><tr><td>2019</td><td>Bytom Motors</td><td>6</td></tr><tr><td>2019</td><td>Citroën Motors</td><td>6</td></tr><tr><td>2019</td><td>Chrysler Motors</td><td>6</td></tr><tr><td>2019</td><td>Buick Motors</td><td>6</td></tr><tr><td>2019</td><td>Cizeta-Moroder Motors</td><td>6</td></tr><tr><td>2019</td><td>Cadillac Motors</td><td>4</td></tr><tr><td>2019</td><td>Chrysler Europe Motors</td><td>4</td></tr><tr><td>2019</td><td>Herald Motors</td><td>2</td></tr><tr><td>2020</td><td>Herald Motors</td><td>42</td></tr><tr><td>2020</td><td>Jennings Ford Automobile Dealership</td><td>38</td></tr><tr><td>2020</td><td>H Street Playhouse</td><td>36</td></tr><tr><td>2020</td><td>Bohn Motor Company Automobile Dealership</td><td>34</td></tr><tr><td>2020</td><td>Cadillac Automobile Company Building</td><td>34</td></tr><tr><td>2020</td><td>2008 NRHP-listed</td><td>32</td></tr><tr><td>2020</td><td>Cass Motor Sales</td><td>32</td></tr><tr><td>2020</td><td>Blankinship Motor Company Building</td><td>28</td></tr><tr><td>2020</td><td>Kindel Building</td><td>28</td></tr><tr><td>2020</td><td>Buick Automobile Company Building</td><td>26</td></tr><tr><td>2020</td><td>Hupmobile Building</td><td>26</td></tr><tr><td>2020</td><td>Atlantic Motor Company</td><td>26</td></tr><tr><td>2020</td><td>Jones Motor Company</td><td>22</td></tr><tr><td>2020</td><td>Howard Motor Company Building</td><td>22</td></tr><tr><td>2020</td><td>Colman Automotive Building</td><td>20</td></tr><tr><td>2020</td><td>Clemens Automobile Company Building</td><td>18</td></tr><tr><td>2020</td><td>Claremore Auto Dealership</td><td>18</td></tr><tr><td>2020</td><td>Casa de cadillac</td><td>18</td></tr><tr><td>2020</td><td>Zion Automobils</td><td>16</td></tr><tr><td>2020</td><td>Lincoln Motors</td><td>6</td></tr><tr><td>2020</td><td>Hudson Motors</td><td>6</td></tr><tr><td>2020</td><td>Monteverdi Motors</td><td>6</td></tr><tr><td>2020</td><td>Mastretta Motors</td><td>6</td></tr><tr><td>2020</td><td>Donkervoort Motors</td><td>6</td></tr><tr><td>2020</td><td>Perodua Motors</td><td>6</td></tr><tr><td>2020</td><td>Mercedes-Benz (including Maybach) Motors</td><td>6</td></tr><tr><td>2020</td><td>Ford Europe Motors</td><td>6</td></tr><tr><td>2020</td><td>Isdera Motors</td><td>6</td></tr><tr><td>2020</td><td>Opel Motors</td><td>6</td></tr><tr><td>2020</td><td>Panther Motors</td><td>6</td></tr><tr><td>2020</td><td>Plymouth Motors</td><td>6</td></tr><tr><td>2020</td><td>Ford do Brasil Motors</td><td>6</td></tr><tr><td>2020</td><td>FSO Motors</td><td>6</td></tr><tr><td>2020</td><td>KTM Motors</td><td>6</td></tr><tr><td>2020</td><td>Fisker, Karma Motors</td><td>6</td></tr><tr><td>2020</td><td>Freightliner Motors</td><td>6</td></tr><tr><td>2020</td><td>IFA (including Trabant, Wartburg, Barkas) Motors</td><td>6</td></tr><tr><td>2020</td><td>DAF Motors</td><td>6</td></tr><tr><td>2020</td><td>Nissan Motors</td><td>6</td></tr><tr><td>2020</td><td>Lotus Motors</td><td>6</td></tr><tr><td>2020</td><td>Mini Motors</td><td>6</td></tr><tr><td>2020</td><td>Hummer Motors</td><td>6</td></tr><tr><td>2020</td><td>Iveco Motors</td><td>6</td></tr><tr><td>2020</td><td>Daimler Motors</td><td>6</td></tr><tr><td>2020</td><td>Heinkel Motors</td><td>6</td></tr><tr><td>2020</td><td>Pontiac, Asüna Motors</td><td>6</td></tr><tr><td>2020</td><td>Hillman Motors</td><td>6</td></tr><tr><td>2020</td><td>DeLorean Motors</td><td>6</td></tr><tr><td>2020</td><td>Mazda Motors</td><td>6</td></tr><tr><td>2020</td><td>Lynx Motors</td><td>6</td></tr><tr><td>2020</td><td>Invicta Motors</td><td>6</td></tr><tr><td>2020</td><td>Hindustan Motors</td><td>6</td></tr><tr><td>2020</td><td>Lancia Motors</td><td>4</td></tr><tr><td>2020</td><td>PGO Motors</td><td>4</td></tr><tr><td>2020</td><td>Ford Australia Motors</td><td>4</td></tr><tr><td>2020</td><td>Lexus Motors</td><td>4</td></tr><tr><td>2020</td><td>Packard Motors</td><td>4</td></tr><tr><td>2020</td><td>Ligier Motors</td><td>4</td></tr><tr><td>2020</td><td>Mitsubishi Motors</td><td>4</td></tr><tr><td>2020</td><td>Panhard Motors</td><td>4</td></tr><tr><td>2020</td><td>Isotta Fraschini Motors</td><td>4</td></tr><tr><td>2020</td><td>Koenigsegg Motors</td><td>4</td></tr><tr><td>2020</td><td>Lamborghini Motors</td><td>4</td></tr><tr><td>2020</td><td>Ferrari Motors</td><td>4</td></tr><tr><td>2020</td><td>Innocenti Motors</td><td>4</td></tr><tr><td>2020</td><td>Facel Vega Motors</td><td>4</td></tr><tr><td>2020</td><td>Dacia Motors</td><td>4</td></tr><tr><td>2020</td><td>Morgan Motors</td><td>4</td></tr><tr><td>2020</td><td>Mercury Motors</td><td>4</td></tr><tr><td>2020</td><td>e.GO Mobile Motors</td><td>4</td></tr><tr><td>2020</td><td>Oltcit Motors</td><td>4</td></tr><tr><td>2020</td><td>Moskwitch Motors</td><td>4</td></tr><tr><td>2020</td><td>Micro Motors</td><td>4</td></tr><tr><td>2020</td><td>Hennessey Motors</td><td>4</td></tr><tr><td>2020</td><td>GTA Spano Motors</td><td>4</td></tr><tr><td>2020</td><td>Land Rover Motors</td><td>4</td></tr><tr><td>2020</td><td>Monica Motors</td><td>4</td></tr><tr><td>2020</td><td>McLaren Motors</td><td>4</td></tr><tr><td>2020</td><td>Naza Motors</td><td>4</td></tr><tr><td>2020</td><td>Pagani Motors</td><td>2</td></tr><tr><td>2020</td><td>Mahindra Motors</td><td>2</td></tr><tr><td>2020</td><td>Noble Motors</td><td>2</td></tr><tr><td>2020</td><td>Datsun Motors</td><td>2</td></tr><tr><td>2020</td><td>Mazzanti Motors</td><td>2</td></tr><tr><td>2020</td><td>Honda India Motors</td><td>2</td></tr><tr><td>2020</td><td>Panoz Motors</td><td>2</td></tr><tr><td>2020</td><td>Elva Motors</td><td>2</td></tr><tr><td>2020</td><td>Lada Motors</td><td>2</td></tr><tr><td>2020</td><td>Holden Motors</td><td>2</td></tr><tr><td>2020</td><td>DeSoto Motors</td><td>2</td></tr><tr><td>2020</td><td>Glas Motors</td><td>2</td></tr><tr><td>2020</td><td>NSU Motors</td><td>2</td></tr><tr><td>2020</td><td>Isuzu Motors</td><td>2</td></tr><tr><td>2020</td><td>Fiat do Brasil Motors</td><td>2</td></tr><tr><td>2020</td><td>Ford America Motors</td><td>2</td></tr><tr><td>2020</td><td>Mia Motors</td><td>2</td></tr><tr><td>2020</td><td>Dodge Motors</td><td>2</td></tr><tr><td>2020</td><td>Gilbern Motors</td><td>2</td></tr><tr><td>2020</td><td>Peugeot Motors</td><td>2</td></tr><tr><td>2020</td><td>Marlin Motors</td><td>2</td></tr><tr><td>2020</td><td>Piaggio Motors</td><td>2</td></tr><tr><td>2020</td><td>Gumpert Motors</td><td>2</td></tr><tr><td>2020</td><td>Humber Motors</td><td>2</td></tr><tr><td>2020</td><td>Jensen Motors</td><td>2</td></tr><tr><td>2020</td><td>Geo Motors</td><td>2</td></tr><tr><td>2020</td><td>Daewoo, Saehan, Chevrolet Korea Motors</td><td>2</td></tr><tr><td>2020</td><td>JPX Motors</td><td>2</td></tr><tr><td>2020</td><td>Jeep Motors</td><td>2</td></tr><tr><td>2020</td><td>Delahaye Motors</td><td>2</td></tr><tr><td>2020</td><td>Kia Motors</td><td>2</td></tr><tr><td>2020</td><td>Edsel Motors</td><td>2</td></tr><tr><td>2020</td><td>GAZ Motors</td><td>2</td></tr><tr><td>2020</td><td>Maruti Motors</td><td>2</td></tr></tbody></table></div>"
      ]
     },
     "metadata": {
      "application/vnd.databricks.v1+output": {
       "addedWidgets": {},
       "aggData": [],
       "aggError": "",
       "aggOverflow": false,
       "aggSchema": [],
       "aggSeriesLimitReached": false,
       "aggType": "",
       "arguments": {},
       "columnCustomDisplayInfos": {},
       "data": [
        [
         2017,
         "Alpine Motors",
         48
        ],
        [
         2017,
         "Bristol Motors",
         46
        ],
        [
         2017,
         "Acura Motors",
         46
        ],
        [
         2017,
         "BMW Motors",
         46
        ],
        [
         2017,
         "Aston Martin Motors",
         46
        ],
        [
         2017,
         "Ariel Motors",
         42
        ],
        [
         2017,
         "Daihatsu Motors",
         42
        ],
        [
         2017,
         "Gilbern Motors",
         42
        ],
        [
         2017,
         "Asia Motors Motors",
         40
        ],
        [
         2017,
         "Anadol Motors",
         38
        ],
        [
         2017,
         "AC Cars Motors",
         38
        ],
        [
         2017,
         "DAF Motors",
         38
        ],
        [
         2017,
         "DeLorean Motors",
         38
        ],
        [
         2017,
         "AMC, Eagle Motors",
         36
        ],
        [
         2017,
         "Auto-Union Motors",
         36
        ],
        [
         2017,
         "Glas Motors",
         36
        ],
        [
         2017,
         "Alvis Motors",
         34
        ],
        [
         2017,
         "Caterham Motors",
         34
        ],
        [
         2017,
         "Datsun Motors",
         34
        ],
        [
         2017,
         "Borgward (including Goliath and Lloyd) Motors",
         32
        ],
        [
         2017,
         "Chevrolet India Motors",
         32
        ],
        [
         2017,
         "Dodge Motors",
         32
        ],
        [
         2017,
         "FSO Motors",
         32
        ],
        [
         2017,
         "Ginetta Motors",
         32
        ],
        [
         2017,
         "Cadillac Motors",
         32
        ],
        [
         2017,
         "Daewoo, Saehan, Chevrolet Korea Motors",
         30
        ],
        [
         2017,
         "Freightliner Motors",
         30
        ],
        [
         2017,
         "Aixam-Mega (including Arola) Motors",
         30
        ],
        [
         2017,
         "British Leyland Motors",
         30
        ],
        [
         2017,
         "Chrysler Europe Motors",
         30
        ],
        [
         2017,
         "e.GO Mobile Motors",
         30
        ],
        [
         2017,
         "Buick Motors",
         30
        ],
        [
         2017,
         "GMC Motors",
         30
        ],
        [
         2017,
         "Delahaye Motors",
         28
        ],
        [
         2017,
         "Bentley Motors",
         28
        ],
        [
         2017,
         "Citroën Motors",
         28
        ],
        [
         2017,
         "Cizeta-Moroder Motors",
         28
        ],
        [
         2017,
         "Gumpert Motors",
         28
        ],
        [
         2017,
         "Ford America Motors",
         28
        ],
        [
         2017,
         "Bond Motors",
         28
        ],
        [
         2017,
         "DeSoto Motors",
         28
        ],
        [
         2017,
         "Artega Motors",
         28
        ],
        [
         2017,
         "Alfa Romeo Motors",
         28
        ],
        [
         2017,
         "Fiat do Brasil Motors",
         26
        ],
        [
         2017,
         "Healey Motors",
         26
        ],
        [
         2017,
         "Geo Motors",
         26
        ],
        [
         2017,
         "Dacia Motors",
         26
        ],
        [
         2017,
         "Ford do Brasil Motors",
         26
        ],
        [
         2017,
         "Bitter Motors",
         26
        ],
        [
         2017,
         "Chevrolet Motors",
         24
        ],
        [
         2017,
         "Audi Motors",
         24
        ],
        [
         2017,
         "Bugatti Motors",
         24
        ],
        [
         2017,
         "Ford Europe Motors",
         24
        ],
        [
         2017,
         "Ford Australia Motors",
         24
        ],
        [
         2017,
         "Fiat Motors",
         24
        ],
        [
         2017,
         "Chrysler Motors",
         24
        ],
        [
         2017,
         "Heinkel Motors",
         24
        ],
        [
         2017,
         "ARO Motors",
         22
        ],
        [
         2017,
         "Ford India Motors",
         22
        ],
        [
         2017,
         "Eicher Polaris Motors",
         22
        ],
        [
         2017,
         "Austin, Rover Motors",
         22
        ],
        [
         2017,
         "Auverland Motors",
         22
        ],
        [
         2017,
         "Fiat India Motors",
         22
        ],
        [
         2017,
         "Ferrari Motors",
         22
        ],
        [
         2017,
         "Checker Motors",
         20
        ],
        [
         2017,
         "Elva Motors",
         20
        ],
        [
         2017,
         "Donkervoort Motors",
         20
        ],
        [
         2017,
         "Edsel Motors",
         20
        ],
        [
         2017,
         "GAZ Motors",
         20
        ],
        [
         2017,
         "GTA Spano Motors",
         18
        ],
        [
         2017,
         "Austin-Healey Motors",
         18
        ],
        [
         2017,
         "Fisker, Karma Motors",
         18
        ],
        [
         2017,
         "De Tomaso Motors",
         16
        ],
        [
         2017,
         "Autobianchi Motors",
         14
        ],
        [
         2017,
         "Daimler Motors",
         14
        ],
        [
         2017,
         "Bytom Motors",
         10
        ],
        [
         2017,
         "Facel Vega Motors",
         6
        ],
        [
         2017,
         "Hennessey Motors",
         4
        ],
        [
         2018,
         "Maruti Motors",
         40
        ],
        [
         2018,
         "Lamborghini Motors",
         40
        ],
        [
         2018,
         "Packard Motors",
         38
        ],
        [
         2018,
         "Mastretta Motors",
         38
        ],
        [
         2018,
         "Jeep Motors",
         36
        ],
        [
         2018,
         "Naza Motors",
         36
        ],
        [
         2018,
         "Micro Motors",
         34
        ],
        [
         2018,
         "Noble Motors",
         34
        ],
        [
         2018,
         "Matra (including Deutsch-Bonnet, René Bonnet) Motors",
         34
        ],
        [
         2018,
         "Opel Motors",
         32
        ],
        [
         2018,
         "Iso Motors",
         32
        ],
        [
         2018,
         "Innocenti Motors",
         32
        ],
        [
         2018,
         "Jensen Motors",
         32
        ],
        [
         2018,
         "Merkur Motors",
         32
        ],
        [
         2018,
         "Invicta Motors",
         32
        ],
        [
         2018,
         "Koenigsegg Motors",
         32
        ],
        [
         2018,
         "Peugeot Motors",
         32
        ],
        [
         2018,
         "Isuzu Motors",
         30
        ],
        [
         2018,
         "Jaguar Motors",
         30
        ],
        [
         2018,
         "Honda India Motors",
         30
        ],
        [
         2018,
         "McLaren Motors",
         30
        ],
        [
         2018,
         "LuAZ Motors",
         30
        ],
        [
         2018,
         "Perodua Motors",
         30
        ],
        [
         2018,
         "Holden Motors",
         30
        ],
        [
         2018,
         "Marcos Motors",
         30
        ],
        [
         2018,
         "Mini Motors",
         28
        ],
        [
         2018,
         "Nissan India Motors",
         28
        ],
        [
         2018,
         "Hudson Motors",
         28
        ],
        [
         2018,
         "Isotta Fraschini Motors",
         28
        ],
        [
         2018,
         "Mazzanti Motors",
         28
        ],
        [
         2018,
         "Lancia Motors",
         28
        ],
        [
         2018,
         "Panhard Motors",
         28
        ],
        [
         2018,
         "NSU Motors",
         28
        ],
        [
         2018,
         "Lexus Motors",
         28
        ],
        [
         2018,
         "Hummer Motors",
         28
        ],
        [
         2018,
         "Honda Motors",
         28
        ],
        [
         2018,
         "Maserati Motors",
         26
        ],
        [
         2018,
         "Mazda Motors",
         26
        ],
        [
         2018,
         "Mitsubishi Motors",
         26
        ],
        [
         2018,
         "IFA (including Trabant, Wartburg, Barkas) Motors",
         26
        ],
        [
         2018,
         "Mercedes-Benz (including Maybach) Motors",
         26
        ],
        [
         2018,
         "JPX Motors",
         26
        ],
        [
         2018,
         "LTI Motors",
         26
        ],
        [
         2018,
         "Hyundai Motors",
         26
        ],
        [
         2018,
         "Oldsmobile Motors",
         24
        ],
        [
         2018,
         "Mia Motors",
         24
        ],
        [
         2018,
         "Marlin Motors",
         24
        ],
        [
         2018,
         "Land Rover Motors",
         22
        ],
        [
         2018,
         "Moskwitch Motors",
         22
        ],
        [
         2018,
         "Lincoln Motors",
         22
        ],
        [
         2018,
         "Kia Motors",
         22
        ],
        [
         2018,
         "KTM Motors",
         22
        ],
        [
         2018,
         "Hillman Motors",
         22
        ],
        [
         2018,
         "Nash Motors",
         22
        ],
        [
         2018,
         "Monica Motors",
         22
        ],
        [
         2018,
         "Iveco Motors",
         20
        ],
        [
         2018,
         "Mahindra Motors",
         20
        ],
        [
         2018,
         "Messerschmitt Motors",
         20
        ],
        [
         2018,
         "Mercury Motors",
         20
        ],
        [
         2018,
         "Peel Motors",
         20
        ],
        [
         2018,
         "Humber Motors",
         20
        ],
        [
         2018,
         "Lotus Motors",
         20
        ],
        [
         2018,
         "Nissan Motors",
         18
        ],
        [
         2018,
         "Infiniti Motors",
         18
        ],
        [
         2018,
         "Pagani Motors",
         18
        ],
        [
         2018,
         "Monteverdi Motors",
         18
        ],
        [
         2018,
         "Isdera Motors",
         18
        ],
        [
         2018,
         "Hindustan Motors",
         18
        ],
        [
         2018,
         "Panther Motors",
         18
        ],
        [
         2018,
         "Lada Motors",
         18
        ],
        [
         2018,
         "Oltcit Motors",
         16
        ],
        [
         2018,
         "Panoz Motors",
         14
        ],
        [
         2018,
         "Lynx Motors",
         14
        ],
        [
         2018,
         "PGO Motors",
         12
        ],
        [
         2018,
         "Hennessey Motors",
         12
        ],
        [
         2018,
         "Morgan Motors",
         10
        ],
        [
         2018,
         "Ligier Motors",
         8
        ],
        [
         2018,
         "Santana Motors",
         6
        ],
        [
         2018,
         "Kindel Building",
         6
        ],
        [
         2018,
         "Blankinship Motor Company Building",
         6
        ],
        [
         2018,
         "Vauxhall Motors",
         6
        ],
        [
         2018,
         "Herald Motors",
         6
        ],
        [
         2018,
         "Simca Motors",
         6
        ],
        [
         2018,
         "Lagonda  Motors",
         6
        ],
        [
         2018,
         "Tesla Motors",
         6
        ],
        [
         2018,
         "Cass Motor Sales",
         6
        ],
        [
         2018,
         "UAZ Motors",
         6
        ],
        [
         2018,
         "Sunbeam Motors",
         6
        ],
        [
         2018,
         "Auto-Union Motors",
         6
        ],
        [
         2018,
         "Borgward (including Goliath and Lloyd) Motors",
         6
        ],
        [
         2018,
         "MG  Motors",
         6
        ],
        [
         2018,
         "Audi Motors",
         6
        ],
        [
         2018,
         "Jennings Ford Automobile Dealership",
         6
        ],
        [
         2018,
         "Zastava Motors",
         6
        ],
        [
         2018,
         "Tatra Motors",
         6
        ],
        [
         2018,
         "Casa de cadillac",
         6
        ],
        [
         2018,
         "Izh  Motors",
         6
        ],
        [
         2018,
         "Zion Automobils",
         6
        ],
        [
         2018,
         "Volkswagen Motors",
         4
        ],
        [
         2018,
         "Tata Motors",
         4
        ],
        [
         2018,
         "Hupmobile Building",
         4
        ],
        [
         2018,
         "Tazzari Motors",
         4
        ],
        [
         2018,
         "Volvo Motors",
         4
        ],
        [
         2018,
         "Simca do Brasil Motors",
         4
        ],
        [
         2018,
         "Turner Motors",
         4
        ],
        [
         2018,
         "Colman Automotive Building",
         4
        ],
        [
         2018,
         "Saturn Motors",
         4
        ],
        [
         2018,
         "Bentley Motors",
         4
        ],
        [
         2018,
         "Atlantic Motor Company",
         4
        ],
        [
         2018,
         "Volkswagen do Brasil Motors",
         4
        ],
        [
         2018,
         "Howard Motor Company Building",
         4
        ],
        [
         2018,
         "Westfield Motors",
         4
        ],
        [
         2018,
         "British Leyland Motors",
         4
        ],
        [
         2018,
         "Santa Matilde Motors",
         4
        ],
        [
         2018,
         "Saleen Motors",
         4
        ],
        [
         2018,
         "Volkswagen South Africa Motors",
         4
        ],
        [
         2018,
         "Bristol Motors",
         4
        ],
        [
         2018,
         "Deccan Motors",
         4
        ],
        [
         2018,
         "Singer Motors",
         4
        ],
        [
         2018,
         "Cadillac Automobile Company Building",
         4
        ],
        [
         2018,
         "Samsung Motors",
         4
        ],
        [
         2018,
         "Jones Motor Company",
         4
        ],
        [
         2018,
         "Standard  Motors",
         4
        ],
        [
         2018,
         "Piaggio Motors",
         4
        ],
        [
         2018,
         "Spyker Motors",
         4
        ],
        [
         2018,
         "SAIC Motor Motors",
         4
        ],
        [
         2018,
         "Shelby SuperCars Motors",
         4
        ],
        [
         2018,
         "Wolseley  Motors",
         2
        ],
        [
         2018,
         "Scion Motors",
         2
        ],
        [
         2018,
         "Standard-Triumph Motors",
         2
        ],
        [
         2018,
         "BMW Motors",
         2
        ],
        [
         2018,
         "Auverland Motors",
         2
        ],
        [
         2018,
         "Tornado Motors",
         2
        ],
        [
         2018,
         "Bohn Motor Company Automobile Dealership",
         2
        ],
        [
         2018,
         "Autobianchi Motors",
         2
        ],
        [
         2018,
         "Seat Motors",
         2
        ],
        [
         2018,
         "Riley  Motors",
         2
        ],
        [
         2018,
         "Ramani Motors",
         2
        ],
        [
         2018,
         "Horch Motors",
         2
        ],
        [
         2018,
         "Toyota Motors",
         2
        ],
        [
         2018,
         "ZIL Motors",
         2
        ],
        [
         2018,
         "Buick Automobile Company Building",
         2
        ],
        [
         2018,
         "Saab Motors",
         2
        ],
        [
         2018,
         "Bitter Motors",
         2
        ],
        [
         2018,
         "Maybach  Motors",
         2
        ],
        [
         2018,
         "Das Motors",
         2
        ],
        [
         2019,
         "Tazzari Motors",
         42
        ],
        [
         2019,
         "Izh  Motors",
         40
        ],
        [
         2019,
         "Polestar Motors",
         38
        ],
        [
         2019,
         "Spyker Motors",
         38
        ],
        [
         2019,
         "San Motors",
         38
        ],
        [
         2019,
         "Volkswagen do Brasil Motors",
         36
        ],
        [
         2019,
         "Volkswagen Motors",
         36
        ],
        [
         2019,
         "Scion Motors",
         36
        ],
        [
         2019,
         "Standard  Motors",
         36
        ],
        [
         2019,
         "Tesla Motors",
         36
        ],
        [
         2019,
         "Horch Motors",
         36
        ],
        [
         2019,
         "Seat Motors",
         36
        ],
        [
         2019,
         "SsangYong Motors",
         36
        ],
        [
         2019,
         "Westfield Motors",
         36
        ],
        [
         2019,
         "Turner Motors",
         36
        ],
        [
         2019,
         "Rivian Motors",
         34
        ],
        [
         2019,
         "Plymouth Motors",
         34
        ],
        [
         2019,
         "Proton Motors",
         34
        ],
        [
         2019,
         "Tornado Motors",
         32
        ],
        [
         2019,
         "Smart Motors",
         32
        ],
        [
         2019,
         "Saturn Motors",
         32
        ],
        [
         2019,
         "Lagonda  Motors",
         32
        ],
        [
         2019,
         "Saab Motors",
         32
        ],
        [
         2019,
         "Reliant Motors",
         32
        ],
        [
         2019,
         "Santa Matilde Motors",
         32
        ],
        [
         2019,
         "Simca do Brasil Motors",
         32
        ],
        [
         2019,
         "Subaru Motors",
         32
        ],
        [
         2019,
         "Studebaker Motors",
         32
        ],
        [
         2019,
         "Morris  Motors",
         30
        ],
        [
         2019,
         "Deccan Motors",
         30
        ],
        [
         2019,
         "Standard-Triumph Motors",
         30
        ],
        [
         2019,
         "Volkswagen South Africa Motors",
         30
        ],
        [
         2019,
         "Puma Motors",
         30
        ],
        [
         2019,
         "SAIC Motor Motors",
         30
        ],
        [
         2019,
         "Toyota India Motors",
         30
        ],
        [
         2019,
         "Vauxhall Motors",
         28
        ],
        [
         2019,
         "Maybach  Motors",
         28
        ],
        [
         2019,
         "Tatra Motors",
         28
        ],
        [
         2019,
         "ZIL Motors",
         28
        ],
        [
         2019,
         "Talbot  Motors",
         28
        ],
        [
         2019,
         "Zastava Motors",
         28
        ],
        [
         2019,
         "Audi Motors",
         28
        ],
        [
         2019,
         "Volvo Motors",
         28
        ],
        [
         2019,
         "Toyota Motors",
         28
        ],
        [
         2019,
         "MG  Motors",
         28
        ],
        [
         2019,
         "Simca Motors",
         28
        ],
        [
         2019,
         "DKW Motors",
         26
        ],
        [
         2019,
         "ZAZ Motors",
         26
        ],
        [
         2019,
         "Wanderer Motors",
         26
        ],
        [
         2019,
         "Das Motors",
         26
        ],
        [
         2019,
         "UAZ Motors",
         26
        ],
        [
         2019,
         "TVR Motors",
         26
        ],
        [
         2019,
         "Austin  Motors",
         26
        ],
        [
         2019,
         "Sunbeam Motors",
         24
        ],
        [
         2019,
         "Piaggio Motors",
         24
        ],
        [
         2019,
         "Premier Motors",
         24
        ],
        [
         2019,
         "Tata Motors",
         24
        ],
        [
         2019,
         "Santana Motors",
         24
        ],
        [
         2019,
         "Renault Motors",
         22
        ],
        [
         2019,
         "Wiesmann Motors",
         22
        ],
        [
         2019,
         "Samsung Motors",
         22
        ],
        [
         2019,
         "Ranger Motors",
         22
        ],
        [
         2019,
         "Riley  Motors",
         22
        ],
        [
         2019,
         "Saleen Motors",
         22
        ],
        [
         2019,
         "Rolls-Royce Motors",
         22
        ],
        [
         2019,
         "Ramani Motors",
         20
        ],
        [
         2019,
         "Wolseley  Motors",
         20
        ],
        [
         2019,
         "Shelby SuperCars Motors",
         20
        ],
        [
         2019,
         "Skoda Motors",
         18
        ],
        [
         2019,
         "Singer Motors",
         18
        ],
        [
         2019,
         "Pontiac, Asüna Motors",
         16
        ],
        [
         2019,
         "Suzuki Motors",
         16
        ],
        [
         2019,
         "Porsche Motors",
         14
        ],
        [
         2019,
         "Venturi Motors",
         14
        ],
        [
         2019,
         "Bytom Motors",
         6
        ],
        [
         2019,
         "Citroën Motors",
         6
        ],
        [
         2019,
         "Chrysler Motors",
         6
        ],
        [
         2019,
         "Buick Motors",
         6
        ],
        [
         2019,
         "Cizeta-Moroder Motors",
         6
        ],
        [
         2019,
         "Cadillac Motors",
         4
        ],
        [
         2019,
         "Chrysler Europe Motors",
         4
        ],
        [
         2019,
         "Herald Motors",
         2
        ],
        [
         2020,
         "Herald Motors",
         42
        ],
        [
         2020,
         "Jennings Ford Automobile Dealership",
         38
        ],
        [
         2020,
         "H Street Playhouse",
         36
        ],
        [
         2020,
         "Bohn Motor Company Automobile Dealership",
         34
        ],
        [
         2020,
         "Cadillac Automobile Company Building",
         34
        ],
        [
         2020,
         "2008 NRHP-listed",
         32
        ],
        [
         2020,
         "Cass Motor Sales",
         32
        ],
        [
         2020,
         "Blankinship Motor Company Building",
         28
        ],
        [
         2020,
         "Kindel Building",
         28
        ],
        [
         2020,
         "Buick Automobile Company Building",
         26
        ],
        [
         2020,
         "Hupmobile Building",
         26
        ],
        [
         2020,
         "Atlantic Motor Company",
         26
        ],
        [
         2020,
         "Jones Motor Company",
         22
        ],
        [
         2020,
         "Howard Motor Company Building",
         22
        ],
        [
         2020,
         "Colman Automotive Building",
         20
        ],
        [
         2020,
         "Clemens Automobile Company Building",
         18
        ],
        [
         2020,
         "Claremore Auto Dealership",
         18
        ],
        [
         2020,
         "Casa de cadillac",
         18
        ],
        [
         2020,
         "Zion Automobils",
         16
        ],
        [
         2020,
         "Lincoln Motors",
         6
        ],
        [
         2020,
         "Hudson Motors",
         6
        ],
        [
         2020,
         "Monteverdi Motors",
         6
        ],
        [
         2020,
         "Mastretta Motors",
         6
        ],
        [
         2020,
         "Donkervoort Motors",
         6
        ],
        [
         2020,
         "Perodua Motors",
         6
        ],
        [
         2020,
         "Mercedes-Benz (including Maybach) Motors",
         6
        ],
        [
         2020,
         "Ford Europe Motors",
         6
        ],
        [
         2020,
         "Isdera Motors",
         6
        ],
        [
         2020,
         "Opel Motors",
         6
        ],
        [
         2020,
         "Panther Motors",
         6
        ],
        [
         2020,
         "Plymouth Motors",
         6
        ],
        [
         2020,
         "Ford do Brasil Motors",
         6
        ],
        [
         2020,
         "FSO Motors",
         6
        ],
        [
         2020,
         "KTM Motors",
         6
        ],
        [
         2020,
         "Fisker, Karma Motors",
         6
        ],
        [
         2020,
         "Freightliner Motors",
         6
        ],
        [
         2020,
         "IFA (including Trabant, Wartburg, Barkas) Motors",
         6
        ],
        [
         2020,
         "DAF Motors",
         6
        ],
        [
         2020,
         "Nissan Motors",
         6
        ],
        [
         2020,
         "Lotus Motors",
         6
        ],
        [
         2020,
         "Mini Motors",
         6
        ],
        [
         2020,
         "Hummer Motors",
         6
        ],
        [
         2020,
         "Iveco Motors",
         6
        ],
        [
         2020,
         "Daimler Motors",
         6
        ],
        [
         2020,
         "Heinkel Motors",
         6
        ],
        [
         2020,
         "Pontiac, Asüna Motors",
         6
        ],
        [
         2020,
         "Hillman Motors",
         6
        ],
        [
         2020,
         "DeLorean Motors",
         6
        ],
        [
         2020,
         "Mazda Motors",
         6
        ],
        [
         2020,
         "Lynx Motors",
         6
        ],
        [
         2020,
         "Invicta Motors",
         6
        ],
        [
         2020,
         "Hindustan Motors",
         6
        ],
        [
         2020,
         "Lancia Motors",
         4
        ],
        [
         2020,
         "PGO Motors",
         4
        ],
        [
         2020,
         "Ford Australia Motors",
         4
        ],
        [
         2020,
         "Lexus Motors",
         4
        ],
        [
         2020,
         "Packard Motors",
         4
        ],
        [
         2020,
         "Ligier Motors",
         4
        ],
        [
         2020,
         "Mitsubishi Motors",
         4
        ],
        [
         2020,
         "Panhard Motors",
         4
        ],
        [
         2020,
         "Isotta Fraschini Motors",
         4
        ],
        [
         2020,
         "Koenigsegg Motors",
         4
        ],
        [
         2020,
         "Lamborghini Motors",
         4
        ],
        [
         2020,
         "Ferrari Motors",
         4
        ],
        [
         2020,
         "Innocenti Motors",
         4
        ],
        [
         2020,
         "Facel Vega Motors",
         4
        ],
        [
         2020,
         "Dacia Motors",
         4
        ],
        [
         2020,
         "Morgan Motors",
         4
        ],
        [
         2020,
         "Mercury Motors",
         4
        ],
        [
         2020,
         "e.GO Mobile Motors",
         4
        ],
        [
         2020,
         "Oltcit Motors",
         4
        ],
        [
         2020,
         "Moskwitch Motors",
         4
        ],
        [
         2020,
         "Micro Motors",
         4
        ],
        [
         2020,
         "Hennessey Motors",
         4
        ],
        [
         2020,
         "GTA Spano Motors",
         4
        ],
        [
         2020,
         "Land Rover Motors",
         4
        ],
        [
         2020,
         "Monica Motors",
         4
        ],
        [
         2020,
         "McLaren Motors",
         4
        ],
        [
         2020,
         "Naza Motors",
         4
        ],
        [
         2020,
         "Pagani Motors",
         2
        ],
        [
         2020,
         "Mahindra Motors",
         2
        ],
        [
         2020,
         "Noble Motors",
         2
        ],
        [
         2020,
         "Datsun Motors",
         2
        ],
        [
         2020,
         "Mazzanti Motors",
         2
        ],
        [
         2020,
         "Honda India Motors",
         2
        ],
        [
         2020,
         "Panoz Motors",
         2
        ],
        [
         2020,
         "Elva Motors",
         2
        ],
        [
         2020,
         "Lada Motors",
         2
        ],
        [
         2020,
         "Holden Motors",
         2
        ],
        [
         2020,
         "DeSoto Motors",
         2
        ],
        [
         2020,
         "Glas Motors",
         2
        ],
        [
         2020,
         "NSU Motors",
         2
        ],
        [
         2020,
         "Isuzu Motors",
         2
        ],
        [
         2020,
         "Fiat do Brasil Motors",
         2
        ],
        [
         2020,
         "Ford America Motors",
         2
        ],
        [
         2020,
         "Mia Motors",
         2
        ],
        [
         2020,
         "Dodge Motors",
         2
        ],
        [
         2020,
         "Gilbern Motors",
         2
        ],
        [
         2020,
         "Peugeot Motors",
         2
        ],
        [
         2020,
         "Marlin Motors",
         2
        ],
        [
         2020,
         "Piaggio Motors",
         2
        ],
        [
         2020,
         "Gumpert Motors",
         2
        ],
        [
         2020,
         "Humber Motors",
         2
        ],
        [
         2020,
         "Jensen Motors",
         2
        ],
        [
         2020,
         "Geo Motors",
         2
        ],
        [
         2020,
         "Daewoo, Saehan, Chevrolet Korea Motors",
         2
        ],
        [
         2020,
         "JPX Motors",
         2
        ],
        [
         2020,
         "Jeep Motors",
         2
        ],
        [
         2020,
         "Delahaye Motors",
         2
        ],
        [
         2020,
         "Kia Motors",
         2
        ],
        [
         2020,
         "Edsel Motors",
         2
        ],
        [
         2020,
         "GAZ Motors",
         2
        ],
        [
         2020,
         "Maruti Motors",
         2
        ]
       ],
       "datasetInfos": [],
       "dbfsResultPath": null,
       "isJsonSchema": true,
       "metadata": {},
       "overflow": false,
       "plotOptions": {
        "customPlotOptions": {},
        "displayType": "table",
        "pivotAggregation": null,
        "pivotColumns": null,
        "xColumns": null,
        "yColumns": null
       },
       "removedWidgets": [],
       "schema": [
        {
         "metadata": "{}",
         "name": "Year",
         "type": "\"integer\""
        },
        {
         "metadata": "{}",
         "name": "BranchName",
         "type": "\"string\""
        },
        {
         "metadata": "{}",
         "name": "Total_Units",
         "type": "\"long\""
        }
       ],
       "type": "table"
      }
     },
     "output_type": "display_data"
    },
    {
     "output_type": "display_data",
     "data": {
      "text/plain": [
       "Databricks visualization. Run in Databricks to view."
      ]
     },
     "metadata": {
      "application/vnd.databricks.v1.subcommand+json": {
       "baseErrorDetails": null,
       "bindings": {},
       "collapsed": false,
       "command": "%python\n__backend_agg_display_orig = display\n__backend_agg_dfs = []\ndef __backend_agg_display_new(df):\n    __backend_agg_df_modules = [\"pandas.core.frame\", \"databricks.koalas.frame\", \"pyspark.sql.dataframe\", \"pyspark.pandas.frame\", \"pyspark.sql.connect.dataframe\"]\n    if (type(df).__module__ in __backend_agg_df_modules and type(df).__name__ == 'DataFrame') or isinstance(df, list):\n        __backend_agg_dfs.append(df)\n\ndisplay = __backend_agg_display_new\n\ndef __backend_agg_user_code_fn():\n    import base64\n    exec(base64.standard_b64decode(\"ZGlzcGxheShkZi5ncm91cEJ5KCdZZWFyJywnQnJhbmNoTmFtZScpLmFnZyhzdW0oJ3VuaXRzX3NvbGQnKS5hbGlhcygnVG90YWxfVW5pdHMnKSkuc29ydCgnWWVhcicsJ1RvdGFsX1VuaXRzJyxhc2NlbmRpbmcgPSBbMSwwXSkp\").decode())\n\ntry:\n    # run user code\n    __backend_agg_user_code_fn()\n\n    #reset display function\n    display = __backend_agg_display_orig\n\n    if len(__backend_agg_dfs) > 0:\n        # create a temp view\n        if type(__backend_agg_dfs[0]).__module__ == \"databricks.koalas.frame\":\n            # koalas dataframe\n            __backend_agg_dfs[0].to_spark().createOrReplaceTempView(\"DatabricksView1342c9d\")\n        elif type(__backend_agg_dfs[0]).__module__ == \"pandas.core.frame\" or isinstance(__backend_agg_dfs[0], list):\n            # pandas dataframe\n            spark.createDataFrame(__backend_agg_dfs[0]).createOrReplaceTempView(\"DatabricksView1342c9d\")\n        else:\n            __backend_agg_dfs[0].createOrReplaceTempView(\"DatabricksView1342c9d\")\n        #run backend agg\n        display(spark.sql(\"\"\"WITH q AS (select * from DatabricksView1342c9d) SELECT `Year`,SUM(`Total_Units`) `column_c115f4ef130` FROM q GROUP BY `Year`\"\"\"))\n    else:\n        displayHTML(\"dataframe no longer exists. If you're using dataframe.display(), use display(dataframe) instead.\")\n\n\nfinally:\n    spark.sql(\"drop view if exists DatabricksView1342c9d\")\n    display = __backend_agg_display_orig\n    del __backend_agg_display_new\n    del __backend_agg_display_orig\n    del __backend_agg_dfs\n    del __backend_agg_user_code_fn\n\n",
       "commandTitle": "Visualization 1",
       "commandType": "auto",
       "commandVersion": 0,
       "commentThread": [],
       "commentsVisible": false,
       "contentSha256Hex": null,
       "customPlotOptions": {
        "redashChart": [
         {
          "key": "type",
          "value": "CHART"
         },
         {
          "key": "options",
          "value": {
           "alignYAxesAtZero": true,
           "coefficient": 1,
           "columnConfigurationMap": {
            "x": {
             "column": "Year",
             "id": "column_c115f4ef127"
            },
            "y": [
             {
              "column": "Total_Units",
              "id": "column_c115f4ef130",
              "transform": "SUM"
             }
            ]
           },
           "dateTimeFormat": "DD/MM/YYYY HH:mm",
           "direction": {
            "type": "counterclockwise"
           },
           "error_y": {
            "type": "data",
            "visible": true
           },
           "globalSeriesType": "pie",
           "isAggregationOn": true,
           "legend": {
            "traceorder": "normal"
           },
           "missingValuesAsZero": true,
           "numberFormat": "0,0.[00000]",
           "percentFormat": "0[.]00%",
           "series": {
            "error_y": {
             "type": "data",
             "visible": true
            },
            "stacking": null
           },
           "seriesOptions": {
            "column_c115f4ef130": {
             "type": "pie",
             "yAxis": 0
            }
           },
           "showDataLabels": true,
           "sizemode": "diameter",
           "sortX": true,
           "sortY": true,
           "swappedAxes": false,
           "textFormat": "",
           "useAggregationsUi": true,
           "valuesOptions": {
            "2017": {
             "color": "#BF7080"
            },
            "2018": {
             "color": "#AB4057"
            },
            "2019": {
             "color": "#FCA4A1"
            },
            "2020": {
             "color": "#919191"
            }
           },
           "version": 2,
           "xAxis": {
            "labels": {
             "enabled": true
            },
            "type": "-"
           },
           "yAxis": [
            {
             "type": "-"
            },
            {
             "opposite": true,
             "type": "-"
            }
           ]
          }
         }
        ]
       },
       "datasetPreviewNameToCmdIdMap": {},
       "diffDeletes": [],
       "diffInserts": [],
       "displayType": "redashChart",
       "error": null,
       "errorDetails": null,
       "errorSummary": null,
       "errorTraceType": null,
       "finishTime": 0,
       "globalVars": {},
       "guid": "",
       "height": "auto",
       "hideCommandCode": false,
       "hideCommandResult": false,
       "iPythonMetadata": null,
       "inputWidgets": {},
       "isLockedInExamMode": false,
       "latestUser": "a user",
       "latestUserId": null,
       "listResultMetadata": null,
       "metadata": {},
       "nuid": "7aa84ced-7bf4-4e52-97c9-1ec3308a1a0b",
       "origId": 0,
       "parentHierarchy": [],
       "pivotAggregation": null,
       "pivotColumns": null,
       "position": 11.0,
       "resultDbfsErrorMessage": null,
       "resultDbfsStatus": "INLINED_IN_TREE",
       "results": null,
       "showCommandTitle": false,
       "startTime": 0,
       "state": "input",
       "streamStates": {},
       "subcommandOptions": {
        "queryPlan": {
         "groups": [
          {
           "column": "Year",
           "type": "column"
          }
         ],
         "selects": [
          {
           "column": "Year",
           "type": "column"
          },
          {
           "alias": "column_c115f4ef130",
           "args": [
            {
             "column": "Total_Units",
             "type": "column"
            }
           ],
           "function": "SUM",
           "type": "function"
          }
         ]
        }
       },
       "submitTime": 0,
       "subtype": "tableResultSubCmd.visualization",
       "tableResultIndex": 0,
       "tableResultSettingsMap": {},
       "useConsistentColors": false,
       "version": "CommandV1",
       "width": "auto",
       "workflows": [],
       "xColumns": null,
       "yColumns": null
      }
     },
     "output_type": "display_data"
    }
   ],
   "source": [
    "display(df.groupBy('Year','BranchName').agg(sum('units_sold').alias('Total_Units')).sort('Year','Total_Units',ascending = [1,0]))"
   ]
  },
  {
   "cell_type": "markdown",
   "metadata": {
    "application/vnd.databricks.v1+cell": {
     "cellMetadata": {},
     "inputWidgets": {},
     "nuid": "2543c3e1-e079-4431-a35a-936f224c3f1f",
     "showTitle": false,
     "tableResultSettingsMap": {},
     "title": ""
    }
   },
   "source": [
    "#Storing Data in Silver Layer"
   ]
  },
  {
   "cell_type": "code",
   "execution_count": 0,
   "metadata": {
    "application/vnd.databricks.v1+cell": {
     "cellMetadata": {
      "byteLimit": 2048000,
      "rowLimit": 10000
     },
     "inputWidgets": {},
     "nuid": "8dadfaf2-2e05-4fc1-b566-3994f303a555",
     "showTitle": false,
     "tableResultSettingsMap": {},
     "title": ""
    }
   },
   "outputs": [],
   "source": [
    "df.write.format('parquet').mode('append')\\\n",
    "    .option('path','abfss://silver@thadiyalcardatalake.dfs.core.windows.net/carsales')\\\n",
    "        .save()"
   ]
  },
  {
   "cell_type": "code",
   "execution_count": 0,
   "metadata": {
    "application/vnd.databricks.v1+cell": {
     "cellMetadata": {
      "byteLimit": 2048000,
      "implicitDf": true,
      "rowLimit": 10000
     },
     "inputWidgets": {},
     "nuid": "b673decb-367a-4e0b-ad13-71cd8c07cb32",
     "showTitle": false,
     "tableResultSettingsMap": {},
     "title": ""
    }
   },
   "outputs": [
    {
     "output_type": "display_data",
     "data": {
      "text/html": [
       "<style scoped>\n",
       "  .table-result-container {\n",
       "    max-height: 300px;\n",
       "    overflow: auto;\n",
       "  }\n",
       "  table, th, td {\n",
       "    border: 1px solid black;\n",
       "    border-collapse: collapse;\n",
       "  }\n",
       "  th, td {\n",
       "    padding: 5px;\n",
       "  }\n",
       "  th {\n",
       "    text-align: left;\n",
       "  }\n",
       "</style><div class='table-result-container'><table class='table-result'><thead style='background-color: white'><tr><th>Branch_ID</th><th>Dealer_ID</th><th>Model_ID</th><th>Revenue</th><th>Units_Sold</th><th>Date_ID</th><th>Day</th><th>Month</th><th>Year</th><th>BranchName</th><th>DealerName</th><th>Product_Name</th><th>model_category</th><th>RevPerUnit</th></tr></thead><tbody><tr><td>BR0001</td><td>DLR0001</td><td>BMW-M1</td><td>13363978</td><td>2</td><td>DT00001</td><td>1</td><td>1</td><td>2017</td><td>AC Cars Motors</td><td>AC Cars Motors</td><td>BMW</td><td>BMW</td><td>6681989.0</td></tr><tr><td>BR0003</td><td>DLR0228</td><td>Hon-M218</td><td>17376468</td><td>3</td><td>DT00001</td><td>10</td><td>5</td><td>2017</td><td>AC Cars Motors</td><td>Deccan Motors</td><td>Honda</td><td>Hon</td><td>5792156.0</td></tr><tr><td>BR0004</td><td>DLR0208</td><td>Tat-M188</td><td>9664767</td><td>3</td><td>DT00002</td><td>12</td><td>1</td><td>2017</td><td>AC Cars Motors</td><td>Wiesmann Motors</td><td>Tata</td><td>Tat</td><td>3221589.0</td></tr><tr><td>BR0005</td><td>DLR0188</td><td>Hyu-M158</td><td>5525304</td><td>3</td><td>DT00002</td><td>16</td><td>9</td><td>2017</td><td>AC Cars Motors</td><td>Subaru Motors</td><td>Hyundai</td><td>Hyu</td><td>1841768.0</td></tr><tr><td>BR0006</td><td>DLR0168</td><td>Ren-M128</td><td>12971088</td><td>3</td><td>DT00003</td><td>20</td><td>5</td><td>2017</td><td>AC Cars Motors</td><td>Saab Motors</td><td>Renault</td><td>Ren</td><td>4323696.0</td></tr><tr><td>BR0008</td><td>DLR0128</td><td>Hon-M68</td><td>7321228</td><td>1</td><td>DT00004</td><td>28</td><td>4</td><td>2017</td><td>AC Cars Motors</td><td>Messerschmitt Motors</td><td>Honda</td><td>Hon</td><td>7321228.0</td></tr><tr><td>BR0009</td><td>DLR0108</td><td>Cad-M38</td><td>11379294</td><td>2</td><td>DT00004</td><td>31</td><td>12</td><td>2017</td><td>AC Cars Motors</td><td>Lexus Motors</td><td>Cadillac</td><td>Cad</td><td>5689647.0</td></tr><tr><td>BR0010</td><td>DLR0088</td><td>Mer-M8</td><td>11611234</td><td>2</td><td>DT00005</td><td>4</td><td>9</td><td>2017</td><td>AC Cars Motors</td><td>IFA (including Trabant, Wartburg, Barkas) Motors</td><td>Mercedes-Benz</td><td>Mer</td><td>5805617.0</td></tr><tr><td>BR0011</td><td>DLR0002</td><td>BMW-M2</td><td>19979446</td><td>2</td><td>DT00005</td><td>2</td><td>1</td><td>2017</td><td>Acura Motors</td><td>Acura Motors</td><td>BMW</td><td>BMW</td><td>9989723.0</td></tr><tr><td>BR0011</td><td>DLR0069</td><td>Vol-M256</td><td>14181510</td><td>3</td><td>DT00006</td><td>9</td><td>5</td><td>2017</td><td>Acura Motors</td><td>Geo Motors</td><td>Volkswagen</td><td>Vol</td><td>4727170.0</td></tr></tbody></table></div>"
      ]
     },
     "metadata": {
      "application/vnd.databricks.v1+output": {
       "addedWidgets": {},
       "aggData": [],
       "aggError": "",
       "aggOverflow": false,
       "aggSchema": [],
       "aggSeriesLimitReached": false,
       "aggType": "",
       "arguments": {},
       "columnCustomDisplayInfos": {},
       "data": [
        [
         "BR0001",
         "DLR0001",
         "BMW-M1",
         13363978,
         2,
         "DT00001",
         1,
         1,
         2017,
         "AC Cars Motors",
         "AC Cars Motors",
         "BMW",
         "BMW",
         6681989.0
        ],
        [
         "BR0003",
         "DLR0228",
         "Hon-M218",
         17376468,
         3,
         "DT00001",
         10,
         5,
         2017,
         "AC Cars Motors",
         "Deccan Motors",
         "Honda",
         "Hon",
         5792156.0
        ],
        [
         "BR0004",
         "DLR0208",
         "Tat-M188",
         9664767,
         3,
         "DT00002",
         12,
         1,
         2017,
         "AC Cars Motors",
         "Wiesmann Motors",
         "Tata",
         "Tat",
         3221589.0
        ],
        [
         "BR0005",
         "DLR0188",
         "Hyu-M158",
         5525304,
         3,
         "DT00002",
         16,
         9,
         2017,
         "AC Cars Motors",
         "Subaru Motors",
         "Hyundai",
         "Hyu",
         1841768.0
        ],
        [
         "BR0006",
         "DLR0168",
         "Ren-M128",
         12971088,
         3,
         "DT00003",
         20,
         5,
         2017,
         "AC Cars Motors",
         "Saab Motors",
         "Renault",
         "Ren",
         4323696.0
        ],
        [
         "BR0008",
         "DLR0128",
         "Hon-M68",
         7321228,
         1,
         "DT00004",
         28,
         4,
         2017,
         "AC Cars Motors",
         "Messerschmitt Motors",
         "Honda",
         "Hon",
         7321228.0
        ],
        [
         "BR0009",
         "DLR0108",
         "Cad-M38",
         11379294,
         2,
         "DT00004",
         31,
         12,
         2017,
         "AC Cars Motors",
         "Lexus Motors",
         "Cadillac",
         "Cad",
         5689647.0
        ],
        [
         "BR0010",
         "DLR0088",
         "Mer-M8",
         11611234,
         2,
         "DT00005",
         4,
         9,
         2017,
         "AC Cars Motors",
         "IFA (including Trabant, Wartburg, Barkas) Motors",
         "Mercedes-Benz",
         "Mer",
         5805617.0
        ],
        [
         "BR0011",
         "DLR0002",
         "BMW-M2",
         19979446,
         2,
         "DT00005",
         2,
         1,
         2017,
         "Acura Motors",
         "Acura Motors",
         "BMW",
         "BMW",
         9989723.0
        ],
        [
         "BR0011",
         "DLR0069",
         "Vol-M256",
         14181510,
         3,
         "DT00006",
         9,
         5,
         2017,
         "Acura Motors",
         "Geo Motors",
         "Volkswagen",
         "Vol",
         4727170.0
        ]
       ],
       "datasetInfos": [
        {
         "name": "_sqldf",
         "schema": {
          "fields": [
           {
            "metadata": {},
            "name": "Branch_ID",
            "nullable": true,
            "type": "string"
           },
           {
            "metadata": {},
            "name": "Dealer_ID",
            "nullable": true,
            "type": "string"
           },
           {
            "metadata": {},
            "name": "Model_ID",
            "nullable": true,
            "type": "string"
           },
           {
            "metadata": {},
            "name": "Revenue",
            "nullable": true,
            "type": "long"
           },
           {
            "metadata": {},
            "name": "Units_Sold",
            "nullable": true,
            "type": "long"
           },
           {
            "metadata": {},
            "name": "Date_ID",
            "nullable": true,
            "type": "string"
           },
           {
            "metadata": {},
            "name": "Day",
            "nullable": true,
            "type": "integer"
           },
           {
            "metadata": {},
            "name": "Month",
            "nullable": true,
            "type": "integer"
           },
           {
            "metadata": {},
            "name": "Year",
            "nullable": true,
            "type": "integer"
           },
           {
            "metadata": {},
            "name": "BranchName",
            "nullable": true,
            "type": "string"
           },
           {
            "metadata": {},
            "name": "DealerName",
            "nullable": true,
            "type": "string"
           },
           {
            "metadata": {},
            "name": "Product_Name",
            "nullable": true,
            "type": "string"
           },
           {
            "metadata": {},
            "name": "model_category",
            "nullable": true,
            "type": "string"
           },
           {
            "metadata": {},
            "name": "RevPerUnit",
            "nullable": true,
            "type": "double"
           }
          ],
          "type": "struct"
         },
         "tableIdentifier": null,
         "typeStr": "pyspark.sql.connect.dataframe.DataFrame"
        }
       ],
       "dbfsResultPath": null,
       "isJsonSchema": true,
       "metadata": {
        "createTempViewForImplicitDf": true,
        "dataframeName": "_sqldf",
        "executionCount": 7
       },
       "overflow": false,
       "plotOptions": {
        "customPlotOptions": {},
        "displayType": "table",
        "pivotAggregation": null,
        "pivotColumns": null,
        "xColumns": null,
        "yColumns": null
       },
       "removedWidgets": [],
       "schema": [
        {
         "metadata": "{}",
         "name": "Branch_ID",
         "type": "\"string\""
        },
        {
         "metadata": "{}",
         "name": "Dealer_ID",
         "type": "\"string\""
        },
        {
         "metadata": "{}",
         "name": "Model_ID",
         "type": "\"string\""
        },
        {
         "metadata": "{}",
         "name": "Revenue",
         "type": "\"long\""
        },
        {
         "metadata": "{}",
         "name": "Units_Sold",
         "type": "\"long\""
        },
        {
         "metadata": "{}",
         "name": "Date_ID",
         "type": "\"string\""
        },
        {
         "metadata": "{}",
         "name": "Day",
         "type": "\"integer\""
        },
        {
         "metadata": "{}",
         "name": "Month",
         "type": "\"integer\""
        },
        {
         "metadata": "{}",
         "name": "Year",
         "type": "\"integer\""
        },
        {
         "metadata": "{}",
         "name": "BranchName",
         "type": "\"string\""
        },
        {
         "metadata": "{}",
         "name": "DealerName",
         "type": "\"string\""
        },
        {
         "metadata": "{}",
         "name": "Product_Name",
         "type": "\"string\""
        },
        {
         "metadata": "{}",
         "name": "model_category",
         "type": "\"string\""
        },
        {
         "metadata": "{}",
         "name": "RevPerUnit",
         "type": "\"double\""
        }
       ],
       "type": "table"
      }
     },
     "output_type": "display_data"
    }
   ],
   "source": [
    "%sql\n",
    "select * from parquet.`abfss://silver@thadiyalcardatalake.dfs.core.windows.net/carsales` limit 10"
   ]
  },
  {
   "cell_type": "code",
   "execution_count": 0,
   "metadata": {
    "application/vnd.databricks.v1+cell": {
     "cellMetadata": {},
     "inputWidgets": {},
     "nuid": "2ec5a844-58fc-482e-81e6-07fc43ef3a29",
     "showTitle": false,
     "tableResultSettingsMap": {},
     "title": ""
    }
   },
   "outputs": [],
   "source": []
  }
 ],
 "metadata": {
  "application/vnd.databricks.v1+notebook": {
   "computePreferences": null,
   "dashboards": [],
   "environmentMetadata": {
    "base_environment": "",
    "environment_version": "2"
   },
   "inputWidgetPreferences": null,
   "language": "python",
   "notebookMetadata": {
    "mostRecentlyExecutedCommandWithImplicitDF": {
     "commandId": 4608044165874337,
     "dataframes": [
      "_sqldf"
     ]
    },
    "pythonIndentUnit": 4
   },
   "notebookName": "Silver_Notebook",
   "widgets": {}
  },
  "language_info": {
   "name": "python"
  }
 },
 "nbformat": 4,
 "nbformat_minor": 0
}