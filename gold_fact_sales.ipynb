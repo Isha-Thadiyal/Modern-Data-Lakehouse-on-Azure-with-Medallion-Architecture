{
 "cells": [
  {
   "cell_type": "markdown",
   "metadata": {
    "application/vnd.databricks.v1+cell": {
     "cellMetadata": {},
     "inputWidgets": {},
     "nuid": "458f5ce5-f5e2-4c12-b4b7-155d071c5eb8",
     "showTitle": false,
     "tableResultSettingsMap": {},
     "title": ""
    }
   },
   "source": [
    "### Reading data from silver layer"
   ]
  },
  {
   "cell_type": "code",
   "execution_count": 0,
   "metadata": {
    "application/vnd.databricks.v1+cell": {
     "cellMetadata": {
      "byteLimit": 2048000,
      "implicitDf": true,
      "rowLimit": 10000
     },
     "inputWidgets": {},
     "nuid": "fa900721-2161-469b-8ac7-9ab8307fbaa9",
     "showTitle": false,
     "tableResultSettingsMap": {},
     "title": ""
    }
   },
   "outputs": [],
   "source": [
    "df_silver = spark.sql (\"select * from parquet.`abfss://silver@thadiyalcardatalake.dfs.core.windows.net/carsales`\")"
   ]
  },
  {
   "cell_type": "markdown",
   "metadata": {
    "application/vnd.databricks.v1+cell": {
     "cellMetadata": {},
     "inputWidgets": {},
     "nuid": "d6c62361-b866-468a-82cf-452aa7864b6a",
     "showTitle": false,
     "tableResultSettingsMap": {},
     "title": ""
    }
   },
   "source": [
    "###reading all the dims"
   ]
  },
  {
   "cell_type": "code",
   "execution_count": 0,
   "metadata": {
    "application/vnd.databricks.v1+cell": {
     "cellMetadata": {
      "byteLimit": 2048000,
      "implicitDf": true,
      "rowLimit": 10000
     },
     "inputWidgets": {},
     "nuid": "e6c9e783-17d2-4ac0-ba28-4e4625e4a57b",
     "showTitle": false,
     "tableResultSettingsMap": {},
     "title": ""
    }
   },
   "outputs": [],
   "source": [
    "df_dealer = spark.sql(\"select * from carproject.gold.dim_dealer\")\n",
    "df_branch =spark.sql (\"select * from carproject.gold.dim_branch\")\n",
    "df_model = spark.sql(\"select * from carproject.gold.dim_model\")\n",
    "df_date = spark.sql(\"select * from carproject.gold.dim_date\")"
   ]
  },
  {
   "cell_type": "code",
   "execution_count": 0,
   "metadata": {
    "application/vnd.databricks.v1+cell": {
     "cellMetadata": {
      "byteLimit": 2048000,
      "rowLimit": 10000
     },
     "inputWidgets": {},
     "nuid": "909e1807-58be-446f-8373-7eeca42f01d4",
     "showTitle": false,
     "tableResultSettingsMap": {},
     "title": ""
    }
   },
   "outputs": [],
   "source": [
    "df_fact = df_silver.join(df_branch, df_silver.Branch_ID == df_branch.Branch_ID, \"left\")\\\n",
    "    .join(df_dealer, df_silver.Dealer_ID == df_dealer.Dealer_ID, \"left\")\\\n",
    "    .join(df_model, df_silver.Model_ID == df_model.Model_ID, \"left\")\\\n",
    "    .join(df_date, df_silver.Date_ID == df_date.Date_ID, \"left\")\\\n",
    "        .select(df_silver.Revenue, df_silver.Units_Sold, df_silver.RevPerUnit, df_branch.dim_branch_key, df_dealer.dim_dealer_key, df_model.dim_model_key, df_date.dim_date_key)\n"
   ]
  },
  {
   "cell_type": "code",
   "execution_count": 0,
   "metadata": {
    "application/vnd.databricks.v1+cell": {
     "cellMetadata": {
      "byteLimit": 2048000,
      "rowLimit": 10000
     },
     "inputWidgets": {},
     "nuid": "9ce075cd-3b34-4919-9aa8-0f239b764af9",
     "showTitle": false,
     "tableResultSettingsMap": {},
     "title": ""
    }
   },
   "outputs": [
    {
     "output_type": "display_data",
     "data": {
      "text/html": [
       "<style scoped>\n",
       "  .table-result-container {\n",
       "    max-height: 300px;\n",
       "    overflow: auto;\n",
       "  }\n",
       "  table, th, td {\n",
       "    border: 1px solid black;\n",
       "    border-collapse: collapse;\n",
       "  }\n",
       "  th, td {\n",
       "    padding: 5px;\n",
       "  }\n",
       "  th {\n",
       "    text-align: left;\n",
       "  }\n",
       "</style><div class='table-result-container'><table class='table-result'><thead style='background-color: white'><tr><th>Revenue</th><th>Units_Sold</th><th>RevPerUnit</th><th>dim_branch_key</th><th>dim_dealer_key</th><th>dim_model_key</th><th>dim_date_key</th></tr></thead><tbody><tr><td>13363978</td><td>2</td><td>6681989.0</td><td>418</td><td>6</td><td>155</td><td>825</td></tr><tr><td>17376468</td><td>3</td><td>5792156.0</td><td>1557</td><td>197</td><td>252</td><td>825</td></tr><tr><td>9664767</td><td>3</td><td>3221589.0</td><td>1058</td><td>104</td><td>199</td><td>752</td></tr><tr><td>5525304</td><td>3</td><td>1841768.0</td><td>789</td><td>95</td><td>183</td><td>752</td></tr><tr><td>12971088</td><td>3</td><td>4323696.0</td><td>497</td><td>231</td><td>106</td><td>882</td></tr><tr><td>7321228</td><td>1</td><td>7321228.0</td><td>1804</td><td>41</td><td>41</td><td>988</td></tr><tr><td>11379294</td><td>2</td><td>5689647.0</td><td>734</td><td>177</td><td>107</td><td>988</td></tr><tr><td>11611234</td><td>2</td><td>5805617.0</td><td>1211</td><td>182</td><td>110</td><td>1043</td></tr><tr><td>19979446</td><td>2</td><td>9989723.0</td><td>116</td><td>204</td><td>185</td><td>1043</td></tr><tr><td>14181510</td><td>3</td><td>4727170.0</td><td>116</td><td>160</td><td>238</td><td>826</td></tr></tbody></table></div>"
      ]
     },
     "metadata": {
      "application/vnd.databricks.v1+output": {
       "addedWidgets": {},
       "aggData": [],
       "aggError": "",
       "aggOverflow": false,
       "aggSchema": [],
       "aggSeriesLimitReached": false,
       "aggType": "",
       "arguments": {},
       "columnCustomDisplayInfos": {},
       "data": [
        [
         13363978,
         2,
         6681989.0,
         418,
         6,
         155,
         825
        ],
        [
         17376468,
         3,
         5792156.0,
         1557,
         197,
         252,
         825
        ],
        [
         9664767,
         3,
         3221589.0,
         1058,
         104,
         199,
         752
        ],
        [
         5525304,
         3,
         1841768.0,
         789,
         95,
         183,
         752
        ],
        [
         12971088,
         3,
         4323696.0,
         497,
         231,
         106,
         882
        ],
        [
         7321228,
         1,
         7321228.0,
         1804,
         41,
         41,
         988
        ],
        [
         11379294,
         2,
         5689647.0,
         734,
         177,
         107,
         988
        ],
        [
         11611234,
         2,
         5805617.0,
         1211,
         182,
         110,
         1043
        ],
        [
         19979446,
         2,
         9989723.0,
         116,
         204,
         185,
         1043
        ],
        [
         14181510,
         3,
         4727170.0,
         116,
         160,
         238,
         826
        ]
       ],
       "datasetInfos": [],
       "dbfsResultPath": null,
       "isJsonSchema": true,
       "metadata": {},
       "overflow": false,
       "plotOptions": {
        "customPlotOptions": {},
        "displayType": "table",
        "pivotAggregation": null,
        "pivotColumns": null,
        "xColumns": null,
        "yColumns": null
       },
       "removedWidgets": [],
       "schema": [
        {
         "metadata": "{}",
         "name": "Revenue",
         "type": "\"long\""
        },
        {
         "metadata": "{}",
         "name": "Units_Sold",
         "type": "\"long\""
        },
        {
         "metadata": "{}",
         "name": "RevPerUnit",
         "type": "\"double\""
        },
        {
         "metadata": "{}",
         "name": "dim_branch_key",
         "type": "\"long\""
        },
        {
         "metadata": "{}",
         "name": "dim_dealer_key",
         "type": "\"long\""
        },
        {
         "metadata": "{}",
         "name": "dim_model_key",
         "type": "\"long\""
        },
        {
         "metadata": "{}",
         "name": "dim_date_key",
         "type": "\"long\""
        }
       ],
       "type": "table"
      }
     },
     "output_type": "display_data"
    }
   ],
   "source": [
    "df_fact.limit(10).display()"
   ]
  },
  {
   "cell_type": "markdown",
   "metadata": {
    "application/vnd.databricks.v1+cell": {
     "cellMetadata": {},
     "inputWidgets": {},
     "nuid": "64a78ca4-3dac-4b69-81cb-ff28b0c1a1a9",
     "showTitle": false,
     "tableResultSettingsMap": {},
     "title": ""
    }
   },
   "source": [
    "###Writing Fact table"
   ]
  },
  {
   "cell_type": "code",
   "execution_count": 0,
   "metadata": {
    "application/vnd.databricks.v1+cell": {
     "cellMetadata": {
      "byteLimit": 2048000,
      "rowLimit": 10000
     },
     "inputWidgets": {},
     "nuid": "4c356d49-9947-46cd-8ba1-8776e8755871",
     "showTitle": false,
     "tableResultSettingsMap": {},
     "title": ""
    }
   },
   "outputs": [],
   "source": [
    "from delta.tables import DeltaTable"
   ]
  },
  {
   "cell_type": "code",
   "execution_count": 0,
   "metadata": {
    "application/vnd.databricks.v1+cell": {
     "cellMetadata": {
      "byteLimit": 2048000,
      "rowLimit": 10000
     },
     "inputWidgets": {},
     "nuid": "c43c42da-9659-4cb4-b1fb-9ad97fa361d1",
     "showTitle": false,
     "tableResultSettingsMap": {},
     "title": ""
    }
   },
   "outputs": [],
   "source": [
    "if spark.catalog.tableExists(\"carproject.gold.factsales\"):\n",
    "    deltatbl = DeltaTable.forName(spark, \"carproject.gold.factsales\")\n",
    "    deltatbl.alias('trg').merge(df_fact.alias('src'), \"trg.dim_branch_key = src.dim_branch_key and trg.dim_dealer_key = src.dim_dealer_key and trg.dim_model_key = src.dim_model_key and trg.dim_date_key = src.dim_date_key\")\\\n",
    "        .whenMatchedUpdateAll()\\\n",
    "        .whenNotMatchedInsertAll()\\\n",
    "        .execute()\n",
    "else:\n",
    "    df_fact.write.format('delta')\\\n",
    "        .mode('overwrite')\\\n",
    "        .option(\"path\",\"abfss://gold@thadiyalcardatalake.dfs.core.windows.net/factsales\")\\\n",
    "        .saveAsTable(\"carproject.gold.factsales\")"
   ]
  },
  {
   "cell_type": "code",
   "execution_count": 0,
   "metadata": {
    "application/vnd.databricks.v1+cell": {
     "cellMetadata": {
      "byteLimit": 2048000,
      "implicitDf": true,
      "rowLimit": 10000
     },
     "inputWidgets": {},
     "nuid": "f62ed662-afba-43ba-b59b-b9c44cbbcc04",
     "showTitle": false,
     "tableResultSettingsMap": {},
     "title": ""
    }
   },
   "outputs": [
    {
     "output_type": "display_data",
     "data": {
      "text/html": [
       "<style scoped>\n",
       "  .table-result-container {\n",
       "    max-height: 300px;\n",
       "    overflow: auto;\n",
       "  }\n",
       "  table, th, td {\n",
       "    border: 1px solid black;\n",
       "    border-collapse: collapse;\n",
       "  }\n",
       "  th, td {\n",
       "    padding: 5px;\n",
       "  }\n",
       "  th {\n",
       "    text-align: left;\n",
       "  }\n",
       "</style><div class='table-result-container'><table class='table-result'><thead style='background-color: white'><tr><th>Revenue</th><th>Units_Sold</th><th>RevPerUnit</th><th>dim_branch_key</th><th>dim_dealer_key</th><th>dim_model_key</th><th>dim_date_key</th></tr></thead><tbody><tr><td>13363978</td><td>2</td><td>6681989.0</td><td>418</td><td>6</td><td>155</td><td>825</td></tr><tr><td>17376468</td><td>3</td><td>5792156.0</td><td>1557</td><td>197</td><td>252</td><td>825</td></tr><tr><td>9664767</td><td>3</td><td>3221589.0</td><td>1058</td><td>104</td><td>199</td><td>752</td></tr><tr><td>5525304</td><td>3</td><td>1841768.0</td><td>789</td><td>95</td><td>183</td><td>752</td></tr><tr><td>12971088</td><td>3</td><td>4323696.0</td><td>497</td><td>231</td><td>106</td><td>882</td></tr><tr><td>7321228</td><td>1</td><td>7321228.0</td><td>1804</td><td>41</td><td>41</td><td>988</td></tr><tr><td>11379294</td><td>2</td><td>5689647.0</td><td>734</td><td>177</td><td>107</td><td>988</td></tr><tr><td>11611234</td><td>2</td><td>5805617.0</td><td>1211</td><td>182</td><td>110</td><td>1043</td></tr><tr><td>19979446</td><td>2</td><td>9989723.0</td><td>116</td><td>204</td><td>185</td><td>1043</td></tr><tr><td>14181510</td><td>3</td><td>4727170.0</td><td>116</td><td>160</td><td>238</td><td>826</td></tr></tbody></table></div>"
      ]
     },
     "metadata": {
      "application/vnd.databricks.v1+output": {
       "addedWidgets": {},
       "aggData": [],
       "aggError": "",
       "aggOverflow": false,
       "aggSchema": [],
       "aggSeriesLimitReached": false,
       "aggType": "",
       "arguments": {},
       "columnCustomDisplayInfos": {},
       "data": [
        [
         13363978,
         2,
         6681989.0,
         418,
         6,
         155,
         825
        ],
        [
         17376468,
         3,
         5792156.0,
         1557,
         197,
         252,
         825
        ],
        [
         9664767,
         3,
         3221589.0,
         1058,
         104,
         199,
         752
        ],
        [
         5525304,
         3,
         1841768.0,
         789,
         95,
         183,
         752
        ],
        [
         12971088,
         3,
         4323696.0,
         497,
         231,
         106,
         882
        ],
        [
         7321228,
         1,
         7321228.0,
         1804,
         41,
         41,
         988
        ],
        [
         11379294,
         2,
         5689647.0,
         734,
         177,
         107,
         988
        ],
        [
         11611234,
         2,
         5805617.0,
         1211,
         182,
         110,
         1043
        ],
        [
         19979446,
         2,
         9989723.0,
         116,
         204,
         185,
         1043
        ],
        [
         14181510,
         3,
         4727170.0,
         116,
         160,
         238,
         826
        ]
       ],
       "datasetInfos": [
        {
         "name": "_sqldf",
         "schema": {
          "fields": [
           {
            "metadata": {},
            "name": "Revenue",
            "nullable": true,
            "type": "long"
           },
           {
            "metadata": {},
            "name": "Units_Sold",
            "nullable": true,
            "type": "long"
           },
           {
            "metadata": {},
            "name": "RevPerUnit",
            "nullable": true,
            "type": "double"
           },
           {
            "metadata": {},
            "name": "dim_branch_key",
            "nullable": true,
            "type": "long"
           },
           {
            "metadata": {},
            "name": "dim_dealer_key",
            "nullable": true,
            "type": "long"
           },
           {
            "metadata": {},
            "name": "dim_model_key",
            "nullable": true,
            "type": "long"
           },
           {
            "metadata": {},
            "name": "dim_date_key",
            "nullable": true,
            "type": "long"
           }
          ],
          "type": "struct"
         },
         "tableIdentifier": null,
         "typeStr": "pyspark.sql.connect.dataframe.DataFrame"
        }
       ],
       "dbfsResultPath": null,
       "isJsonSchema": true,
       "metadata": {
        "createTempViewForImplicitDf": true,
        "dataframeName": "_sqldf",
        "executionCount": 7
       },
       "overflow": false,
       "plotOptions": {
        "customPlotOptions": {},
        "displayType": "table",
        "pivotAggregation": null,
        "pivotColumns": null,
        "xColumns": null,
        "yColumns": null
       },
       "removedWidgets": [],
       "schema": [
        {
         "metadata": "{}",
         "name": "Revenue",
         "type": "\"long\""
        },
        {
         "metadata": "{}",
         "name": "Units_Sold",
         "type": "\"long\""
        },
        {
         "metadata": "{}",
         "name": "RevPerUnit",
         "type": "\"double\""
        },
        {
         "metadata": "{}",
         "name": "dim_branch_key",
         "type": "\"long\""
        },
        {
         "metadata": "{}",
         "name": "dim_dealer_key",
         "type": "\"long\""
        },
        {
         "metadata": "{}",
         "name": "dim_model_key",
         "type": "\"long\""
        },
        {
         "metadata": "{}",
         "name": "dim_date_key",
         "type": "\"long\""
        }
       ],
       "type": "table"
      }
     },
     "output_type": "display_data"
    }
   ],
   "source": [
    "%sql\n",
    "select * from carproject.gold.factsales limit 10"
   ]
  }
 ],
 "metadata": {
  "application/vnd.databricks.v1+notebook": {
   "computePreferences": null,
   "dashboards": [],
   "environmentMetadata": {
    "base_environment": "",
    "environment_version": "2"
   },
   "inputWidgetPreferences": null,
   "language": "python",
   "notebookMetadata": {
    "mostRecentlyExecutedCommandWithImplicitDF": {
     "commandId": 6856729273327356,
     "dataframes": [
      "_sqldf"
     ]
    },
    "pythonIndentUnit": 4
   },
   "notebookName": "gold_fact_sales",
   "widgets": {}
  },
  "language_info": {
   "name": "python"
  }
 },
 "nbformat": 4,
 "nbformat_minor": 0
}